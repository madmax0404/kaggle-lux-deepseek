{
 "cells": [
  {
   "cell_type": "code",
   "execution_count": 1,
   "id": "52958575",
   "metadata": {},
   "outputs": [
    {
     "name": "stdout",
     "output_type": "stream",
     "text": [
      "INFO 02-10 22:51:49 __init__.py:190] Automatically detected platform cuda.\n"
     ]
    }
   ],
   "source": [
    "import re\n",
    "import torch\n",
    "from transformers import AutoTokenizer, AutoModelForCausalLM, BitsAndBytesConfig\n",
    "from trl import GRPOConfig, GRPOTrainer\n",
    "import luxai_s3\n",
    "from luxai_s3.wrappers import LuxAIS3GymEnv, RecordEpisode\n",
    "from luxai_s3.params import EnvParams\n",
    "import numpy as np\n",
    "#from stable_baselines3 import PPO\n",
    "#import gymnasium as gym\n",
    "#import gym"
   ]
  },
  {
   "cell_type": "code",
   "execution_count": 2,
   "id": "8ec2f3a3",
   "metadata": {},
   "outputs": [],
   "source": [
    "from lux.utils import direction_to\n",
    "import sys\n",
    "import numpy as np\n",
    "\n",
    "# Helper functions\n",
    "def manhattan_distance(pos1, pos2):\n",
    "    return abs(pos1[0] - pos2[0]) + abs(pos1[1] - pos2[1])\n",
    "\n",
    "def absolute_distance(pos1, pos2):\n",
    "    return max(abs(pos1[0] - pos2[0]), abs(pos1[1] - pos2[1]))\n",
    "\n",
    "def find_opposite_corner_coords(array, row, col):\n",
    "    \"\"\"\n",
    "    Given a 2D array and a coordinate (row, col), this function returns the opposite corner coordinates.\n",
    "\n",
    "    :param array: 2D list or NumPy array\n",
    "    :param row: Row index of the given point\n",
    "    :param col: Column index of the given point\n",
    "    :return: (row', col') - Opposite corner coordinates\n",
    "    \"\"\"\n",
    "    num_rows = len(array)\n",
    "    num_cols = len(array[0]) if num_rows > 0 else 0\n",
    "\n",
    "    # Opposite coordinates\n",
    "    opp_row = num_rows - 1 - row\n",
    "    opp_col = num_cols - 1 - col\n",
    "\n",
    "    return (opp_row, opp_col)\n",
    "\n",
    "\n",
    "# Classes\n",
    "\n",
    "class TileType:\n",
    "    unknown = -1\n",
    "    empty = 0\n",
    "    asteroid = 1\n",
    "    nebula = 2\n",
    "\n",
    "class ActionType:\n",
    "    center = 0\n",
    "    up = 1\n",
    "    right = 2\n",
    "    down = 3\n",
    "    left = 4\n",
    "    sap = 5\n",
    "\n",
    "class Tile:\n",
    "    def __init__(self, x, y):\n",
    "        self.x = x\n",
    "        self.y = y\n",
    "        self.type = TileType.unknown\n",
    "        self.energy = None\n",
    "        self.is_visible = False\n",
    "        self.is_relic = False\n",
    "        self.is_reward = False\n",
    "        self.is_explored = False\n",
    "        self.is_explored_for_relic = False\n",
    "        self.is_explored_for_reward = False\n",
    "        \n",
    "    @property\n",
    "    def coordinates(self):\n",
    "        return (self.x, self.y)\n",
    "        \n",
    "    @property\n",
    "    def is_walkable(self):\n",
    "        return self.type != NodeType.asteroid\n",
    "\n",
    "\n",
    "#class Fleet:\n",
    "#    def __init__(self, \n",
    "\n",
    "\n",
    "\n",
    "\n",
    "\n",
    "\n",
    "class Agent():\n",
    "    def __init__(self, player: str, env_cfg) -> None:\n",
    "        self.player = player\n",
    "        self.enemy_player = \"player_1\" if self.player == \"player_0\" else \"player_0\"\n",
    "        self.team_id = 0 if self.player == \"player_0\" else 1\n",
    "        self.enemy_team_id = 1 if self.team_id == 0 else 0\n",
    "        #np.random.seed(0)\n",
    "        self.env_cfg = env_cfg\n",
    "        #self.min_unit_sap_dropoff_factor = 1\n",
    "        #self.min_sap_power = self.unit_sap_cost * self.min_unit_sap_dropoff_factor\n",
    "        self.map_height = env_cfg[\"map_height\"]\n",
    "        self.map_width = env_cfg[\"map_width\"]\n",
    "        self.my_spawn_location = None\n",
    "        self.enemy_spawn_location = None\n",
    "        self.first_spawn = False\n",
    "        self.llm_input = None\n",
    "\n",
    "        self.map_explored_status = np.zeros((self.map_height, self.map_width), dtype=int)\n",
    "        \n",
    "        self.relic_node_positions = []\n",
    "        self.discovered_relic_nodes_ids = set()\n",
    "        self.unit_explore_locations = dict()\n",
    "\n",
    "    def prep_llm_input(self, env_cfg, obs):\n",
    "\n",
    "        ### env_cfg information\n",
    "        max_units = f\"Maximum possible number of units: {env_cfg['max_units']}.\"\n",
    "        match_count_per_episode = f\"Number of matches per game: {env_cfg['match_count_per_episode']}.\"\n",
    "        max_steps_in_match = f\"Number of steps per match: {env_cfg['max_steps_in_match']}.\"\n",
    "        map_height = f\"Map height: {env_cfg['map_height']}.\"\n",
    "        map_width = f\"Map width: {env_cfg['map_width']}.\"\n",
    "        num_teams = f\"Number of teams: {env_cfg['num_teams']}.\"\n",
    "        unit_move_cost = f\"Unit move energy cost: {env_cfg['unit_move_cost']}.\"\n",
    "        unit_sap_cost = f\"Unit sap energy cost: {env_cfg['unit_sap_cost']}.\"\n",
    "        unit_sap_range = f\"Unit sap range: {env_cfg['unit_sap_range']}.\"\n",
    "        unit_sensor_range = f\"Unit sensor range: {env_cfg['unit_sensor_range']}.\"\n",
    "\n",
    "        ### obs information\n",
    "        unit_position_warning = \"Unit position: -1, -1 means the unit is not spawned yet or not visible.\"\n",
    "\n",
    "        # unit positions\n",
    "        obs_my_unit_positions = obs['units']['position'][self.team_id]\n",
    "        my_unit_positions_list = []\n",
    "        for i in range(obs_my_unit_positions.shape[0]):\n",
    "            pos = obs_my_unit_positions[i]\n",
    "            my_unit_positions_list.append(f\"My unit {i} position: {pos[0]}, {pos[1]}.\")\n",
    "        my_unit_positions = \" \".join(my_unit_positions_list)\n",
    "\n",
    "        obs_enemy_unit_positions = obs['units']['position'][self.enemy_team_id]\n",
    "        enemy_unit_positions_list = []\n",
    "        for i in range(obs_enemy_unit_positions.shape[0]):\n",
    "            pos = obs_enemy_unit_positions[i]\n",
    "            enemy_unit_positions_list.append(f\"Enemy unit {i} position: {pos[0]}, {pos[1]}.\")\n",
    "        enemy_unit_positions = \" \".join(enemy_unit_positions_list)\n",
    "\n",
    "        # unit energys\n",
    "        obs_my_unit_energys = obs['units']['energy'][self.team_id]\n",
    "        my_unit_energys_list = []\n",
    "        for i in range(obs_my_unit_energys.shape[0]):\n",
    "            energy = obs_my_unit_energys[i]\n",
    "            my_unit_energys_list.append(f\"My unit {i} energy: {energy}.\")\n",
    "        my_unit_energys = \" \".join(my_unit_energys_list)\n",
    "\n",
    "        obs_enemy_unit_energys = obs['units']['energy'][self.enemy_team_id]\n",
    "        enemy_unit_energys_list = []\n",
    "        for i in range(obs_enemy_unit_energys.shape[0]):\n",
    "            energy = obs_enemy_unit_energys[i]\n",
    "            enemy_unit_energys_list.append(f\"Enemy unit {i} energy: {energy}.\")\n",
    "        enemy_unit_energys = \" \".join(enemy_unit_energys_list)\n",
    "\n",
    "        # unit masks\n",
    "        obs_my_units_mask = obs['units_mask'][self.team_id]\n",
    "        my_units_mask_list = []\n",
    "        for i in range(obs_my_units_mask.shape[0]):\n",
    "            mask = obs_my_units_mask[i]\n",
    "            my_units_mask_list.append(f\"My unit {i} visibility: {mask}.\")\n",
    "        my_units_mask = \" \".join(my_units_mask_list)\n",
    "\n",
    "        obs_enemy_units_mask = obs['units_mask'][self.enemy_team_id]\n",
    "        enemy_units_mask_list = []\n",
    "        for i in range(obs_enemy_units_mask.shape[0]):\n",
    "            mask = obs_enemy_units_mask[i]\n",
    "            enemy_units_mask_list.append(f\"Enemy unit {i} visibility: {mask}.\")\n",
    "        enemy_units_mask = \" \".join(enemy_units_mask_list)\n",
    "\n",
    "        # sensor mask\n",
    "        obs_sensor_mask = obs['sensor_mask']\n",
    "        sensor_mask_list = []\n",
    "        for i in range(obs_sensor_mask.shape[0]):\n",
    "            sensor_mask_list.append(f\"Sensor mask row {i}: {str(obs_sensor_mask[i]).replace(\"[\", \"\").replace(\"]\", \"\")}.\")\n",
    "        sensor_mask = \" \".join(sensor_mask_list)\n",
    "\n",
    "        # map features - energy\n",
    "        obs_map_features_energy = obs['map_features']['energy']\n",
    "        map_features_energy_list = []\n",
    "        for i in range(obs_map_features_energy.shape[0]):\n",
    "            map_features_energy_list.append(f\"Map energy row {i}: {str(obs_map_features_energy[i]).replace(\"[\", \"\").replace(\"]\", \"\")}.\")\n",
    "        map_features_energy = \" \".join(map_features_energy_list)\n",
    "\n",
    "        # map features - tile_type\n",
    "        obs_map_features_tile_type = obs['map_features']['tile_type']\n",
    "        map_features_tile_type_list = []\n",
    "        for i in range(obs_map_features_tile_type.shape[0]):\n",
    "            map_features_tile_type_list.append(f\"Map node type row {i}: {str(obs_map_features_tile_type[i]).replace(\"[\", \"\").replace(\"]\", \"\")}.\")\n",
    "        map_features_tile_type = \" \".join(map_features_tile_type_list)\n",
    "\n",
    "        # relic nodes\n",
    "        relic_node_warning = \"Relic node position: -1, -1 means the relic node is not yet discoverd.\"\n",
    "        obs_relic_nodes = obs['relic_nodes']\n",
    "        relic_nodes_list = []\n",
    "        for i in range(obs_relic_nodes.shape[0]):\n",
    "            relic_nodes_list.append(f\"Relic node {i} position: {obs_relic_nodes[i][0]}, {obs_relic_nodes[i][1]}.\")\n",
    "        relic_nodes = \" \".join(relic_nodes_list)\n",
    "\n",
    "        # relic nodes mask\n",
    "        obs_relic_nodes_mask = obs['relic_nodes_mask']\n",
    "        relic_nodes_mask_list = []\n",
    "        for i in range(obs_relic_nodes_mask.shape[0]):\n",
    "            relic_nodes_mask_list.append(f\"Relic node {i} visibility: {obs_relic_nodes_mask[i]}.\")\n",
    "        relic_nodes_mask = \" \".join(relic_nodes_mask_list)\n",
    "\n",
    "        # team points\n",
    "        my_team_points = f\"My current point for this match is: {obs['team_points'][self.team_id]}.\"\n",
    "        enemy_team_points = f\"Enemy current point for this match is: {obs['team_points'][self.enemy_team_id]}.\"\n",
    "\n",
    "        # team wins\n",
    "        my_team_wins = f\"I have won {obs['team_wins'][self.team_id]} matches.\"\n",
    "        enemy_team_wins = f\"Enemy has won {obs['team_wins'][self.enemy_team_id]} matches.\"\n",
    "\n",
    "        # steps\n",
    "        steps = f\"This is step {obs['steps']} of the game.\"\n",
    "\n",
    "        # match_steps\n",
    "        match_steps = f\"This is step {obs['match_steps']} of the match.\"\n",
    "\n",
    "        if self.enemy_spawn_location is None:\n",
    "            enemy_spawn_location_warning = \"Enemy spawn location: not yet discovered.\"\n",
    "        else:\n",
    "            enemy_spawn_location_warning = f\"Enemy spawn location: {self.enemy_spawn_location[0]}, {self.enemy_spawn_location[1]}.\"\n",
    "        \n",
    "        all_variables = \" \".join([\n",
    "            max_units, match_count_per_episode, max_steps_in_match, map_height, map_width, num_teams, unit_move_cost, unit_sap_cost, unit_sap_range, unit_sensor_range, unit_position_warning,\n",
    "            my_unit_positions, enemy_unit_positions, my_unit_energys, enemy_unit_energys, my_units_mask, enemy_units_mask, sensor_mask, map_features_energy, map_features_tile_type,\n",
    "            relic_node_warning, relic_nodes, relic_nodes_mask, my_team_points, enemy_team_points, my_team_wins, enemy_team_wins, steps, match_steps, enemy_spawn_location_warning\n",
    "        ])\n",
    "\n",
    "        return all_variables\n",
    "\n",
    "    def act(self, step: int, obs, remainingOverageTime: int = 60):\n",
    "        \"\"\"implement this function to decide what actions to send to each available unit. \n",
    "        \n",
    "        step is the current timestep number of the game starting from 0 going up to max_steps_in_match * match_count_per_episode - 1.\n",
    "        \"\"\"\n",
    "\n",
    "        # units\n",
    "        unit_positions = np.array(obs[\"units\"][\"position\"][self.team_id]) # shape (max_units, 2)\n",
    "        enemy_unit_positions = np.array(obs[\"units\"][\"position\"][self.enemy_team_id]) # shape (max_units, 2)\n",
    "\n",
    "        unit_energys = np.array(obs[\"units\"][\"energy\"][self.team_id]) # shape (max_units, 1)\n",
    "        enemy_unit_energys = np.array(obs[\"units\"][\"energy\"][self.enemy_team_id]) # shape (max_units, 1)\n",
    "\n",
    "        # units_mask\n",
    "        unit_mask = np.array(obs[\"units_mask\"][self.team_id]) # shape (max_units, )\n",
    "        enemy_unit_mask = np.array(obs[\"units_mask\"][self.enemy_team_id]) # shape (max_units, )\n",
    "\n",
    "        # sensor_mask\n",
    "        sensor_mask = obs['sensor_mask']\n",
    "\n",
    "        # map_features\n",
    "        map_features = obs['map_features']\n",
    "        current_map_energy = map_features['energy']\n",
    "        current_map_tile_type = map_features['tile_type']\n",
    "\n",
    "        # update map explored status\n",
    "        self.map_explored_status[current_map_tile_type != -1] = 1\n",
    "        \n",
    "        observed_relic_node_positions = np.array(obs[\"relic_nodes\"]) # shape (max_relic_nodes, 2)\n",
    "        observed_relic_nodes_mask = np.array(obs[\"relic_nodes_mask\"]) # shape (max_relic_nodes, )\n",
    "        team_points = np.array(obs[\"team_points\"]) # points of each team, team_points[self.team_id] is the points of the your team\n",
    "        \n",
    "        # ids of units you can control at this timestep\n",
    "        available_unit_ids = np.where(unit_mask)[0]\n",
    "        enemy_available_unit_ids = np.where(enemy_unit_mask)[0]\n",
    "\n",
    "        if available_unit_ids.shape[0] == 0:\n",
    "            pass\n",
    "        else:\n",
    "            if self.first_spawn == False:\n",
    "                first_unit_id = available_unit_ids[0]\n",
    "                first_unit_pos = unit_positions[first_unit_id]\n",
    "                self.my_spawn_location = (first_unit_pos[0], first_unit_pos[1])\n",
    "                self.enemy_spawn_location = find_opposite_corner_coords(self.map_explored_status, first_unit_pos[0], first_unit_pos[1])\n",
    "                self.first_spawn = True\n",
    "        \n",
    "        # visible relic nodes\n",
    "        visible_relic_node_ids = set(np.where(observed_relic_nodes_mask)[0])\n",
    "        \n",
    "        actions = np.zeros((self.env_cfg[\"max_units\"], 3), dtype=int)\n",
    "\n",
    "\n",
    "        # basic strategy here is simply to have some units randomly explore and some units collecting as much energy as possible\n",
    "        # and once a relic node is found, we send all units to move randomly around the first relic node to gain points\n",
    "        # and information about where relic nodes are found are saved for the next match\n",
    "        \n",
    "        # save any new relic nodes that we discover for the rest of the game.\n",
    "        for id in visible_relic_node_ids:\n",
    "            if id not in self.discovered_relic_nodes_ids:\n",
    "                self.discovered_relic_nodes_ids.add(id)\n",
    "                self.relic_node_positions.append(observed_relic_node_positions[id])\n",
    "\n",
    "\n",
    "        # combat algorithms\n",
    "        all_attack_units = []\n",
    "        firing_solutions = {}\n",
    "        if enemy_available_unit_ids.shape[0] != 0:\n",
    "            for enemy_unit_id in enemy_available_unit_ids:\n",
    "                enemy_unit_pos = enemy_unit_positions[enemy_unit_id]\n",
    "                enemy_unit_energy = enemy_unit_energys[enemy_unit_id]\n",
    "\n",
    "                if enemy_unit_energy >= 0:\n",
    "                \n",
    "                    group = []\n",
    "                    group_damage = 0\n",
    "                    for unit_id in available_unit_ids:\n",
    "                        unit_pos = unit_positions[unit_id]\n",
    "                        unit_energy = unit_energys[unit_id]\n",
    "                        enemy_distance = absolute_distance(unit_pos, enemy_unit_pos)\n",
    "                        if group_damage < enemy_unit_energy:\n",
    "                            if enemy_distance <= self.unit_sap_range:\n",
    "                                if unit_energy >= self.unit_sap_cost:\n",
    "                                    if unit_id not in all_attack_units:\n",
    "                                        group_damage += self.unit_sap_cost\n",
    "                                        group.append(unit_id)\n",
    "                                        \n",
    "                        else:\n",
    "                            continue\n",
    "                    attack_group = []\n",
    "                    if group_damage >= enemy_unit_energy:\n",
    "                        for unit_id in group:\n",
    "                            attack_group.append(unit_id)\n",
    "                            all_attack_units.append(unit_id)\n",
    "\n",
    "                    firing_solutions[f\"{enemy_unit_id}\"] = attack_group\n",
    "\n",
    "\n",
    "        \n",
    "        # unit ids range from 0 to max_units - 1\n",
    "        for unit_id in available_unit_ids:\n",
    "            unit_pos = unit_positions[unit_id]\n",
    "            unit_energy = unit_energys[unit_id]\n",
    "\n",
    "            # randomly explore by picking a random location on the map and moving there for about 20 steps\n",
    "            if step % 20 == 0 or unit_id not in self.unit_explore_locations:\n",
    "                rand_loc = (np.random.randint(0, self.env_cfg[\"map_width\"]), np.random.randint(0, self.env_cfg[\"map_height\"]))\n",
    "                self.unit_explore_locations[unit_id] = rand_loc\n",
    "            actions[unit_id] = [direction_to(unit_pos, self.unit_explore_locations[unit_id]), 0, 0]\n",
    "\n",
    "        if len(firing_solutions) > 0:\n",
    "            for enemy_unit_id in firing_solutions.keys():\n",
    "                attack_group = firing_solutions[enemy_unit_id]\n",
    "                enemy_unit_id = int(enemy_unit_id)\n",
    "                enemy_unit_pos = enemy_unit_positions[enemy_unit_id]\n",
    "    \n",
    "                for attack_unit_id in attack_group:\n",
    "                    attack_unit_pos = unit_positions[attack_unit_id]\n",
    "                    dx = enemy_unit_pos[0] - attack_unit_pos[0]\n",
    "                    dy = enemy_unit_pos[1] - attack_unit_pos[1]\n",
    "                    actions[attack_unit_id] = [5, dx, dy]          \n",
    "\n",
    "        self.llm_input = self.prep_llm_input(self.env_cfg, obs)  \n",
    "                \n",
    "        return actions"
   ]
  },
  {
   "cell_type": "code",
   "execution_count": 3,
   "id": "10b1d6f9",
   "metadata": {},
   "outputs": [
    {
     "name": "stderr",
     "output_type": "stream",
     "text": [
      "WARNING:2025-02-10 22:51:50,904:jax._src.xla_bridge:987: An NVIDIA GPU may be present on this machine, but a CUDA-enabled jaxlib is not installed. Falling back to cpu.\n"
     ]
    }
   ],
   "source": [
    "env = RecordEpisode(\n",
    "    LuxAIS3GymEnv(numpy_output=True)\n",
    ")"
   ]
  },
  {
   "cell_type": "code",
   "execution_count": 4,
   "id": "e4d718d1",
   "metadata": {},
   "outputs": [],
   "source": [
    "obs_all, info = env.reset()"
   ]
  },
  {
   "cell_type": "code",
   "execution_count": 5,
   "id": "d85f0d05",
   "metadata": {},
   "outputs": [],
   "source": [
    "agent1 = Agent(\"player_0\", info['params'])\n",
    "agent2 = Agent(\"player_1\", info['params'])"
   ]
  },
  {
   "cell_type": "code",
   "execution_count": 6,
   "id": "343488a8",
   "metadata": {},
   "outputs": [
    {
     "data": {
      "text/plain": [
       "array(0, dtype=int32)"
      ]
     },
     "execution_count": 6,
     "metadata": {},
     "output_type": "execute_result"
    }
   ],
   "source": [
    "obs_all['player_0']['steps']"
   ]
  },
  {
   "cell_type": "code",
   "execution_count": 7,
   "id": "88da3870",
   "metadata": {},
   "outputs": [
    {
     "data": {
      "text/plain": [
       "array(0, dtype=int32)"
      ]
     },
     "execution_count": 7,
     "metadata": {},
     "output_type": "execute_result"
    }
   ],
   "source": [
    "obs_all['player_0']['match_steps']"
   ]
  },
  {
   "cell_type": "code",
   "execution_count": 8,
   "id": "994e4c39",
   "metadata": {},
   "outputs": [],
   "source": [
    "actions1 = agent1.act(obs_all['player_0']['steps'], obs_all['player_0'])"
   ]
  },
  {
   "cell_type": "code",
   "execution_count": 9,
   "id": "fb642226",
   "metadata": {},
   "outputs": [
    {
     "data": {
      "text/plain": [
       "'Maximum possible number of units: 16. Number of matches per game: 5. Number of steps per match: 100. Map height: 24. Map width: 24. Number of teams: 2. Unit move energy cost: 4. Unit sap energy cost: 45. Unit sap range: 3. Unit sensor range: 2. Unit position: -1, -1 means the unit is not spawned yet or not visible. My unit 0 position: -1, -1. My unit 1 position: -1, -1. My unit 2 position: -1, -1. My unit 3 position: -1, -1. My unit 4 position: -1, -1. My unit 5 position: -1, -1. My unit 6 position: -1, -1. My unit 7 position: -1, -1. My unit 8 position: -1, -1. My unit 9 position: -1, -1. My unit 10 position: -1, -1. My unit 11 position: -1, -1. My unit 12 position: -1, -1. My unit 13 position: -1, -1. My unit 14 position: -1, -1. My unit 15 position: -1, -1. Enemy unit 0 position: -1, -1. Enemy unit 1 position: -1, -1. Enemy unit 2 position: -1, -1. Enemy unit 3 position: -1, -1. Enemy unit 4 position: -1, -1. Enemy unit 5 position: -1, -1. Enemy unit 6 position: -1, -1. Enemy unit 7 position: -1, -1. Enemy unit 8 position: -1, -1. Enemy unit 9 position: -1, -1. Enemy unit 10 position: -1, -1. Enemy unit 11 position: -1, -1. Enemy unit 12 position: -1, -1. Enemy unit 13 position: -1, -1. Enemy unit 14 position: -1, -1. Enemy unit 15 position: -1, -1. My unit 0 energy: -1. My unit 1 energy: -1. My unit 2 energy: -1. My unit 3 energy: -1. My unit 4 energy: -1. My unit 5 energy: -1. My unit 6 energy: -1. My unit 7 energy: -1. My unit 8 energy: -1. My unit 9 energy: -1. My unit 10 energy: -1. My unit 11 energy: -1. My unit 12 energy: -1. My unit 13 energy: -1. My unit 14 energy: -1. My unit 15 energy: -1. Enemy unit 0 energy: -1. Enemy unit 1 energy: -1. Enemy unit 2 energy: -1. Enemy unit 3 energy: -1. Enemy unit 4 energy: -1. Enemy unit 5 energy: -1. Enemy unit 6 energy: -1. Enemy unit 7 energy: -1. Enemy unit 8 energy: -1. Enemy unit 9 energy: -1. Enemy unit 10 energy: -1. Enemy unit 11 energy: -1. Enemy unit 12 energy: -1. Enemy unit 13 energy: -1. Enemy unit 14 energy: -1. Enemy unit 15 energy: -1. My unit 0 visibility: False. My unit 1 visibility: False. My unit 2 visibility: False. My unit 3 visibility: False. My unit 4 visibility: False. My unit 5 visibility: False. My unit 6 visibility: False. My unit 7 visibility: False. My unit 8 visibility: False. My unit 9 visibility: False. My unit 10 visibility: False. My unit 11 visibility: False. My unit 12 visibility: False. My unit 13 visibility: False. My unit 14 visibility: False. My unit 15 visibility: False. Enemy unit 0 visibility: False. Enemy unit 1 visibility: False. Enemy unit 2 visibility: False. Enemy unit 3 visibility: False. Enemy unit 4 visibility: False. Enemy unit 5 visibility: False. Enemy unit 6 visibility: False. Enemy unit 7 visibility: False. Enemy unit 8 visibility: False. Enemy unit 9 visibility: False. Enemy unit 10 visibility: False. Enemy unit 11 visibility: False. Enemy unit 12 visibility: False. Enemy unit 13 visibility: False. Enemy unit 14 visibility: False. Enemy unit 15 visibility: False. Sensor mask row 0: False False False False False False False False False False False False\\n False False False False False False False False False False False False. Sensor mask row 1: False False False False False False False False False False False False\\n False False False False False False False False False False False False. Sensor mask row 2: False False False False False False False False False False False False\\n False False False False False False False False False False False False. Sensor mask row 3: False False False False False False False False False False False False\\n False False False False False False False False False False False False. Sensor mask row 4: False False False False False False False False False False False False\\n False False False False False False False False False False False False. Sensor mask row 5: False False False False False False False False False False False False\\n False False False False False False False False False False False False. Sensor mask row 6: False False False False False False False False False False False False\\n False False False False False False False False False False False False. Sensor mask row 7: False False False False False False False False False False False False\\n False False False False False False False False False False False False. Sensor mask row 8: False False False False False False False False False False False False\\n False False False False False False False False False False False False. Sensor mask row 9: False False False False False False False False False False False False\\n False False False False False False False False False False False False. Sensor mask row 10: False False False False False False False False False False False False\\n False False False False False False False False False False False False. Sensor mask row 11: False False False False False False False False False False False False\\n False False False False False False False False False False False False. Sensor mask row 12: False False False False False False False False False False False False\\n False False False False False False False False False False False False. Sensor mask row 13: False False False False False False False False False False False False\\n False False False False False False False False False False False False. Sensor mask row 14: False False False False False False False False False False False False\\n False False False False False False False False False False False False. Sensor mask row 15: False False False False False False False False False False False False\\n False False False False False False False False False False False False. Sensor mask row 16: False False False False False False False False False False False False\\n False False False False False False False False False False False False. Sensor mask row 17: False False False False False False False False False False False False\\n False False False False False False False False False False False False. Sensor mask row 18: False False False False False False False False False False False False\\n False False False False False False False False False False False False. Sensor mask row 19: False False False False False False False False False False False False\\n False False False False False False False False False False False False. Sensor mask row 20: False False False False False False False False False False False False\\n False False False False False False False False False False False False. Sensor mask row 21: False False False False False False False False False False False False\\n False False False False False False False False False False False False. Sensor mask row 22: False False False False False False False False False False False False\\n False False False False False False False False False False False False. Sensor mask row 23: False False False False False False False False False False False False\\n False False False False False False False False False False False False. Map energy row 0: -1 -1 -1 -1 -1 -1 -1 -1 -1 -1 -1 -1 -1 -1 -1 -1 -1 -1 -1 -1 -1 -1 -1 -1. Map energy row 1: -1 -1 -1 -1 -1 -1 -1 -1 -1 -1 -1 -1 -1 -1 -1 -1 -1 -1 -1 -1 -1 -1 -1 -1. Map energy row 2: -1 -1 -1 -1 -1 -1 -1 -1 -1 -1 -1 -1 -1 -1 -1 -1 -1 -1 -1 -1 -1 -1 -1 -1. Map energy row 3: -1 -1 -1 -1 -1 -1 -1 -1 -1 -1 -1 -1 -1 -1 -1 -1 -1 -1 -1 -1 -1 -1 -1 -1. Map energy row 4: -1 -1 -1 -1 -1 -1 -1 -1 -1 -1 -1 -1 -1 -1 -1 -1 -1 -1 -1 -1 -1 -1 -1 -1. Map energy row 5: -1 -1 -1 -1 -1 -1 -1 -1 -1 -1 -1 -1 -1 -1 -1 -1 -1 -1 -1 -1 -1 -1 -1 -1. Map energy row 6: -1 -1 -1 -1 -1 -1 -1 -1 -1 -1 -1 -1 -1 -1 -1 -1 -1 -1 -1 -1 -1 -1 -1 -1. Map energy row 7: -1 -1 -1 -1 -1 -1 -1 -1 -1 -1 -1 -1 -1 -1 -1 -1 -1 -1 -1 -1 -1 -1 -1 -1. Map energy row 8: -1 -1 -1 -1 -1 -1 -1 -1 -1 -1 -1 -1 -1 -1 -1 -1 -1 -1 -1 -1 -1 -1 -1 -1. Map energy row 9: -1 -1 -1 -1 -1 -1 -1 -1 -1 -1 -1 -1 -1 -1 -1 -1 -1 -1 -1 -1 -1 -1 -1 -1. Map energy row 10: -1 -1 -1 -1 -1 -1 -1 -1 -1 -1 -1 -1 -1 -1 -1 -1 -1 -1 -1 -1 -1 -1 -1 -1. Map energy row 11: -1 -1 -1 -1 -1 -1 -1 -1 -1 -1 -1 -1 -1 -1 -1 -1 -1 -1 -1 -1 -1 -1 -1 -1. Map energy row 12: -1 -1 -1 -1 -1 -1 -1 -1 -1 -1 -1 -1 -1 -1 -1 -1 -1 -1 -1 -1 -1 -1 -1 -1. Map energy row 13: -1 -1 -1 -1 -1 -1 -1 -1 -1 -1 -1 -1 -1 -1 -1 -1 -1 -1 -1 -1 -1 -1 -1 -1. Map energy row 14: -1 -1 -1 -1 -1 -1 -1 -1 -1 -1 -1 -1 -1 -1 -1 -1 -1 -1 -1 -1 -1 -1 -1 -1. Map energy row 15: -1 -1 -1 -1 -1 -1 -1 -1 -1 -1 -1 -1 -1 -1 -1 -1 -1 -1 -1 -1 -1 -1 -1 -1. Map energy row 16: -1 -1 -1 -1 -1 -1 -1 -1 -1 -1 -1 -1 -1 -1 -1 -1 -1 -1 -1 -1 -1 -1 -1 -1. Map energy row 17: -1 -1 -1 -1 -1 -1 -1 -1 -1 -1 -1 -1 -1 -1 -1 -1 -1 -1 -1 -1 -1 -1 -1 -1. Map energy row 18: -1 -1 -1 -1 -1 -1 -1 -1 -1 -1 -1 -1 -1 -1 -1 -1 -1 -1 -1 -1 -1 -1 -1 -1. Map energy row 19: -1 -1 -1 -1 -1 -1 -1 -1 -1 -1 -1 -1 -1 -1 -1 -1 -1 -1 -1 -1 -1 -1 -1 -1. Map energy row 20: -1 -1 -1 -1 -1 -1 -1 -1 -1 -1 -1 -1 -1 -1 -1 -1 -1 -1 -1 -1 -1 -1 -1 -1. Map energy row 21: -1 -1 -1 -1 -1 -1 -1 -1 -1 -1 -1 -1 -1 -1 -1 -1 -1 -1 -1 -1 -1 -1 -1 -1. Map energy row 22: -1 -1 -1 -1 -1 -1 -1 -1 -1 -1 -1 -1 -1 -1 -1 -1 -1 -1 -1 -1 -1 -1 -1 -1. Map energy row 23: -1 -1 -1 -1 -1 -1 -1 -1 -1 -1 -1 -1 -1 -1 -1 -1 -1 -1 -1 -1 -1 -1 -1 -1. Map node type row 0: -1 -1 -1 -1 -1 -1 -1 -1 -1 -1 -1 -1 -1 -1 -1 -1 -1 -1 -1 -1 -1 -1 -1 -1. Map node type row 1: -1 -1 -1 -1 -1 -1 -1 -1 -1 -1 -1 -1 -1 -1 -1 -1 -1 -1 -1 -1 -1 -1 -1 -1. Map node type row 2: -1 -1 -1 -1 -1 -1 -1 -1 -1 -1 -1 -1 -1 -1 -1 -1 -1 -1 -1 -1 -1 -1 -1 -1. Map node type row 3: -1 -1 -1 -1 -1 -1 -1 -1 -1 -1 -1 -1 -1 -1 -1 -1 -1 -1 -1 -1 -1 -1 -1 -1. Map node type row 4: -1 -1 -1 -1 -1 -1 -1 -1 -1 -1 -1 -1 -1 -1 -1 -1 -1 -1 -1 -1 -1 -1 -1 -1. Map node type row 5: -1 -1 -1 -1 -1 -1 -1 -1 -1 -1 -1 -1 -1 -1 -1 -1 -1 -1 -1 -1 -1 -1 -1 -1. Map node type row 6: -1 -1 -1 -1 -1 -1 -1 -1 -1 -1 -1 -1 -1 -1 -1 -1 -1 -1 -1 -1 -1 -1 -1 -1. Map node type row 7: -1 -1 -1 -1 -1 -1 -1 -1 -1 -1 -1 -1 -1 -1 -1 -1 -1 -1 -1 -1 -1 -1 -1 -1. Map node type row 8: -1 -1 -1 -1 -1 -1 -1 -1 -1 -1 -1 -1 -1 -1 -1 -1 -1 -1 -1 -1 -1 -1 -1 -1. Map node type row 9: -1 -1 -1 -1 -1 -1 -1 -1 -1 -1 -1 -1 -1 -1 -1 -1 -1 -1 -1 -1 -1 -1 -1 -1. Map node type row 10: -1 -1 -1 -1 -1 -1 -1 -1 -1 -1 -1 -1 -1 -1 -1 -1 -1 -1 -1 -1 -1 -1 -1 -1. Map node type row 11: -1 -1 -1 -1 -1 -1 -1 -1 -1 -1 -1 -1 -1 -1 -1 -1 -1 -1 -1 -1 -1 -1 -1 -1. Map node type row 12: -1 -1 -1 -1 -1 -1 -1 -1 -1 -1 -1 -1 -1 -1 -1 -1 -1 -1 -1 -1 -1 -1 -1 -1. Map node type row 13: -1 -1 -1 -1 -1 -1 -1 -1 -1 -1 -1 -1 -1 -1 -1 -1 -1 -1 -1 -1 -1 -1 -1 -1. Map node type row 14: -1 -1 -1 -1 -1 -1 -1 -1 -1 -1 -1 -1 -1 -1 -1 -1 -1 -1 -1 -1 -1 -1 -1 -1. Map node type row 15: -1 -1 -1 -1 -1 -1 -1 -1 -1 -1 -1 -1 -1 -1 -1 -1 -1 -1 -1 -1 -1 -1 -1 -1. Map node type row 16: -1 -1 -1 -1 -1 -1 -1 -1 -1 -1 -1 -1 -1 -1 -1 -1 -1 -1 -1 -1 -1 -1 -1 -1. Map node type row 17: -1 -1 -1 -1 -1 -1 -1 -1 -1 -1 -1 -1 -1 -1 -1 -1 -1 -1 -1 -1 -1 -1 -1 -1. Map node type row 18: -1 -1 -1 -1 -1 -1 -1 -1 -1 -1 -1 -1 -1 -1 -1 -1 -1 -1 -1 -1 -1 -1 -1 -1. Map node type row 19: -1 -1 -1 -1 -1 -1 -1 -1 -1 -1 -1 -1 -1 -1 -1 -1 -1 -1 -1 -1 -1 -1 -1 -1. Map node type row 20: -1 -1 -1 -1 -1 -1 -1 -1 -1 -1 -1 -1 -1 -1 -1 -1 -1 -1 -1 -1 -1 -1 -1 -1. Map node type row 21: -1 -1 -1 -1 -1 -1 -1 -1 -1 -1 -1 -1 -1 -1 -1 -1 -1 -1 -1 -1 -1 -1 -1 -1. Map node type row 22: -1 -1 -1 -1 -1 -1 -1 -1 -1 -1 -1 -1 -1 -1 -1 -1 -1 -1 -1 -1 -1 -1 -1 -1. Map node type row 23: -1 -1 -1 -1 -1 -1 -1 -1 -1 -1 -1 -1 -1 -1 -1 -1 -1 -1 -1 -1 -1 -1 -1 -1. Relic node position: -1, -1 means the relic node is not yet discoverd. Relic node 0 position: -1, -1. Relic node 1 position: -1, -1. Relic node 2 position: -1, -1. Relic node 3 position: -1, -1. Relic node 4 position: -1, -1. Relic node 5 position: -1, -1. Relic node 0 visibility: False. Relic node 1 visibility: False. Relic node 2 visibility: False. Relic node 3 visibility: False. Relic node 4 visibility: False. Relic node 5 visibility: False. My current point for this match is: 0. Enemy current point for this match is: 0. I have won 0 matches. Enemy has won 0 matches. This is step 0 of the game. This is step 0 of the match. Enemy spawn location: not yet discovered.'"
      ]
     },
     "execution_count": 9,
     "metadata": {},
     "output_type": "execute_result"
    }
   ],
   "source": [
    "agent1.llm_input"
   ]
  },
  {
   "cell_type": "code",
   "execution_count": 10,
   "id": "b6b274e1",
   "metadata": {},
   "outputs": [],
   "source": [
    "model_name = \"deepseek-ai/DeepSeek-R1-Distill-Qwen-1.5B\"\n",
    "\n",
    "# ✅ Load tokenizer\n",
    "tokenizer = AutoTokenizer.from_pretrained(model_name)\n",
    "\n",
    "# ✅ Ensure pad token is set correctly\n",
    "tokenizer.pad_token = tokenizer.eos_token\n",
    "\n",
    "# ✅ Optimized quantization configuration\n",
    "bnb_config = BitsAndBytesConfig(\n",
    "    #load_in_4bit=True,\n",
    "    #bnb_8bit_compute_dtype=torch.bfloat16,\n",
    "    #bnb_4bit_quant_type=\"nf4\",\n",
    "    #bnb_4bit_use_double_quant=True  # ✅ Add nested quantization for better memory usage\n",
    ")\n",
    "\n",
    "# ✅ Load model with proper device placement\n",
    "model = AutoModelForCausalLM.from_pretrained(\n",
    "    model_name,\n",
    "    trust_remote_code=True,\n",
    "    device_map=\"auto\",  # Let Accelerate handle device placement\n",
    "    #quantization_config=bnb_config,\n",
    "    torch_dtype=torch.bfloat16,\n",
    ")"
   ]
  },
  {
   "cell_type": "code",
   "execution_count": 11,
   "id": "9a017e2d",
   "metadata": {},
   "outputs": [],
   "source": [
    "#max_new_tokens = 1024\n",
    "\n",
    "# ✅ Optimized input preparation\n",
    "prompt = agent1.llm_input\n",
    "inputs = tokenizer(prompt, return_tensors=\"pt\").to(model.device)"
   ]
  },
  {
   "cell_type": "code",
   "execution_count": 14,
   "id": "92ded38d",
   "metadata": {},
   "outputs": [
    {
     "name": "stdout",
     "output_type": "stream",
     "text": [
      "Maximum possible number of units: 16. Number of matches per game: 5. Number of steps per match: 100. Map height: 24. Map width: 24. Number of teams: 2. Unit move energy cost: 4. Unit sap energy cost: 45. Unit sap range: 3. Unit sensor range: 2. Unit position: -1, -1 means the unit is not spawned yet or not visible. My unit 0 position: -1, -1. My unit 1 position: -1, -1. My unit 2 position: -1, -1. My unit 3 position: -1, -1. My unit 4 position: -1, -1. My unit 5 position: -1, -1. My unit 6 position: -1, -1. My unit 7 position: -1, -1. My unit 8 position: -1, -1. My unit 9 position: -1, -1. My unit 10 position: -1, -1. My unit 11 position: -1, -1. My unit 12 position: -1, -1. My unit 13 position: -1, -1. My unit 14 position: -1, -1. My unit 15 position: -1, -1. Enemy unit 0 position: -1, -1. Enemy unit 1 position: -1, -1. Enemy unit 2 position: -1, -1. Enemy unit 3 position: -1, -1. Enemy unit 4 position: -1, -1. Enemy unit 5 position: -1, -1. Enemy unit 6 position: -1, -1. Enemy unit 7 position: -1, -1. Enemy unit 8 position: -1, -1. Enemy unit 9 position: -1, -1. Enemy unit 10 position: -1, -1. Enemy unit 11 position: -1, -1. Enemy unit 12 position: -1, -1. Enemy unit 13 position: -1, -1. Enemy unit 14 position: -1, -1. Enemy unit 15 position: -1, -1. My unit 0 energy: -1. My unit 1 energy: -1. My unit 2 energy: -1. My unit 3 energy: -1. My unit 4 energy: -1. My unit 5 energy: -1. My unit 6 energy: -1. My unit 7 energy: -1. My unit 8 energy: -1. My unit 9 energy: -1. My unit 10 energy: -1. My unit 11 energy: -1. My unit 12 energy: -1. My unit 13 energy: -1. My unit 14 energy: -1. My unit 15 energy: -1. Enemy unit 0 energy: -1. Enemy unit 1 energy: -1. Enemy unit 2 energy: -1. Enemy unit 3 energy: -1. Enemy unit 4 energy: -1. Enemy unit 5 energy: -1. Enemy unit 6 energy: -1. Enemy unit 7 energy: -1. Enemy unit 8 energy: -1. Enemy unit 9 energy: -1. Enemy unit 10 energy: -1. Enemy unit 11 energy: -1. Enemy unit 12 energy: -1. Enemy unit 13 energy: -1. Enemy unit 14 energy: -1. Enemy unit 15 energy: -1. My unit 0 visibility: False. My unit 1 visibility: False. My unit 2 visibility: False. My unit 3 visibility: False. My unit 4 visibility: False. My unit 5 visibility: False. My unit 6 visibility: False. My unit 7 visibility: False. My unit 8 visibility: False. My unit 9 visibility: False. My unit 10 visibility: False. My unit 11 visibility: False. My unit 12 visibility: False. My unit 13 visibility: False. My unit 14 visibility: False. My unit 15 visibility: False. Enemy unit 0 visibility: False. Enemy unit 1 visibility: False. Enemy unit 2 visibility: False. Enemy unit 3 visibility: False. Enemy unit 4 visibility: False. Enemy unit 5 visibility: False. Enemy unit 6 visibility: False. Enemy unit 7 visibility: False. Enemy unit 8 visibility: False. Enemy unit 9 visibility: False. Enemy unit 10 visibility: False. Enemy unit 11 visibility: False. Enemy unit 12 visibility: False. Enemy unit 13 visibility: False. Enemy unit 14 visibility: False. Enemy unit 15 visibility: False. Sensor mask row 0: False False False False False False False False False False False False\n",
      " False False False False False False False False False False False False. Sensor mask row 1: False False False False False False False False False False False False\n",
      " False False False False False False False False False False False False. Sensor mask row 2: False False False False False False False False False False False False\n",
      " False False False False False False False False False False False False. Sensor mask row 3: False False False False False False False False False False False False\n",
      " False False False False False False False False False False False False. Sensor mask row 4: False False False False False False False False False False False False\n",
      " False False False False False False False False False False False False. Sensor mask row 5: False False False False False False False False False False False False\n",
      " False False False False False False False False False False False False. Sensor mask row 6: False False False False False False False False False False False False\n",
      " False False False False False False False False False False False False. Sensor mask row 7: False False False False False False False False False False False False\n",
      " False False False False False False False False False False False False. Sensor mask row 8: False False False False False False False False False False False False\n",
      " False False False False False False False False False False False False. Sensor mask row 9: False False False False False False False False False False False False\n",
      " False False False False False False False False False False False False. Sensor mask row 10: False False False False False False False False False False False False\n",
      " False False False False False False False False False False False False. Sensor mask row 11: False False False False False False False False False False False False\n",
      " False False False False False False False False False False False False. Sensor mask row 12: False False False False False False False False False False False False\n",
      " False False False False False False False False False False False False. Sensor mask row 13: False False False False False False False False False False False False\n",
      " False False False False False False False False False False False False. Sensor mask row 14: False False False False False False False False False False False False\n",
      " False False False False False False False False False False False False. Sensor mask row 15: False False False False False False False False False False False False\n",
      " False False False False False False False False False False False False. Sensor mask row 16: False False False False False False False False False False False False\n",
      " False False False False False False False False False False False False. Sensor mask row 17: False False False False False False False False False False False False\n",
      " False False False False False False False False False False False False. Sensor mask row 18: False False False False False False False False False False False False\n",
      " False False False False False False False False False False False False. Sensor mask row 19: False False False False False False False False False False False False\n",
      " False False False False False False False False False False False False. Sensor mask row 20: False False False False False False False False False False False False\n",
      " False False False False False False False False False False False False. Sensor mask row 21: False False False False False False False False False False False False\n",
      " False False False False False False False False False False False False. Sensor mask row 22: False False False False False False False False False False False False\n",
      " False False False False False False False False False False False False. Sensor mask row 23: False False False False False False False False False False False False\n",
      " False False False False False False False False False False False False. Map energy row 0: -1 -1 -1 -1 -1 -1 -1 -1 -1 -1 -1 -1 -1 -1 -1 -1 -1 -1 -1 -1 -1 -1 -1 -1. Map energy row 1: -1 -1 -1 -1 -1 -1 -1 -1 -1 -1 -1 -1 -1 -1 -1 -1 -1 -1 -1 -1 -1 -1 -1 -1. Map energy row 2: -1 -1 -1 -1 -1 -1 -1 -1 -1 -1 -1 -1 -1 -1 -1 -1 -1 -1 -1 -1 -1 -1 -1 -1. Map energy row 3: -1 -1 -1 -1 -1 -1 -1 -1 -1 -1 -1 -1 -1 -1 -1 -1 -1 -1 -1 -1 -1 -1 -1 -1. Map energy row 4: -1 -1 -1 -1 -1 -1 -1 -1 -1 -1 -1 -1 -1 -1 -1 -1 -1 -1 -1 -1 -1 -1 -1 -1. Map energy row 5: -1 -1 -1 -1 -1 -1 -1 -1 -1 -1 -1 -1 -1 -1 -1 -1 -1 -1 -1 -1 -1 -1 -1 -1. Map energy row 6: -1 -1 -1 -1 -1 -1 -1 -1 -1 -1 -1 -1 -1 -1 -1 -1 -1 -1 -1 -1 -1 -1 -1 -1. Map energy row 7: -1 -1 -1 -1 -1 -1 -1 -1 -1 -1 -1 -1 -1 -1 -1 -1 -1 -1 -1 -1 -1 -1 -1 -1. Map energy row 8: -1 -1 -1 -1 -1 -1 -1 -1 -1 -1 -1 -1 -1 -1 -1 -1 -1 -1 -1 -1 -1 -1 -1 -1. Map energy row 9: -1 -1 -1 -1 -1 -1 -1 -1 -1 -1 -1 -1 -1 -1 -1 -1 -1 -1 -1 -1 -1 -1 -1 -1. Map energy row 10: -1 -1 -1 -1 -1 -1 -1 -1 -1 -1 -1 -1 -1 -1 -1 -1 -1 -1 -1 -1 -1 -1 -1 -1. Map energy row 11: -1 -1 -1 -1 -1 -1 -1 -1 -1 -1 -1 -1 -1 -1 -1 -1 -1 -1 -1 -1 -1 -1 -1 -1. Map energy row 12: -1 -1 -1 -1 -1 -1 -1 -1 -1 -1 -1 -1 -1 -1 -1 -1 -1 -1 -1 -1 -1 -1 -1 -1. Map energy row 13: -1 -1 -1 -1 -1 -1 -1 -1 -1 -1 -1 -1 -1 -1 -1 -1 -1 -1 -1 -1 -1 -1 -1 -1. Map energy row 14: -1 -1 -1 -1 -1 -1 -1 -1 -1 -1 -1 -1 -1 -1 -1 -1 -1 -1 -1 -1 -1 -1 -1 -1. Map energy row 15: -1 -1 -1 -1 -1 -1 -1 -1 -1 -1 -1 -1 -1 -1 -1 -1 -1 -1 -1 -1 -1 -1 -1 -1. Map energy row 16: -1 -1 -1 -1 -1 -1 -1 -1 -1 -1 -1 -1 -1 -1 -1 -1 -1 -1 -1 -1 -1 -1 -1 -1. Map energy row 17: -1 -1 -1 -1 -1 -1 -1 -1 -1 -1 -1 -1 -1 -1 -1 -1 -1 -1 -1 -1 -1 -1 -1 -1. Map energy row 18: -1 -1 -1 -1 -1 -1 -1 -1 -1 -1 -1 -1 -1 -1 -1 -1 -1 -1 -1 -1 -1 -1 -1 -1. Map energy row 19: -1 -1 -1 -1 -1 -1 -1 -1 -1 -1 -1 -1 -1 -1 -1 -1 -1 -1 -1 -1 -1 -1 -1 -1. Map energy row 20: -1 -1 -1 -1 -1 -1 -1 -1 -1 -1 -1 -1 -1 -1 -1 -1 -1 -1 -1 -1 -1 -1 -1 -1. Map energy row 21: -1 -1 -1 -1 -1 -1 -1 -1 -1 -1 -1 -1 -1 -1 -1 -1 -1 -1 -1 -1 -1 -1 -1 -1. Map energy row 22: -1 -1 -1 -1 -1 -1 -1 -1 -1 -1 -1 -1 -1 -1 -1 -1 -1 -1 -1 -1 -1 -1 -1 -1. Map energy row 23: -1 -1 -1 -1 -1 -1 -1 -1 -1 -1 -1 -1 -1 -1 -1 -1 -1 -1 -1 -1 -1 -1 -1 -1. Map node type row 0: -1 -1 -1 -1 -1 -1 -1 -1 -1 -1 -1 -1 -1 -1 -1 -1 -1 -1 -1 -1 -1 -1 -1 -1. Map node type row 1: -1 -1 -1 -1 -1 -1 -1 -1 -1 -1 -1 -1 -1 -1 -1 -1 -1 -1 -1 -1 -1 -1 -1 -1. Map node type row 2: -1 -1 -1 -1 -1 -1 -1 -1 -1 -1 -1 -1 -1 -1 -1 -1 -1 -1 -1 -1 -1 -1 -1 -1. Map node type row 3: -1 -1 -1 -1 -1 -1 -1 -1 -1 -1 -1 -1 -1 -1 -1 -1 -1 -1 -1 -1 -1 -1 -1 -1. Map node type row 4: -1 -1 -1 -1 -1 -1 -1 -1 -1 -1 -1 -1 -1 -1 -1 -1 -1 -1 -1 -1 -1 -1 -1 -1. Map node type row 5: -1 -1 -1 -1 -1 -1 -1 -1 -1 -1 -1 -1 -1 -1 -1 -1 -1 -1 -1 -1 -1 -1 -1 -1. Map node type row 6: -1 -1 -1 -1 -1 -1 -1 -1 -1 -1 -1 -1 -1 -1 -1 -1 -1 -1 -1 -1 -1 -1 -1 -1. Map node type row 7: -1 -1 -1 -1 -1 -1 -1 -1 -1 -1 -1 -1 -1 -1 -1 -1 -1 -1 -1 -1 -1 -1 -1 -1. Map node type row 8: -1 -1 -1 -1 -1 -1 -1 -1 -1 -1 -1 -1 -1 -1 -1 -1 -1 -1 -1 -1 -1 -1 -1 -1. Map node type row 9: -1 -1 -1 -1 -1 -1 -1 -1 -1 -1 -1 -1 -1 -1 -1 -1 -1 -1 -1 -1 -1 -1 -1 -1. Map node type row 10: -1 -1 -1 -1 -1 -1 -1 -1 -1 -1 -1 -1 -1 -1 -1 -1 -1 -1 -1 -1 -1 -1 -1 -1. Map node type row 11: -1 -1 -1 -1 -1 -1 -1 -1 -1 -1 -1 -1 -1 -1 -1 -1 -1 -1 -1 -1 -1 -1 -1 -1. Map node type row 12: -1 -1 -1 -1 -1 -1 -1 -1 -1 -1 -1 -1 -1 -1 -1 -1 -1 -1 -1 -1 -1 -1 -1 -1. Map node type row 13: -1 -1 -1 -1 -1 -1 -1 -1 -1 -1 -1 -1 -1 -1 -1 -1 -1 -1 -1 -1 -1 -1 -1 -1. Map node type row 14: -1 -1 -1 -1 -1 -1 -1 -1 -1 -1 -1 -1 -1 -1 -1 -1 -1 -1 -1 -1 -1 -1 -1 -1. Map node type row 15: -1 -1 -1 -1 -1 -1 -1 -1 -1 -1 -1 -1 -1 -1 -1 -1 -1 -1 -1 -1 -1 -1 -1 -1. Map node type row 16: -1 -1 -1 -1 -1 -1 -1 -1 -1 -1 -1 -1 -1 -1 -1 -1 -1 -1 -1 -1 -1 -1 -1 -1. Map node type row 17: -1 -1 -1 -1 -1 -1 -1 -1 -1 -1 -1 -1 -1 -1 -1 -1 -1 -1 -1 -1 -1 -1 -1 -1. Map node type row 18: -1 -1 -1 -1 -1 -1 -1 -1 -1 -1 -1 -1 -1 -1 -1 -1 -1 -1 -1 -1 -1 -1 -1 -1. Map node type row 19: -1 -1 -1 -1 -1 -1 -1 -1 -1 -1 -1 -1 -1 -1 -1 -1 -1 -1 -1 -1 -1 -1 -1 -1. Map node type row 20: -1 -1 -1 -1 -1 -1 -1 -1 -1 -1 -1 -1 -1 -1 -1 -1 -1 -1 -1 -1 -1 -1 -1 -1. Map node type row 21: -1 -1 -1 -1 -1 -1 -1 -1 -1 -1 -1 -1 -1 -1 -1 -1 -1 -1 -1 -1 -1 -1 -1 -1. Map node type row 22: -1 -1 -1 -1 -1 -1 -1 -1 -1 -1 -1 -1 -1 -1 -1 -1 -1 -1 -1 -1 -1 -1 -1 -1. Map node type row 23: -1 -1 -1 -1 -1 -1 -1 -1 -1 -1 -1 -1 -1 -1 -1 -1 -1 -1 -1 -1 -1 -1 -1 -1. Relic node position: -1, -1 means the relic node is not yet discoverd. Relic node 0 position: -1, -1. Relic node 1 position: -1, -1. Relic node 2 position: -1, -1. Relic node 3 position: -1, -1. Relic node 4 position: -1, -1. Relic node 5 position: -1, -1. Relic node 0 visibility: False. Relic node 1 visibility: False. Relic node 2 visibility: False. Relic node 3 visibility: False. Relic node 4 visibility: False. Relic node 5 visibility: False. My current point for this match is: 0. Enemy current point for this match is: 0. I have won 0 matches. Enemy has won 0 matches. This is step 0 of the game. This is step 0 of the match. Enemy spawn location: not yet discovered. My spawn location: not yet discovered. My energy: -1. My visibility: False. My sensor mask: row 0 to row 16. Sensor mask row 0: False False False False False False False False False False False False False False False False. Sensor mask row 1: False False False False False False False False False False False False False False False False. Sensor mask row 2: False False False False False False False False False False False False False False False False. Sensor mask row 3: False False False False False False False False False False False False False False False False. Sensor mask row 4: False False False False False False False False False False False False False False False False. Sensor mask row 5: False False False False False False False False False False False False False False False False. Sensor mask row 6: False False False False False False False False False False False False False False False False. Sensor mask row 7: False False False False False False False False False False False False False False False False. Sensor mask row 8: False False False False False False False False False False False False False False False False. Sensor mask row 9: False False False False False False False False False False False False False False False False. Sensor mask row 10: False False False False False False False False False False False False False False False False. Sensor mask row 11: False False False False False False False False False False False False False False False False. Sensor mask row 12: False False False False False False False False False False False False False False False False. Sensor mask row 13: False False False False False False False False False False False False False False False False. Sensor mask row 14: False False False False False False False False False False False False False False False False. Sensor mask row 15: False False False False False False False False False False False False False False False False. Sensor mask row 16: False False False False False False False False False False False False False False False False. Sensor mask row 17: False False False False False False False False False False False False False False False False. Sensor mask row 18: False False False False False False False False False False False False False False False False. Sensor mask row 19: False False False False False False False False False False False False False False False False. Sensor mask row 20: False False False False False False False False False False False False False False False False. Sensor mask row 21: False False False False False False False False False False False False False False False False. Sensor mask row 22: False False False False False False False False False False False False False False False False. Sensor mask row 23: False False False False False False False False False False False False False False False False. Sensor mask row 24: False False False False False False False False False False False False False False False False. Sensor mask row 25: False False False False False False False False False False False False False False False False. Sensor mask row 26: False False False False False False False False False False False False False False False False. Sensor mask row 27: False False False False False False False False False False False False False False False False. Sensor mask row 28: False False False False False False False False False False False False False False False False. Sensor mask row 29: False False False False False False False False False False False False False False False False. Sensor mask row 30: False False False False False False False False False False False False False False False False. Sensor mask row 31: False False False False False False False False False False False False False False False False. Sensor mask row 32: False False False False False False False False False False False False False False False False. Sensor mask row 33: False False False False False False False False False False False False False False False False. Sensor mask row 34: False False False False False False False False False False False False False False False False. Sensor mask row 35: False False False False False False False False False False False False False False False False. Sensor mask row 36: False False False False False False False False False False False False False False False False. Sensor mask row 37: False False False False False False False False False False False False False False False False. Sensor mask row 38: False False False False False False False False False False False False False False False False. Sensor mask row 39: False False False False False False False False False False False False False False False False. Sensor mask row 40: False False False False False False False False False False False False False False False False. Sensor mask row 41: False False False False False False False False False False False False False False False False. Sensor mask row 42: False False False False False False False False False False False False False False False False. Sensor mask row 43: False False False False False False False False False False False False False False False False. Sensor mask row 44: False False False False False False False False False False False False False False False False. Sensor mask row 45: False False False False False False False False False False False False False False False False. Sensor mask row 46: False False False False False False False False False False False False False False False False. Sensor mask row 47: False False False False False False False False False False False False False False False False. Sensor mask row 48: False False False False False False False False False False False False False False False False. Sensor mask row 49: False False False False False False False False False False False False False False False False. Sensor mask row 50: False False False False False False False False False False False False False False False False. Sensor mask row 51: False False False False False False False False False False False False False False False False. Sensor mask row 52: False False False False False False False False False False False False False False False False. Sensor mask row 53: False False False False False False False False False False False False False False False False. Sensor mask row 54: False False False False False False False False False False False False False False False False. Sensor mask row 55: False False False False False False False False False False False False False False False False. Sensor mask row 56: False False False False False False False False False False False False False False False False. Sensor mask row 57: False False False False False False False False False False False False False False False False. Sensor mask row 58: False False False False False False False False False False False False False False False False. Sensor mask row 59: False False False False False False False False False False False False False False False False. Sensor mask row 60: False False False False False False False False False False False False False False False False. Sensor mask row 61: False False False False False False False False False False False False False False False False. Sensor mask row 62: False False False False False False False False False False False False False False False False. Sensor mask row 63: False False False False False False False False False False False False False False False False.\n",
      "\n",
      "Wait, that's a lot. So, in the sensor mask, each row has 17 elements, and each is a boolean. So, for each row, if it's True, it means that a sensor is present at that position. So, for example, if a sensor is present at position (0,0), then that's the origin. So, when my unit is placed at (0,0), and the sensor mask shows True at (0,0), that means that a sensor is present there. So, in our case, our map has 17 rows, each with 17 columns.\n",
      "\n",
      "So, for each step, the current map is the state of the game at that step. So, each step, the game is progressing, and we need to compute the maximum possible number of units.\n",
      "\n",
      "Wait, but in the problem statement, it says: \"My unit 0 energy: -1. My unit 1 energy: -1. My unit 2 energy: -1. My unit 3 energy: -1. My unit 4 energy: -1. My unit 5 energy: -1. My unit 6 energy: -1. My unit 7 energy: -1. My unit 8 energy: -1. My unit 9 energy: -1. My unit 10 energy: -1. My unit 11 energy: -1. My unit 12 energy: -1. My unit 13 energy: -1. My unit 14 energy: -1. My unit 15 energy: -1. My unit 16 energy: -1. My unit 17 energy: -1. My unit 18 energy: -1. My unit 19 energy: -1. My unit 20 energy: -1. My unit 21 energy: -1. My unit 22 energy: -1. My unit 23 energy: -1. My unit 24 energy: -1. My unit 25 energy: -1. My unit 26 energy: -1. My unit 27 energy: -1. My unit 28 energy: -1. My unit 29 energy: -1. My unit 30 energy: -1. My unit 31 energy: -1. My unit 32 energy: -1. My unit 33 energy: -1. My unit 34 energy: -1. My unit 35 energy: -1. My unit 36 energy: -1. My unit 37 energy: -1. My unit 38 energy: -1. My unit 39 energy: -1. My unit 40 energy: -1. My unit 41 energy: -1. My unit 42 energy: -1. My unit 43 energy: -1. My unit 44 energy: -1. My unit 45 energy: -1. My unit 46 energy: -1. My unit 47 energy: -1. My unit 48 energy: -1. My unit 49 energy: -1. My unit 50 energy: -1. My unit 51 energy: -1. My unit 52 energy: -1. My unit 53 energy: -1. My unit 54 energy: -1. My unit 55 energy: -1. My unit 56 energy: -1. My unit 57 energy: -1. My unit 58 energy: -1. My unit 59 energy: -1. My unit 60 energy: -1. My unit 61 energy: -1. My unit 62 energy: -1. My unit 63 energy: -1. My unit 64 energy: -1. My unit 65 energy: -1. My unit 66 energy: -1. My unit 67 energy: -1. My unit 68 energy: -1. My unit 69 energy: -1. My unit 70 energy: -1. My unit 71 energy: -1. My unit 72 energy: -1. My unit 73 energy: -1. My unit 74 energy: -1. My unit 75 energy: -1. My unit 76 energy: -1. My unit 77 energy: -1. My unit 78 energy: -1. My unit 79 energy: -1. My unit 80 energy: -1. My unit 81 energy: -1. My unit 82 energy: -1. My unit 83 energy: -1. My unit 84 energy: -1. My unit 85 energy: -1. My unit 86 energy: -1. My unit 87 energy: -1. My unit 88 energy: -1. My unit 89 energy: -1. My unit 90 energy: -1. My unit 91 energy: -1. My unit 92 energy: -1. My unit 93 energy: -1. My unit 94 energy: -1. My unit 95 energy: -1. My unit 96 energy: -1. My unit 97 energy: -1. My unit 98 energy: -1. My unit 99 energy: -1. My unit 100 energy: -1. My unit 101 energy: -1. My unit 102 energy: -1. My unit 103 energy: -1. My unit 104 energy: -1. My unit 105 energy: -1. My unit 106 energy: -1. My unit 107 energy: -1. My unit 108 energy: -1. My unit 109 energy: -1. My unit 110 energy: -1. My unit 111 energy: -1. My unit 112 energy: -1. My unit 113 energy: -1. My unit 114 energy: -1. My unit 115 energy: -1. My unit 116 energy: -1. My unit 117 energy: -1. My unit 118 energy: -1. My unit 119 energy: -1. My unit 120 energy: -1. My unit 121 energy: -1. My unit 122 energy: -1. My unit 123 energy: -1. My unit 124 energy: -1. My unit 125 energy: -1. My unit 126 energy: -1. My unit 127 energy: -1. My unit 128 energy: -1. My unit 129 energy: -1. My unit 130 energy: -1. My unit 131 energy: -1. My unit 132 energy: -1. My unit 133 energy: -1. My unit 134 energy: -1. My unit 135 energy: -1. My unit 136 energy: -1. My unit 137 energy: -1. My unit 138 energy: -1. My unit 139 energy: -1. My unit 140 energy: -1. My unit 141 energy: -1. My unit 142 energy: -1. My unit 143 energy: -1. My unit 144 energy: -1. My unit 145 energy: -1. My unit 146 energy: -1. My unit 147 energy: -1. My unit 148 energy: -1. My unit 149 energy: -1. My unit 150 energy: -1. My unit 151 energy: -1. My unit 152 energy: -1. My unit 153 energy: -1. My unit 154 energy: -1. My unit 155 energy: -1. My unit 156 energy: -1. My unit 157 energy: -1. My unit 158 energy: -1. My unit 159 energy: -1. My unit 160 energy: -1. My unit 161 energy: -1. My unit 162 energy: -1. My unit 163 energy: -1. My unit 164 energy: -1. My unit 165 energy: -1. My unit 166 energy: -1. My unit 167 energy: -1. My unit 168 energy: -1. My unit 169 energy: -1. My unit 170 energy: -1. My unit 171 energy: -1. My unit 172 energy: -1. My unit 173 energy: -1. My unit 174 energy: -1. My unit 175 energy: -1. My unit 176 energy: -1. My unit 177 energy: -1. My unit 178 energy: -1. My unit 179 energy: -1. My unit 180 energy: -1. My unit 181 energy: -1. My unit 182 energy: -1. My unit 183 energy: -1. My unit 184 energy: -1. My unit 185 energy: -1. My unit 186 energy: -1. My unit 187 energy: -1. My unit 188 energy: -1. My unit 189 energy: -1. My unit 190 energy: -1. My unit 191 energy: -1. My unit 192 energy: -1. My unit 193 energy: -1. My unit 194 energy: -1. My unit 195 energy: -1. My unit 196 energy: -1. My unit 197 energy: -1. My unit 198 energy: -1. My unit 199 energy: -1. My unit 200 energy: -1. My unit 201 energy: -1. My unit 202 energy: -1. My unit 203 energy: -1. My unit 204 energy: -1. My unit 205 energy: -1. My unit 206 energy: -1. My unit 207 energy: -1. My unit 208 energy: -1. My unit 209 energy: -1. My unit 210 energy: -1. My unit 211 energy: -1. My unit 212 energy: -1. My unit 213 energy: -1. My unit 214 energy: -1. My unit 215 energy: -1. My unit 216 energy: -1. My unit 217 energy: -1. My unit 218 energy: -1. My unit 219 energy: -1. My unit 220 energy: -1. My unit 221 energy: -1. My unit 222 energy: -1. My unit 223 energy: -1. My unit 224 energy: -1. My unit 225 energy: -1. My unit 226 energy: -1. My unit 227 energy: -1. My unit 228 energy: -1. My unit 229 energy: -1. My unit 230 energy: -1. My unit 231 energy: -1. My unit 232 energy: -1. My unit 233 energy: -1. My unit 234 energy: -1. My unit 235 energy: -1. My unit 236 energy: -1. My unit 237 energy: -1. My unit 238 energy: -1. My unit 239 energy: -1. My unit 240 energy: -1. My unit 241 energy: -1. My unit 242 energy: -1. My unit 243 energy: -1. My unit 244 energy: -1. My unit 245 energy: -1. My unit 246 energy: -1. My unit 247 energy: -1. My unit 248 energy: -1. My unit 249 energy: -1. My unit 250 energy: -1. My unit 251 energy: -1. My unit 252 energy: -1. My unit 253 energy: -1. My unit 254 energy: -1. My unit 255 energy: -1. My unit 256 energy: -1. My unit 257 energy: -1. My unit 258 energy: -1. My unit 259 energy: -1. My unit 260 energy: -1. My unit 261 energy: -1. My unit 262 energy: -1. My unit 263 energy: -1. My unit 264 energy: -1. My unit 265 energy: -1. My unit 266 energy: -1. My unit 267 energy: -1. My unit 268 energy: -1. My unit 269 energy: -1. My unit 270 energy: -1. My unit 271 energy: -1. My unit 272 energy: -1. My unit 273 energy: -1. My unit 274 energy: -1. My unit 275 energy: -1. My unit 276 energy: -1. My unit 277 energy: -1. My unit 278 energy: -1. My unit 279 energy: -1. My unit 280 energy: -1. My unit 281 energy: -1. My unit 282 energy: -1. My unit 283 energy: -1. My\n"
     ]
    }
   ],
   "source": [
    "# ✅ Optimized generation parameters\n",
    "generated_output = model.generate(\n",
    "    **inputs,\n",
    "    max_new_tokens=inputs['input_ids'].shape[1],\n",
    "    pad_token_id=tokenizer.pad_token_id,\n",
    "    #do_sample=True,\n",
    "    temperature=0.6,\n",
    "    #top_k=50,\n",
    "    #top_p=0.9,\n",
    "    #use_cache=True  # ✅ Enable KV caching for faster generation\n",
    ")\n",
    "\n",
    "# ✅ Efficient decoding\n",
    "response = tokenizer.decode(generated_output[0], skip_special_tokens=True)\n",
    "print(response)"
   ]
  },
  {
   "cell_type": "code",
   "execution_count": 15,
   "id": "c0111161",
   "metadata": {},
   "outputs": [],
   "source": [
    "from datasets import load_dataset, Dataset"
   ]
  },
  {
   "cell_type": "code",
   "execution_count": 16,
   "id": "e5cad946",
   "metadata": {},
   "outputs": [
    {
     "data": {
      "application/vnd.jupyter.widget-view+json": {
       "model_id": "08bddc03c2ff4fbe92c30409a54ec5f5",
       "version_major": 2,
       "version_minor": 0
      },
      "text/plain": [
       "README.md:   0%|          | 0.00/7.94k [00:00<?, ?B/s]"
      ]
     },
     "metadata": {},
     "output_type": "display_data"
    },
    {
     "data": {
      "application/vnd.jupyter.widget-view+json": {
       "model_id": "61da2d0e757d45d9b80fe4cb3e4ee906",
       "version_major": 2,
       "version_minor": 0
      },
      "text/plain": [
       "train-00000-of-00001.parquet:   0%|          | 0.00/2.31M [00:00<?, ?B/s]"
      ]
     },
     "metadata": {},
     "output_type": "display_data"
    },
    {
     "data": {
      "application/vnd.jupyter.widget-view+json": {
       "model_id": "ad410d376026416db01ac5309454c2f3",
       "version_major": 2,
       "version_minor": 0
      },
      "text/plain": [
       "test-00000-of-00001.parquet:   0%|          | 0.00/419k [00:00<?, ?B/s]"
      ]
     },
     "metadata": {},
     "output_type": "display_data"
    },
    {
     "data": {
      "application/vnd.jupyter.widget-view+json": {
       "model_id": "3fc7c8d252164921a135ea4090565c10",
       "version_major": 2,
       "version_minor": 0
      },
      "text/plain": [
       "Generating train split:   0%|          | 0/7473 [00:00<?, ? examples/s]"
      ]
     },
     "metadata": {},
     "output_type": "display_data"
    },
    {
     "data": {
      "application/vnd.jupyter.widget-view+json": {
       "model_id": "19abf5cdba994038893c0f74a8d4e6f8",
       "version_major": 2,
       "version_minor": 0
      },
      "text/plain": [
       "Generating test split:   0%|          | 0/1319 [00:00<?, ? examples/s]"
      ]
     },
     "metadata": {},
     "output_type": "display_data"
    }
   ],
   "source": [
    "data = load_dataset('openai/gsm8k', 'main')"
   ]
  },
  {
   "cell_type": "code",
   "execution_count": 18,
   "id": "249440d4",
   "metadata": {},
   "outputs": [
    {
     "data": {
      "text/plain": [
       "Dataset({\n",
       "    features: ['question', 'answer'],\n",
       "    num_rows: 7473\n",
       "})"
      ]
     },
     "execution_count": 18,
     "metadata": {},
     "output_type": "execute_result"
    }
   ],
   "source": [
    "train_data = data['train']\n",
    "train_data"
   ]
  },
  {
   "cell_type": "code",
   "execution_count": 27,
   "id": "191f2cb5",
   "metadata": {},
   "outputs": [
    {
     "data": {
      "text/plain": [
       "7473"
      ]
     },
     "execution_count": 27,
     "metadata": {},
     "output_type": "execute_result"
    }
   ],
   "source": [
    "train_data.num_rows"
   ]
  },
  {
   "cell_type": "code",
   "execution_count": null,
   "id": "f554ec63",
   "metadata": {},
   "outputs": [],
   "source": [
    "game_rules = \"\"\"Environment\n",
    "In the Lux AI Challenge Season 3, two teams compete against each other on a 2D map in a best of 5 match sequence (called a game) with each match lasting 100 time steps. Both teams have a pool of units they can control to gain points around the map while also trying to prevent the other team from doing the same.\n",
    "\n",
    "Unique to Season 3 is how various game mechanics and parameters are randomized at the start of each game and remain the same between matches in one game. Some mechanics/paramters include the map terrain/generation, how much units can see on the map, how might they be blocked by map features, etc. Each match is played with fog of war, where each team can only see what their own units can see, with everything else being hidden. Given that some mechanics are randomized between games, the specs will clearly document how they are randomized and what the possible values are. There is also a summary table of every game parameter that is randomized between games in the Game Parameters section below.\n",
    "\n",
    "A core objective of this game is a balanced strategy of exploration and exploitation. It is recommended to explore more in the first match or two before leveraging gained knowledge about the map and opponent behavior to win the latter matches.\n",
    "\n",
    "Map\n",
    "The map is a randomly generated 2D grid of size 24x24. There are several core features that make up the map: Empty Tiles, Asteroid Tiles, Nebula Tiles, Energy Nodes, and Relic Nodes. Notably, in a game, the map is never regenerated completely between matches. Whatever is the state of the map at the end of one match is what is used for the next match.\n",
    "\n",
    "Empty Tiles\n",
    "These are empty tiles in space without anything special about them. Units and nodes can be placed/move onto these tiles.\n",
    "\n",
    "Asteroid Tiles\n",
    "Asteroid tiles are impassable tiles that block anything from moving/spawning onto them. These tiles might move around over time during the map in a symmetric fashion. Sometimes asteroid tiles might move on top of existing units. In the game the unit is not removed as a result of this and can still take actions and move around provided there is an non asteroid tile adjacent to it.\n",
    "\n",
    "Nebula Tiles\n",
    "Nebula tiles are passable tiles with a number of features. These tiles might move around over time during the map in a symmetric fashion.\n",
    "\n",
    "Vision Reduction: Nebula tiles can reduce/block vision of units. Because of vision reduction it is even possible for a unit to be unable to see itself while still being able to move! See Vision section below for more details on how team vision is determined. All nebula tiles have the same vision reduction value called params.nebula_tile_vision_reduction which is randomized from 0 to 3.\n",
    "\n",
    "Energy Reduction: Nebula tiles can reduce the energy of units that end their turn on them. All nebula tiles have the same energy reduction value called params.nebula_tile_energy_reduction.\n",
    "\n",
    "Energy Nodes\n",
    "Energy nodes are mysterious objects that emit energy fields which can be harvested by units. These nodes might move around over time during the map in a symmetric fashion. In code, what actually occurs in each game is energy nodes are randomly generated on the map symmetrically and a random function is generated for each node. Each energy node's function is a function of distance. The energy value of a tile on a map is determined to be the sum of the energy node functions applied to the distance between tile and each node.\n",
    "\n",
    "Relic Nodes\n",
    "Relic nodes are objects in space that enable ships to go near it to gain team points. These relic nodes however are ancient and thus fragmented. As a result, only certain tiles near the relic nodes when a friendly ship is on it will gain points. The tiles that yield points are always hidden and can only be discovered by trial and error by moving around the relic nodes. Relic node positions themselves can be observed if withins sensor range. The tiles around relic nodes can overlap with tiles of other relic nodes but will not yield extra points if that occurs and is treated as one tile.\n",
    "\n",
    "In code, a random 5x5 configuration / mask centered on the relic node is generated indicating which tiles yield points and which don't. Multiple ships can stack on one tile but will only yield at most one point per tile. Note that ship stacking can be risky due to the sapping action (See Sap Actions section below).\n",
    "\n",
    "Units\n",
    "Units in the game are ships that can move one tile in 5 directions (center, up, right, down, left) and perform a ranged energy sapping action. Units can overlap with other friendly units if they move onto the same tile. Units have a energy property which determines whether they can perform actions and start with 100 energy and can have a max of 400 energy. Energy is recharged via the energy field of the map. They always spawn on one of the two corners of the map depending on which team they are on.\n",
    "\n",
    "Note that nebula tiles and energy fields can modify the energy of a unit when it is on that tile. However they can never reduce the energy of a unit below 0, only opposing units can do that which will then remove the unit from the game to be respawned at a later timestep. Unit IDs range from 0 to params.max_units - 1 for each team, and are recycled when units are spawned in if a previous one was removed.\n",
    "\n",
    "Move Actions\n",
    "All move actions except moving center cost params.unit_move_cost energy to perform. Moving center is always free (a zero action). Attempting to move off the edge of the map results in no movement occuring but energy is still consumed. Units cannot move onto tiles with an impassible feature like an asteroid tile.\n",
    "\n",
    "Sap Actions\n",
    "The sap action lets a unit target a specific tile on the map within a range called params.unit_sap_range and reduces the energy of each opposition unit on the target tile by params.unit_sap_cost while also costing unit_sap_cost energy to use. Moreover, any opposition units on the 8 adjacent tiles to the target tile are also sapped and their energy is reduced by params.unit_sap_cost * params.unit_sap_dropoff_factor.\n",
    "\n",
    "Sap actions are submitted to the game engine / environment as a delta x and delta y value relative to the unit's current position. The delta x and delta y value magnitudes must both be <= params.unit_sap_range, so the sap range is a square around the unit.\n",
    "\n",
    "Generally sap actions are risky since a single miss means your ships lose energy while the opponent does not. The area of effect can mitigate this risk somewhat depending on game parameters. Sap actions can however prove very valuable when opposition ships are heavily stacked and get hit as sapping the stacked tile hits every ship on the tile.\n",
    "\n",
    "Vision\n",
    "A team's vision is the combined vision of all units on that team. Team vision is essentially a boolean mask / matrix over the 2D map indicating whether that tile's information is visible to the team. In this game, you can think of each unit having an \"eye in the sky\" sattelite that is capturing information about the units surroundings, but this sattelite has reduced accuracy the farther away the tile is from the unit.\n",
    "\n",
    "To determine which map tiles are visible to a team, we compute a vision power value for each tile on the map. For each unit on a team, we check each tile within the unit's sensor range and add 1 + params.unit_sensor_range - min(dx, dy) to the vision power map at tile (x+dx, y+dy) where (x,y) is the unit's position and (dx, dy) is the offset from the unit's position and abs(dx) <= params.unit_sensor_range and abs(dy) <= params.unit_sensor_range.\n",
    "\n",
    "Nebula tiles have a vision reduction value of params.nebula_tile_vision_reduction. This number is reduced from every tile's vision power if that tile is a nebula tile.\n",
    "\n",
    "For example, naturally without any nebula tiles the vision power values look like below and create a square of visibility around the unit.\n",
    "\n",
    "\n",
    "\n",
    "When a unit is near a nebula tile, it can't see details about some nebula tiles, but it can see tiles beyond nebula tiles. Here the unit has a sensor range of 2 and the nebula tile vision reduction value is 2. It can see itself since the vision power centered at the unit is 3, but it can't see other nebula tiles since they are too far or the nebula tile vision reduction reduces the vision power to 0 or less.\n",
    "\n",
    "\n",
    "\n",
    "When a unit is inside a nebula tile, if the nebula vision reduction is powerful enough (here the nebula vision reduction is 3, unit sensor range is 2), the unit cannot even see itself or any other nebula tiles.\n",
    "\n",
    "\n",
    "\n",
    "Unit vision can overlap and increase the vision power linearly, which can help handle the situations like above when you cannot see anything. Below the nebula vision reduction is 3 and the unit sensor range is 2, and now some of the nebula tiles are visible thanks to the overlapping vision of two units.\n",
    "\n",
    "\n",
    "\n",
    "Collisions / Energy Void Fields\n",
    "In close quarters, units can impact each other in two ways, via direct collisions or by being adjacent to each other and sapping energy via their energy void fields.\n",
    "\n",
    "In the event of two or more units from opposing teams occupy the same tile at the end of a turn, the team with the highest aggregate energy among its units on that tile survive, while the units of the opposing teams are removed from the game. If it is a tie, all units are removed from the game.\n",
    "\n",
    "Furthermore, each unit generates an \"energy void\" field around itself that affects all cardinally (up, right, down left) adjacent opposition units. To determine how exactly each unit is affected by these energy void fields, we compute a 2D map for each team indicating the energy void strength at each tile. A unit contributes to tiles adjacent to itself a energy void strength equal to the total amount of energy the unit has at the start of the turn multiplied by params.unit_energy_void_factor rounded down. After a energy void map is computed for each team, a unit's energy is reduced by the energy void strength of the tile it is on divided by the total number of units on that tile. Note that units removed due to collisions do not contribute to the energy void field.\n",
    "\n",
    "The energy void fields generally encourage stacking units to better spread out energy sapped by energy void fields of opposition units.\n",
    "\n",
    "Win Conditions\n",
    "To win the game, the team must have won the most matches out of the 5 match sequence.\n",
    "\n",
    "To win a match, the team must have gained more relic points than the other team at the end of the match. If the relic points scores are tied, then the match winner is decided by who has more total unit energy. If that is also tied then the winner is chosen at random.\n",
    "\n",
    "Match Resolution Order\n",
    "At each time step of a match, we run the following steps in order:\n",
    "\n",
    "Move all units that have enough energy to move\n",
    "Execute the sap actions of all units that have enough energy to do so\n",
    "Resolve collisions and apply energy void fields\n",
    "Update the energy of all units based on their position (energy fields and nebula tiles)\n",
    "Spawn units for all teams. Remove units that have less than 0 energy.\n",
    "Determine the team vision / sensor masks for all teams and mask out observations accordingly\n",
    "Environment objects like asteroids/nebula tiles/energy nodes move around in space\n",
    "Compute new team points\n",
    "Note that each match runs for params.max_steps_in_match steps and you take that many actions that affect the game. However, you will actually receive params.max_steps_in_match + 1 frames of observations since the very first frame will either be empty or the previous match's final observation (actions on these observations will not do anything).\n",
    "\n",
    "Game Parameters\n",
    "The full set of game parameters can be found here in the codebase.\n",
    "\n",
    "Randomized Game Parameters / Map Generation\n",
    "There are a number of randomized game paramteres which can modify and even disable/enable certain game mechanics. None of these game parameters are changed between matches in a game. The majority of these parameters are also not given to the teams themselves and must be discovered through exploration.\n",
    "\n",
    "env_params_ranges = dict(\n",
    "    map_type=[1],\n",
    "    unit_move_cost=list(range(1, 6)), # list(range(x, y)) = [x, x+1, x+2, ... , y-1]\n",
    "    unit_sensor_range=list(range(2, 5)),\n",
    "    nebula_tile_vision_reduction=list(range(0,4)),\n",
    "    nebula_tile_energy_reduction=[0, 0, 10, 25],\n",
    "    unit_sap_cost=list(range(30, 51)),\n",
    "    unit_sap_range=list(range(3, 8)),\n",
    "    unit_sap_dropoff_factor=[0.25, 0.5, 1],\n",
    "    unit_energy_void_factor=[0.0625, 0.125, 0.25, 0.375],\n",
    "    # map randomizations\n",
    "    nebula_tile_drift_speed=[-0.05, -0.025, 0.025, 0.05],\n",
    "    energy_node_drift_speed=[0.01, 0.02, 0.03, 0.04, 0.05],\n",
    "    energy_node_drift_magnitude=list(range(3, 6))\n",
    ")\n",
    "These parameter ranges (and other parameters) are subject to change in the beta phase of this competition as we gather feedback and data.\"\"\""
   ]
  },
  {
   "cell_type": "code",
   "execution_count": null,
   "id": "00a980e3",
   "metadata": {},
   "outputs": [],
   "source": [
    "game_rules_and_input = game_rules + ' ' + agent1.llm_input"
   ]
  },
  {
   "cell_type": "code",
   "execution_count": null,
   "id": "70f6885b",
   "metadata": {},
   "outputs": [
    {
     "data": {
      "text/plain": [
       "'Environment\\nIn the Lux AI Challenge Season 3, two teams compete against each other on a 2D map in a best of 5 match sequence (called a game) with each match lasting 100 time steps. Both teams have a pool of units they can control to gain points around the map while also trying to prevent the other team from doing the same.\\n\\nUnique to Season 3 is how various game mechanics and parameters are randomized at the start of each game and remain the same between matches in one game. Some mechanics/paramters include the map terrain/generation, how much units can see on the map, how might they be blocked by map features, etc. Each match is played with fog of war, where each team can only see what their own units can see, with everything else being hidden. Given that some mechanics are randomized between games, the specs will clearly document how they are randomized and what the possible values are. There is also a summary table of every game parameter that is randomized between games in the Game Parameters section below.\\n\\nA core objective of this game is a balanced strategy of exploration and exploitation. It is recommended to explore more in the first match or two before leveraging gained knowledge about the map and opponent behavior to win the latter matches.\\n\\nMap\\nThe map is a randomly generated 2D grid of size 24x24. There are several core features that make up the map: Empty Tiles, Asteroid Tiles, Nebula Tiles, Energy Nodes, and Relic Nodes. Notably, in a game, the map is never regenerated completely between matches. Whatever is the state of the map at the end of one match is what is used for the next match.\\n\\nEmpty Tiles\\nThese are empty tiles in space without anything special about them. Units and nodes can be placed/move onto these tiles.\\n\\nAsteroid Tiles\\nAsteroid tiles are impassable tiles that block anything from moving/spawning onto them. These tiles might move around over time during the map in a symmetric fashion. Sometimes asteroid tiles might move on top of existing units. In the game the unit is not removed as a result of this and can still take actions and move around provided there is an non asteroid tile adjacent to it.\\n\\nNebula Tiles\\nNebula tiles are passable tiles with a number of features. These tiles might move around over time during the map in a symmetric fashion.\\n\\nVision Reduction: Nebula tiles can reduce/block vision of units. Because of vision reduction it is even possible for a unit to be unable to see itself while still being able to move! See Vision section below for more details on how team vision is determined. All nebula tiles have the same vision reduction value called params.nebula_tile_vision_reduction which is randomized from 0 to 3.\\n\\nEnergy Reduction: Nebula tiles can reduce the energy of units that end their turn on them. All nebula tiles have the same energy reduction value called params.nebula_tile_energy_reduction.\\n\\nEnergy Nodes\\nEnergy nodes are mysterious objects that emit energy fields which can be harvested by units. These nodes might move around over time during the map in a symmetric fashion. In code, what actually occurs in each game is energy nodes are randomly generated on the map symmetrically and a random function is generated for each node. Each energy node\\'s function is a function of distance. The energy value of a tile on a map is determined to be the sum of the energy node functions applied to the distance between tile and each node.\\n\\nRelic Nodes\\nRelic nodes are objects in space that enable ships to go near it to gain team points. These relic nodes however are ancient and thus fragmented. As a result, only certain tiles near the relic nodes when a friendly ship is on it will gain points. The tiles that yield points are always hidden and can only be discovered by trial and error by moving around the relic nodes. Relic node positions themselves can be observed if withins sensor range. The tiles around relic nodes can overlap with tiles of other relic nodes but will not yield extra points if that occurs and is treated as one tile.\\n\\nIn code, a random 5x5 configuration / mask centered on the relic node is generated indicating which tiles yield points and which don\\'t. Multiple ships can stack on one tile but will only yield at most one point per tile. Note that ship stacking can be risky due to the sapping action (See Sap Actions section below).\\n\\nUnits\\nUnits in the game are ships that can move one tile in 5 directions (center, up, right, down, left) and perform a ranged energy sapping action. Units can overlap with other friendly units if they move onto the same tile. Units have a energy property which determines whether they can perform actions and start with 100 energy and can have a max of 400 energy. Energy is recharged via the energy field of the map. They always spawn on one of the two corners of the map depending on which team they are on.\\n\\nNote that nebula tiles and energy fields can modify the energy of a unit when it is on that tile. However they can never reduce the energy of a unit below 0, only opposing units can do that which will then remove the unit from the game to be respawned at a later timestep. Unit IDs range from 0 to params.max_units - 1 for each team, and are recycled when units are spawned in if a previous one was removed.\\n\\nMove Actions\\nAll move actions except moving center cost params.unit_move_cost energy to perform. Moving center is always free (a zero action). Attempting to move off the edge of the map results in no movement occuring but energy is still consumed. Units cannot move onto tiles with an impassible feature like an asteroid tile.\\n\\nSap Actions\\nThe sap action lets a unit target a specific tile on the map within a range called params.unit_sap_range and reduces the energy of each opposition unit on the target tile by params.unit_sap_cost while also costing unit_sap_cost energy to use. Moreover, any opposition units on the 8 adjacent tiles to the target tile are also sapped and their energy is reduced by params.unit_sap_cost * params.unit_sap_dropoff_factor.\\n\\nSap actions are submitted to the game engine / environment as a delta x and delta y value relative to the unit\\'s current position. The delta x and delta y value magnitudes must both be <= params.unit_sap_range, so the sap range is a square around the unit.\\n\\nGenerally sap actions are risky since a single miss means your ships lose energy while the opponent does not. The area of effect can mitigate this risk somewhat depending on game parameters. Sap actions can however prove very valuable when opposition ships are heavily stacked and get hit as sapping the stacked tile hits every ship on the tile.\\n\\nVision\\nA team\\'s vision is the combined vision of all units on that team. Team vision is essentially a boolean mask / matrix over the 2D map indicating whether that tile\\'s information is visible to the team. In this game, you can think of each unit having an \"eye in the sky\" sattelite that is capturing information about the units surroundings, but this sattelite has reduced accuracy the farther away the tile is from the unit.\\n\\nTo determine which map tiles are visible to a team, we compute a vision power value for each tile on the map. For each unit on a team, we check each tile within the unit\\'s sensor range and add 1 + params.unit_sensor_range - min(dx, dy) to the vision power map at tile (x+dx, y+dy) where (x,y) is the unit\\'s position and (dx, dy) is the offset from the unit\\'s position and abs(dx) <= params.unit_sensor_range and abs(dy) <= params.unit_sensor_range.\\n\\nNebula tiles have a vision reduction value of params.nebula_tile_vision_reduction. This number is reduced from every tile\\'s vision power if that tile is a nebula tile.\\n\\nFor example, naturally without any nebula tiles the vision power values look like below and create a square of visibility around the unit.\\n\\n\\n\\nWhen a unit is near a nebula tile, it can\\'t see details about some nebula tiles, but it can see tiles beyond nebula tiles. Here the unit has a sensor range of 2 and the nebula tile vision reduction value is 2. It can see itself since the vision power centered at the unit is 3, but it can\\'t see other nebula tiles since they are too far or the nebula tile vision reduction reduces the vision power to 0 or less.\\n\\n\\n\\nWhen a unit is inside a nebula tile, if the nebula vision reduction is powerful enough (here the nebula vision reduction is 3, unit sensor range is 2), the unit cannot even see itself or any other nebula tiles.\\n\\n\\n\\nUnit vision can overlap and increase the vision power linearly, which can help handle the situations like above when you cannot see anything. Below the nebula vision reduction is 3 and the unit sensor range is 2, and now some of the nebula tiles are visible thanks to the overlapping vision of two units.\\n\\n\\n\\nCollisions / Energy Void Fields\\nIn close quarters, units can impact each other in two ways, via direct collisions or by being adjacent to each other and sapping energy via their energy void fields.\\n\\nIn the event of two or more units from opposing teams occupy the same tile at the end of a turn, the team with the highest aggregate energy among its units on that tile survive, while the units of the opposing teams are removed from the game. If it is a tie, all units are removed from the game.\\n\\nFurthermore, each unit generates an \"energy void\" field around itself that affects all cardinally (up, right, down left) adjacent opposition units. To determine how exactly each unit is affected by these energy void fields, we compute a 2D map for each team indicating the energy void strength at each tile. A unit contributes to tiles adjacent to itself a energy void strength equal to the total amount of energy the unit has at the start of the turn multiplied by params.unit_energy_void_factor rounded down. After a energy void map is computed for each team, a unit\\'s energy is reduced by the energy void strength of the tile it is on divided by the total number of units on that tile. Note that units removed due to collisions do not contribute to the energy void field.\\n\\nThe energy void fields generally encourage stacking units to better spread out energy sapped by energy void fields of opposition units.\\n\\nWin Conditions\\nTo win the game, the team must have won the most matches out of the 5 match sequence.\\n\\nTo win a match, the team must have gained more relic points than the other team at the end of the match. If the relic points scores are tied, then the match winner is decided by who has more total unit energy. If that is also tied then the winner is chosen at random.\\n\\nMatch Resolution Order\\nAt each time step of a match, we run the following steps in order:\\n\\nMove all units that have enough energy to move\\nExecute the sap actions of all units that have enough energy to do so\\nResolve collisions and apply energy void fields\\nUpdate the energy of all units based on their position (energy fields and nebula tiles)\\nSpawn units for all teams. Remove units that have less than 0 energy.\\nDetermine the team vision / sensor masks for all teams and mask out observations accordingly\\nEnvironment objects like asteroids/nebula tiles/energy nodes move around in space\\nCompute new team points\\nNote that each match runs for params.max_steps_in_match steps and you take that many actions that affect the game. However, you will actually receive params.max_steps_in_match + 1 frames of observations since the very first frame will either be empty or the previous match\\'s final observation (actions on these observations will not do anything).\\n\\nGame Parameters\\nThe full set of game parameters can be found here in the codebase.\\n\\nRandomized Game Parameters / Map Generation\\nThere are a number of randomized game paramteres which can modify and even disable/enable certain game mechanics. None of these game parameters are changed between matches in a game. The majority of these parameters are also not given to the teams themselves and must be discovered through exploration.\\n\\nenv_params_ranges = dict(\\n    map_type=[1],\\n    unit_move_cost=list(range(1, 6)), # list(range(x, y)) = [x, x+1, x+2, ... , y-1]\\n    unit_sensor_range=list(range(2, 5)),\\n    nebula_tile_vision_reduction=list(range(0,4)),\\n    nebula_tile_energy_reduction=[0, 0, 10, 25],\\n    unit_sap_cost=list(range(30, 51)),\\n    unit_sap_range=list(range(3, 8)),\\n    unit_sap_dropoff_factor=[0.25, 0.5, 1],\\n    unit_energy_void_factor=[0.0625, 0.125, 0.25, 0.375],\\n    # map randomizations\\n    nebula_tile_drift_speed=[-0.05, -0.025, 0.025, 0.05],\\n    energy_node_drift_speed=[0.01, 0.02, 0.03, 0.04, 0.05],\\n    energy_node_drift_magnitude=list(range(3, 6))\\n)\\nThese parameter ranges (and other parameters) are subject to change in the beta phase of this competition as we gather feedback and data. Maximum possible number of units: 16. Number of matches per game: 5. Number of steps per match: 100. Map height: 24. Map width: 24. Number of teams: 2. Unit move energy cost: 4. Unit sap energy cost: 45. Unit sap range: 3. Unit sensor range: 2. Unit position: -1, -1 means the unit is not spawned yet or not visible. My unit 0 position: -1, -1. My unit 1 position: -1, -1. My unit 2 position: -1, -1. My unit 3 position: -1, -1. My unit 4 position: -1, -1. My unit 5 position: -1, -1. My unit 6 position: -1, -1. My unit 7 position: -1, -1. My unit 8 position: -1, -1. My unit 9 position: -1, -1. My unit 10 position: -1, -1. My unit 11 position: -1, -1. My unit 12 position: -1, -1. My unit 13 position: -1, -1. My unit 14 position: -1, -1. My unit 15 position: -1, -1. Enemy unit 0 position: -1, -1. Enemy unit 1 position: -1, -1. Enemy unit 2 position: -1, -1. Enemy unit 3 position: -1, -1. Enemy unit 4 position: -1, -1. Enemy unit 5 position: -1, -1. Enemy unit 6 position: -1, -1. Enemy unit 7 position: -1, -1. Enemy unit 8 position: -1, -1. Enemy unit 9 position: -1, -1. Enemy unit 10 position: -1, -1. Enemy unit 11 position: -1, -1. Enemy unit 12 position: -1, -1. Enemy unit 13 position: -1, -1. Enemy unit 14 position: -1, -1. Enemy unit 15 position: -1, -1. My unit 0 energy: -1. My unit 1 energy: -1. My unit 2 energy: -1. My unit 3 energy: -1. My unit 4 energy: -1. My unit 5 energy: -1. My unit 6 energy: -1. My unit 7 energy: -1. My unit 8 energy: -1. My unit 9 energy: -1. My unit 10 energy: -1. My unit 11 energy: -1. My unit 12 energy: -1. My unit 13 energy: -1. My unit 14 energy: -1. My unit 15 energy: -1. Enemy unit 0 energy: -1. Enemy unit 1 energy: -1. Enemy unit 2 energy: -1. Enemy unit 3 energy: -1. Enemy unit 4 energy: -1. Enemy unit 5 energy: -1. Enemy unit 6 energy: -1. Enemy unit 7 energy: -1. Enemy unit 8 energy: -1. Enemy unit 9 energy: -1. Enemy unit 10 energy: -1. Enemy unit 11 energy: -1. Enemy unit 12 energy: -1. Enemy unit 13 energy: -1. Enemy unit 14 energy: -1. Enemy unit 15 energy: -1. My unit 0 visibility: False. My unit 1 visibility: False. My unit 2 visibility: False. My unit 3 visibility: False. My unit 4 visibility: False. My unit 5 visibility: False. My unit 6 visibility: False. My unit 7 visibility: False. My unit 8 visibility: False. My unit 9 visibility: False. My unit 10 visibility: False. My unit 11 visibility: False. My unit 12 visibility: False. My unit 13 visibility: False. My unit 14 visibility: False. My unit 15 visibility: False. Enemy unit 0 visibility: False. Enemy unit 1 visibility: False. Enemy unit 2 visibility: False. Enemy unit 3 visibility: False. Enemy unit 4 visibility: False. Enemy unit 5 visibility: False. Enemy unit 6 visibility: False. Enemy unit 7 visibility: False. Enemy unit 8 visibility: False. Enemy unit 9 visibility: False. Enemy unit 10 visibility: False. Enemy unit 11 visibility: False. Enemy unit 12 visibility: False. Enemy unit 13 visibility: False. Enemy unit 14 visibility: False. Enemy unit 15 visibility: False. Sensor mask row 0: False False False False False False False False False False False False\\n False False False False False False False False False False False False. Sensor mask row 1: False False False False False False False False False False False False\\n False False False False False False False False False False False False. Sensor mask row 2: False False False False False False False False False False False False\\n False False False False False False False False False False False False. Sensor mask row 3: False False False False False False False False False False False False\\n False False False False False False False False False False False False. Sensor mask row 4: False False False False False False False False False False False False\\n False False False False False False False False False False False False. Sensor mask row 5: False False False False False False False False False False False False\\n False False False False False False False False False False False False. Sensor mask row 6: False False False False False False False False False False False False\\n False False False False False False False False False False False False. Sensor mask row 7: False False False False False False False False False False False False\\n False False False False False False False False False False False False. Sensor mask row 8: False False False False False False False False False False False False\\n False False False False False False False False False False False False. Sensor mask row 9: False False False False False False False False False False False False\\n False False False False False False False False False False False False. Sensor mask row 10: False False False False False False False False False False False False\\n False False False False False False False False False False False False. Sensor mask row 11: False False False False False False False False False False False False\\n False False False False False False False False False False False False. Sensor mask row 12: False False False False False False False False False False False False\\n False False False False False False False False False False False False. Sensor mask row 13: False False False False False False False False False False False False\\n False False False False False False False False False False False False. Sensor mask row 14: False False False False False False False False False False False False\\n False False False False False False False False False False False False. Sensor mask row 15: False False False False False False False False False False False False\\n False False False False False False False False False False False False. Sensor mask row 16: False False False False False False False False False False False False\\n False False False False False False False False False False False False. Sensor mask row 17: False False False False False False False False False False False False\\n False False False False False False False False False False False False. Sensor mask row 18: False False False False False False False False False False False False\\n False False False False False False False False False False False False. Sensor mask row 19: False False False False False False False False False False False False\\n False False False False False False False False False False False False. Sensor mask row 20: False False False False False False False False False False False False\\n False False False False False False False False False False False False. Sensor mask row 21: False False False False False False False False False False False False\\n False False False False False False False False False False False False. Sensor mask row 22: False False False False False False False False False False False False\\n False False False False False False False False False False False False. Sensor mask row 23: False False False False False False False False False False False False\\n False False False False False False False False False False False False. Map energy row 0: -1 -1 -1 -1 -1 -1 -1 -1 -1 -1 -1 -1 -1 -1 -1 -1 -1 -1 -1 -1 -1 -1 -1 -1. Map energy row 1: -1 -1 -1 -1 -1 -1 -1 -1 -1 -1 -1 -1 -1 -1 -1 -1 -1 -1 -1 -1 -1 -1 -1 -1. Map energy row 2: -1 -1 -1 -1 -1 -1 -1 -1 -1 -1 -1 -1 -1 -1 -1 -1 -1 -1 -1 -1 -1 -1 -1 -1. Map energy row 3: -1 -1 -1 -1 -1 -1 -1 -1 -1 -1 -1 -1 -1 -1 -1 -1 -1 -1 -1 -1 -1 -1 -1 -1. Map energy row 4: -1 -1 -1 -1 -1 -1 -1 -1 -1 -1 -1 -1 -1 -1 -1 -1 -1 -1 -1 -1 -1 -1 -1 -1. Map energy row 5: -1 -1 -1 -1 -1 -1 -1 -1 -1 -1 -1 -1 -1 -1 -1 -1 -1 -1 -1 -1 -1 -1 -1 -1. Map energy row 6: -1 -1 -1 -1 -1 -1 -1 -1 -1 -1 -1 -1 -1 -1 -1 -1 -1 -1 -1 -1 -1 -1 -1 -1. Map energy row 7: -1 -1 -1 -1 -1 -1 -1 -1 -1 -1 -1 -1 -1 -1 -1 -1 -1 -1 -1 -1 -1 -1 -1 -1. Map energy row 8: -1 -1 -1 -1 -1 -1 -1 -1 -1 -1 -1 -1 -1 -1 -1 -1 -1 -1 -1 -1 -1 -1 -1 -1. Map energy row 9: -1 -1 -1 -1 -1 -1 -1 -1 -1 -1 -1 -1 -1 -1 -1 -1 -1 -1 -1 -1 -1 -1 -1 -1. Map energy row 10: -1 -1 -1 -1 -1 -1 -1 -1 -1 -1 -1 -1 -1 -1 -1 -1 -1 -1 -1 -1 -1 -1 -1 -1. Map energy row 11: -1 -1 -1 -1 -1 -1 -1 -1 -1 -1 -1 -1 -1 -1 -1 -1 -1 -1 -1 -1 -1 -1 -1 -1. Map energy row 12: -1 -1 -1 -1 -1 -1 -1 -1 -1 -1 -1 -1 -1 -1 -1 -1 -1 -1 -1 -1 -1 -1 -1 -1. Map energy row 13: -1 -1 -1 -1 -1 -1 -1 -1 -1 -1 -1 -1 -1 -1 -1 -1 -1 -1 -1 -1 -1 -1 -1 -1. Map energy row 14: -1 -1 -1 -1 -1 -1 -1 -1 -1 -1 -1 -1 -1 -1 -1 -1 -1 -1 -1 -1 -1 -1 -1 -1. Map energy row 15: -1 -1 -1 -1 -1 -1 -1 -1 -1 -1 -1 -1 -1 -1 -1 -1 -1 -1 -1 -1 -1 -1 -1 -1. Map energy row 16: -1 -1 -1 -1 -1 -1 -1 -1 -1 -1 -1 -1 -1 -1 -1 -1 -1 -1 -1 -1 -1 -1 -1 -1. Map energy row 17: -1 -1 -1 -1 -1 -1 -1 -1 -1 -1 -1 -1 -1 -1 -1 -1 -1 -1 -1 -1 -1 -1 -1 -1. Map energy row 18: -1 -1 -1 -1 -1 -1 -1 -1 -1 -1 -1 -1 -1 -1 -1 -1 -1 -1 -1 -1 -1 -1 -1 -1. Map energy row 19: -1 -1 -1 -1 -1 -1 -1 -1 -1 -1 -1 -1 -1 -1 -1 -1 -1 -1 -1 -1 -1 -1 -1 -1. Map energy row 20: -1 -1 -1 -1 -1 -1 -1 -1 -1 -1 -1 -1 -1 -1 -1 -1 -1 -1 -1 -1 -1 -1 -1 -1. Map energy row 21: -1 -1 -1 -1 -1 -1 -1 -1 -1 -1 -1 -1 -1 -1 -1 -1 -1 -1 -1 -1 -1 -1 -1 -1. Map energy row 22: -1 -1 -1 -1 -1 -1 -1 -1 -1 -1 -1 -1 -1 -1 -1 -1 -1 -1 -1 -1 -1 -1 -1 -1. Map energy row 23: -1 -1 -1 -1 -1 -1 -1 -1 -1 -1 -1 -1 -1 -1 -1 -1 -1 -1 -1 -1 -1 -1 -1 -1. Map node type row 0: -1 -1 -1 -1 -1 -1 -1 -1 -1 -1 -1 -1 -1 -1 -1 -1 -1 -1 -1 -1 -1 -1 -1 -1. Map node type row 1: -1 -1 -1 -1 -1 -1 -1 -1 -1 -1 -1 -1 -1 -1 -1 -1 -1 -1 -1 -1 -1 -1 -1 -1. Map node type row 2: -1 -1 -1 -1 -1 -1 -1 -1 -1 -1 -1 -1 -1 -1 -1 -1 -1 -1 -1 -1 -1 -1 -1 -1. Map node type row 3: -1 -1 -1 -1 -1 -1 -1 -1 -1 -1 -1 -1 -1 -1 -1 -1 -1 -1 -1 -1 -1 -1 -1 -1. Map node type row 4: -1 -1 -1 -1 -1 -1 -1 -1 -1 -1 -1 -1 -1 -1 -1 -1 -1 -1 -1 -1 -1 -1 -1 -1. Map node type row 5: -1 -1 -1 -1 -1 -1 -1 -1 -1 -1 -1 -1 -1 -1 -1 -1 -1 -1 -1 -1 -1 -1 -1 -1. Map node type row 6: -1 -1 -1 -1 -1 -1 -1 -1 -1 -1 -1 -1 -1 -1 -1 -1 -1 -1 -1 -1 -1 -1 -1 -1. Map node type row 7: -1 -1 -1 -1 -1 -1 -1 -1 -1 -1 -1 -1 -1 -1 -1 -1 -1 -1 -1 -1 -1 -1 -1 -1. Map node type row 8: -1 -1 -1 -1 -1 -1 -1 -1 -1 -1 -1 -1 -1 -1 -1 -1 -1 -1 -1 -1 -1 -1 -1 -1. Map node type row 9: -1 -1 -1 -1 -1 -1 -1 -1 -1 -1 -1 -1 -1 -1 -1 -1 -1 -1 -1 -1 -1 -1 -1 -1. Map node type row 10: -1 -1 -1 -1 -1 -1 -1 -1 -1 -1 -1 -1 -1 -1 -1 -1 -1 -1 -1 -1 -1 -1 -1 -1. Map node type row 11: -1 -1 -1 -1 -1 -1 -1 -1 -1 -1 -1 -1 -1 -1 -1 -1 -1 -1 -1 -1 -1 -1 -1 -1. Map node type row 12: -1 -1 -1 -1 -1 -1 -1 -1 -1 -1 -1 -1 -1 -1 -1 -1 -1 -1 -1 -1 -1 -1 -1 -1. Map node type row 13: -1 -1 -1 -1 -1 -1 -1 -1 -1 -1 -1 -1 -1 -1 -1 -1 -1 -1 -1 -1 -1 -1 -1 -1. Map node type row 14: -1 -1 -1 -1 -1 -1 -1 -1 -1 -1 -1 -1 -1 -1 -1 -1 -1 -1 -1 -1 -1 -1 -1 -1. Map node type row 15: -1 -1 -1 -1 -1 -1 -1 -1 -1 -1 -1 -1 -1 -1 -1 -1 -1 -1 -1 -1 -1 -1 -1 -1. Map node type row 16: -1 -1 -1 -1 -1 -1 -1 -1 -1 -1 -1 -1 -1 -1 -1 -1 -1 -1 -1 -1 -1 -1 -1 -1. Map node type row 17: -1 -1 -1 -1 -1 -1 -1 -1 -1 -1 -1 -1 -1 -1 -1 -1 -1 -1 -1 -1 -1 -1 -1 -1. Map node type row 18: -1 -1 -1 -1 -1 -1 -1 -1 -1 -1 -1 -1 -1 -1 -1 -1 -1 -1 -1 -1 -1 -1 -1 -1. Map node type row 19: -1 -1 -1 -1 -1 -1 -1 -1 -1 -1 -1 -1 -1 -1 -1 -1 -1 -1 -1 -1 -1 -1 -1 -1. Map node type row 20: -1 -1 -1 -1 -1 -1 -1 -1 -1 -1 -1 -1 -1 -1 -1 -1 -1 -1 -1 -1 -1 -1 -1 -1. Map node type row 21: -1 -1 -1 -1 -1 -1 -1 -1 -1 -1 -1 -1 -1 -1 -1 -1 -1 -1 -1 -1 -1 -1 -1 -1. Map node type row 22: -1 -1 -1 -1 -1 -1 -1 -1 -1 -1 -1 -1 -1 -1 -1 -1 -1 -1 -1 -1 -1 -1 -1 -1. Map node type row 23: -1 -1 -1 -1 -1 -1 -1 -1 -1 -1 -1 -1 -1 -1 -1 -1 -1 -1 -1 -1 -1 -1 -1 -1. Relic node position: -1, -1 means the relic node is not yet discoverd. Relic node 0 position: -1, -1. Relic node 1 position: -1, -1. Relic node 2 position: -1, -1. Relic node 3 position: -1, -1. Relic node 4 position: -1, -1. Relic node 5 position: -1, -1. Relic node 0 visibility: False. Relic node 1 visibility: False. Relic node 2 visibility: False. Relic node 3 visibility: False. Relic node 4 visibility: False. Relic node 5 visibility: False. My current point for this match is: 0. Enemy current point for this match is: 0. I have won 0 matches. Enemy has won 0 matches. This is step 0 of the game. This is step 0 of the match. Enemy spawn location: not yet discovered.'"
      ]
     },
     "metadata": {},
     "output_type": "display_data"
    }
   ],
   "source": [
    "game_rules_and_input"
   ]
  },
  {
   "cell_type": "code",
   "execution_count": 32,
   "id": "16d6179a",
   "metadata": {},
   "outputs": [
    {
     "name": "stdout",
     "output_type": "stream",
     "text": [
      "Environment\n",
      "In the Lux AI Challenge Season 3, two teams compete against each other on a 2D map in a best of 5 match sequence (called a game) with each match lasting 100 time steps. Both teams have a pool of units they can control to gain points around the map while also trying to prevent the other team from doing the same.\n",
      "\n",
      "Unique to Season 3 is how various game mechanics and parameters are randomized at the start of each game and remain the same between matches in one game. Some mechanics/paramters include the map terrain/generation, how much units can see on the map, how might they be blocked by map features, etc. Each match is played with fog of war, where each team can only see what their own units can see, with everything else being hidden. Given that some mechanics are randomized between games, the specs will clearly document how they are randomized and what the possible values are. There is also a summary table of every game parameter that is randomized between games in the Game Parameters section below.\n",
      "\n",
      "A core objective of this game is a balanced strategy of exploration and exploitation. It is recommended to explore more in the first match or two before leveraging gained knowledge about the map and opponent behavior to win the latter matches.\n",
      "\n",
      "Map\n",
      "The map is a randomly generated 2D grid of size 24x24. There are several core features that make up the map: Empty Tiles, Asteroid Tiles, Nebula Tiles, Energy Nodes, and Relic Nodes. Notably, in a game, the map is never regenerated completely between matches. Whatever is the state of the map at the end of one match is what is used for the next match.\n",
      "\n",
      "Empty Tiles\n",
      "These are empty tiles in space without anything special about them. Units and nodes can be placed/move onto these tiles.\n",
      "\n",
      "Asteroid Tiles\n",
      "Asteroid tiles are impassable tiles that block anything from moving/spawning onto them. These tiles might move around over time during the map in a symmetric fashion. Sometimes asteroid tiles might move on top of existing units. In the game the unit is not removed as a result of this and can still take actions and move around provided there is an non asteroid tile adjacent to it.\n",
      "\n",
      "Nebula Tiles\n",
      "Nebula tiles are passable tiles with a number of features. These tiles might move around over time during the map in a symmetric fashion.\n",
      "\n",
      "Vision Reduction: Nebula tiles can reduce/block vision of units. Because of vision reduction it is even possible for a unit to be unable to see itself while still being able to move! See Vision section below for more details on how team vision is determined. All nebula tiles have the same vision reduction value called params.nebula_tile_vision_reduction which is randomized from 0 to 3.\n",
      "\n",
      "Energy Reduction: Nebula tiles can reduce the energy of units that end their turn on them. All nebula tiles have the same energy reduction value called params.nebula_tile_energy_reduction.\n",
      "\n",
      "Energy Nodes\n",
      "Energy nodes are mysterious objects that emit energy fields which can be harvested by units. These nodes might move around over time during the map in a symmetric fashion. In code, what actually occurs in each game is energy nodes are randomly generated on the map symmetrically and a random function is generated for each node. Each energy node's function is a function of distance. The energy value of a tile on a map is determined to be the sum of the energy node functions applied to the distance between tile and each node.\n",
      "\n",
      "Relic Nodes\n",
      "Relic nodes are objects in space that enable ships to go near it to gain team points. These relic nodes however are ancient and thus fragmented. As a result, only certain tiles near the relic nodes when a friendly ship is on it will gain points. The tiles that yield points are always hidden and can only be discovered by trial and error by moving around the relic nodes. Relic node positions themselves can be observed if withins sensor range. The tiles around relic nodes can overlap with tiles of other relic nodes but will not yield extra points if that occurs and is treated as one tile.\n",
      "\n",
      "In code, a random 5x5 configuration / mask centered on the relic node is generated indicating which tiles yield points and which don't. Multiple ships can stack on one tile but will only yield at most one point per tile. Note that ship stacking can be risky due to the sapping action (See Sap Actions section below).\n",
      "\n",
      "Units\n",
      "Units in the game are ships that can move one tile in 5 directions (center, up, right, down, left) and perform a ranged energy sapping action. Units can overlap with other friendly units if they move onto the same tile. Units have a energy property which determines whether they can perform actions and start with 100 energy and can have a max of 400 energy. Energy is recharged via the energy field of the map. They always spawn on one of the two corners of the map depending on which team they are on.\n",
      "\n",
      "Note that nebula tiles and energy fields can modify the energy of a unit when it is on that tile. However they can never reduce the energy of a unit below 0, only opposing units can do that which will then remove the unit from the game to be respawned at a later timestep. Unit IDs range from 0 to params.max_units - 1 for each team, and are recycled when units are spawned in if a previous one was removed.\n",
      "\n",
      "Move Actions\n",
      "All move actions except moving center cost params.unit_move_cost energy to perform. Moving center is always free (a zero action). Attempting to move off the edge of the map results in no movement occuring but energy is still consumed. Units cannot move onto tiles with an impassible feature like an asteroid tile.\n",
      "\n",
      "Sap Actions\n",
      "The sap action lets a unit target a specific tile on the map within a range called params.unit_sap_range and reduces the energy of each opposition unit on the target tile by params.unit_sap_cost while also costing unit_sap_cost energy to use. Moreover, any opposition units on the 8 adjacent tiles to the target tile are also sapped and their energy is reduced by params.unit_sap_cost * params.unit_sap_dropoff_factor.\n",
      "\n",
      "Sap actions are submitted to the game engine / environment as a delta x and delta y value relative to the unit's current position. The delta x and delta y value magnitudes must both be <= params.unit_sap_range, so the sap range is a square around the unit.\n",
      "\n",
      "Generally sap actions are risky since a single miss means your ships lose energy while the opponent does not. The area of effect can mitigate this risk somewhat depending on game parameters. Sap actions can however prove very valuable when opposition ships are heavily stacked and get hit as sapping the stacked tile hits every ship on the tile.\n",
      "\n",
      "Vision\n",
      "A team's vision is the combined vision of all units on that team. Team vision is essentially a boolean mask / matrix over the 2D map indicating whether that tile's information is visible to the team. In this game, you can think of each unit having an \"eye in the sky\" sattelite that is capturing information about the units surroundings, but this sattelite has reduced accuracy the farther away the tile is from the unit.\n",
      "\n",
      "To determine which map tiles are visible to a team, we compute a vision power value for each tile on the map. For each unit on a team, we check each tile within the unit's sensor range and add 1 + params.unit_sensor_range - min(dx, dy) to the vision power map at tile (x+dx, y+dy) where (x,y) is the unit's position and (dx, dy) is the offset from the unit's position and abs(dx) <= params.unit_sensor_range and abs(dy) <= params.unit_sensor_range.\n",
      "\n",
      "Nebula tiles have a vision reduction value of params.nebula_tile_vision_reduction. This number is reduced from every tile's vision power if that tile is a nebula tile.\n",
      "\n",
      "For example, naturally without any nebula tiles the vision power values look like below and create a square of visibility around the unit.\n",
      "\n",
      "\n",
      "\n",
      "When a unit is near a nebula tile, it can't see details about some nebula tiles, but it can see tiles beyond nebula tiles. Here the unit has a sensor range of 2 and the nebula tile vision reduction value is 2. It can see itself since the vision power centered at the unit is 3, but it can't see other nebula tiles since they are too far or the nebula tile vision reduction reduces the vision power to 0 or less.\n",
      "\n",
      "\n",
      "\n",
      "When a unit is inside a nebula tile, if the nebula vision reduction is powerful enough (here the nebula vision reduction is 3, unit sensor range is 2), the unit cannot even see itself or any other nebula tiles.\n",
      "\n",
      "\n",
      "\n",
      "Unit vision can overlap and increase the vision power linearly, which can help handle the situations like above when you cannot see anything. Below the nebula vision reduction is 3 and the unit sensor range is 2, and now some of the nebula tiles are visible thanks to the overlapping vision of two units.\n",
      "\n",
      "\n",
      "\n",
      "Collisions / Energy Void Fields\n",
      "In close quarters, units can impact each other in two ways, via direct collisions or by being adjacent to each other and sapping energy via their energy void fields.\n",
      "\n",
      "In the event of two or more units from opposing teams occupy the same tile at the end of a turn, the team with the highest aggregate energy among its units on that tile survive, while the units of the opposing teams are removed from the game. If it is a tie, all units are removed from the game.\n",
      "\n",
      "Furthermore, each unit generates an \"energy void\" field around itself that affects all cardinally (up, right, down left) adjacent opposition units. To determine how exactly each unit is affected by these energy void fields, we compute a 2D map for each team indicating the energy void strength at each tile. A unit contributes to tiles adjacent to itself a energy void strength equal to the total amount of energy the unit has at the start of the turn multiplied by params.unit_energy_void_factor rounded down. After a energy void map is computed for each team, a unit's energy is reduced by the energy void strength of the tile it is on divided by the total number of units on that tile. Note that units removed due to collisions do not contribute to the energy void field.\n",
      "\n",
      "The energy void fields generally encourage stacking units to better spread out energy sapped by energy void fields of opposition units.\n",
      "\n",
      "Win Conditions\n",
      "To win the game, the team must have won the most matches out of the 5 match sequence.\n",
      "\n",
      "To win a match, the team must have gained more relic points than the other team at the end of the match. If the relic points scores are tied, then the match winner is decided by who has more total unit energy. If that is also tied then the winner is chosen at random.\n",
      "\n",
      "Match Resolution Order\n",
      "At each time step of a match, we run the following steps in order:\n",
      "\n",
      "Move all units that have enough energy to move\n",
      "Execute the sap actions of all units that have enough energy to do so\n",
      "Resolve collisions and apply energy void fields\n",
      "Update the energy of all units based on their position (energy fields and nebula tiles)\n",
      "Spawn units for all teams. Remove units that have less than 0 energy.\n",
      "Determine the team vision / sensor masks for all teams and mask out observations accordingly\n",
      "Environment objects like asteroids/nebula tiles/energy nodes move around in space\n",
      "Compute new team points\n",
      "Note that each match runs for params.max_steps_in_match steps and you take that many actions that affect the game. However, you will actually receive params.max_steps_in_match + 1 frames of observations since the very first frame will either be empty or the previous match's final observation (actions on these observations will not do anything).\n",
      "\n",
      "Game Parameters\n",
      "The full set of game parameters can be found here in the codebase.\n",
      "\n",
      "Randomized Game Parameters / Map Generation\n",
      "There are a number of randomized game paramteres which can modify and even disable/enable certain game mechanics. None of these game parameters are changed between matches in a game. The majority of these parameters are also not given to the teams themselves and must be discovered through exploration.\n",
      "\n",
      "env_params_ranges = dict(\n",
      "    map_type=[1],\n",
      "    unit_move_cost=list(range(1, 6)), # list(range(x, y)) = [x, x+1, x+2, ... , y-1]\n",
      "    unit_sensor_range=list(range(2, 5)),\n",
      "    nebula_tile_vision_reduction=list(range(0,4)),\n",
      "    nebula_tile_energy_reduction=[0, 0, 10, 25],\n",
      "    unit_sap_cost=list(range(30, 51)),\n",
      "    unit_sap_range=list(range(3, 8)),\n",
      "    unit_sap_dropoff_factor=[0.25, 0.5, 1],\n",
      "    unit_energy_void_factor=[0.0625, 0.125, 0.25, 0.375],\n",
      "    # map randomizations\n",
      "    nebula_tile_drift_speed=[-0.05, -0.025, 0.025, 0.05],\n",
      "    energy_node_drift_speed=[0.01, 0.02, 0.03, 0.04, 0.05],\n",
      "    energy_node_drift_magnitude=list(range(3, 6))\n",
      ")\n",
      "These parameter ranges (and other parameters) are subject to change in the beta phase of this competition as we gather feedback and data. Maximum possible number of units: 16. Number of matches per game: 5. Number of steps per match: 100. Map height: 24. Map width: 24. Number of teams: 2. Unit move energy cost: 4. Unit sap energy cost: 45. Unit sap range: 3. Unit sensor range: 2. Unit position: -1, -1 means the unit is not spawned yet or not visible. My unit 0 position: -1, -1. My unit 1 position: -1, -1. My unit 2 position: -1, -1. My unit 3 position: -1, -1. My unit 4 position: -1, -1. My unit 5 position: -1, -1. My unit 6 position: -1, -1. My unit 7 position: -1, -1. My unit 8 position: -1, -1. My unit 9 position: -1, -1. My unit 10 position: -1, -1. My unit 11 position: -1, -1. My unit 12 position: -1, -1. My unit 13 position: -1, -1. My unit 14 position: -1, -1. My unit 15 position: -1, -1. Enemy unit 0 position: -1, -1. Enemy unit 1 position: -1, -1. Enemy unit 2 position: -1, -1. Enemy unit 3 position: -1, -1. Enemy unit 4 position: -1, -1. Enemy unit 5 position: -1, -1. Enemy unit 6 position: -1, -1. Enemy unit 7 position: -1, -1. Enemy unit 8 position: -1, -1. Enemy unit 9 position: -1, -1. Enemy unit 10 position: -1, -1. Enemy unit 11 position: -1, -1. Enemy unit 12 position: -1, -1. Enemy unit 13 position: -1, -1. Enemy unit 14 position: -1, -1. Enemy unit 15 position: -1, -1. My unit 0 energy: -1. My unit 1 energy: -1. My unit 2 energy: -1. My unit 3 energy: -1. My unit 4 energy: -1. My unit 5 energy: -1. My unit 6 energy: -1. My unit 7 energy: -1. My unit 8 energy: -1. My unit 9 energy: -1. My unit 10 energy: -1. My unit 11 energy: -1. My unit 12 energy: -1. My unit 13 energy: -1. My unit 14 energy: -1. My unit 15 energy: -1. Enemy unit 0 energy: -1. Enemy unit 1 energy: -1. Enemy unit 2 energy: -1. Enemy unit 3 energy: -1. Enemy unit 4 energy: -1. Enemy unit 5 energy: -1. Enemy unit 6 energy: -1. Enemy unit 7 energy: -1. Enemy unit 8 energy: -1. Enemy unit 9 energy: -1. Enemy unit 10 energy: -1. Enemy unit 11 energy: -1. Enemy unit 12 energy: -1. Enemy unit 13 energy: -1. Enemy unit 14 energy: -1. Enemy unit 15 energy: -1. My unit 0 visibility: False. My unit 1 visibility: False. My unit 2 visibility: False. My unit 3 visibility: False. My unit 4 visibility: False. My unit 5 visibility: False. My unit 6 visibility: False. My unit 7 visibility: False. My unit 8 visibility: False. My unit 9 visibility: False. My unit 10 visibility: False. My unit 11 visibility: False. My unit 12 visibility: False. My unit 13 visibility: False. My unit 14 visibility: False. My unit 15 visibility: False. Enemy unit 0 visibility: False. Enemy unit 1 visibility: False. Enemy unit 2 visibility: False. Enemy unit 3 visibility: False. Enemy unit 4 visibility: False. Enemy unit 5 visibility: False. Enemy unit 6 visibility: False. Enemy unit 7 visibility: False. Enemy unit 8 visibility: False. Enemy unit 9 visibility: False. Enemy unit 10 visibility: False. Enemy unit 11 visibility: False. Enemy unit 12 visibility: False. Enemy unit 13 visibility: False. Enemy unit 14 visibility: False. Enemy unit 15 visibility: False. Sensor mask row 0: False False False False False False False False False False False False\n",
      " False False False False False False False False False False False False. Sensor mask row 1: False False False False False False False False False False False False\n",
      " False False False False False False False False False False False False. Sensor mask row 2: False False False False False False False False False False False False\n",
      " False False False False False False False False False False False False. Sensor mask row 3: False False False False False False False False False False False False\n",
      " False False False False False False False False False False False False. Sensor mask row 4: False False False False False False False False False False False False\n",
      " False False False False False False False False False False False False. Sensor mask row 5: False False False False False False False False False False False False\n",
      " False False False False False False False False False False False False. Sensor mask row 6: False False False False False False False False False False False False\n",
      " False False False False False False False False False False False False. Sensor mask row 7: False False False False False False False False False False False False\n",
      " False False False False False False False False False False False False. Sensor mask row 8: False False False False False False False False False False False False\n",
      " False False False False False False False False False False False False. Sensor mask row 9: False False False False False False False False False False False False\n",
      " False False False False False False False False False False False False. Sensor mask row 10: False False False False False False False False False False False False\n",
      " False False False False False False False False False False False False. Sensor mask row 11: False False False False False False False False False False False False\n",
      " False False False False False False False False False False False False. Sensor mask row 12: False False False False False False False False False False False False\n",
      " False False False False False False False False False False False False. Sensor mask row 13: False False False False False False False False False False False False\n",
      " False False False False False False False False False False False False. Sensor mask row 14: False False False False False False False False False False False False\n",
      " False False False False False False False False False False False False. Sensor mask row 15: False False False False False False False False False False False False\n",
      " False False False False False False False False False False False False. Sensor mask row 16: False False False False False False False False False False False False\n",
      " False False False False False False False False False False False False. Sensor mask row 17: False False False False False False False False False False False False\n",
      " False False False False False False False False False False False False. Sensor mask row 18: False False False False False False False False False False False False\n",
      " False False False False False False False False False False False False. Sensor mask row 19: False False False False False False False False False False False False\n",
      " False False False False False False False False False False False False. Sensor mask row 20: False False False False False False False False False False False False\n",
      " False False False False False False False False False False False False. Sensor mask row 21: False False False False False False False False False False False False\n",
      " False False False False False False False False False False False False. Sensor mask row 22: False False False False False False False False False False False False\n",
      " False False False False False False False False False False False False. Sensor mask row 23: False False False False False False False False False False False False\n",
      " False False False False False False False False False False False False. Map energy row 0: -1 -1 -1 -1 -1 -1 -1 -1 -1 -1 -1 -1 -1 -1 -1 -1 -1 -1 -1 -1 -1 -1 -1 -1. Map energy row 1: -1 -1 -1 -1 -1 -1 -1 -1 -1 -1 -1 -1 -1 -1 -1 -1 -1 -1 -1 -1 -1 -1 -1 -1. Map energy row 2: -1 -1 -1 -1 -1 -1 -1 -1 -1 -1 -1 -1 -1 -1 -1 -1 -1 -1 -1 -1 -1 -1 -1 -1. Map energy row 3: -1 -1 -1 -1 -1 -1 -1 -1 -1 -1 -1 -1 -1 -1 -1 -1 -1 -1 -1 -1 -1 -1 -1 -1. Map energy row 4: -1 -1 -1 -1 -1 -1 -1 -1 -1 -1 -1 -1 -1 -1 -1 -1 -1 -1 -1 -1 -1 -1 -1 -1. Map energy row 5: -1 -1 -1 -1 -1 -1 -1 -1 -1 -1 -1 -1 -1 -1 -1 -1 -1 -1 -1 -1 -1 -1 -1 -1. Map energy row 6: -1 -1 -1 -1 -1 -1 -1 -1 -1 -1 -1 -1 -1 -1 -1 -1 -1 -1 -1 -1 -1 -1 -1 -1. Map energy row 7: -1 -1 -1 -1 -1 -1 -1 -1 -1 -1 -1 -1 -1 -1 -1 -1 -1 -1 -1 -1 -1 -1 -1 -1. Map energy row 8: -1 -1 -1 -1 -1 -1 -1 -1 -1 -1 -1 -1 -1 -1 -1 -1 -1 -1 -1 -1 -1 -1 -1 -1. Map energy row 9: -1 -1 -1 -1 -1 -1 -1 -1 -1 -1 -1 -1 -1 -1 -1 -1 -1 -1 -1 -1 -1 -1 -1 -1. Map energy row 10: -1 -1 -1 -1 -1 -1 -1 -1 -1 -1 -1 -1 -1 -1 -1 -1 -1 -1 -1 -1 -1 -1 -1 -1. Map energy row 11: -1 -1 -1 -1 -1 -1 -1 -1 -1 -1 -1 -1 -1 -1 -1 -1 -1 -1 -1 -1 -1 -1 -1 -1. Map energy row 12: -1 -1 -1 -1 -1 -1 -1 -1 -1 -1 -1 -1 -1 -1 -1 -1 -1 -1 -1 -1 -1 -1 -1 -1. Map energy row 13: -1 -1 -1 -1 -1 -1 -1 -1 -1 -1 -1 -1 -1 -1 -1 -1 -1 -1 -1 -1 -1 -1 -1 -1. Map energy row 14: -1 -1 -1 -1 -1 -1 -1 -1 -1 -1 -1 -1 -1 -1 -1 -1 -1 -1 -1 -1 -1 -1 -1 -1. Map energy row 15: -1 -1 -1 -1 -1 -1 -1 -1 -1 -1 -1 -1 -1 -1 -1 -1 -1 -1 -1 -1 -1 -1 -1 -1. Map energy row 16: -1 -1 -1 -1 -1 -1 -1 -1 -1 -1 -1 -1 -1 -1 -1 -1 -1 -1 -1 -1 -1 -1 -1 -1. Map energy row 17: -1 -1 -1 -1 -1 -1 -1 -1 -1 -1 -1 -1 -1 -1 -1 -1 -1 -1 -1 -1 -1 -1 -1 -1. Map energy row 18: -1 -1 -1 -1 -1 -1 -1 -1 -1 -1 -1 -1 -1 -1 -1 -1 -1 -1 -1 -1 -1 -1 -1 -1. Map energy row 19: -1 -1 -1 -1 -1 -1 -1 -1 -1 -1 -1 -1 -1 -1 -1 -1 -1 -1 -1 -1 -1 -1 -1 -1. Map energy row 20: -1 -1 -1 -1 -1 -1 -1 -1 -1 -1 -1 -1 -1 -1 -1 -1 -1 -1 -1 -1 -1 -1 -1 -1. Map energy row 21: -1 -1 -1 -1 -1 -1 -1 -1 -1 -1 -1 -1 -1 -1 -1 -1 -1 -1 -1 -1 -1 -1 -1 -1. Map energy row 22: -1 -1 -1 -1 -1 -1 -1 -1 -1 -1 -1 -1 -1 -1 -1 -1 -1 -1 -1 -1 -1 -1 -1 -1. Map energy row 23: -1 -1 -1 -1 -1 -1 -1 -1 -1 -1 -1 -1 -1 -1 -1 -1 -1 -1 -1 -1 -1 -1 -1 -1. Map node type row 0: -1 -1 -1 -1 -1 -1 -1 -1 -1 -1 -1 -1 -1 -1 -1 -1 -1 -1 -1 -1 -1 -1 -1 -1. Map node type row 1: -1 -1 -1 -1 -1 -1 -1 -1 -1 -1 -1 -1 -1 -1 -1 -1 -1 -1 -1 -1 -1 -1 -1 -1. Map node type row 2: -1 -1 -1 -1 -1 -1 -1 -1 -1 -1 -1 -1 -1 -1 -1 -1 -1 -1 -1 -1 -1 -1 -1 -1. Map node type row 3: -1 -1 -1 -1 -1 -1 -1 -1 -1 -1 -1 -1 -1 -1 -1 -1 -1 -1 -1 -1 -1 -1 -1 -1. Map node type row 4: -1 -1 -1 -1 -1 -1 -1 -1 -1 -1 -1 -1 -1 -1 -1 -1 -1 -1 -1 -1 -1 -1 -1 -1. Map node type row 5: -1 -1 -1 -1 -1 -1 -1 -1 -1 -1 -1 -1 -1 -1 -1 -1 -1 -1 -1 -1 -1 -1 -1 -1. Map node type row 6: -1 -1 -1 -1 -1 -1 -1 -1 -1 -1 -1 -1 -1 -1 -1 -1 -1 -1 -1 -1 -1 -1 -1 -1. Map node type row 7: -1 -1 -1 -1 -1 -1 -1 -1 -1 -1 -1 -1 -1 -1 -1 -1 -1 -1 -1 -1 -1 -1 -1 -1. Map node type row 8: -1 -1 -1 -1 -1 -1 -1 -1 -1 -1 -1 -1 -1 -1 -1 -1 -1 -1 -1 -1 -1 -1 -1 -1. Map node type row 9: -1 -1 -1 -1 -1 -1 -1 -1 -1 -1 -1 -1 -1 -1 -1 -1 -1 -1 -1 -1 -1 -1 -1 -1. Map node type row 10: -1 -1 -1 -1 -1 -1 -1 -1 -1 -1 -1 -1 -1 -1 -1 -1 -1 -1 -1 -1 -1 -1 -1 -1. Map node type row 11: -1 -1 -1 -1 -1 -1 -1 -1 -1 -1 -1 -1 -1 -1 -1 -1 -1 -1 -1 -1 -1 -1 -1 -1. Map node type row 12: -1 -1 -1 -1 -1 -1 -1 -1 -1 -1 -1 -1 -1 -1 -1 -1 -1 -1 -1 -1 -1 -1 -1 -1. Map node type row 13: -1 -1 -1 -1 -1 -1 -1 -1 -1 -1 -1 -1 -1 -1 -1 -1 -1 -1 -1 -1 -1 -1 -1 -1. Map node type row 14: -1 -1 -1 -1 -1 -1 -1 -1 -1 -1 -1 -1 -1 -1 -1 -1 -1 -1 -1 -1 -1 -1 -1 -1. Map node type row 15: -1 -1 -1 -1 -1 -1 -1 -1 -1 -1 -1 -1 -1 -1 -1 -1 -1 -1 -1 -1 -1 -1 -1 -1. Map node type row 16: -1 -1 -1 -1 -1 -1 -1 -1 -1 -1 -1 -1 -1 -1 -1 -1 -1 -1 -1 -1 -1 -1 -1 -1. Map node type row 17: -1 -1 -1 -1 -1 -1 -1 -1 -1 -1 -1 -1 -1 -1 -1 -1 -1 -1 -1 -1 -1 -1 -1 -1. Map node type row 18: -1 -1 -1 -1 -1 -1 -1 -1 -1 -1 -1 -1 -1 -1 -1 -1 -1 -1 -1 -1 -1 -1 -1 -1. Map node type row 19: -1 -1 -1 -1 -1 -1 -1 -1 -1 -1 -1 -1 -1 -1 -1 -1 -1 -1 -1 -1 -1 -1 -1 -1. Map node type row 20: -1 -1 -1 -1 -1 -1 -1 -1 -1 -1 -1 -1 -1 -1 -1 -1 -1 -1 -1 -1 -1 -1 -1 -1. Map node type row 21: -1 -1 -1 -1 -1 -1 -1 -1 -1 -1 -1 -1 -1 -1 -1 -1 -1 -1 -1 -1 -1 -1 -1 -1. Map node type row 22: -1 -1 -1 -1 -1 -1 -1 -1 -1 -1 -1 -1 -1 -1 -1 -1 -1 -1 -1 -1 -1 -1 -1 -1. Map node type row 23: -1 -1 -1 -1 -1 -1 -1 -1 -1 -1 -1 -1 -1 -1 -1 -1 -1 -1 -1 -1 -1 -1 -1 -1. Relic node position: -1, -1 means the relic node is not yet discoverd. Relic node 0 position: -1, -1. Relic node 1 position: -1, -1. Relic node 2 position: -1, -1. Relic node 3 position: -1, -1. Relic node 4 position: -1, -1. Relic node 5 position: -1, -1. Relic node 0 visibility: False. Relic node 1 visibility: False. Relic node 2 visibility: False. Relic node 3 visibility: False. Relic node 4 visibility: False. Relic node 5 visibility: False. My current point for this match is: 0. Enemy current point for this match is: 0. I have won 0 matches. Enemy has won 0 matches. This is step 0 of the game. This is step 0 of the match. Enemy spawn location: not yet discovered. I'm at position (0,0). My unit 0 energy: -1. My unit 1 energy: -1. My unit 2 energy: -1. My unit 3 energy: -1. My unit 4 energy: -1. My unit 5 energy: -1. My unit 6 energy: -1. My unit 7 energy: -1. My unit 8 energy: -1. My unit 9 energy: -1. My unit 10 energy: -1. My unit 11 energy: -1. My unit 12 energy: -1. My unit 13 energy: -1. My unit 14 energy: -1. My unit 15 energy: -1. My unit 16 energy: -1. My unit 17 energy: -1. My unit 18 energy: -1. My unit 19 energy: -1. My unit 20 energy: -1. My unit 21 energy: -1. My unit 22 energy: -1. My unit 23 energy: -1. My unit 24 energy: -1. My unit 25 energy: -1. My unit 26 energy: -1. My unit 27 energy: -1. My unit 28 energy: -1. My unit 29 energy: -1. My unit 30 energy: -1. My unit 31 energy: -1. My unit 32 energy: -1. My unit 33 energy: -1. My unit 34 energy: -1. My unit 35 energy: -1. My unit 36 energy: -1. My unit 37 energy: -1. My unit 38 energy: -1. My unit 39 energy: -1. My unit 40 energy: -1. My unit 41 energy: -1. My unit 42 energy: -1. My unit 43 energy: -1. My unit 44 energy: -1. My unit 45 energy: -1. My unit 46 energy: -1. My unit 47 energy: -1. My unit 48 energy: -1. My unit 49 energy: -1. My unit 50 energy: -1. My unit 51 energy: -1. My unit 52 energy: -1. My unit 53 energy: -1. My unit 54 energy: -1. My unit 55 energy: -1. My unit 56 energy: -1. My unit 57 energy: -1. My unit 58 energy: -1. My unit 59 energy: -1. My unit 60 energy: -1. My unit 61 energy: -1. My unit 62 energy: -1. My unit 63 energy: -1. My unit 64 energy: -1. My unit 65 energy: -1. My unit 66 energy: -1. My unit 67 energy: -1. My unit 68 energy: -1. My unit 69 energy: -1. My unit 70 energy: -1. My unit 71 energy: -1. My unit 72 energy: -1. My unit 73 energy: -1. My unit 74 energy: -1. My unit 75 energy: -1. My unit 76 energy: -1. My unit 77 energy: -1. My unit 78 energy: -1. My unit 79 energy: -1. My unit 80 energy: -1. My unit 81 energy: -1. My unit 82 energy: -1. My unit 83 energy: -1. My unit 84 energy: -1. My unit 85 energy: -1. My unit 86 energy: -1. My unit 87 energy: -1. My unit 88 energy: -1. My unit 89 energy: -1. My unit 90 energy: -1. My unit 91 energy: -1. My unit 92 energy: -1. My unit 93 energy: -1. My unit 94 energy: -1. My unit 95 energy: -1. My unit 96 energy: -1. My unit 97 energy: -1. My unit 98 energy: -1. My unit 99 energy: -1. My unit 100 energy: -1. My unit 101 energy: -1. My unit 102 energy: -1. My unit 103 energy: -1. My unit 104 energy: -1. My unit 105 energy: -1. My unit 106 energy: -1. My unit 107 energy: -1. My unit 108 energy: -1. My unit 109 energy: -1. My unit 110 energy: -1. My unit 111 energy: -1. My unit 112 energy: -1. My unit 113 energy: -1. My unit 114 energy: -1. My unit 115 energy: -1. My unit 116 energy: -1. My unit 117 energy: -1. My unit 118 energy: -1. My unit 119 energy: -1. My unit 120 energy: -1. My unit 121 energy: -1. My unit 122 energy: -1. My unit 123 energy: -1. My unit 124 energy: -1. My unit 125 energy: -1. My unit 126 energy: -1. My unit 127 energy: -1. My unit 128 energy: -1. My unit 129 energy: -1. My unit 130 energy: -1. My unit 131 energy: -1. My unit 132 energy: -1. My unit 133 energy: -1. My unit 134 energy: -1. My unit 135 energy: -1. My unit 136 energy: -1. My unit 137 energy: -1. My unit 138 energy: -1. My unit 139 energy: -1. My unit 140 energy: -1. My unit 141 energy: -1. My unit 142 energy: -1. My unit 143 energy: -1. My unit 144 energy: -1. My unit 145 energy: -1. My unit 146 energy: -1. My unit 147 energy: -1. My unit 148 energy: -1. My unit 149 energy: -1. My unit 150 energy: -1. My unit 151 energy: -1. My unit 152 energy: -1. My unit 153 energy: -1. My unit 154 energy: -1. My unit 155 energy: -1. My unit 156 energy: -1. My unit 157 energy: -1. My unit 158 energy: -1. My unit 159 energy: -1. My unit 160 energy: -1. My unit 161 energy: -1. My unit 162 energy: -1. My unit 163 energy: -1. My unit 164 energy: -1. My unit 165 energy: -1. My unit 166 energy: -1. My unit 167 energy: -1. My unit 168 energy: -1. My unit 169 energy: -1. My unit 170 energy: -1. My unit 171 energy: -1. My unit 172 energy: -1. My unit 173 energy: -1. My unit 174 energy: -1. My unit 175 energy: -1. My unit 176 energy: -1. My unit 177 energy: -1. My unit 178 energy: -1. My unit 179 energy: -1. My unit 180 energy: -1. My unit 181 energy: -1. My unit 182 energy: -1. My unit 183 energy: -1. My unit 184 energy: -1. My unit 185 energy: -1. My unit 186 energy: -1. My unit 187 energy: -1. My unit 188 energy: -1. My unit 189 energy: -1. My unit 190 energy: -1. My unit 191 energy: -1. My unit 192 energy: -1. My unit 193 energy: -1. My unit 194 energy: -1. My unit 195 energy: -1. My unit 196 energy: -1. My unit 197 energy: -1. My unit 198 energy: -1. My unit 199 energy: -1. My unit 200 energy: -1. My unit 201 energy: -1. My unit 202 energy: -1. My unit 203 energy: -1. My unit 204 energy: -1. My unit 205 energy: -1. My unit 206 energy: -1. My unit 207 energy: -1. My unit 208 energy: -1. My unit 209 energy: -1. My unit 210 energy: -1. My unit 211 energy: -1. My unit 212 energy: -1. My unit 213 energy: -1. My unit 214 energy: -1. My unit 215 energy: -1. My unit 216 energy: -1. My unit 217 energy: -1. My unit 218 energy: -1. My unit 219 energy: -1. My unit 220 energy: -1. My unit 221 energy: -1. My unit 222 energy: -1. My unit 223 energy: -1. My unit 224 energy: -1. My unit 225 energy: -1. My unit 226 energy: -1. My unit 227 energy: -1. My unit 228 energy: -1. My unit 229 energy: -1. My unit 230 energy: -1. My unit 231 energy: -1. My unit 232 energy: -1. My unit 233 energy: -1. My unit 234 energy: -1. My unit 235 energy: -1. My unit 236 energy: -1. My unit 237 energy: -1. My unit 238 energy: -1. My unit 239 energy: -1. My unit 240 energy: -1. My unit 241 energy: -1. My unit 242 energy: -1. My unit 243 energy: -1. My unit 244 energy: -1. My unit 245 energy: -1. My unit 246 energy: -1. My unit 247 energy: -1. My unit 248 energy: -1. My unit 249 energy: -1. My unit 250 energy: -1. My unit 251 energy: -1. My unit 252 energy: -1. My unit 253 energy: -1. My unit 254 energy: -1. My unit 255 energy: -1. My unit 256 energy: -1. My unit 257 energy: -1. My unit 258 energy: -1. My unit 259 energy: -1. My unit 260 energy: -1. My unit 261 energy: -1. My unit 262 energy: -1. My unit 263 energy: -1. My unit 264 energy: -1. My unit 265 energy: -1. My unit 266 energy: -1. My unit 267 energy: -1. My unit 268 energy: -1. My unit 269 energy: -1. My unit 270 energy: -1. My unit 271 energy: -1. My unit 272 energy: -1. My unit 273 energy: -1. My unit 274 energy: -1. My unit 275 energy: -1. My unit 276 energy: -1. My unit 277 energy: -1. My unit 278 energy: -1. My unit 279 energy: -1. My unit 280 energy: -1. My unit 281 energy: -1. My unit 282 energy: -1. My unit 283 energy: -1. My unit 284 energy: -1. My unit 285 energy: -1. My unit 286 energy: -1. My unit 287 energy: -1. My unit 288 energy: -1. My unit 289 energy: -1. My unit 290 energy: -1. My unit 291 energy: -1. My unit 292 energy: -1. My unit 293 energy: -1. My unit 294 energy: -1. My unit 295 energy: -1. My unit 296 energy: -1. My unit 297 energy: -1. My unit 298 energy: -1. My unit 299 energy: -1. My unit 300 energy: -1. My unit 301 energy: -1. My unit 302 energy: -1. My unit 303 energy: -1. My unit 304 energy: -1. My unit 305 energy: -1. My unit 306 energy: -1. My unit 307 energy: -1. My unit 308 energy: -1. My unit 309 energy: -1. My unit 310 energy: -1. My unit 311 energy: -1. My unit 312 energy: -1. My unit 313 energy: -1. My unit 314 energy: -1. My unit 315 energy: -1. My unit 316 energy: -1. My unit 317 energy: -1. My unit 318 energy: -1. My unit 319 energy: -1. My unit 320 energy: -1. My unit 321 energy: -1. My unit 322 energy: -1. My unit 323 energy: -1. My unit 324 energy: -1. My unit 325 energy: -1. My unit 326 energy: -1. My unit 327 energy: -1. My unit 328 energy: -1. My unit 329 energy: -1. My unit 330 energy: -1. My unit 331 energy: -1. My unit 332 energy: -1. My unit 333 energy: -1. My unit 334 energy: -1. My unit 335 energy: -1. My unit 336 energy: -1. My unit 337 energy: -1. My unit 338 energy: -1. My unit 339 energy: -1. My unit 340 energy: -1. My unit 341 energy: -1. My unit 342 energy: -1. My unit 343 energy: -1. My unit 344 energy: -1. My unit 345 energy: -1. My unit 346 energy: -1. My unit 347 energy: -1. My unit 348 energy: -1. My unit 349 energy: -1. My unit 350 energy: -1. My unit 351 energy: -1. My unit 352 energy: -1. My unit 353 energy: -1. My unit 354 energy: -1. My unit 355 energy: -1. My unit 356 energy: -1. My unit 357 energy: -1. My unit 358 energy: -1. My unit 359 energy: -1. My unit 360 energy: -1. My unit 361 energy: -1. My unit 362 energy: -1. My unit 363 energy: -1. My unit 364 energy: -1. My unit 365 energy: -1. My unit 366 energy: -1. My unit 367 energy: -1. My unit 368 energy: -1. My unit 369 energy: -1. My unit 370 energy: -1. My unit 371 energy: -1. My unit 372 energy: -1. My unit 373 energy: -1. My unit 374 energy: -1. My unit 375 energy: -1. My unit 376 energy: -1. My unit 377 energy: -1. My unit 378 energy: -1. My unit 379 energy: -1. My unit 380 energy: -1. My unit 381 energy: -1. My unit 382 energy: -1. My unit 383 energy: -1. My unit 384 energy: -1. My unit 385 energy: -1. My unit 386 energy: -1. My unit 387 energy: -1. My unit 388 energy: -1. My unit 389 energy: -1. My unit 390 energy: -1. My unit 391 energy: -1. My unit 392 energy: -1. My unit 393 energy: -1. My unit 394 energy: -1. My unit 395 energy: -1. My unit 396 energy: -1. My unit 397 energy: -1. My unit 398 energy: -1. My unit 399 energy: -1. My unit 400 energy: -1. My unit 401 energy: -1. My unit 402 energy: -1. My unit 403 energy: -1. My unit 404 energy: -1. My unit 405 energy: -1. My unit 406 energy: -1. My unit 407 energy: -1. My unit 408 energy: -1. My unit 409 energy: -1. My unit 410 energy: -1. My unit 411 energy: -1. My unit 412 energy: -1. My unit 413 energy: -1. My unit 414 energy: -1. My unit 415 energy: -1. My unit 416 energy: -1. My unit 417 energy: -1. My unit 418 energy: -1. My unit 419 energy: -1. My unit 420 energy: -1. My unit 421 energy: -1. My unit 422 energy: -1. My unit 423 energy: -1. My unit 424 energy: -1. My unit 425 energy: -1. My unit 426 energy: -1. My unit 427 energy: -1. My unit 428 energy: -1. My unit 429 energy: -1. My unit 430 energy: -1. My unit 431 energy: -1. My unit 432 energy: -1. My unit 433 energy: -1. My unit 434 energy: -1. My unit 435 energy: -1. My unit 436 energy: -1. My unit 437 energy: -1. My unit 438 energy: -1. My unit 439 energy: -1. My unit 440 energy: -1. My unit 441 energy: -1. My unit 442 energy: -1. My unit 443 energy: -1. My unit 444 energy: -1. My unit 445 energy: -1. My unit 446 energy: -1. My unit 447 energy: -1. My unit 448 energy: -1. My unit 449 energy: -1. My unit 450 energy: -1. My unit 451 energy: -1. My unit 452 energy: -1. My unit 453 energy: -1. My unit 454 energy: -1. My unit 455 energy: -1. My unit 456 energy: -1. My unit 457 energy: -1. My unit 458 energy: -1. My unit 459 energy: -1. My unit 460 energy: -1. My unit 461 energy: -1. My unit 462 energy: -1. My unit 463 energy: -1. My unit 464 energy: -1. My unit 465 energy: -1. My unit 466 energy: -1. My unit 467 energy: -1. My unit 468 energy: -1. My unit 469 energy: -1. My unit 470 energy: -1. My unit 471 energy: -1. My unit 472 energy: -1. My unit 473 energy: -1. My unit 474 energy: -1. My unit 475 energy: -1. My unit 476 energy: -1. My unit 477 energy: -1. My unit 478 energy: -1. My unit 479 energy: -1. My unit 480 energy: -1. My unit 481 energy: -1. My unit 482 energy: -1. My unit 483 energy: -1. My unit 484 energy: -1. My unit 485 energy: -1. My unit 486 energy: -1. My unit 487 energy: -1. My unit 488 energy: -1. My unit 489 energy: -1. My unit 490 energy: -1. My unit 491 energy: -1. My unit 492 energy: -1. My unit 493 energy: -1. My unit 494 energy: -1. My unit 495 energy: -1. My unit 496 energy: -1. My unit 497 energy: -1. My unit 498 energy: -1. My unit 499 energy: -1. My unit 500 energy: -1. My unit 501 energy: -1. My unit 502 energy: -1. My unit 503 energy: -1. My unit 504 energy: -1. My unit 505 energy: -1. My unit 506 energy: -1. My unit 507 energy: -1. My unit 508 energy: -1. My unit 509 energy: -1. My unit 510 energy: -1. My unit 511 energy: -1. My unit 512 energy: -1. My unit 513 energy: -1. My unit 514 energy: -1. My unit 515 energy: -1. My unit 516 energy: -1. My unit 517 energy: -1. My unit 518 energy: -1. My unit 519 energy: -1. My unit 520 energy: -1. My unit 521 energy: -1. My unit 522 energy: -1. My unit 523 energy: -1. My unit 524 energy: -1. My unit 525 energy: -1. My unit 526 energy: -1. My unit 527 energy: -1. My unit 528 energy: -1. My unit 529 energy: -1. My unit 530 energy: -1. My unit 531 energy: -1. My unit 532 energy: -1. My unit 533 energy: -1. My unit 534 energy: -1. My unit 535 energy: -1. My unit 536 energy: -1. My unit 537 energy: -1. My unit 538 energy: -1. My unit 539 energy: -1. My unit 540 energy: -1. My unit 541 energy: -1. My unit 542 energy: -1. My unit 543 energy: -1. My unit 544 energy: -1. My unit 545 energy: -1. My unit 546 energy: -1. My unit 547 energy: -1. My unit 548 energy: -1. My unit 549 energy: -1. My unit 550 energy: -1. My unit 551 energy: -1. My unit 552 energy: -1. My unit 553 energy: -1. My unit 554 energy: -1. My unit 555 energy: -1. My unit 556 energy: -1. My unit 557 energy: -1. My unit 558 energy: -1. My unit 559 energy: -1. My unit 560 energy: -1. My unit 561 energy: -1. My unit 562 energy: -1. My unit 563 energy: -1. My unit 564 energy: -1. My unit 565 energy: -1. My unit 566 energy: -1. My unit 567 energy: -1. My unit 568 energy: -1. My unit 569 energy: -1. My unit 570 energy: -1. My unit 571 energy: -1. My unit 572 energy: -1. My unit 573 energy: -1. My unit 574 energy: -1. My unit 575 energy: -1. My unit 576 energy: -1. My unit 577 energy: -1. My unit 578 energy: -1. My unit 579 energy: -1. My unit 580 energy: -1. My unit 581 energy: -1. My unit 582 energy: -1. My unit 583 energy: -1. My unit 584 energy: -1. My unit 585 energy: -1. My unit 586 energy: -1. My unit 587 energy: -1. My unit 588 energy: -1. My unit 589 energy: -1. My unit 590 energy: -1. My unit 591 energy: -1. My unit 592 energy: -1. My unit 593 energy: -1. My unit 594 energy: -1. My unit 595 energy: -1. My unit 596 energy: -1. My unit 597 energy: -1. My unit 598 energy: -1. My unit 599 energy: -1. My unit 600 energy: -1. My unit 601 energy: -1. My unit 602 energy: -1. My unit 603 energy: -1. My unit 604 energy: -1. My unit 605 energy: -1. My unit 606 energy: -1. My unit 607 energy: -1. My unit 608 energy: -1. My unit 609 energy: -1. My unit 610 energy: -1. My unit 611 energy: -1. My unit 612 energy: -1. My unit 613 energy: -1. My unit 614 energy: -1. My unit 615 energy: -1. My unit 616 energy: -1. My unit 617 energy: -1. My unit 618 energy: -1. My unit 619 energy: -1. My unit 620 energy: -1. My unit 621 energy: -1. My unit 622 energy: -1. My unit 623 energy: -1. My unit 624 energy: -1. My unit 625 energy: -1. My unit 626 energy: -1. My unit 627 energy: -1. My unit 628 energy: -1. My unit 629 energy: -1. My unit 630 energy: -1. My unit 631 energy: -1. My unit 632 energy: -1. My unit 633 energy: -1. My unit 634 energy: -1. My unit 635 energy: -1. My unit 636 energy: -1. My unit 637 energy: -1. My unit 638 energy: -1. My unit 639 energy: -1. My unit 640 energy: -1. My unit 641 energy: -1. My unit 642 energy: -1. My unit 643 energy: -1. My unit 644 energy: -1. My unit 645 energy: -1. My unit 646 energy: -1. My unit 647 energy: -1. My unit 648 energy: -1. My unit 649 energy: -1. My unit 650 energy: -1. My unit 651 energy: -1. My unit 652 energy: -1. My unit 653 energy: -1. My unit 654 energy: -1. My unit 655 energy: -1. My unit 656 energy: -1. My unit 657 energy: -1. My unit 658 energy: -1. My unit 659 energy: -1. My unit 660 energy: -1. My unit 661 energy: -1. My unit 662 energy: -1. My unit 663 energy: -1. My unit 664 energy: -1. My unit 665 energy: -1. My unit 666 energy: -1. My unit 667 energy: -1. My unit 668 energy: -1. My unit 669 energy: -1. My unit 670 energy: -1. My unit 671 energy: -1. My unit 672 energy: -1. My unit 673 energy: -1. My unit 674 energy: -1. My unit 675 energy: -1. My unit 676 energy: -1. My unit 677 energy: -1. My unit 678 energy: -1. My unit 679 energy: -1. My unit 680 energy: -1. My unit 681 energy: -1. My unit 682 energy: -1. My unit 683 energy: -1. My unit 684 energy: -1. My unit 685 energy: -1. My unit 686 energy: -1. My unit 687 energy: -1. My unit 688 energy: -1. My unit 689 energy: -1. My unit 690 energy: -1. My unit 691 energy: -1. My unit 692 energy: -1. My unit 693 energy: -1. My unit 694 energy: -1. My unit 695 energy: -1. My unit\n"
     ]
    }
   ],
   "source": [
    "inputs = tokenizer(game_rules_and_input, return_tensors=\"pt\").to(model.device)\n",
    "\n",
    "# ✅ Optimized generation parameters\n",
    "generated_output = model.generate(\n",
    "    **inputs,\n",
    "    max_new_tokens=inputs['input_ids'].shape[1],\n",
    "    pad_token_id=tokenizer.pad_token_id,\n",
    "    #do_sample=True,\n",
    "    temperature=0.6,\n",
    "    #top_k=50,\n",
    "    #top_p=0.9,\n",
    "    #use_cache=True  # ✅ Enable KV caching for faster generation\n",
    ")\n",
    "\n",
    "# ✅ Efficient decoding\n",
    "response = tokenizer.decode(generated_output[0], skip_special_tokens=True)\n",
    "print(response)"
   ]
  },
  {
   "cell_type": "code",
   "execution_count": null,
   "id": "fa3764c6",
   "metadata": {},
   "outputs": [],
   "source": []
  },
  {
   "cell_type": "code",
   "execution_count": null,
   "id": "9261adff",
   "metadata": {},
   "outputs": [],
   "source": []
  },
  {
   "cell_type": "code",
   "execution_count": null,
   "id": "936c5c35",
   "metadata": {},
   "outputs": [],
   "source": []
  },
  {
   "cell_type": "code",
   "execution_count": null,
   "id": "cbfdf4ad",
   "metadata": {},
   "outputs": [],
   "source": []
  },
  {
   "cell_type": "code",
   "execution_count": null,
   "id": "7b47dd44",
   "metadata": {},
   "outputs": [],
   "source": []
  },
  {
   "cell_type": "code",
   "execution_count": null,
   "id": "53b703bd",
   "metadata": {},
   "outputs": [],
   "source": []
  },
  {
   "cell_type": "code",
   "execution_count": null,
   "id": "023ed054",
   "metadata": {},
   "outputs": [],
   "source": []
  },
  {
   "cell_type": "code",
   "execution_count": null,
   "id": "ae38e050",
   "metadata": {},
   "outputs": [],
   "source": []
  },
  {
   "cell_type": "code",
   "execution_count": null,
   "id": "0aa9eedd",
   "metadata": {},
   "outputs": [],
   "source": []
  },
  {
   "cell_type": "code",
   "execution_count": null,
   "id": "f16e8d69",
   "metadata": {},
   "outputs": [],
   "source": []
  },
  {
   "cell_type": "code",
   "execution_count": null,
   "id": "ff024928",
   "metadata": {},
   "outputs": [],
   "source": []
  },
  {
   "cell_type": "code",
   "execution_count": null,
   "id": "1877cb44-5429-4a5a-b709-c5b5737bd3c3",
   "metadata": {},
   "outputs": [],
   "source": [
    "model_name = \"deepseek-ai/DeepSeek-R1-Distill-Qwen-1.5B\"\n",
    "\n",
    "# ✅ Load tokenizer\n",
    "tokenizer = AutoTokenizer.from_pretrained(model_name)\n",
    "\n",
    "# ✅ Ensure pad token is set correctly\n",
    "tokenizer.pad_token = tokenizer.eos_token\n",
    "\n",
    "# ✅ Optimized quantization configuration\n",
    "bnb_config = BitsAndBytesConfig(\n",
    "    load_in_4bit=True,\n",
    "    bnb_4bit_compute_dtype=torch.bfloat16,\n",
    "    bnb_4bit_quant_type=\"nf4\",\n",
    "    bnb_4bit_use_double_quant=True  # ✅ Add nested quantization for better memory usage\n",
    ")\n",
    "\n",
    "# ✅ Load model with proper device placement\n",
    "model = AutoModelForCausalLM.from_pretrained(\n",
    "    model_name,\n",
    "    trust_remote_code=True,\n",
    "    device_map=\"auto\",  # Let Accelerate handle device placement\n",
    "    #quantization_config=bnb_config,\n",
    "    torch_dtype=torch.bfloat16,\n",
    ")"
   ]
  },
  {
   "cell_type": "code",
   "execution_count": null,
   "id": "e2ed0615",
   "metadata": {},
   "outputs": [],
   "source": [
    "for name, param in model.named_parameters():\n",
    "    print(f\"Layer: {name}, Data Type: {param.dtype}\")\n",
    "    break  # Checking one layer is usually sufficient"
   ]
  },
  {
   "cell_type": "code",
   "execution_count": null,
   "id": "4ce99f7d",
   "metadata": {},
   "outputs": [],
   "source": []
  },
  {
   "cell_type": "code",
   "execution_count": null,
   "id": "a7c7ac8c",
   "metadata": {},
   "outputs": [],
   "source": []
  },
  {
   "cell_type": "code",
   "execution_count": null,
   "id": "34e47d28",
   "metadata": {},
   "outputs": [],
   "source": []
  },
  {
   "cell_type": "code",
   "execution_count": null,
   "id": "613bd9ea",
   "metadata": {},
   "outputs": [],
   "source": []
  },
  {
   "cell_type": "code",
   "execution_count": null,
   "id": "6c34d417",
   "metadata": {},
   "outputs": [],
   "source": []
  },
  {
   "cell_type": "code",
   "execution_count": null,
   "id": "1b8688f4",
   "metadata": {},
   "outputs": [],
   "source": []
  },
  {
   "cell_type": "code",
   "execution_count": null,
   "id": "197e9a9b",
   "metadata": {},
   "outputs": [],
   "source": []
  },
  {
   "cell_type": "code",
   "execution_count": null,
   "id": "7589a4a6",
   "metadata": {},
   "outputs": [],
   "source": []
  },
  {
   "cell_type": "code",
   "execution_count": null,
   "id": "c9d50d20-2fcc-4db3-8166-6eb055d81284",
   "metadata": {},
   "outputs": [],
   "source": [
    "model.device"
   ]
  },
  {
   "cell_type": "code",
   "execution_count": null,
   "id": "dc0a8343",
   "metadata": {},
   "outputs": [],
   "source": [
    "# Load and prep dataset\n",
    "\n",
    "SYSTEM_PROMPT = \"\"\"\n",
    "Respond in the following format:\n",
    "<reasoning>\n",
    "...\n",
    "</reasoning>\n",
    "<answer>\n",
    "...\n",
    "</answer>\n",
    "\"\"\"\n",
    "\n",
    "XML_COT_FORMAT = \"\"\"\\\n",
    "<reasoning>\n",
    "{reasoning}\n",
    "</reasoning>\n",
    "<answer>\n",
    "{answer}\n",
    "</answer>\n",
    "\"\"\""
   ]
  },
  {
   "cell_type": "code",
   "execution_count": null,
   "id": "31555066",
   "metadata": {},
   "outputs": [],
   "source": []
  },
  {
   "cell_type": "code",
   "execution_count": null,
   "id": "5748155e",
   "metadata": {},
   "outputs": [],
   "source": []
  },
  {
   "cell_type": "code",
   "execution_count": null,
   "id": "49292129",
   "metadata": {},
   "outputs": [],
   "source": []
  },
  {
   "cell_type": "code",
   "execution_count": null,
   "id": "a6c72358",
   "metadata": {},
   "outputs": [],
   "source": []
  },
  {
   "cell_type": "code",
   "execution_count": null,
   "id": "eaae5454",
   "metadata": {},
   "outputs": [],
   "source": []
  },
  {
   "cell_type": "code",
   "execution_count": null,
   "id": "55403f3f",
   "metadata": {},
   "outputs": [],
   "source": []
  },
  {
   "cell_type": "code",
   "execution_count": null,
   "id": "460c5aac-d16a-4500-8d87-9149cf8935b5",
   "metadata": {
    "scrolled": true
   },
   "outputs": [],
   "source": [
    "max_new_tokens = 1024\n",
    "\n",
    "# ✅ Optimized input preparation\n",
    "prompt = \"hello\"\n",
    "inputs = tokenizer(prompt, return_tensors=\"pt\").to(model.device)\n",
    "\n",
    "# ✅ Optimized generation parameters\n",
    "generated_output = model.generate(\n",
    "    **inputs,\n",
    "    max_new_tokens=max_new_tokens,\n",
    "    pad_token_id=tokenizer.pad_token_id,\n",
    "    do_sample=True,\n",
    "    temperature=0.7,\n",
    "    top_k=50,\n",
    "    top_p=0.9,\n",
    "    use_cache=True  # ✅ Enable KV caching for faster generation\n",
    ")\n",
    "\n",
    "# ✅ Efficient decoding\n",
    "response = tokenizer.decode(generated_output[0], skip_special_tokens=True)\n",
    "print(response)"
   ]
  },
  {
   "cell_type": "code",
   "execution_count": null,
   "id": "19586766-d435-4779-989f-0283d8aff2fe",
   "metadata": {
    "scrolled": true
   },
   "outputs": [],
   "source": [
    "max_new_tokens = 1024\n",
    "\n",
    "# ✅ Optimized input preparation\n",
    "prompt = \"can you tell what these mean? sensor_mask: '[[False False False False False False False False False False False False False False False False False False False False False False False False]\\n [False False False False False False False False False False False False False False False False False False False False False False False False]\\n [False False False False False False False False False False False False False False False False False False False False False False False False]\\n [False False False False False False False False False False False False False False False False False False False False False False False False]\\n [False False False False False False False False False False False False False False False False False False False False False False False False]\\n [False False False False False False False False False False False False False False False False False False False False False False False False]\\n [False False False False False False False False False False False False False False False False False False False False False False False False]\\n [False False False False False False False False False False False False False False False False False False False False False False False False]\\n [False False False False False False False False False False False False False False False False False False False False False False False False]\\n [False False False False False False False False False False False False False False False False False False False False False False False False]\\n [False False False False False False False False False False False False False False False False False False False False False False False False]\\n [False False False False False False False False False False False False False False False False False False False False False False False False]\\n [False False False False False False False False False False False False False False False False False False False False False False False False]\\n [False False False False False False False False False False False False False False False False False False False False False False False False]\\n [False False False False False False False False False False False False False False False False False False False False False False False False]\\n [False False False False False False False False False False False False False False False False False False False False False False False False]\\n [False False False False False False False False False False False False False False False False False False False False False False False False]\\n [False False False False False False False False False False False False False False False False False False False False False False False False]\\n [False False False False False False False False False False False False False False False False False False False False False False False False]\\n [False False False False False False False False False False False False False False False False False False False False False False False False]\\n [False False False False False False False False False False False False False False False False False False False False False False False False]\\n [False False False False False False False False False False False False False False False False False False False False False False False False]\\n [False False False False False False False False False False False False False False False False False False False False False False False False]\\n [False False False False False False False False False False False False False False False False False False False False False False False False]]', map_features_energy: '[[-1 -1 -1 -1 -1 -1 -1 -1 -1 -1 -1 -1 -1 -1 -1 -1 -1 -1 -1 -1 -1 -1 -1 -1]\\n [-1 -1 -1 -1 -1 -1 -1 -1 -1 -1 -1 -1 -1 -1 -1 -1 -1 -1 -1 -1 -1 -1 -1 -1]\\n [-1 -1 -1 -1 -1 -1 -1 -1 -1 -1 -1 -1 -1 -1 -1 -1 -1 -1 -1 -1 -1 -1 -1 -1]\\n [-1 -1 -1 -1 -1 -1 -1 -1 -1 -1 -1 -1 -1 -1 -1 -1 -1 -1 -1 -1 -1 -1 -1 -1]\\n [-1 -1 -1 -1 -1 -1 -1 -1 -1 -1 -1 -1 -1 -1 -1 -1 -1 -1 -1 -1 -1 -1 -1 -1]\\n [-1 -1 -1 -1 -1 -1 -1 -1 -1 -1 -1 -1 -1 -1 -1 -1 -1 -1 -1 -1 -1 -1 -1 -1]\\n [-1 -1 -1 -1 -1 -1 -1 -1 -1 -1 -1 -1 -1 -1 -1 -1 -1 -1 -1 -1 -1 -1 -1 -1]\\n [-1 -1 -1 -1 -1 -1 -1 -1 -1 -1 -1 -1 -1 -1 -1 -1 -1 -1 -1 -1 -1 -1 -1 -1]\\n [-1 -1 -1 -1 -1 -1 -1 -1 -1 -1 -1 -1 -1 -1 -1 -1 -1 -1 -1 -1 -1 -1 -1 -1]\\n [-1 -1 -1 -1 -1 -1 -1 -1 -1 -1 -1 -1 -1 -1 -1 -1 -1 -1 -1 -1 -1 -1 -1 -1]\\n [-1 -1 -1 -1 -1 -1 -1 -1 -1 -1 -1 -1 -1 -1 -1 -1 -1 -1 -1 -1 -1 -1 -1 -1]\\n [-1 -1 -1 -1 -1 -1 -1 -1 -1 -1 -1 -1 -1 -1 -1 -1 -1 -1 -1 -1 -1 -1 -1 -1]\\n [-1 -1 -1 -1 -1 -1 -1 -1 -1 -1 -1 -1 -1 -1 -1 -1 -1 -1 -1 -1 -1 -1 -1 -1]\\n [-1 -1 -1 -1 -1 -1 -1 -1 -1 -1 -1 -1 -1 -1 -1 -1 -1 -1 -1 -1 -1 -1 -1 -1]\\n [-1 -1 -1 -1 -1 -1 -1 -1 -1 -1 -1 -1 -1 -1 -1 -1 -1 -1 -1 -1 -1 -1 -1 -1]\\n [-1 -1 -1 -1 -1 -1 -1 -1 -1 -1 -1 -1 -1 -1 -1 -1 -1 -1 -1 -1 -1 -1 -1 -1]\\n [-1 -1 -1 -1 -1 -1 -1 -1 -1 -1 -1 -1 -1 -1 -1 -1 -1 -1 -1 -1 -1 -1 -1 -1]\\n [-1 -1 -1 -1 -1 -1 -1 -1 -1 -1 -1 -1 -1 -1 -1 -1 -1 -1 -1 -1 -1 -1 -1 -1]\\n [-1 -1 -1 -1 -1 -1 -1 -1 -1 -1 -1 -1 -1 -1 -1 -1 -1 -1 -1 -1 -1 -1 -1 -1]\\n [-1 -1 -1 -1 -1 -1 -1 -1 -1 -1 -1 -1 -1 -1 -1 -1 -1 -1 -1 -1 -1 -1 -1 -1]\\n [-1 -1 -1 -1 -1 -1 -1 -1 -1 -1 -1 -1 -1 -1 -1 -1 -1 -1 -1 -1 -1 -1 -1 -1]\\n [-1 -1 -1 -1 -1 -1 -1 -1 -1 -1 -1 -1 -1 -1 -1 -1 -1 -1 -1 -1 -1 -1 -1 -1]\\n [-1 -1 -1 -1 -1 -1 -1 -1 -1 -1 -1 -1 -1 -1 -1 -1 -1 -1 -1 -1 -1 -1 -1 -1]\\n [-1 -1 -1 -1 -1 -1 -1 -1 -1 -1 -1 -1 -1 -1 -1 -1 -1 -1 -1 -1 -1 -1 -1 -1]]'\"\n",
    "inputs = tokenizer(prompt, return_tensors=\"pt\").to(model.device)\n",
    "\n",
    "# ✅ Optimized generation parameters\n",
    "generated_output = model.generate(\n",
    "    **inputs,\n",
    "    max_new_tokens=max_new_tokens,\n",
    "    pad_token_id=tokenizer.pad_token_id,\n",
    "    do_sample=True,\n",
    "    temperature=0.7,\n",
    "    top_k=50,\n",
    "    top_p=0.9,\n",
    "    use_cache=True  # ✅ Enable KV caching for faster generation\n",
    ")\n",
    "\n",
    "# ✅ Efficient decoding\n",
    "response = tokenizer.decode(generated_output[0], skip_special_tokens=True)\n",
    "print(response)"
   ]
  },
  {
   "cell_type": "code",
   "execution_count": null,
   "id": "e068f129-818b-4091-b500-3e7b72bfc9c9",
   "metadata": {},
   "outputs": [],
   "source": [
    "max_new_tokens = 1024\n",
    "\n",
    "# ✅ Optimized input preparation\n",
    "prompt = \"what the fuck is going on bitch ass\"\n",
    "inputs = tokenizer(prompt, return_tensors=\"pt\").to(model.device)"
   ]
  },
  {
   "cell_type": "code",
   "execution_count": null,
   "id": "be7e03ec-8602-400a-b94b-b39cb8f82bc4",
   "metadata": {},
   "outputs": [],
   "source": [
    "type(inputs)"
   ]
  },
  {
   "cell_type": "code",
   "execution_count": null,
   "id": "fea883a4-2d64-4f02-89a0-aa01deeeea79",
   "metadata": {
    "scrolled": true
   },
   "outputs": [],
   "source": [
    "dir(inputs)"
   ]
  },
  {
   "cell_type": "code",
   "execution_count": null,
   "id": "38eddb26-27d4-457d-b415-9e8473a0e04a",
   "metadata": {},
   "outputs": [],
   "source": [
    "inputs.values()"
   ]
  },
  {
   "cell_type": "code",
   "execution_count": null,
   "id": "75c763bb-51d0-4241-81a6-c35337fcc738",
   "metadata": {},
   "outputs": [],
   "source": [
    "model"
   ]
  },
  {
   "cell_type": "code",
   "execution_count": null,
   "id": "457cc788-ce92-43e7-b7c3-e5d238fa6265",
   "metadata": {},
   "outputs": [],
   "source": []
  },
  {
   "cell_type": "code",
   "execution_count": null,
   "id": "841a08f6-81f3-459e-8337-1af5eb0c6cc6",
   "metadata": {},
   "outputs": [],
   "source": []
  },
  {
   "cell_type": "code",
   "execution_count": null,
   "id": "9aed7f0b-2be2-4e37-b842-1923b6935137",
   "metadata": {},
   "outputs": [],
   "source": []
  },
  {
   "cell_type": "code",
   "execution_count": null,
   "id": "a34db086-71d1-44bc-82e3-14074984a8c6",
   "metadata": {},
   "outputs": [],
   "source": []
  },
  {
   "cell_type": "code",
   "execution_count": null,
   "id": "b6d944a8-6c36-46eb-b790-613061b102bd",
   "metadata": {},
   "outputs": [],
   "source": []
  },
  {
   "cell_type": "code",
   "execution_count": null,
   "id": "31ad9362-e231-48d1-87ed-7af279400967",
   "metadata": {},
   "outputs": [],
   "source": [
    "# ✅ Optimized generation parameters\n",
    "generated_output = model.generate(\n",
    "    **inputs,\n",
    "    max_new_tokens=max_new_tokens,\n",
    "    pad_token_id=tokenizer.pad_token_id,\n",
    "    do_sample=True,\n",
    "    temperature=0.7,\n",
    "    top_k=50,\n",
    "    top_p=0.9,\n",
    "    use_cache=True  # ✅ Enable KV caching for faster generation\n",
    ")\n",
    "\n",
    "# ✅ Efficient decoding\n",
    "response = tokenizer.decode(generated_output[0], skip_special_tokens=True)\n",
    "print(response)"
   ]
  },
  {
   "cell_type": "code",
   "execution_count": null,
   "id": "be242f5a-3e7b-45df-a926-a442aba6f4db",
   "metadata": {},
   "outputs": [],
   "source": []
  },
  {
   "cell_type": "code",
   "execution_count": null,
   "id": "89c7846a-2d5d-4574-b742-58509ae74279",
   "metadata": {},
   "outputs": [],
   "source": []
  },
  {
   "cell_type": "code",
   "execution_count": null,
   "id": "7cb1ecc7-dc91-46bd-95eb-b895304b8ce9",
   "metadata": {},
   "outputs": [],
   "source": []
  },
  {
   "cell_type": "code",
   "execution_count": null,
   "id": "f1ddbbd1-6e5b-4dac-93e4-3ec45ae04760",
   "metadata": {},
   "outputs": [],
   "source": []
  },
  {
   "cell_type": "code",
   "execution_count": null,
   "id": "5d3fa800-4c12-4822-ae4c-8db709ae074d",
   "metadata": {},
   "outputs": [],
   "source": []
  },
  {
   "cell_type": "code",
   "execution_count": null,
   "id": "9f4cb935-62ae-4ac4-b5ec-1966082b8284",
   "metadata": {},
   "outputs": [],
   "source": []
  },
  {
   "cell_type": "code",
   "execution_count": null,
   "id": "120ca722-d63e-4f64-bb86-690d1f6f54d7",
   "metadata": {},
   "outputs": [],
   "source": []
  },
  {
   "cell_type": "code",
   "execution_count": null,
   "id": "481b3b74-60c8-4015-b285-7e659971e521",
   "metadata": {},
   "outputs": [],
   "source": []
  },
  {
   "cell_type": "code",
   "execution_count": null,
   "id": "31ae532c-d220-4127-9290-b20dc7bcf5a9",
   "metadata": {},
   "outputs": [],
   "source": []
  },
  {
   "cell_type": "code",
   "execution_count": null,
   "id": "6b0c5535-3f48-451e-b8a2-1b748cd832d8",
   "metadata": {},
   "outputs": [],
   "source": []
  },
  {
   "cell_type": "code",
   "execution_count": null,
   "id": "243054f3-9ab6-4dc6-a628-bde4910958b2",
   "metadata": {},
   "outputs": [],
   "source": []
  },
  {
   "cell_type": "code",
   "execution_count": null,
   "id": "9918f5c7-e3e7-4e2c-b86e-ccc01b87d150",
   "metadata": {},
   "outputs": [],
   "source": []
  },
  {
   "cell_type": "code",
   "execution_count": null,
   "id": "975d0102-9972-4dc9-8716-4f6638d3ad50",
   "metadata": {},
   "outputs": [],
   "source": []
  },
  {
   "cell_type": "code",
   "execution_count": null,
   "id": "9427647e-df15-456f-855d-9aaaa6828c83",
   "metadata": {},
   "outputs": [],
   "source": []
  },
  {
   "cell_type": "code",
   "execution_count": null,
   "id": "c89f676c-5f16-4965-9657-46b4fbded45d",
   "metadata": {},
   "outputs": [],
   "source": []
  },
  {
   "cell_type": "code",
   "execution_count": null,
   "id": "19ad7a8e-4cb2-40b9-afc4-de639e7059eb",
   "metadata": {},
   "outputs": [],
   "source": []
  },
  {
   "cell_type": "code",
   "execution_count": null,
   "id": "2184b058-3d84-4379-95e5-18ab8e8e4c2e",
   "metadata": {},
   "outputs": [],
   "source": []
  },
  {
   "cell_type": "code",
   "execution_count": null,
   "id": "b93bd5a9-b78a-4eda-bdeb-59a724dddafe",
   "metadata": {},
   "outputs": [],
   "source": []
  },
  {
   "cell_type": "code",
   "execution_count": null,
   "id": "69f68a7d-459a-48b5-9e93-ac0103f4d936",
   "metadata": {},
   "outputs": [],
   "source": []
  },
  {
   "cell_type": "code",
   "execution_count": null,
   "id": "7f13303f-22ee-4b4c-851e-75714cbf555c",
   "metadata": {},
   "outputs": [],
   "source": []
  },
  {
   "cell_type": "code",
   "execution_count": null,
   "id": "6d5d8cfb-1cca-46cf-b94d-f22c33cb88be",
   "metadata": {},
   "outputs": [],
   "source": []
  },
  {
   "cell_type": "code",
   "execution_count": null,
   "id": "4d018c3f-084e-48d6-a882-c3aac39876dc",
   "metadata": {},
   "outputs": [],
   "source": []
  },
  {
   "cell_type": "code",
   "execution_count": null,
   "id": "f95461ca-5ab9-44d6-8d63-b02a0fab089e",
   "metadata": {},
   "outputs": [],
   "source": []
  },
  {
   "cell_type": "code",
   "execution_count": null,
   "id": "6ec87edc-3f53-4739-b123-7bca805c01f0",
   "metadata": {},
   "outputs": [],
   "source": []
  },
  {
   "cell_type": "code",
   "execution_count": null,
   "id": "10be4ff5-b0f6-416f-87da-98a850adba46",
   "metadata": {},
   "outputs": [],
   "source": []
  },
  {
   "cell_type": "code",
   "execution_count": null,
   "id": "100bfd23-1311-44de-a814-d5e9c8ffedee",
   "metadata": {},
   "outputs": [],
   "source": []
  },
  {
   "cell_type": "code",
   "execution_count": null,
   "id": "20baf732-d7fc-46ec-9d1d-a6867d376cda",
   "metadata": {},
   "outputs": [],
   "source": []
  },
  {
   "cell_type": "code",
   "execution_count": null,
   "id": "89b3306e-f954-41f4-84fe-4f9aeada433b",
   "metadata": {},
   "outputs": [],
   "source": []
  },
  {
   "cell_type": "code",
   "execution_count": null,
   "id": "7b51eef1-6d52-481d-8105-3217f6a5cad1",
   "metadata": {},
   "outputs": [],
   "source": []
  },
  {
   "cell_type": "code",
   "execution_count": null,
   "id": "b4588df5-0c02-4edb-8f58-ea3611a07e60",
   "metadata": {},
   "outputs": [],
   "source": []
  }
 ],
 "metadata": {
  "kaggle": {
   "accelerator": "none",
   "dataSources": [
    {
     "databundleVersionId": 10395677,
     "sourceId": 86411,
     "sourceType": "competition"
    }
   ],
   "isGpuEnabled": false,
   "isInternetEnabled": true,
   "language": "python",
   "sourceType": "notebook"
  },
  "kernelspec": {
   "display_name": ".venv",
   "language": "python",
   "name": "python3"
  },
  "language_info": {
   "codemirror_mode": {
    "name": "ipython",
    "version": 3
   },
   "file_extension": ".py",
   "mimetype": "text/x-python",
   "name": "python",
   "nbconvert_exporter": "python",
   "pygments_lexer": "ipython3",
   "version": "3.12.8"
  },
  "papermill": {
   "default_parameters": {},
   "duration": 143.048125,
   "end_time": "2024-12-26T20:02:43.573801",
   "environment_variables": {},
   "exception": null,
   "input_path": "__notebook__.ipynb",
   "output_path": "__notebook__.ipynb",
   "parameters": {},
   "start_time": "2024-12-26T20:00:20.525676",
   "version": "2.6.0"
  }
 },
 "nbformat": 4,
 "nbformat_minor": 5
}
