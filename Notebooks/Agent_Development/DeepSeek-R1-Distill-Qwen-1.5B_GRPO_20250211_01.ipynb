{
 "cells": [
  {
   "cell_type": "code",
   "execution_count": 1,
   "id": "52958575",
   "metadata": {},
   "outputs": [
    {
     "name": "stdout",
     "output_type": "stream",
     "text": [
      "INFO 02-12 17:12:43 __init__.py:190] Automatically detected platform cuda.\n"
     ]
    }
   ],
   "source": [
    "import re\n",
    "import torch\n",
    "from transformers import AutoTokenizer, AutoModelForCausalLM, BitsAndBytesConfig, AutoConfig\n",
    "from trl import GRPOConfig, GRPOTrainer\n",
    "import luxai_s3\n",
    "from luxai_s3.wrappers import LuxAIS3GymEnv, RecordEpisode\n",
    "from luxai_s3.params import EnvParams\n",
    "import numpy as np\n",
    "from datasets import load_dataset, Dataset\n",
    "from peft import LoraConfig, get_peft_model\n",
    "import os\n",
    "from accelerate import infer_auto_device_map\n",
    "\n",
    "#from stable_baselines3 import PPO\n",
    "#import gymnasium as gym\n",
    "#import gym"
   ]
  },
  {
   "cell_type": "code",
   "execution_count": 2,
   "id": "afcf8610",
   "metadata": {},
   "outputs": [],
   "source": [
    "os.environ[\"PYTORCH_CUDA_ALLOC_CONF\"] = \"expandable_segments:True\"\n",
    "torch.backends.cuda.matmul.allow_tf32 = True\n",
    "torch.backends.cudnn.allow_tf32 = True\n",
    "os.environ[\"FLASH_ATTENTION\"] = \"1\"\n",
    "torch._dynamo.config.capture_scalar_outputs = True\n",
    "torch._dynamo.config.cache_size_limit = 64\n",
    "np.set_printoptions(linewidth=200)"
   ]
  },
  {
   "cell_type": "code",
   "execution_count": 3,
   "id": "c971a92b",
   "metadata": {},
   "outputs": [],
   "source": [
    "data = load_dataset('openai/gsm8k', 'main')"
   ]
  },
  {
   "cell_type": "code",
   "execution_count": 4,
   "id": "97761178",
   "metadata": {},
   "outputs": [
    {
     "data": {
      "text/plain": [
       "Dataset({\n",
       "    features: ['question', 'answer'],\n",
       "    num_rows: 7473\n",
       "})"
      ]
     },
     "execution_count": 4,
     "metadata": {},
     "output_type": "execute_result"
    }
   ],
   "source": [
    "train_data = data['train']\n",
    "train_data"
   ]
  },
  {
   "cell_type": "code",
   "execution_count": 5,
   "id": "4dc0e296",
   "metadata": {},
   "outputs": [
    {
     "data": {
      "text/plain": [
       "7473"
      ]
     },
     "execution_count": 5,
     "metadata": {},
     "output_type": "execute_result"
    }
   ],
   "source": [
    "train_data.num_rows"
   ]
  },
  {
   "cell_type": "code",
   "execution_count": 6,
   "id": "53f68f97",
   "metadata": {},
   "outputs": [
    {
     "data": {
      "text/plain": [
       "{'question': Value(dtype='string', id=None),\n",
       " 'answer': Value(dtype='string', id=None)}"
      ]
     },
     "execution_count": 6,
     "metadata": {},
     "output_type": "execute_result"
    }
   ],
   "source": [
    "train_data.features"
   ]
  },
  {
   "cell_type": "code",
   "execution_count": 7,
   "id": "6cd15183",
   "metadata": {},
   "outputs": [
    {
     "data": {
      "text/plain": [
       "{'question': 'Natalia sold clips to 48 of her friends in April, and then she sold half as many clips in May. How many clips did Natalia sell altogether in April and May?',\n",
       " 'answer': 'Natalia sold 48/2 = <<48/2=24>>24 clips in May.\\nNatalia sold 48+24 = <<48+24=72>>72 clips altogether in April and May.\\n#### 72'}"
      ]
     },
     "execution_count": 7,
     "metadata": {},
     "output_type": "execute_result"
    }
   ],
   "source": [
    "train_data[0]"
   ]
  },
  {
   "cell_type": "code",
   "execution_count": 8,
   "id": "5d8d0115",
   "metadata": {},
   "outputs": [],
   "source": [
    "# Load and prep dataset\n",
    "\n",
    "SYSTEM_PROMPT = \"\"\"\n",
    "Respond in the following format:\n",
    "<reasoning>\n",
    "...\n",
    "</reasoning>\n",
    "<answer>\n",
    "...\n",
    "</answer>\n",
    "\"\"\"\n",
    "\n",
    "XML_COT_FORMAT = \"\"\"\\\n",
    "<reasoning>\n",
    "{reasoning}\n",
    "</reasoning>\n",
    "<answer>\n",
    "{answer}\n",
    "</answer>\n",
    "\"\"\""
   ]
  },
  {
   "cell_type": "code",
   "execution_count": 9,
   "id": "17f17ee1",
   "metadata": {},
   "outputs": [],
   "source": [
    "def extract_xml_answer(text: str) -> str:\n",
    "    answer = text.split(\"<answer>\")[-1]\n",
    "    answer = answer.split(\"</answer>\")[0]\n",
    "    return answer.strip()\n",
    "\n",
    "def extract_hash_answer(text: str) -> str | None:\n",
    "    if \"####\" not in text:\n",
    "        return None\n",
    "    return text.split(\"####\")[1].strip()\n",
    "\n",
    "# uncomment middle messages for 1-shot prompting\n",
    "def get_gsm8k_questions(split = \"train\") -> Dataset:\n",
    "    data = load_dataset('openai/gsm8k', 'main')[split] # type: ignore\n",
    "    data = data.map(lambda x: { # type: ignore\n",
    "        'prompt': [\n",
    "            {'role': 'system', 'content': SYSTEM_PROMPT},\n",
    "            {'role': 'user', 'content': x['question']}\n",
    "        ],\n",
    "        'answer': extract_hash_answer(x['answer'])\n",
    "    }) # type: ignore\n",
    "    return data # type: ignore\n",
    "\n",
    "dataset = get_gsm8k_questions()"
   ]
  },
  {
   "cell_type": "code",
   "execution_count": 10,
   "id": "fe737742",
   "metadata": {},
   "outputs": [
    {
     "name": "stderr",
     "output_type": "stream",
     "text": [
      "Unused kwargs: ['bnb_8bit_compute_dtype']. These kwargs are not used in <class 'transformers.utils.quantization_config.BitsAndBytesConfig'>.\n"
     ]
    }
   ],
   "source": [
    "model_name = \"deepseek-ai/DeepSeek-R1-Distill-Qwen-1.5B\"\n",
    "\n",
    "# ✅ Load tokenizer\n",
    "tokenizer = AutoTokenizer.from_pretrained(model_name)\n",
    "\n",
    "# ✅ Ensure pad token is set correctly\n",
    "tokenizer.pad_token = tokenizer.eos_token\n",
    "\n",
    "# ✅ Optimized quantization configuration\n",
    "bnb_config = BitsAndBytesConfig(\n",
    "    load_in_4bit=True,\n",
    "    bnb_8bit_compute_dtype=torch.bfloat16,\n",
    "    bnb_4bit_quant_type=\"nf4\",\n",
    "    bnb_4bit_use_double_quant=True  # ✅ Add nested quantization for better memory usage\n",
    ")\n",
    "\n",
    "autoconfig = AutoConfig.from_pretrained(model_name)"
   ]
  },
  {
   "cell_type": "code",
   "execution_count": 11,
   "id": "caaa520d",
   "metadata": {},
   "outputs": [],
   "source": [
    "autoconfig.max_position_embeddings = 23 + 3363 + 4803"
   ]
  },
  {
   "cell_type": "code",
   "execution_count": 12,
   "id": "8ec2f3a3",
   "metadata": {},
   "outputs": [],
   "source": [
    "#from lux.utils import direction_to\n",
    "#import sys\n",
    "import numpy as np\n",
    "\n",
    "answer_format = {'content': '\\nRespond in the following format:\\n<reasoning>\\n...\\n</reasoning>\\n<answer>\\n...\\n</answer>\\n', 'role': 'system'}\n",
    "\n",
    "game_rules = {'content': \n",
    "\"\"\"\n",
    "!!!GAME RULES!!!\n",
    "Environment\n",
    "Two teams compete against each other on a 2D map in a best of 5 match sequence (called a game) with each match lasting 100 time steps. Both teams have a pool of units they can control to gain points around the map while also trying to prevent the other team from doing the same.\n",
    "A core objective of this game is a balanced strategy of exploration and exploitation. It is recommended to explore more in the first match or two before leveraging gained knowledge about the map and opponent behavior to win the latter matches.\n",
    "Map\n",
    "The map is a randomly generated 2D grid of size 24x24. There are several core features that make up the map: Unknown Tiles, Empty Tiles, Asteroid Tiles, Nebula Tiles, Energy Tiles, Relic Nodes, and Relic Fragments. Notably, in a game, the map is never regenerated completely between matches. Whatever is the state of the map at the end of one match is what is used for the next match.\n",
    "Unknown Tiles\n",
    "These are tiles that are not visible. They can be any type of tile but are not visible to you until a unit is within sensor range of that tile.\n",
    "Empty Tiles\n",
    "These are empty tiles in space without anything special about them. Units and tiles can be placed/move onto these tiles.\n",
    "Asteroid Tiles\n",
    "Asteroid tiles are impassable tiles that block anything from moving/spawning onto them. These tiles might move around over time during the map in a symmetric fashion. Sometimes asteroid tiles might move on top of existing units. In the game the unit is not removed as a result of this and can still take actions and move around provided there is an non asteroid tile adjacent to it.\n",
    "Nebula Tiles\n",
    "Nebula tiles are passable tiles with a number of features. These tiles might move around over time during the map in a symmetric fashion.\n",
    "Vision Reduction: Nebula tiles can reduce/block vision of units. Because of vision reduction it is even possible for a unit to be unable to see itself while still being able to move! See Vision section below for more details on how team vision is determined. All nebula tiles have the same vision reduction value called params.nebula_tile_vision_reduction which is randomized from 0 to 3.\n",
    "Energy Reduction: Nebula tiles can reduce the energy of units that end their turn on them. All nebula tiles have the same energy reduction value called params.nebula_tile_energy_reduction.\n",
    "In Map Tile Types, empty tiles are represented by 0, asteroid tiles by 1, nebula tiles by 2, and unknown tiles by -1.\n",
    "Energy Tiles\n",
    "Energy tiles are mysterious objects that emit energy fields which can be harvested by units. These tiles might move around over time during the map in a symmetric fashion. In code, what actually occurs in each game is energy tiles are randomly generated on the map symmetrically and a random function is generated for each tile. Each energy tile's function is a function of distance. The energy value of a tile on a map is determined to be the sum of the energy tile functions applied to the distance between tile and each tile.\n",
    "Relic Nodes\n",
    "Relic nodes are objects in space that enable ships to go near it to gain team points. These relic nodes however are ancient and thus fragmented. As a result, only certain tiles near the relic nodes when a friendly ship is on it will gain points. The tiles that yield points are always hidden and can only be discovered by trial and error by moving around the relic nodes. Relic node positions themselves can be observed if withins sensor range. The tiles around relic nodes can overlap with tiles of other relic nodes but will not yield extra points if that occurs and is treated as one tile.\n",
    "In code, a random 5x5 configuration / mask centered on the relic node is generated indicating which tiles yield points and which don't. Multiple ships can stack on one tile but will only yield at most one point per tile. Note that ship stacking can be risky due to the sapping action.\n",
    "Units\n",
    "Units in the game are ships that can move one tile in 5 directions (center, up, right, down, left) and perform a ranged energy sapping action. Units can overlap with other friendly units if they move onto the same tile. Units have a energy property which determines whether they can perform actions and start with 100 energy and can have a max of 400 energy. Energy is recharged via the energy field of the map. They always spawn on one of the two corners of the map depending on which team they are on.\n",
    "Note that nebula tiles and energy fields can modify the energy of a unit when it is on that tile. However they can never reduce the energy of a unit below 0, only opposing units can do that which will then remove the unit from the game to be respawned at a later timestep. Unit IDs range from 0 to params.max_units - 1 for each team, and are recycled when units are spawned in if a previous one was removed.\n",
    "Move Actions\n",
    "All move actions except moving center cost params.unit_move_cost energy to perform. Moving center is always free (a zero action). Attempting to move off the edge of the map results in no movement occuring but energy is still consumed. Units cannot move onto tiles with an impassible feature like an asteroid tile.\n",
    "Sap Actions\n",
    "The sap action lets a unit target a specific tile on the map within a range called params.unit_sap_range and reduces the energy of each opposition unit on the target tile by params.unit_sap_cost while also costing unit_sap_cost energy to use. Moreover, any opposition units on the 8 adjacent tiles to the target tile are also sapped and their energy is reduced by params.unit_sap_cost * params.unit_sap_dropoff_factor.\n",
    "Sap actions are submitted to the game engine / environment as a delta x and delta y value relative to the unit's current position. The delta x and delta y value magnitudes must both be <= params.unit_sap_range, so the sap range is a square around the unit.\n",
    "Generally sap actions are risky since a single miss means your ships lose energy while the opponent does not. The area of effect can mitigate this risk somewhat depending on game parameters. Sap actions can however prove very valuable when opposition ships are heavily stacked and get hit as sapping the stacked tile hits every ship on the tile.\n",
    "Vision\n",
    "A team's vision is the combined vision of all units on that team. Team vision is essentially a boolean mask / matrix over the 2D map indicating whether that tile's information is visible to the team. In this game, you can think of each unit having an \"eye in the sky\" sattelite that is capturing information about the units surroundings, but this sattelite has reduced accuracy the farther away the tile is from the unit.\n",
    "To determine which map tiles are visible to a team, we compute a vision power value for each tile on the map. For each unit on a team, we check each tile within the unit's sensor range and add 1 + params.unit_sensor_range - min(dx, dy) to the vision power map at tile (x+dx, y+dy) where (x,y) is the unit's position and (dx, dy) is the offset from the unit's position and abs(dx) <= params.unit_sensor_range and abs(dy) <= params.unit_sensor_range.\n",
    "Nebula tiles have a vision reduction value of params.nebula_tile_vision_reduction. This number is reduced from every tile's vision power if that tile is a nebula tile.\n",
    "When a unit is near a nebula tile, it can't see details about some nebula tiles, but it can see tiles beyond nebula tiles.\n",
    "When a unit is inside a nebula tile, if the nebula vision reduction is powerful enough, the unit cannot even see itself or any other nebula tiles.\n",
    "Unit vision can overlap and increase the vision power linearly, which can help handle the situations like above when you cannot see anything.\n",
    "Collisions / Energy Void Fields\n",
    "In close quarters, units can impact each other in two ways, via direct collisions or by being adjacent to each other and sapping energy via their energy void fields.\n",
    "In the event of two or more units from opposing teams occupy the same tile at the end of a turn, the team with the highest aggregate energy among its units on that tile survive, while the units of the opposing teams are removed from the game. If it is a tie, all units are removed from the game.\n",
    "Furthermore, each unit generates an \"energy void\" field around itself that affects all cardinally (up, right, down left) adjacent opposition units. To determine how exactly each unit is affected by these energy void fields, we compute a 2D map for each team indicating the energy void strength at each tile. A unit contributes to tiles adjacent to itself a energy void strength equal to the total amount of energy the unit has at the start of the turn multiplied by params.unit_energy_void_factor rounded down. After a energy void map is computed for each team, a unit's energy is reduced by the energy void strength of the tile it is on divided by the total number of units on that tile. Note that units removed due to collisions do not contribute to the energy void field.\n",
    "The energy void fields generally encourage stacking units to better spread out energy sapped by energy void fields of opposition units.\n",
    "Win Conditions\n",
    "To win the game, the team must have won the most matches out of the 5 match sequence.\n",
    "To win a match, the team must have gained more relic points than the other team at the end of the match. If the relic points scores are tied, then the match winner is decided by who has more total unit energy. If that is also tied then the winner is chosen at random.\n",
    "Match Resolution Order\n",
    "At each time step of a match, we run the following steps in order:\n",
    "1. Move all units that have enough energy to move\n",
    "2. Execute the sap actions of all units that have enough energy to do so\n",
    "3. Resolve collisions and apply energy void fields\n",
    "4. Update the energy of all units based on their position (energy fields and nebula tiles)\n",
    "5. Spawn units for all teams. Remove units that have less than 0 energy.\n",
    "6. Determine the team vision / sensor masks for all teams and mask out observations accordingly\n",
    "7. Environment objects like asteroids/nebula tiles/energy tiles move around in space\n",
    "8. Compute new team points\n",
    "Note that each match runs for params.max_steps_in_match steps and you take that many actions that affect the game. However, you will actually receive params.max_steps_in_match + 1 frames of observations since the very first frame will either be empty or the previous match's final observation (actions on these observations will not do anything).\n",
    "Game Parameters\n",
    "The full set of game parameters can be found here in the codebase.\n",
    "Randomized Game Parameters / Map Generation\n",
    "There are a number of randomized game paramteres which can modify and even disable/enable certain game mechanics. None of these game parameters are changed between matches in a game. The majority of these parameters are also not given to the teams themselves and must be discovered through exploration.\n",
    "env_params_ranges = dict(\n",
    "    map_type=[1],\n",
    "    unit_move_cost=list(range(1, 6)), # list(range(x, y)) = [x, x+1, x+2, ... , y-1]\n",
    "    unit_sensor_range=list(range(2, 5)),\n",
    "    nebula_tile_vision_reduction=list(range(0,4)),\n",
    "    nebula_tile_energy_reduction=[0, 0, 10, 25],\n",
    "    unit_sap_cost=list(range(30, 51)),\n",
    "    unit_sap_range=list(range(3, 8)),\n",
    "    unit_sap_dropoff_factor=[0.25, 0.5, 1],\n",
    "    unit_energy_void_factor=[0.0625, 0.125, 0.25, 0.375],\n",
    "    # map randomizations\n",
    "    nebula_tile_drift_speed=[-0.05, -0.025, 0.025, 0.05],\n",
    "    energy_tile_drift_speed=[0.01, 0.02, 0.03, 0.04, 0.05],\n",
    "    energy_tile_drift_magnitude=list(range(3, 6))\n",
    ")\n",
    "These parameter ranges (and other parameters) are subject to change in the beta phase of this competition as we gather feedback and data.\n",
    "There are 6 actions that can be taken by a unit in this game: 0 = center, 1 = up, 2 = right, 3 = down, 4 = left, 5 = sap.\n",
    "So your answer should be in this format:\n",
    "Unit 0: action(from 0 to 5)\n",
    "Unit 1: action(from 0 to 5)\n",
    "Unit 2: action(from 0 to 5)\n",
    "Unit 3: action(from 0 to 5)\n",
    "Unit 4: action(from 0 to 5)\n",
    "Unit 5: action(from 0 to 5)\n",
    "Unit 6: action(from 0 to 5)\n",
    "Unit 7: action(from 0 to 5)\n",
    "Unit 8: action(from 0 to 5)\n",
    "Unit 9: action(from 0 to 5)\n",
    "Unit 10: action(from 0 to 5)\n",
    "Unit 11: action(from 0 to 5)\n",
    "Unit 12: action(from 0 to 5)\n",
    "Unit 13: action(from 0 to 5)\n",
    "Unit 14: action(from 0 to 5)\n",
    "Unit 15: action(from 0 to 5)\n",
    "However, if you choose to sap(5), you should provide the direction of the sap, which is a pair of integers (dx, dy) where dx and dy are the relative coordinates of the target tile from the unit's current position. The magnitudes of dx and dy must be less than or equal to the unit's sap range. For example, if unit 3 is at (5, 5) and you want to sap the tile at (7, 7), your answer for unit 3 should be 5, 2, 2.\n",
    "Also, you can only take actions for the units that are available to you in the current timestep. If you take an action for a unit that is not available to you, the game engine will ignore that action.\n",
    "Additionally, you can only take one action per unit per timestep. If you take multiple actions for a single unit in a timestep, the game engine will ignore all but the first action.\n",
    "So, below is an example of a valid answer:\n",
    "Unit 0: 1 # move up\n",
    "Unit 1: 2 # move right\n",
    "Unit 2: 5, 2, 2 # sap at (2, 2) relative to unit 2's current position\n",
    "Unit 3: 0 # center\n",
    "Unit 4: 5, 1, 1 # sap at (1, 1) relative to unit 4's current position\n",
    "Unit 5: 5, -1, -2 # sap at (-1, -2) relative to unit 5's current position\n",
    "Unit 6: 5, -2, 2 # sap at (-2, 2) relative to unit 6's current position\n",
    "Unit 7: 5, 0, 0 # sap at (0, 0) relative to unit 7's current position\n",
    "Unit 8: 4 # move left\n",
    "Unit 9: 0 # center\n",
    "Unit 10: 3 # move down\n",
    "Unit 11: 2 # move right\n",
    "Unit 12: 1 # move up\n",
    "Unit 13: 0 # center\n",
    "Unit 14: 5, -4, 5 # sap at (-4, 5) relative to unit 14's current position\n",
    "Unit 15: 5, 3, -3 # sap at (3, -3) relative to unit 15's current position\n",
    "\"\"\"\n",
    ", 'role': 'system'\n",
    "}\n",
    "\n",
    "\n",
    "# Helper functions\n",
    "def manhattan_distance(pos1, pos2):\n",
    "    return abs(pos1[0] - pos2[0]) + abs(pos1[1] - pos2[1])\n",
    "\n",
    "def absolute_distance(pos1, pos2):\n",
    "    return max(abs(pos1[0] - pos2[0]), abs(pos1[1] - pos2[1]))\n",
    "\n",
    "def find_opposite_corner_coords(array, row, col):\n",
    "    \"\"\"\n",
    "    Given a 2D array and a coordinate (row, col), this function returns the opposite corner coordinates.\n",
    "\n",
    "    :param array: 2D list or NumPy array\n",
    "    :param row: Row index of the given point\n",
    "    :param col: Column index of the given point\n",
    "    :return: (row', col') - Opposite corner coordinates\n",
    "    \"\"\"\n",
    "    num_rows = len(array)\n",
    "    num_cols = len(array[0]) if num_rows > 0 else 0\n",
    "\n",
    "    # Opposite coordinates\n",
    "    opp_row = num_rows - 1 - row\n",
    "    opp_col = num_cols - 1 - col\n",
    "\n",
    "    return (opp_row, opp_col)\n",
    "\n",
    "\n",
    "class Agent():\n",
    "    def __init__(self, player: str, env_cfg) -> None:\n",
    "        self.player = player\n",
    "        self.enemy_player = \"player_1\" if self.player == \"player_0\" else \"player_0\"\n",
    "        self.team_id = 0 if self.player == \"player_0\" else 1\n",
    "        self.enemy_team_id = 1 if self.team_id == 0 else 0\n",
    "        #np.random.seed(0)\n",
    "        self.env_cfg = env_cfg\n",
    "        #self.min_unit_sap_dropoff_factor = 1\n",
    "        #self.min_sap_power = self.unit_sap_cost * self.min_unit_sap_dropoff_factor\n",
    "        self.map_height = env_cfg[\"map_height\"]\n",
    "        self.map_width = env_cfg[\"map_width\"]\n",
    "        self.my_spawn_location = None\n",
    "        self.enemy_spawn_location = None\n",
    "        self.first_spawn = False\n",
    "        self.llm_input = None\n",
    "\n",
    "        self.map_explored_status = np.zeros((self.map_height, self.map_width), dtype=int)\n",
    "\n",
    "        model = AutoModelForCausalLM.from_pretrained(\n",
    "            model_name,\n",
    "            trust_remote_code=True,\n",
    "            device_map=\"auto\",  # Let Accelerate handle device placement\n",
    "            #device_map={\"cuda:0\": \"14GiB\", \"cpu\": \"64GiB\"},  # Let Accelerate handle device placement\n",
    "            quantization_config=bnb_config,\n",
    "            torch_dtype=torch.bfloat16,\n",
    "            #config=autoconfig,\n",
    "            attn_implementation=\"flash_attention_2\"\n",
    "        )\n",
    "\n",
    "        # device_map = infer_auto_device_map(model, max_memory={0: \"14GiB\", \"cpu\": \"64GiB\"})\n",
    "\n",
    "        # model = AutoModelForCausalLM.from_pretrained(\n",
    "        #     model_name,\n",
    "        #     trust_remote_code=True,\n",
    "        #     #device_map=\"auto\",  # Let Accelerate handle device placement\n",
    "        #     device_map=device_map,  # Let Accelerate handle device placement\n",
    "        #     quantization_config=bnb_config,\n",
    "        #     torch_dtype=torch.bfloat16,\n",
    "        #     config=autoconfig,\n",
    "        #     attn_implementation=\"flash_attention_2\"\n",
    "        # )\n",
    "\n",
    "        peft_config = LoraConfig(\n",
    "            r=8,\n",
    "            lora_alpha=16,\n",
    "            lora_dropout=0.1,\n",
    "            target_modules=[\"q_proj\", \"v_proj\"],\n",
    "            bias=\"none\",\n",
    "            task_type=\"CAUSAL_LM\"\n",
    "        )\n",
    "        \n",
    "        self.model = get_peft_model(model, peft_config)#.to('cpu')\n",
    "        #self.model.gradient_checkpointing_enable()\n",
    "\n",
    "        # self.relic_node_positions = []\n",
    "        # self.discovered_relic_nodes_ids = set()\n",
    "        # self.unit_explore_locations = dict()\n",
    "\n",
    "    def prep_llm_input(self, env_cfg, obs):\n",
    "\n",
    "        game_state_info = \"\\n!!!GAME STATE INFORMATION!!!\"\n",
    "\n",
    "        ### env_cfg information\n",
    "        env_cfg_info = \"\\nENVIRONMENT CONFIGURATION:\"\n",
    "        max_units = f\"\\nMaximum possible number of units for each team: {env_cfg['max_units']}.\"\n",
    "        match_count_per_episode = f\"\\nNumber of matches per game: {env_cfg['match_count_per_episode']}.\"\n",
    "        max_steps_in_match = f\"\\nNumber of steps per match: {env_cfg['max_steps_in_match']}.\"\n",
    "        map_height = f\"\\nMap height: {env_cfg['map_height']}.\"\n",
    "        map_width = f\"\\nMap width: {env_cfg['map_width']}.\"\n",
    "        num_teams = f\"\\nNumber of teams: {env_cfg['num_teams']}.\"\n",
    "        unit_move_cost = f\"\\nUnit move energy cost: {env_cfg['unit_move_cost']}.\"\n",
    "        unit_sap_cost = f\"\\nUnit sap energy cost: {env_cfg['unit_sap_cost']}.\"\n",
    "        unit_sap_range = f\"\\nUnit sap range: {env_cfg['unit_sap_range']}.\"\n",
    "        unit_sensor_range = f\"\\nUnit sensor range: {env_cfg['unit_sensor_range']}.\"\n",
    "\n",
    "        ### obs information\n",
    "        obs_info = \"\\nOBSERVATION:\"\n",
    "        unit_position_warning = \"\\nUnit position: -1, -1 means the unit is not spawned yet or not visible.\"\n",
    "\n",
    "        # unit positions\n",
    "        unit_position_info = \"\\nUnit Positions:\"\n",
    "        obs_my_unit_positions = obs['units']['position'][self.team_id]\n",
    "        my_unit_positions_list = []\n",
    "        for i in range(obs_my_unit_positions.shape[0]):\n",
    "            pos = obs_my_unit_positions[i]\n",
    "            my_unit_positions_list.append(f\"\\nMy unit {i} position: {pos[0]}, {pos[1]}.\")\n",
    "        my_unit_positions = \"\".join(my_unit_positions_list)\n",
    "\n",
    "        obs_enemy_unit_positions = obs['units']['position'][self.enemy_team_id]\n",
    "        enemy_unit_positions_list = []\n",
    "        for i in range(obs_enemy_unit_positions.shape[0]):\n",
    "            pos = obs_enemy_unit_positions[i]\n",
    "            enemy_unit_positions_list.append(f\"\\nEnemy unit {i} position: {pos[0]}, {pos[1]}.\")\n",
    "        enemy_unit_positions = \"\".join(enemy_unit_positions_list)\n",
    "\n",
    "        # unit energys\n",
    "        unit_energy_info = \"\\nUnit Energys:\"\n",
    "        obs_my_unit_energys = obs['units']['energy'][self.team_id]\n",
    "        my_unit_energys_list = []\n",
    "        for i in range(obs_my_unit_energys.shape[0]):\n",
    "            energy = obs_my_unit_energys[i]\n",
    "            my_unit_energys_list.append(f\"\\nMy unit {i} energy: {energy}.\")\n",
    "        my_unit_energys = \"\".join(my_unit_energys_list)\n",
    "\n",
    "        obs_enemy_unit_energys = obs['units']['energy'][self.enemy_team_id]\n",
    "        enemy_unit_energys_list = []\n",
    "        for i in range(obs_enemy_unit_energys.shape[0]):\n",
    "            energy = obs_enemy_unit_energys[i]\n",
    "            enemy_unit_energys_list.append(f\"\\nEnemy unit {i} energy: {energy}.\")\n",
    "        enemy_unit_energys = \"\".join(enemy_unit_energys_list)\n",
    "\n",
    "        # unit masks\n",
    "        unit_mask_info = \"\\nUnit Visibility:\"\n",
    "        obs_my_units_mask = obs['units_mask'][self.team_id]\n",
    "        my_units_mask_list = []\n",
    "        for i in range(obs_my_units_mask.shape[0]):\n",
    "            mask = obs_my_units_mask[i]\n",
    "            my_units_mask_list.append(f\"\\nMy unit {i} visibility: {mask}.\")\n",
    "        my_units_mask = \"\".join(my_units_mask_list)\n",
    "\n",
    "        obs_enemy_units_mask = obs['units_mask'][self.enemy_team_id]\n",
    "        enemy_units_mask_list = []\n",
    "        for i in range(obs_enemy_units_mask.shape[0]):\n",
    "            mask = obs_enemy_units_mask[i]\n",
    "            enemy_units_mask_list.append(f\"\\nEnemy unit {i} visibility: {mask}.\")\n",
    "        enemy_units_mask = \"\".join(enemy_units_mask_list)\n",
    "\n",
    "        # sensor mask\n",
    "        sensor_mask_info = \"\\nSensor Mask:\"\n",
    "        obs_sensor_mask = obs['sensor_mask']\n",
    "        sensor_mask_list = []\n",
    "        for i in range(obs_sensor_mask.shape[0]):\n",
    "            sensor_mask_list.append(f\"\\nSensor mask row {i}: {str(obs_sensor_mask[i]).replace(\"[\", \"\").replace(\"]\", \"\")}.\")\n",
    "        sensor_mask = \"\".join(sensor_mask_list)\n",
    "\n",
    "        # map features - energy\n",
    "        map_features_energy_info = \"\\nMap Energys:\"\n",
    "        obs_map_features_energy = obs['map_features']['energy']\n",
    "        map_features_energy_list = []\n",
    "        for i in range(obs_map_features_energy.shape[0]):\n",
    "            map_features_energy_list.append(f\"\\nMap energy row {i}: {str(obs_map_features_energy[i]).replace(\"[\", \"\").replace(\"]\", \"\")}.\")\n",
    "        map_features_energy = \"\".join(map_features_energy_list)\n",
    "\n",
    "        # map features - tile_type\n",
    "        map_features_tile_type_info = \"\\nMap Tile Types:\"\n",
    "        obs_map_features_tile_type = obs['map_features']['tile_type']\n",
    "        map_features_tile_type_list = []\n",
    "        for i in range(obs_map_features_tile_type.shape[0]):\n",
    "            map_features_tile_type_list.append(f\"\\nMap tile type row {i}: {str(obs_map_features_tile_type[i]).replace(\"[\", \"\").replace(\"]\", \"\")}.\")\n",
    "        map_features_tile_type = \"\".join(map_features_tile_type_list)\n",
    "\n",
    "        # relic nodes\n",
    "        relic_node_info = \"\\nRelic Node positions:\"\n",
    "        relic_node_warning = \"\\nRelic node position: -1, -1 means the relic node is not yet discoverd.\"\n",
    "        obs_relic_nodes = obs['relic_nodes']\n",
    "        relic_nodes_list = []\n",
    "        for i in range(obs_relic_nodes.shape[0]):\n",
    "            relic_nodes_list.append(f\"\\nRelic node {i} position: {obs_relic_nodes[i][0]}, {obs_relic_nodes[i][1]}.\")\n",
    "        relic_nodes = \"\".join(relic_nodes_list)\n",
    "\n",
    "        # relic nodes mask\n",
    "        relic_node_mask_info = \"\\nRelic Node Visibility:\"\n",
    "        obs_relic_nodes_mask = obs['relic_nodes_mask']\n",
    "        relic_nodes_mask_list = []\n",
    "        for i in range(obs_relic_nodes_mask.shape[0]):\n",
    "            relic_nodes_mask_list.append(f\"\\nRelic node {i} visibility: {obs_relic_nodes_mask[i]}.\")\n",
    "        relic_nodes_mask = \"\".join(relic_nodes_mask_list)\n",
    "\n",
    "        # team points\n",
    "        my_team_points = f\"\\nMy current point for this match is: {obs['team_points'][self.team_id]}.\"\n",
    "        enemy_team_points = f\"\\nEnemy current point for this match is: {obs['team_points'][self.enemy_team_id]}.\"\n",
    "\n",
    "        # team wins\n",
    "        my_team_wins = f\"\\nI have won {obs['team_wins'][self.team_id]} matches.\"\n",
    "        enemy_team_wins = f\"\\nEnemy has won {obs['team_wins'][self.enemy_team_id]} matches.\"\n",
    "\n",
    "        # steps\n",
    "        steps = f\"\\nThis is step {obs['steps']} of the game.\"\n",
    "\n",
    "        # match_steps\n",
    "        match_steps = f\"\\nThis is step {obs['match_steps']} of the match.\"\n",
    "\n",
    "        if self.enemy_spawn_location is None:\n",
    "            enemy_spawn_location_warning = \"\\nEnemy spawn location: not yet discovered.\"\n",
    "        else:\n",
    "            enemy_spawn_location_warning = f\"\\nEnemy spawn location: {self.enemy_spawn_location[0]}, {self.enemy_spawn_location[1]}.\"\n",
    "        \n",
    "        all_variables = \"\".join([\n",
    "            game_state_info, env_cfg_info, max_units, match_count_per_episode, max_steps_in_match, map_height, map_width, num_teams, unit_move_cost, unit_sap_cost, unit_sap_range, unit_sensor_range,\n",
    "            obs_info,\n",
    "            unit_position_warning, unit_position_info, my_unit_positions, enemy_unit_positions,\n",
    "            unit_energy_info, my_unit_energys, enemy_unit_energys,\n",
    "            unit_mask_info, my_units_mask, enemy_units_mask,\n",
    "            sensor_mask_info, sensor_mask,\n",
    "            map_features_energy_info, map_features_energy,\n",
    "            map_features_tile_type_info, map_features_tile_type,\n",
    "            relic_node_info, relic_node_warning, relic_nodes,\n",
    "            relic_node_mask_info, relic_nodes_mask,\n",
    "            my_team_points, enemy_team_points, my_team_wins, enemy_team_wins, steps, match_steps, enemy_spawn_location_warning\n",
    "        ])\n",
    "\n",
    "        return {'content':all_variables, 'role':'user'}\n",
    "\n",
    "    def act(self, step: int, obs, remainingOverageTime: int = 60):\n",
    "        \"\"\"implement this function to decide what actions to send to each available unit. \n",
    "        \n",
    "        step is the current timestep number of the game starting from 0 going up to max_steps_in_match * match_count_per_episode - 1.\n",
    "        \"\"\"\n",
    "\n",
    "        # units\n",
    "        unit_positions = np.array(obs[\"units\"][\"position\"][self.team_id]) # shape (max_units, 2)\n",
    "        # enemy_unit_positions = np.array(obs[\"units\"][\"position\"][self.enemy_team_id]) # shape (max_units, 2)\n",
    "\n",
    "        # unit_energys = np.array(obs[\"units\"][\"energy\"][self.team_id]) # shape (max_units, 1)\n",
    "        # enemy_unit_energys = np.array(obs[\"units\"][\"energy\"][self.enemy_team_id]) # shape (max_units, 1)\n",
    "\n",
    "        # units_mask\n",
    "        unit_mask = np.array(obs[\"units_mask\"][self.team_id]) # shape (max_units, )\n",
    "        # enemy_unit_mask = np.array(obs[\"units_mask\"][self.enemy_team_id]) # shape (max_units, )\n",
    "\n",
    "        # sensor_mask\n",
    "        # sensor_mask = obs['sensor_mask']\n",
    "\n",
    "        # map_features\n",
    "        map_features = obs['map_features']\n",
    "        # current_map_energy = map_features['energy']\n",
    "        current_map_tile_type = map_features['tile_type']\n",
    "\n",
    "        # update map explored status\n",
    "        self.map_explored_status[current_map_tile_type != -1] = 1\n",
    "        \n",
    "        # observed_relic_node_positions = np.array(obs[\"relic_nodes\"]) # shape (max_relic_nodes, 2)\n",
    "        # observed_relic_nodes_mask = np.array(obs[\"relic_nodes_mask\"]) # shape (max_relic_nodes, )\n",
    "        # team_points = np.array(obs[\"team_points\"]) # points of each team, team_points[self.team_id] is the points of the your team\n",
    "        \n",
    "        # ids of units you can control at this timestep\n",
    "        available_unit_ids = np.where(unit_mask)[0]\n",
    "        # enemy_available_unit_ids = np.where(enemy_unit_mask)[0]\n",
    "\n",
    "        if available_unit_ids.shape[0] == 0:\n",
    "            pass\n",
    "        else:\n",
    "            if self.first_spawn == False:\n",
    "                first_unit_id = available_unit_ids[0]\n",
    "                first_unit_pos = unit_positions[first_unit_id]\n",
    "                self.my_spawn_location = (first_unit_pos[0], first_unit_pos[1])\n",
    "                self.enemy_spawn_location = find_opposite_corner_coords(self.map_explored_status, first_unit_pos[0], first_unit_pos[1])\n",
    "                self.first_spawn = True\n",
    "        \n",
    "        # visible relic nodes\n",
    "        # visible_relic_node_ids = set(np.where(observed_relic_nodes_mask)[0])\n",
    "\n",
    "        self.llm_input = self.prep_llm_input(self.env_cfg, obs)\n",
    "\n",
    "        actions = np.zeros((self.env_cfg[\"max_units\"], 3), dtype=int)\n",
    "                \n",
    "        return actions"
   ]
  },
  {
   "cell_type": "code",
   "execution_count": 13,
   "id": "10b1d6f9",
   "metadata": {},
   "outputs": [
    {
     "name": "stderr",
     "output_type": "stream",
     "text": [
      "WARNING:2025-02-12 17:12:51,246:jax._src.xla_bridge:987: An NVIDIA GPU may be present on this machine, but a CUDA-enabled jaxlib is not installed. Falling back to cpu.\n"
     ]
    }
   ],
   "source": [
    "env = RecordEpisode(\n",
    "    LuxAIS3GymEnv(numpy_output=True)\n",
    ")"
   ]
  },
  {
   "cell_type": "code",
   "execution_count": 14,
   "id": "e4d718d1",
   "metadata": {},
   "outputs": [],
   "source": [
    "obs_all, info = env.reset()"
   ]
  },
  {
   "cell_type": "code",
   "execution_count": 15,
   "id": "d85f0d05",
   "metadata": {},
   "outputs": [],
   "source": [
    "agent0 = Agent(\"player_0\", info['params'])\n",
    "#agent1 = Agent(\"player_1\", info['params'])"
   ]
  },
  {
   "cell_type": "code",
   "execution_count": 16,
   "id": "994e4c39",
   "metadata": {},
   "outputs": [],
   "source": [
    "actions0 = agent0.act(obs_all['player_0']['steps'], obs_all['player_0'])"
   ]
  },
  {
   "cell_type": "code",
   "execution_count": 17,
   "id": "fb642226",
   "metadata": {},
   "outputs": [
    {
     "data": {
      "text/plain": [
       "{'content': '\\n!!!GAME STATE INFORMATION!!!\\nENVIRONMENT CONFIGURATION:\\nMaximum possible number of units for each team: 16.\\nNumber of matches per game: 5.\\nNumber of steps per match: 100.\\nMap height: 24.\\nMap width: 24.\\nNumber of teams: 2.\\nUnit move energy cost: 4.\\nUnit sap energy cost: 45.\\nUnit sap range: 3.\\nUnit sensor range: 2.\\nOBSERVATION:\\nUnit position: -1, -1 means the unit is not spawned yet or not visible.\\nUnit Positions:\\nMy unit 0 position: -1, -1.\\nMy unit 1 position: -1, -1.\\nMy unit 2 position: -1, -1.\\nMy unit 3 position: -1, -1.\\nMy unit 4 position: -1, -1.\\nMy unit 5 position: -1, -1.\\nMy unit 6 position: -1, -1.\\nMy unit 7 position: -1, -1.\\nMy unit 8 position: -1, -1.\\nMy unit 9 position: -1, -1.\\nMy unit 10 position: -1, -1.\\nMy unit 11 position: -1, -1.\\nMy unit 12 position: -1, -1.\\nMy unit 13 position: -1, -1.\\nMy unit 14 position: -1, -1.\\nMy unit 15 position: -1, -1.\\nEnemy unit 0 position: -1, -1.\\nEnemy unit 1 position: -1, -1.\\nEnemy unit 2 position: -1, -1.\\nEnemy unit 3 position: -1, -1.\\nEnemy unit 4 position: -1, -1.\\nEnemy unit 5 position: -1, -1.\\nEnemy unit 6 position: -1, -1.\\nEnemy unit 7 position: -1, -1.\\nEnemy unit 8 position: -1, -1.\\nEnemy unit 9 position: -1, -1.\\nEnemy unit 10 position: -1, -1.\\nEnemy unit 11 position: -1, -1.\\nEnemy unit 12 position: -1, -1.\\nEnemy unit 13 position: -1, -1.\\nEnemy unit 14 position: -1, -1.\\nEnemy unit 15 position: -1, -1.\\nUnit Energys:\\nMy unit 0 energy: -1.\\nMy unit 1 energy: -1.\\nMy unit 2 energy: -1.\\nMy unit 3 energy: -1.\\nMy unit 4 energy: -1.\\nMy unit 5 energy: -1.\\nMy unit 6 energy: -1.\\nMy unit 7 energy: -1.\\nMy unit 8 energy: -1.\\nMy unit 9 energy: -1.\\nMy unit 10 energy: -1.\\nMy unit 11 energy: -1.\\nMy unit 12 energy: -1.\\nMy unit 13 energy: -1.\\nMy unit 14 energy: -1.\\nMy unit 15 energy: -1.\\nEnemy unit 0 energy: -1.\\nEnemy unit 1 energy: -1.\\nEnemy unit 2 energy: -1.\\nEnemy unit 3 energy: -1.\\nEnemy unit 4 energy: -1.\\nEnemy unit 5 energy: -1.\\nEnemy unit 6 energy: -1.\\nEnemy unit 7 energy: -1.\\nEnemy unit 8 energy: -1.\\nEnemy unit 9 energy: -1.\\nEnemy unit 10 energy: -1.\\nEnemy unit 11 energy: -1.\\nEnemy unit 12 energy: -1.\\nEnemy unit 13 energy: -1.\\nEnemy unit 14 energy: -1.\\nEnemy unit 15 energy: -1.\\nUnit Visibility:\\nMy unit 0 visibility: False.\\nMy unit 1 visibility: False.\\nMy unit 2 visibility: False.\\nMy unit 3 visibility: False.\\nMy unit 4 visibility: False.\\nMy unit 5 visibility: False.\\nMy unit 6 visibility: False.\\nMy unit 7 visibility: False.\\nMy unit 8 visibility: False.\\nMy unit 9 visibility: False.\\nMy unit 10 visibility: False.\\nMy unit 11 visibility: False.\\nMy unit 12 visibility: False.\\nMy unit 13 visibility: False.\\nMy unit 14 visibility: False.\\nMy unit 15 visibility: False.\\nEnemy unit 0 visibility: False.\\nEnemy unit 1 visibility: False.\\nEnemy unit 2 visibility: False.\\nEnemy unit 3 visibility: False.\\nEnemy unit 4 visibility: False.\\nEnemy unit 5 visibility: False.\\nEnemy unit 6 visibility: False.\\nEnemy unit 7 visibility: False.\\nEnemy unit 8 visibility: False.\\nEnemy unit 9 visibility: False.\\nEnemy unit 10 visibility: False.\\nEnemy unit 11 visibility: False.\\nEnemy unit 12 visibility: False.\\nEnemy unit 13 visibility: False.\\nEnemy unit 14 visibility: False.\\nEnemy unit 15 visibility: False.\\nSensor Mask:\\nSensor mask row 0: False False False False False False False False False False False False False False False False False False False False False False False False.\\nSensor mask row 1: False False False False False False False False False False False False False False False False False False False False False False False False.\\nSensor mask row 2: False False False False False False False False False False False False False False False False False False False False False False False False.\\nSensor mask row 3: False False False False False False False False False False False False False False False False False False False False False False False False.\\nSensor mask row 4: False False False False False False False False False False False False False False False False False False False False False False False False.\\nSensor mask row 5: False False False False False False False False False False False False False False False False False False False False False False False False.\\nSensor mask row 6: False False False False False False False False False False False False False False False False False False False False False False False False.\\nSensor mask row 7: False False False False False False False False False False False False False False False False False False False False False False False False.\\nSensor mask row 8: False False False False False False False False False False False False False False False False False False False False False False False False.\\nSensor mask row 9: False False False False False False False False False False False False False False False False False False False False False False False False.\\nSensor mask row 10: False False False False False False False False False False False False False False False False False False False False False False False False.\\nSensor mask row 11: False False False False False False False False False False False False False False False False False False False False False False False False.\\nSensor mask row 12: False False False False False False False False False False False False False False False False False False False False False False False False.\\nSensor mask row 13: False False False False False False False False False False False False False False False False False False False False False False False False.\\nSensor mask row 14: False False False False False False False False False False False False False False False False False False False False False False False False.\\nSensor mask row 15: False False False False False False False False False False False False False False False False False False False False False False False False.\\nSensor mask row 16: False False False False False False False False False False False False False False False False False False False False False False False False.\\nSensor mask row 17: False False False False False False False False False False False False False False False False False False False False False False False False.\\nSensor mask row 18: False False False False False False False False False False False False False False False False False False False False False False False False.\\nSensor mask row 19: False False False False False False False False False False False False False False False False False False False False False False False False.\\nSensor mask row 20: False False False False False False False False False False False False False False False False False False False False False False False False.\\nSensor mask row 21: False False False False False False False False False False False False False False False False False False False False False False False False.\\nSensor mask row 22: False False False False False False False False False False False False False False False False False False False False False False False False.\\nSensor mask row 23: False False False False False False False False False False False False False False False False False False False False False False False False.\\nMap Energys:\\nMap energy row 0: -1 -1 -1 -1 -1 -1 -1 -1 -1 -1 -1 -1 -1 -1 -1 -1 -1 -1 -1 -1 -1 -1 -1 -1.\\nMap energy row 1: -1 -1 -1 -1 -1 -1 -1 -1 -1 -1 -1 -1 -1 -1 -1 -1 -1 -1 -1 -1 -1 -1 -1 -1.\\nMap energy row 2: -1 -1 -1 -1 -1 -1 -1 -1 -1 -1 -1 -1 -1 -1 -1 -1 -1 -1 -1 -1 -1 -1 -1 -1.\\nMap energy row 3: -1 -1 -1 -1 -1 -1 -1 -1 -1 -1 -1 -1 -1 -1 -1 -1 -1 -1 -1 -1 -1 -1 -1 -1.\\nMap energy row 4: -1 -1 -1 -1 -1 -1 -1 -1 -1 -1 -1 -1 -1 -1 -1 -1 -1 -1 -1 -1 -1 -1 -1 -1.\\nMap energy row 5: -1 -1 -1 -1 -1 -1 -1 -1 -1 -1 -1 -1 -1 -1 -1 -1 -1 -1 -1 -1 -1 -1 -1 -1.\\nMap energy row 6: -1 -1 -1 -1 -1 -1 -1 -1 -1 -1 -1 -1 -1 -1 -1 -1 -1 -1 -1 -1 -1 -1 -1 -1.\\nMap energy row 7: -1 -1 -1 -1 -1 -1 -1 -1 -1 -1 -1 -1 -1 -1 -1 -1 -1 -1 -1 -1 -1 -1 -1 -1.\\nMap energy row 8: -1 -1 -1 -1 -1 -1 -1 -1 -1 -1 -1 -1 -1 -1 -1 -1 -1 -1 -1 -1 -1 -1 -1 -1.\\nMap energy row 9: -1 -1 -1 -1 -1 -1 -1 -1 -1 -1 -1 -1 -1 -1 -1 -1 -1 -1 -1 -1 -1 -1 -1 -1.\\nMap energy row 10: -1 -1 -1 -1 -1 -1 -1 -1 -1 -1 -1 -1 -1 -1 -1 -1 -1 -1 -1 -1 -1 -1 -1 -1.\\nMap energy row 11: -1 -1 -1 -1 -1 -1 -1 -1 -1 -1 -1 -1 -1 -1 -1 -1 -1 -1 -1 -1 -1 -1 -1 -1.\\nMap energy row 12: -1 -1 -1 -1 -1 -1 -1 -1 -1 -1 -1 -1 -1 -1 -1 -1 -1 -1 -1 -1 -1 -1 -1 -1.\\nMap energy row 13: -1 -1 -1 -1 -1 -1 -1 -1 -1 -1 -1 -1 -1 -1 -1 -1 -1 -1 -1 -1 -1 -1 -1 -1.\\nMap energy row 14: -1 -1 -1 -1 -1 -1 -1 -1 -1 -1 -1 -1 -1 -1 -1 -1 -1 -1 -1 -1 -1 -1 -1 -1.\\nMap energy row 15: -1 -1 -1 -1 -1 -1 -1 -1 -1 -1 -1 -1 -1 -1 -1 -1 -1 -1 -1 -1 -1 -1 -1 -1.\\nMap energy row 16: -1 -1 -1 -1 -1 -1 -1 -1 -1 -1 -1 -1 -1 -1 -1 -1 -1 -1 -1 -1 -1 -1 -1 -1.\\nMap energy row 17: -1 -1 -1 -1 -1 -1 -1 -1 -1 -1 -1 -1 -1 -1 -1 -1 -1 -1 -1 -1 -1 -1 -1 -1.\\nMap energy row 18: -1 -1 -1 -1 -1 -1 -1 -1 -1 -1 -1 -1 -1 -1 -1 -1 -1 -1 -1 -1 -1 -1 -1 -1.\\nMap energy row 19: -1 -1 -1 -1 -1 -1 -1 -1 -1 -1 -1 -1 -1 -1 -1 -1 -1 -1 -1 -1 -1 -1 -1 -1.\\nMap energy row 20: -1 -1 -1 -1 -1 -1 -1 -1 -1 -1 -1 -1 -1 -1 -1 -1 -1 -1 -1 -1 -1 -1 -1 -1.\\nMap energy row 21: -1 -1 -1 -1 -1 -1 -1 -1 -1 -1 -1 -1 -1 -1 -1 -1 -1 -1 -1 -1 -1 -1 -1 -1.\\nMap energy row 22: -1 -1 -1 -1 -1 -1 -1 -1 -1 -1 -1 -1 -1 -1 -1 -1 -1 -1 -1 -1 -1 -1 -1 -1.\\nMap energy row 23: -1 -1 -1 -1 -1 -1 -1 -1 -1 -1 -1 -1 -1 -1 -1 -1 -1 -1 -1 -1 -1 -1 -1 -1.\\nMap Tile Types:\\nMap tile type row 0: -1 -1 -1 -1 -1 -1 -1 -1 -1 -1 -1 -1 -1 -1 -1 -1 -1 -1 -1 -1 -1 -1 -1 -1.\\nMap tile type row 1: -1 -1 -1 -1 -1 -1 -1 -1 -1 -1 -1 -1 -1 -1 -1 -1 -1 -1 -1 -1 -1 -1 -1 -1.\\nMap tile type row 2: -1 -1 -1 -1 -1 -1 -1 -1 -1 -1 -1 -1 -1 -1 -1 -1 -1 -1 -1 -1 -1 -1 -1 -1.\\nMap tile type row 3: -1 -1 -1 -1 -1 -1 -1 -1 -1 -1 -1 -1 -1 -1 -1 -1 -1 -1 -1 -1 -1 -1 -1 -1.\\nMap tile type row 4: -1 -1 -1 -1 -1 -1 -1 -1 -1 -1 -1 -1 -1 -1 -1 -1 -1 -1 -1 -1 -1 -1 -1 -1.\\nMap tile type row 5: -1 -1 -1 -1 -1 -1 -1 -1 -1 -1 -1 -1 -1 -1 -1 -1 -1 -1 -1 -1 -1 -1 -1 -1.\\nMap tile type row 6: -1 -1 -1 -1 -1 -1 -1 -1 -1 -1 -1 -1 -1 -1 -1 -1 -1 -1 -1 -1 -1 -1 -1 -1.\\nMap tile type row 7: -1 -1 -1 -1 -1 -1 -1 -1 -1 -1 -1 -1 -1 -1 -1 -1 -1 -1 -1 -1 -1 -1 -1 -1.\\nMap tile type row 8: -1 -1 -1 -1 -1 -1 -1 -1 -1 -1 -1 -1 -1 -1 -1 -1 -1 -1 -1 -1 -1 -1 -1 -1.\\nMap tile type row 9: -1 -1 -1 -1 -1 -1 -1 -1 -1 -1 -1 -1 -1 -1 -1 -1 -1 -1 -1 -1 -1 -1 -1 -1.\\nMap tile type row 10: -1 -1 -1 -1 -1 -1 -1 -1 -1 -1 -1 -1 -1 -1 -1 -1 -1 -1 -1 -1 -1 -1 -1 -1.\\nMap tile type row 11: -1 -1 -1 -1 -1 -1 -1 -1 -1 -1 -1 -1 -1 -1 -1 -1 -1 -1 -1 -1 -1 -1 -1 -1.\\nMap tile type row 12: -1 -1 -1 -1 -1 -1 -1 -1 -1 -1 -1 -1 -1 -1 -1 -1 -1 -1 -1 -1 -1 -1 -1 -1.\\nMap tile type row 13: -1 -1 -1 -1 -1 -1 -1 -1 -1 -1 -1 -1 -1 -1 -1 -1 -1 -1 -1 -1 -1 -1 -1 -1.\\nMap tile type row 14: -1 -1 -1 -1 -1 -1 -1 -1 -1 -1 -1 -1 -1 -1 -1 -1 -1 -1 -1 -1 -1 -1 -1 -1.\\nMap tile type row 15: -1 -1 -1 -1 -1 -1 -1 -1 -1 -1 -1 -1 -1 -1 -1 -1 -1 -1 -1 -1 -1 -1 -1 -1.\\nMap tile type row 16: -1 -1 -1 -1 -1 -1 -1 -1 -1 -1 -1 -1 -1 -1 -1 -1 -1 -1 -1 -1 -1 -1 -1 -1.\\nMap tile type row 17: -1 -1 -1 -1 -1 -1 -1 -1 -1 -1 -1 -1 -1 -1 -1 -1 -1 -1 -1 -1 -1 -1 -1 -1.\\nMap tile type row 18: -1 -1 -1 -1 -1 -1 -1 -1 -1 -1 -1 -1 -1 -1 -1 -1 -1 -1 -1 -1 -1 -1 -1 -1.\\nMap tile type row 19: -1 -1 -1 -1 -1 -1 -1 -1 -1 -1 -1 -1 -1 -1 -1 -1 -1 -1 -1 -1 -1 -1 -1 -1.\\nMap tile type row 20: -1 -1 -1 -1 -1 -1 -1 -1 -1 -1 -1 -1 -1 -1 -1 -1 -1 -1 -1 -1 -1 -1 -1 -1.\\nMap tile type row 21: -1 -1 -1 -1 -1 -1 -1 -1 -1 -1 -1 -1 -1 -1 -1 -1 -1 -1 -1 -1 -1 -1 -1 -1.\\nMap tile type row 22: -1 -1 -1 -1 -1 -1 -1 -1 -1 -1 -1 -1 -1 -1 -1 -1 -1 -1 -1 -1 -1 -1 -1 -1.\\nMap tile type row 23: -1 -1 -1 -1 -1 -1 -1 -1 -1 -1 -1 -1 -1 -1 -1 -1 -1 -1 -1 -1 -1 -1 -1 -1.\\nRelic Node positions:\\nRelic node position: -1, -1 means the relic node is not yet discoverd.\\nRelic node 0 position: -1, -1.\\nRelic node 1 position: -1, -1.\\nRelic node 2 position: -1, -1.\\nRelic node 3 position: -1, -1.\\nRelic node 4 position: -1, -1.\\nRelic node 5 position: -1, -1.\\nRelic Node Visibility:\\nRelic node 0 visibility: False.\\nRelic node 1 visibility: False.\\nRelic node 2 visibility: False.\\nRelic node 3 visibility: False.\\nRelic node 4 visibility: False.\\nRelic node 5 visibility: False.\\nMy current point for this match is: 0.\\nEnemy current point for this match is: 0.\\nI have won 0 matches.\\nEnemy has won 0 matches.\\nThis is step 0 of the game.\\nThis is step 0 of the match.\\nEnemy spawn location: not yet discovered.',\n",
       " 'role': 'user'}"
      ]
     },
     "execution_count": 17,
     "metadata": {},
     "output_type": "execute_result"
    }
   ],
   "source": [
    "agent0.llm_input"
   ]
  },
  {
   "cell_type": "code",
   "execution_count": 18,
   "id": "43239786",
   "metadata": {},
   "outputs": [],
   "source": [
    "previous_score = 0.0"
   ]
  },
  {
   "cell_type": "code",
   "execution_count": 19,
   "id": "4e0dc307",
   "metadata": {},
   "outputs": [
    {
     "data": {
      "text/plain": [
       "0"
      ]
     },
     "execution_count": 19,
     "metadata": {},
     "output_type": "execute_result"
    }
   ],
   "source": [
    "current_score = obs_all['player_0']['team_points'][0]\n",
    "current_score"
   ]
  },
  {
   "cell_type": "code",
   "execution_count": 20,
   "id": "78c71758",
   "metadata": {},
   "outputs": [
    {
     "data": {
      "text/plain": [
       "0.0"
      ]
     },
     "execution_count": 20,
     "metadata": {},
     "output_type": "execute_result"
    }
   ],
   "source": [
    "reward_score = current_score - previous_score\n",
    "reward_score"
   ]
  },
  {
   "cell_type": "code",
   "execution_count": 21,
   "id": "1ad949a7",
   "metadata": {},
   "outputs": [],
   "source": [
    "# Reward functions\n",
    "def strict_format_reward_func(completions, **kwargs) -> list[float]:\n",
    "    \"\"\"Reward function that checks if the completion has a specific format.\"\"\"\n",
    "    pattern = r\"^<reasoning>\\n.*?\\n</reasoning>\\n<answer>\\n.*?\\n</answer>\\n$\"\n",
    "    responses = [completion[0][\"content\"] for completion in completions]\n",
    "    matches = [re.match(pattern, r) for r in responses]\n",
    "\n",
    "    return [0.5 if match else 0.0 for match in matches]\n",
    "\n",
    "def soft_format_reward_func(completions, **kwargs) -> list[float]:\n",
    "    \"\"\"Reward function that checks if the completion has a specific format.\"\"\"\n",
    "    pattern = r\"<reasoning>.*?</reasoning>\\s*<answer>.*?</answer>\"\n",
    "    responses = [completion[0][\"content\"] for completion in completions]\n",
    "    matches = [re.match(pattern, r) for r in responses]\n",
    "\n",
    "    return [0.5 if match else 0.0 for match in matches]\n",
    "\n",
    "def count_xml(text) -> float:\n",
    "    count = 0.0\n",
    "    if text.count(\"<reasoning>\\n\") == 1:\n",
    "        count += 0.125\n",
    "        count -= len(text.split(\"<reasoning>\\n\")[0])*0.001\n",
    "    if text.count(\"\\n</reasoning>\\n\") == 1:\n",
    "        count += 0.125\n",
    "    if text.count(\"\\n<answer>\\n\") == 1:\n",
    "        count += 0.125\n",
    "        count -= len(text.split(\"\\n</answer>\\n\")[-1])*0.001\n",
    "    if text.count(\"\\n</answer>\") == 1:\n",
    "        count += 0.125\n",
    "        count -= (len(text.split(\"\\n</answer>\")[-1]) - 1)*0.001\n",
    "\n",
    "    return count\n",
    "\n",
    "def xmlcount_reward_func(completions, **kwargs) -> list[float]:\n",
    "    contents = [completion[0][\"content\"] for completion in completions]\n",
    "\n",
    "    return [count_xml(c) for c in contents]\n",
    "\n",
    "def answer_format_reward_func(completions, **kwargs) -> list[float]:\n",
    "    responses = [completion[0][\"content\"] for completion in completions]\n",
    "    answers = [extract_xml_answer(r) for r in responses]\n",
    "    answer_pattern = re.compile(r\"^Unit \\d+: (0|1|2|3|4|5(, -?\\d+, -?\\d+)?) # (move up|move right|move down|move left|center|sap at \\(-?\\d+, -?\\d+\\) relative to unit \\d+'s current position)$\")\n",
    "\n",
    "    scores = []\n",
    "    for answer in answers:\n",
    "        answer_score = 0.0\n",
    "        for action in answer.split(\"\\n\"):\n",
    "            if answer_pattern.match(action):\n",
    "                answer_score += 0.5 / 16\n",
    "                unit_number = int(action.split(\":\")[0].split(\" \")[1])\n",
    "                if unit_number < 0 or unit_number > 15:\n",
    "                    answer_score -= 0.1 / 16\n",
    "            if len(action) != 16:\n",
    "                answer_score -= 0.1\n",
    "        scores.append(answer_score)\n",
    "\n",
    "    return scores\n",
    "\n",
    "def point_gain_reward_func(completions, **kwargs) -> list[float]:\n",
    "\n",
    "    return [reward_score for completion in completions]"
   ]
  },
  {
   "cell_type": "code",
   "execution_count": 22,
   "id": "e18b8bff",
   "metadata": {},
   "outputs": [
    {
     "data": {
      "text/plain": [
       "Dataset({\n",
       "    features: ['question', 'answer', 'prompt'],\n",
       "    num_rows: 7473\n",
       "})"
      ]
     },
     "execution_count": 22,
     "metadata": {},
     "output_type": "execute_result"
    }
   ],
   "source": [
    "dataset"
   ]
  },
  {
   "cell_type": "code",
   "execution_count": 23,
   "id": "8cb1011b",
   "metadata": {},
   "outputs": [
    {
     "data": {
      "text/plain": [
       "{'question': 'Natalia sold clips to 48 of her friends in April, and then she sold half as many clips in May. How many clips did Natalia sell altogether in April and May?',\n",
       " 'answer': '72',\n",
       " 'prompt': [{'content': '\\nRespond in the following format:\\n<reasoning>\\n...\\n</reasoning>\\n<answer>\\n...\\n</answer>\\n',\n",
       "   'role': 'system'},\n",
       "  {'content': 'Natalia sold clips to 48 of her friends in April, and then she sold half as many clips in May. How many clips did Natalia sell altogether in April and May?',\n",
       "   'role': 'user'}]}"
      ]
     },
     "execution_count": 23,
     "metadata": {},
     "output_type": "execute_result"
    }
   ],
   "source": [
    "dataset[0]"
   ]
  },
  {
   "cell_type": "code",
   "execution_count": 24,
   "id": "05c71ea9",
   "metadata": {},
   "outputs": [
    {
     "data": {
      "text/plain": [
       "Dataset({\n",
       "    features: ['prompt'],\n",
       "    num_rows: 1\n",
       "})"
      ]
     },
     "execution_count": 24,
     "metadata": {},
     "output_type": "execute_result"
    }
   ],
   "source": [
    "temp_dataset = Dataset.from_list([{'prompt': [answer_format, game_rules, agent0.llm_input]}])\n",
    "temp_dataset"
   ]
  },
  {
   "cell_type": "code",
   "execution_count": 25,
   "id": "2030f7e4",
   "metadata": {},
   "outputs": [],
   "source": [
    "output_dir=\"outputs/DeepSeek-R1-Distill-Qwen-1.5B-GRPO\"\n",
    "run_name=\"DeepSeek-R1-Distill-Qwen-1.5B-GRPO-gsm8k\"\n",
    "\n",
    "training_args = GRPOConfig(\n",
    "    output_dir=output_dir,\n",
    "    run_name=run_name,\n",
    "    per_device_train_batch_size=1,\n",
    "    learning_rate=5e-6,\n",
    "    adam_beta1=0.9,\n",
    "    adam_beta2=0.99,\n",
    "    weight_decay=0.1,\n",
    "    warmup_ratio=0.1,\n",
    "    lr_scheduler_type='cosine',\n",
    "    logging_steps=1,\n",
    "    bf16=True,\n",
    "    gradient_accumulation_steps=4,\n",
    "    num_generations=1,\n",
    "    max_prompt_length=4000,\n",
    "    max_completion_length=50,\n",
    "    num_train_epochs=1,\n",
    "    save_steps=100,\n",
    "    max_grad_norm=0.3,\n",
    "    log_on_each_node=False,\n",
    "    #use_vllm=True,\n",
    "    #vllm_gpu_memory_utilization=0.9,\n",
    "    #vllm_device=\"cuda:0\",\n",
    "    report_to=\"none\", #I'm disabling Wandb.\n",
    "    #use_cpu=True,\n",
    "    #gradient_checkpointing=True,\n",
    ")"
   ]
  },
  {
   "cell_type": "code",
   "execution_count": 26,
   "id": "b9e995d2",
   "metadata": {},
   "outputs": [],
   "source": [
    "# use peft at your own risk; not working for me with multi-GPU training\n",
    "trainer = GRPOTrainer(\n",
    "    model=agent0.model,\n",
    "    processing_class=tokenizer,\n",
    "    reward_funcs=[\n",
    "        strict_format_reward_func,\n",
    "        soft_format_reward_func,\n",
    "        xmlcount_reward_func,\n",
    "        answer_format_reward_func,\n",
    "        point_gain_reward_func\n",
    "        ],\n",
    "    args=training_args,\n",
    "    train_dataset=temp_dataset,\n",
    "    #peft_config=peft_config\n",
    ")"
   ]
  },
  {
   "cell_type": "code",
   "execution_count": 27,
   "id": "caa5522c",
   "metadata": {},
   "outputs": [
    {
     "data": {
      "application/vnd.jupyter.widget-view+json": {
       "model_id": "cf7c16a6494342f7941ca6905f7f5504",
       "version_major": 2,
       "version_minor": 0
      },
      "text/plain": [
       "  0%|          | 0/1 [00:00<?, ?it/s]"
      ]
     },
     "metadata": {},
     "output_type": "display_data"
    },
    {
     "name": "stderr",
     "output_type": "stream",
     "text": [
      "/home/max1024/Kaggle/Lux/.venv/lib/python3.12/site-packages/trl/trainer/grpo_trainer.py:502: UserWarning: std(): degrees of freedom is <= 0. Correction should be strictly less than the reduction factor (input numel divided by output numel). (Triggered internally at ../aten/src/ATen/native/ReduceOps.cpp:1823.)\n",
      "  std_grouped_rewards = rewards.view(-1, self.num_generations).std(dim=1)\n"
     ]
    },
    {
     "name": "stdout",
     "output_type": "stream",
     "text": [
      "{'loss': 0.0, 'grad_norm': nan, 'learning_rate': 5e-06, 'completion_length': 50.0, 'rewards/strict_format_reward_func': 0.0, 'rewards/soft_format_reward_func': 0.0, 'rewards/xmlcount_reward_func': 0.0, 'rewards/answer_format_reward_func': -0.10000000149011612, 'rewards/point_gain_reward_func': 0.0, 'reward': -0.10000000149011612, 'reward_std': nan, 'kl': 0.0, 'epoch': 1.0}\n",
      "{'train_runtime': 4.6649, 'train_samples_per_second': 0.214, 'train_steps_per_second': 0.214, 'train_loss': 0.0, 'epoch': 1.0}\n"
     ]
    },
    {
     "data": {
      "text/plain": [
       "TrainOutput(global_step=1, training_loss=0.0, metrics={'train_runtime': 4.6649, 'train_samples_per_second': 0.214, 'train_steps_per_second': 0.214, 'total_flos': 0.0, 'train_loss': 0.0})"
      ]
     },
     "execution_count": 27,
     "metadata": {},
     "output_type": "execute_result"
    }
   ],
   "source": [
    "trainer.train()"
   ]
  },
  {
   "cell_type": "code",
   "execution_count": null,
   "id": "83b55121",
   "metadata": {},
   "outputs": [],
   "source": []
  },
  {
   "cell_type": "code",
   "execution_count": null,
   "id": "64fafef4",
   "metadata": {},
   "outputs": [],
   "source": []
  },
  {
   "cell_type": "code",
   "execution_count": null,
   "id": "67fe1903",
   "metadata": {},
   "outputs": [],
   "source": []
  },
  {
   "cell_type": "code",
   "execution_count": null,
   "id": "0e470f5e",
   "metadata": {},
   "outputs": [],
   "source": []
  },
  {
   "cell_type": "code",
   "execution_count": null,
   "id": "d7891217",
   "metadata": {},
   "outputs": [],
   "source": []
  },
  {
   "cell_type": "code",
   "execution_count": null,
   "id": "fcd0b417",
   "metadata": {},
   "outputs": [],
   "source": []
  },
  {
   "cell_type": "code",
   "execution_count": null,
   "id": "5292d290",
   "metadata": {},
   "outputs": [],
   "source": []
  },
  {
   "cell_type": "code",
   "execution_count": null,
   "id": "f4a300bd",
   "metadata": {},
   "outputs": [],
   "source": []
  },
  {
   "cell_type": "code",
   "execution_count": null,
   "id": "e53f4d0d",
   "metadata": {},
   "outputs": [],
   "source": []
  },
  {
   "cell_type": "code",
   "execution_count": null,
   "id": "24a0a609",
   "metadata": {},
   "outputs": [],
   "source": []
  },
  {
   "cell_type": "code",
   "execution_count": null,
   "id": "76367b29",
   "metadata": {},
   "outputs": [],
   "source": []
  },
  {
   "cell_type": "code",
   "execution_count": null,
   "id": "45abd8c1",
   "metadata": {},
   "outputs": [],
   "source": []
  },
  {
   "cell_type": "code",
   "execution_count": null,
   "id": "6485ee5a",
   "metadata": {},
   "outputs": [],
   "source": []
  },
  {
   "cell_type": "code",
   "execution_count": null,
   "id": "14fa1b2b",
   "metadata": {},
   "outputs": [],
   "source": [
    "temp_input = \"\"\"0 0 0\n",
    "0 0 0\n",
    "0 0 0\n",
    "0 0 0\n",
    "0 0 0\n",
    "0 0 0\n",
    "0 0 0\n",
    "0 0 0\n",
    "0 0 0\n",
    "0 0 0\n",
    "0 0 0\n",
    "0 0 0\n",
    "0 0 0\n",
    "0 0 0\n",
    "0 0 0\n",
    "0 0 0\"\"\""
   ]
  },
  {
   "cell_type": "code",
   "execution_count": null,
   "id": "2364f493",
   "metadata": {},
   "outputs": [],
   "source": [
    "temp_input"
   ]
  },
  {
   "cell_type": "code",
   "execution_count": null,
   "id": "5047d0aa",
   "metadata": {},
   "outputs": [],
   "source": [
    "temp_tokens = tokenizer(temp_input, return_tensors=\"pt\")\n",
    "temp_tokens"
   ]
  },
  {
   "cell_type": "code",
   "execution_count": null,
   "id": "0a128d68",
   "metadata": {},
   "outputs": [],
   "source": [
    "temp_tokens[\"input_ids\"].shape"
   ]
  },
  {
   "cell_type": "code",
   "execution_count": null,
   "id": "7063f6f3",
   "metadata": {},
   "outputs": [],
   "source": [
    "temp_tokens = tokenizer.tokenize(temp_input)\n",
    "temp_tokens"
   ]
  },
  {
   "cell_type": "code",
   "execution_count": null,
   "id": "2d087a1c",
   "metadata": {},
   "outputs": [],
   "source": [
    "len(temp_tokens)"
   ]
  },
  {
   "cell_type": "code",
   "execution_count": null,
   "id": "ec503796",
   "metadata": {},
   "outputs": [],
   "source": [
    "temp_dataset[0]['prompt']"
   ]
  },
  {
   "cell_type": "code",
   "execution_count": null,
   "id": "34e904f9",
   "metadata": {},
   "outputs": [],
   "source": [
    "temp_dataset[0][\"prompt\"][0]['content']"
   ]
  },
  {
   "cell_type": "code",
   "execution_count": null,
   "id": "c0c709a2",
   "metadata": {},
   "outputs": [],
   "source": []
  },
  {
   "cell_type": "code",
   "execution_count": null,
   "id": "eb6c6240",
   "metadata": {},
   "outputs": [],
   "source": [
    "temp_tokens1 = tokenizer.tokenize(temp_dataset[0][\"prompt\"][2]['content'])\n",
    "len(temp_tokens1)"
   ]
  },
  {
   "cell_type": "code",
   "execution_count": null,
   "id": "fc3b258c",
   "metadata": {},
   "outputs": [],
   "source": [
    "23 + 3363 + 4803"
   ]
  },
  {
   "cell_type": "code",
   "execution_count": null,
   "id": "cd0e9825",
   "metadata": {},
   "outputs": [],
   "source": []
  },
  {
   "cell_type": "code",
   "execution_count": null,
   "id": "b6b274e1",
   "metadata": {},
   "outputs": [],
   "source": [
    "model_name = \"deepseek-ai/DeepSeek-R1-Distill-Qwen-1.5B\"\n",
    "\n",
    "# ✅ Load tokenizer\n",
    "tokenizer = AutoTokenizer.from_pretrained(model_name)\n",
    "\n",
    "# ✅ Ensure pad token is set correctly\n",
    "tokenizer.pad_token = tokenizer.eos_token\n",
    "\n",
    "# ✅ Optimized quantization configuration\n",
    "bnb_config = BitsAndBytesConfig(\n",
    "    #load_in_4bit=True,\n",
    "    #bnb_8bit_compute_dtype=torch.bfloat16,\n",
    "    #bnb_4bit_quant_type=\"nf4\",\n",
    "    #bnb_4bit_use_double_quant=True  # ✅ Add nested quantization for better memory usage\n",
    ")\n",
    "\n",
    "# ✅ Load model with proper device placement\n",
    "model = AutoModelForCausalLM.from_pretrained(\n",
    "    model_name,\n",
    "    trust_remote_code=True,\n",
    "    device_map=\"auto\",  # Let Accelerate handle device placement\n",
    "    #quantization_config=bnb_config,\n",
    "    torch_dtype=torch.bfloat16,\n",
    ")"
   ]
  },
  {
   "cell_type": "code",
   "execution_count": null,
   "id": "9a017e2d",
   "metadata": {},
   "outputs": [],
   "source": [
    "#max_new_tokens = 1024\n",
    "\n",
    "# ✅ Optimized input preparation\n",
    "prompt = agent1.llm_input\n",
    "inputs = tokenizer(prompt, return_tensors=\"pt\").to(model.device)"
   ]
  },
  {
   "cell_type": "code",
   "execution_count": null,
   "id": "92ded38d",
   "metadata": {},
   "outputs": [],
   "source": [
    "# ✅ Optimized generation parameters\n",
    "generated_output = model.generate(\n",
    "    **inputs,\n",
    "    max_new_tokens=inputs['input_ids'].shape[1],\n",
    "    pad_token_id=tokenizer.pad_token_id,\n",
    "    #do_sample=True,\n",
    "    temperature=0.6,\n",
    "    #top_k=50,\n",
    "    #top_p=0.9,\n",
    "    #use_cache=True  # ✅ Enable KV caching for faster generation\n",
    ")\n",
    "\n",
    "# ✅ Efficient decoding\n",
    "response = tokenizer.decode(generated_output[0], skip_special_tokens=True)\n",
    "print(response)"
   ]
  },
  {
   "cell_type": "code",
   "execution_count": null,
   "id": "00a980e3",
   "metadata": {},
   "outputs": [],
   "source": [
    "game_rules_and_input = game_rules + ' ' + agent1.llm_input"
   ]
  },
  {
   "cell_type": "code",
   "execution_count": null,
   "id": "70f6885b",
   "metadata": {},
   "outputs": [],
   "source": [
    "game_rules_and_input"
   ]
  },
  {
   "cell_type": "code",
   "execution_count": null,
   "id": "16d6179a",
   "metadata": {},
   "outputs": [],
   "source": [
    "inputs = tokenizer(game_rules_and_input, return_tensors=\"pt\").to(model.device)\n",
    "\n",
    "# ✅ Optimized generation parameters\n",
    "generated_output = model.generate(\n",
    "    **inputs,\n",
    "    max_new_tokens=inputs['input_ids'].shape[1],\n",
    "    pad_token_id=tokenizer.pad_token_id,\n",
    "    #do_sample=True,\n",
    "    temperature=0.6,\n",
    "    #top_k=50,\n",
    "    #top_p=0.9,\n",
    "    #use_cache=True  # ✅ Enable KV caching for faster generation\n",
    ")\n",
    "\n",
    "# ✅ Efficient decoding\n",
    "response = tokenizer.decode(generated_output[0], skip_special_tokens=True)\n",
    "print(response)"
   ]
  },
  {
   "cell_type": "code",
   "execution_count": null,
   "id": "fa3764c6",
   "metadata": {},
   "outputs": [],
   "source": []
  },
  {
   "cell_type": "code",
   "execution_count": null,
   "id": "9261adff",
   "metadata": {},
   "outputs": [],
   "source": []
  },
  {
   "cell_type": "code",
   "execution_count": null,
   "id": "936c5c35",
   "metadata": {},
   "outputs": [],
   "source": []
  },
  {
   "cell_type": "code",
   "execution_count": null,
   "id": "cbfdf4ad",
   "metadata": {},
   "outputs": [],
   "source": []
  },
  {
   "cell_type": "code",
   "execution_count": null,
   "id": "7b47dd44",
   "metadata": {},
   "outputs": [],
   "source": []
  },
  {
   "cell_type": "code",
   "execution_count": null,
   "id": "53b703bd",
   "metadata": {},
   "outputs": [],
   "source": []
  },
  {
   "cell_type": "code",
   "execution_count": null,
   "id": "023ed054",
   "metadata": {},
   "outputs": [],
   "source": []
  },
  {
   "cell_type": "code",
   "execution_count": null,
   "id": "ae38e050",
   "metadata": {},
   "outputs": [],
   "source": []
  },
  {
   "cell_type": "code",
   "execution_count": null,
   "id": "0aa9eedd",
   "metadata": {},
   "outputs": [],
   "source": []
  },
  {
   "cell_type": "code",
   "execution_count": null,
   "id": "f16e8d69",
   "metadata": {},
   "outputs": [],
   "source": []
  },
  {
   "cell_type": "code",
   "execution_count": null,
   "id": "ff024928",
   "metadata": {},
   "outputs": [],
   "source": []
  },
  {
   "cell_type": "code",
   "execution_count": null,
   "id": "1877cb44-5429-4a5a-b709-c5b5737bd3c3",
   "metadata": {},
   "outputs": [],
   "source": [
    "model_name = \"deepseek-ai/DeepSeek-R1-Distill-Qwen-1.5B\"\n",
    "\n",
    "# ✅ Load tokenizer\n",
    "tokenizer = AutoTokenizer.from_pretrained(model_name)\n",
    "\n",
    "# ✅ Ensure pad token is set correctly\n",
    "tokenizer.pad_token = tokenizer.eos_token\n",
    "\n",
    "# ✅ Optimized quantization configuration\n",
    "bnb_config = BitsAndBytesConfig(\n",
    "    load_in_4bit=True,\n",
    "    bnb_4bit_compute_dtype=torch.bfloat16,\n",
    "    bnb_4bit_quant_type=\"nf4\",\n",
    "    bnb_4bit_use_double_quant=True  # ✅ Add nested quantization for better memory usage\n",
    ")\n",
    "\n",
    "# ✅ Load model with proper device placement\n",
    "model = AutoModelForCausalLM.from_pretrained(\n",
    "    model_name,\n",
    "    trust_remote_code=True,\n",
    "    device_map=\"auto\",  # Let Accelerate handle device placement\n",
    "    #quantization_config=bnb_config,\n",
    "    torch_dtype=torch.bfloat16,\n",
    ")"
   ]
  },
  {
   "cell_type": "code",
   "execution_count": null,
   "id": "e2ed0615",
   "metadata": {},
   "outputs": [],
   "source": [
    "for name, param in model.named_parameters():\n",
    "    print(f\"Layer: {name}, Data Type: {param.dtype}\")\n",
    "    break  # Checking one layer is usually sufficient"
   ]
  },
  {
   "cell_type": "code",
   "execution_count": null,
   "id": "4ce99f7d",
   "metadata": {},
   "outputs": [],
   "source": []
  },
  {
   "cell_type": "code",
   "execution_count": null,
   "id": "a7c7ac8c",
   "metadata": {},
   "outputs": [],
   "source": []
  },
  {
   "cell_type": "code",
   "execution_count": null,
   "id": "34e47d28",
   "metadata": {},
   "outputs": [],
   "source": []
  },
  {
   "cell_type": "code",
   "execution_count": null,
   "id": "613bd9ea",
   "metadata": {},
   "outputs": [],
   "source": []
  },
  {
   "cell_type": "code",
   "execution_count": null,
   "id": "6c34d417",
   "metadata": {},
   "outputs": [],
   "source": []
  },
  {
   "cell_type": "code",
   "execution_count": null,
   "id": "1b8688f4",
   "metadata": {},
   "outputs": [],
   "source": []
  },
  {
   "cell_type": "code",
   "execution_count": null,
   "id": "197e9a9b",
   "metadata": {},
   "outputs": [],
   "source": []
  },
  {
   "cell_type": "code",
   "execution_count": null,
   "id": "7589a4a6",
   "metadata": {},
   "outputs": [],
   "source": []
  },
  {
   "cell_type": "code",
   "execution_count": null,
   "id": "c9d50d20-2fcc-4db3-8166-6eb055d81284",
   "metadata": {},
   "outputs": [],
   "source": [
    "model.device"
   ]
  },
  {
   "cell_type": "code",
   "execution_count": null,
   "id": "31555066",
   "metadata": {},
   "outputs": [],
   "source": []
  },
  {
   "cell_type": "code",
   "execution_count": null,
   "id": "5748155e",
   "metadata": {},
   "outputs": [],
   "source": []
  },
  {
   "cell_type": "code",
   "execution_count": null,
   "id": "49292129",
   "metadata": {},
   "outputs": [],
   "source": []
  },
  {
   "cell_type": "code",
   "execution_count": null,
   "id": "a6c72358",
   "metadata": {},
   "outputs": [],
   "source": []
  },
  {
   "cell_type": "code",
   "execution_count": null,
   "id": "eaae5454",
   "metadata": {},
   "outputs": [],
   "source": []
  },
  {
   "cell_type": "code",
   "execution_count": null,
   "id": "55403f3f",
   "metadata": {},
   "outputs": [],
   "source": []
  },
  {
   "cell_type": "code",
   "execution_count": null,
   "id": "460c5aac-d16a-4500-8d87-9149cf8935b5",
   "metadata": {
    "scrolled": true
   },
   "outputs": [],
   "source": [
    "max_new_tokens = 1024\n",
    "\n",
    "# ✅ Optimized input preparation\n",
    "prompt = \"hello\"\n",
    "inputs = tokenizer(prompt, return_tensors=\"pt\").to(model.device)\n",
    "\n",
    "# ✅ Optimized generation parameters\n",
    "generated_output = model.generate(\n",
    "    **inputs,\n",
    "    max_new_tokens=max_new_tokens,\n",
    "    pad_token_id=tokenizer.pad_token_id,\n",
    "    do_sample=True,\n",
    "    temperature=0.7,\n",
    "    top_k=50,\n",
    "    top_p=0.9,\n",
    "    use_cache=True  # ✅ Enable KV caching for faster generation\n",
    ")\n",
    "\n",
    "# ✅ Efficient decoding\n",
    "response = tokenizer.decode(generated_output[0], skip_special_tokens=True)\n",
    "print(response)"
   ]
  },
  {
   "cell_type": "code",
   "execution_count": null,
   "id": "19586766-d435-4779-989f-0283d8aff2fe",
   "metadata": {
    "scrolled": true
   },
   "outputs": [],
   "source": [
    "max_new_tokens = 1024\n",
    "\n",
    "# ✅ Optimized input preparation\n",
    "prompt = \"can you tell what these mean? sensor_mask: '[[False False False False False False False False False False False False False False False False False False False False False False False False]\\n [False False False False False False False False False False False False False False False False False False False False False False False False]\\n [False False False False False False False False False False False False False False False False False False False False False False False False]\\n [False False False False False False False False False False False False False False False False False False False False False False False False]\\n [False False False False False False False False False False False False False False False False False False False False False False False False]\\n [False False False False False False False False False False False False False False False False False False False False False False False False]\\n [False False False False False False False False False False False False False False False False False False False False False False False False]\\n [False False False False False False False False False False False False False False False False False False False False False False False False]\\n [False False False False False False False False False False False False False False False False False False False False False False False False]\\n [False False False False False False False False False False False False False False False False False False False False False False False False]\\n [False False False False False False False False False False False False False False False False False False False False False False False False]\\n [False False False False False False False False False False False False False False False False False False False False False False False False]\\n [False False False False False False False False False False False False False False False False False False False False False False False False]\\n [False False False False False False False False False False False False False False False False False False False False False False False False]\\n [False False False False False False False False False False False False False False False False False False False False False False False False]\\n [False False False False False False False False False False False False False False False False False False False False False False False False]\\n [False False False False False False False False False False False False False False False False False False False False False False False False]\\n [False False False False False False False False False False False False False False False False False False False False False False False False]\\n [False False False False False False False False False False False False False False False False False False False False False False False False]\\n [False False False False False False False False False False False False False False False False False False False False False False False False]\\n [False False False False False False False False False False False False False False False False False False False False False False False False]\\n [False False False False False False False False False False False False False False False False False False False False False False False False]\\n [False False False False False False False False False False False False False False False False False False False False False False False False]\\n [False False False False False False False False False False False False False False False False False False False False False False False False]]', map_features_energy: '[[-1 -1 -1 -1 -1 -1 -1 -1 -1 -1 -1 -1 -1 -1 -1 -1 -1 -1 -1 -1 -1 -1 -1 -1]\\n [-1 -1 -1 -1 -1 -1 -1 -1 -1 -1 -1 -1 -1 -1 -1 -1 -1 -1 -1 -1 -1 -1 -1 -1]\\n [-1 -1 -1 -1 -1 -1 -1 -1 -1 -1 -1 -1 -1 -1 -1 -1 -1 -1 -1 -1 -1 -1 -1 -1]\\n [-1 -1 -1 -1 -1 -1 -1 -1 -1 -1 -1 -1 -1 -1 -1 -1 -1 -1 -1 -1 -1 -1 -1 -1]\\n [-1 -1 -1 -1 -1 -1 -1 -1 -1 -1 -1 -1 -1 -1 -1 -1 -1 -1 -1 -1 -1 -1 -1 -1]\\n [-1 -1 -1 -1 -1 -1 -1 -1 -1 -1 -1 -1 -1 -1 -1 -1 -1 -1 -1 -1 -1 -1 -1 -1]\\n [-1 -1 -1 -1 -1 -1 -1 -1 -1 -1 -1 -1 -1 -1 -1 -1 -1 -1 -1 -1 -1 -1 -1 -1]\\n [-1 -1 -1 -1 -1 -1 -1 -1 -1 -1 -1 -1 -1 -1 -1 -1 -1 -1 -1 -1 -1 -1 -1 -1]\\n [-1 -1 -1 -1 -1 -1 -1 -1 -1 -1 -1 -1 -1 -1 -1 -1 -1 -1 -1 -1 -1 -1 -1 -1]\\n [-1 -1 -1 -1 -1 -1 -1 -1 -1 -1 -1 -1 -1 -1 -1 -1 -1 -1 -1 -1 -1 -1 -1 -1]\\n [-1 -1 -1 -1 -1 -1 -1 -1 -1 -1 -1 -1 -1 -1 -1 -1 -1 -1 -1 -1 -1 -1 -1 -1]\\n [-1 -1 -1 -1 -1 -1 -1 -1 -1 -1 -1 -1 -1 -1 -1 -1 -1 -1 -1 -1 -1 -1 -1 -1]\\n [-1 -1 -1 -1 -1 -1 -1 -1 -1 -1 -1 -1 -1 -1 -1 -1 -1 -1 -1 -1 -1 -1 -1 -1]\\n [-1 -1 -1 -1 -1 -1 -1 -1 -1 -1 -1 -1 -1 -1 -1 -1 -1 -1 -1 -1 -1 -1 -1 -1]\\n [-1 -1 -1 -1 -1 -1 -1 -1 -1 -1 -1 -1 -1 -1 -1 -1 -1 -1 -1 -1 -1 -1 -1 -1]\\n [-1 -1 -1 -1 -1 -1 -1 -1 -1 -1 -1 -1 -1 -1 -1 -1 -1 -1 -1 -1 -1 -1 -1 -1]\\n [-1 -1 -1 -1 -1 -1 -1 -1 -1 -1 -1 -1 -1 -1 -1 -1 -1 -1 -1 -1 -1 -1 -1 -1]\\n [-1 -1 -1 -1 -1 -1 -1 -1 -1 -1 -1 -1 -1 -1 -1 -1 -1 -1 -1 -1 -1 -1 -1 -1]\\n [-1 -1 -1 -1 -1 -1 -1 -1 -1 -1 -1 -1 -1 -1 -1 -1 -1 -1 -1 -1 -1 -1 -1 -1]\\n [-1 -1 -1 -1 -1 -1 -1 -1 -1 -1 -1 -1 -1 -1 -1 -1 -1 -1 -1 -1 -1 -1 -1 -1]\\n [-1 -1 -1 -1 -1 -1 -1 -1 -1 -1 -1 -1 -1 -1 -1 -1 -1 -1 -1 -1 -1 -1 -1 -1]\\n [-1 -1 -1 -1 -1 -1 -1 -1 -1 -1 -1 -1 -1 -1 -1 -1 -1 -1 -1 -1 -1 -1 -1 -1]\\n [-1 -1 -1 -1 -1 -1 -1 -1 -1 -1 -1 -1 -1 -1 -1 -1 -1 -1 -1 -1 -1 -1 -1 -1]\\n [-1 -1 -1 -1 -1 -1 -1 -1 -1 -1 -1 -1 -1 -1 -1 -1 -1 -1 -1 -1 -1 -1 -1 -1]]'\"\n",
    "inputs = tokenizer(prompt, return_tensors=\"pt\").to(model.device)\n",
    "\n",
    "# ✅ Optimized generation parameters\n",
    "generated_output = model.generate(\n",
    "    **inputs,\n",
    "    max_new_tokens=max_new_tokens,\n",
    "    pad_token_id=tokenizer.pad_token_id,\n",
    "    do_sample=True,\n",
    "    temperature=0.7,\n",
    "    top_k=50,\n",
    "    top_p=0.9,\n",
    "    use_cache=True  # ✅ Enable KV caching for faster generation\n",
    ")\n",
    "\n",
    "# ✅ Efficient decoding\n",
    "response = tokenizer.decode(generated_output[0], skip_special_tokens=True)\n",
    "print(response)"
   ]
  },
  {
   "cell_type": "code",
   "execution_count": null,
   "id": "e068f129-818b-4091-b500-3e7b72bfc9c9",
   "metadata": {},
   "outputs": [],
   "source": [
    "max_new_tokens = 1024\n",
    "\n",
    "# ✅ Optimized input preparation\n",
    "prompt = \"what the fuck is going on bitch ass\"\n",
    "inputs = tokenizer(prompt, return_tensors=\"pt\").to(model.device)"
   ]
  },
  {
   "cell_type": "code",
   "execution_count": null,
   "id": "be7e03ec-8602-400a-b94b-b39cb8f82bc4",
   "metadata": {},
   "outputs": [],
   "source": [
    "type(inputs)"
   ]
  },
  {
   "cell_type": "code",
   "execution_count": null,
   "id": "fea883a4-2d64-4f02-89a0-aa01deeeea79",
   "metadata": {
    "scrolled": true
   },
   "outputs": [],
   "source": [
    "dir(inputs)"
   ]
  },
  {
   "cell_type": "code",
   "execution_count": null,
   "id": "38eddb26-27d4-457d-b415-9e8473a0e04a",
   "metadata": {},
   "outputs": [],
   "source": [
    "inputs.values()"
   ]
  },
  {
   "cell_type": "code",
   "execution_count": null,
   "id": "75c763bb-51d0-4241-81a6-c35337fcc738",
   "metadata": {},
   "outputs": [],
   "source": [
    "model"
   ]
  },
  {
   "cell_type": "code",
   "execution_count": null,
   "id": "457cc788-ce92-43e7-b7c3-e5d238fa6265",
   "metadata": {},
   "outputs": [],
   "source": []
  },
  {
   "cell_type": "code",
   "execution_count": null,
   "id": "841a08f6-81f3-459e-8337-1af5eb0c6cc6",
   "metadata": {},
   "outputs": [],
   "source": []
  },
  {
   "cell_type": "code",
   "execution_count": null,
   "id": "9aed7f0b-2be2-4e37-b842-1923b6935137",
   "metadata": {},
   "outputs": [],
   "source": []
  },
  {
   "cell_type": "code",
   "execution_count": null,
   "id": "a34db086-71d1-44bc-82e3-14074984a8c6",
   "metadata": {},
   "outputs": [],
   "source": []
  },
  {
   "cell_type": "code",
   "execution_count": null,
   "id": "b6d944a8-6c36-46eb-b790-613061b102bd",
   "metadata": {},
   "outputs": [],
   "source": []
  },
  {
   "cell_type": "code",
   "execution_count": null,
   "id": "31ad9362-e231-48d1-87ed-7af279400967",
   "metadata": {},
   "outputs": [],
   "source": [
    "# ✅ Optimized generation parameters\n",
    "generated_output = model.generate(\n",
    "    **inputs,\n",
    "    max_new_tokens=max_new_tokens,\n",
    "    pad_token_id=tokenizer.pad_token_id,\n",
    "    do_sample=True,\n",
    "    temperature=0.7,\n",
    "    top_k=50,\n",
    "    top_p=0.9,\n",
    "    use_cache=True  # ✅ Enable KV caching for faster generation\n",
    ")\n",
    "\n",
    "# ✅ Efficient decoding\n",
    "response = tokenizer.decode(generated_output[0], skip_special_tokens=True)\n",
    "print(response)"
   ]
  },
  {
   "cell_type": "code",
   "execution_count": null,
   "id": "be242f5a-3e7b-45df-a926-a442aba6f4db",
   "metadata": {},
   "outputs": [],
   "source": []
  },
  {
   "cell_type": "code",
   "execution_count": null,
   "id": "89c7846a-2d5d-4574-b742-58509ae74279",
   "metadata": {},
   "outputs": [],
   "source": []
  },
  {
   "cell_type": "code",
   "execution_count": null,
   "id": "7cb1ecc7-dc91-46bd-95eb-b895304b8ce9",
   "metadata": {},
   "outputs": [],
   "source": []
  },
  {
   "cell_type": "code",
   "execution_count": null,
   "id": "f1ddbbd1-6e5b-4dac-93e4-3ec45ae04760",
   "metadata": {},
   "outputs": [],
   "source": []
  },
  {
   "cell_type": "code",
   "execution_count": null,
   "id": "5d3fa800-4c12-4822-ae4c-8db709ae074d",
   "metadata": {},
   "outputs": [],
   "source": []
  },
  {
   "cell_type": "code",
   "execution_count": null,
   "id": "9f4cb935-62ae-4ac4-b5ec-1966082b8284",
   "metadata": {},
   "outputs": [],
   "source": []
  },
  {
   "cell_type": "code",
   "execution_count": null,
   "id": "120ca722-d63e-4f64-bb86-690d1f6f54d7",
   "metadata": {},
   "outputs": [],
   "source": []
  },
  {
   "cell_type": "code",
   "execution_count": null,
   "id": "481b3b74-60c8-4015-b285-7e659971e521",
   "metadata": {},
   "outputs": [],
   "source": []
  },
  {
   "cell_type": "code",
   "execution_count": null,
   "id": "31ae532c-d220-4127-9290-b20dc7bcf5a9",
   "metadata": {},
   "outputs": [],
   "source": []
  },
  {
   "cell_type": "code",
   "execution_count": null,
   "id": "6b0c5535-3f48-451e-b8a2-1b748cd832d8",
   "metadata": {},
   "outputs": [],
   "source": []
  },
  {
   "cell_type": "code",
   "execution_count": null,
   "id": "243054f3-9ab6-4dc6-a628-bde4910958b2",
   "metadata": {},
   "outputs": [],
   "source": []
  },
  {
   "cell_type": "code",
   "execution_count": null,
   "id": "9918f5c7-e3e7-4e2c-b86e-ccc01b87d150",
   "metadata": {},
   "outputs": [],
   "source": []
  },
  {
   "cell_type": "code",
   "execution_count": null,
   "id": "975d0102-9972-4dc9-8716-4f6638d3ad50",
   "metadata": {},
   "outputs": [],
   "source": []
  },
  {
   "cell_type": "code",
   "execution_count": null,
   "id": "9427647e-df15-456f-855d-9aaaa6828c83",
   "metadata": {},
   "outputs": [],
   "source": []
  },
  {
   "cell_type": "code",
   "execution_count": null,
   "id": "c89f676c-5f16-4965-9657-46b4fbded45d",
   "metadata": {},
   "outputs": [],
   "source": []
  },
  {
   "cell_type": "code",
   "execution_count": null,
   "id": "19ad7a8e-4cb2-40b9-afc4-de639e7059eb",
   "metadata": {},
   "outputs": [],
   "source": []
  },
  {
   "cell_type": "code",
   "execution_count": null,
   "id": "2184b058-3d84-4379-95e5-18ab8e8e4c2e",
   "metadata": {},
   "outputs": [],
   "source": []
  },
  {
   "cell_type": "code",
   "execution_count": null,
   "id": "b93bd5a9-b78a-4eda-bdeb-59a724dddafe",
   "metadata": {},
   "outputs": [],
   "source": []
  },
  {
   "cell_type": "code",
   "execution_count": null,
   "id": "69f68a7d-459a-48b5-9e93-ac0103f4d936",
   "metadata": {},
   "outputs": [],
   "source": []
  },
  {
   "cell_type": "code",
   "execution_count": null,
   "id": "7f13303f-22ee-4b4c-851e-75714cbf555c",
   "metadata": {},
   "outputs": [],
   "source": []
  },
  {
   "cell_type": "code",
   "execution_count": null,
   "id": "6d5d8cfb-1cca-46cf-b94d-f22c33cb88be",
   "metadata": {},
   "outputs": [],
   "source": []
  },
  {
   "cell_type": "code",
   "execution_count": null,
   "id": "4d018c3f-084e-48d6-a882-c3aac39876dc",
   "metadata": {},
   "outputs": [],
   "source": []
  },
  {
   "cell_type": "code",
   "execution_count": null,
   "id": "f95461ca-5ab9-44d6-8d63-b02a0fab089e",
   "metadata": {},
   "outputs": [],
   "source": []
  },
  {
   "cell_type": "code",
   "execution_count": null,
   "id": "6ec87edc-3f53-4739-b123-7bca805c01f0",
   "metadata": {},
   "outputs": [],
   "source": []
  },
  {
   "cell_type": "code",
   "execution_count": null,
   "id": "10be4ff5-b0f6-416f-87da-98a850adba46",
   "metadata": {},
   "outputs": [],
   "source": []
  },
  {
   "cell_type": "code",
   "execution_count": null,
   "id": "100bfd23-1311-44de-a814-d5e9c8ffedee",
   "metadata": {},
   "outputs": [],
   "source": []
  },
  {
   "cell_type": "code",
   "execution_count": null,
   "id": "20baf732-d7fc-46ec-9d1d-a6867d376cda",
   "metadata": {},
   "outputs": [],
   "source": []
  },
  {
   "cell_type": "code",
   "execution_count": null,
   "id": "89b3306e-f954-41f4-84fe-4f9aeada433b",
   "metadata": {},
   "outputs": [],
   "source": []
  },
  {
   "cell_type": "code",
   "execution_count": null,
   "id": "7b51eef1-6d52-481d-8105-3217f6a5cad1",
   "metadata": {},
   "outputs": [],
   "source": []
  },
  {
   "cell_type": "code",
   "execution_count": null,
   "id": "b4588df5-0c02-4edb-8f58-ea3611a07e60",
   "metadata": {},
   "outputs": [],
   "source": []
  }
 ],
 "metadata": {
  "kaggle": {
   "accelerator": "none",
   "dataSources": [
    {
     "databundleVersionId": 10395677,
     "sourceId": 86411,
     "sourceType": "competition"
    }
   ],
   "isGpuEnabled": false,
   "isInternetEnabled": true,
   "language": "python",
   "sourceType": "notebook"
  },
  "kernelspec": {
   "display_name": ".venv",
   "language": "python",
   "name": "python3"
  },
  "language_info": {
   "codemirror_mode": {
    "name": "ipython",
    "version": 3
   },
   "file_extension": ".py",
   "mimetype": "text/x-python",
   "name": "python",
   "nbconvert_exporter": "python",
   "pygments_lexer": "ipython3",
   "version": "3.12.8"
  },
  "papermill": {
   "default_parameters": {},
   "duration": 143.048125,
   "end_time": "2024-12-26T20:02:43.573801",
   "environment_variables": {},
   "exception": null,
   "input_path": "__notebook__.ipynb",
   "output_path": "__notebook__.ipynb",
   "parameters": {},
   "start_time": "2024-12-26T20:00:20.525676",
   "version": "2.6.0"
  }
 },
 "nbformat": 4,
 "nbformat_minor": 5
}
