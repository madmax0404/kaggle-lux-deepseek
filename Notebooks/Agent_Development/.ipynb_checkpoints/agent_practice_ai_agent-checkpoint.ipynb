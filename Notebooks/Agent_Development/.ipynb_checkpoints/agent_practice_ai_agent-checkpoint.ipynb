{
 "cells": [
  {
   "cell_type": "code",
   "execution_count": 1,
   "id": "35921214-9e6e-4a26-87f1-22db907a94b1",
   "metadata": {},
   "outputs": [
    {
     "name": "stdout",
     "output_type": "stream",
     "text": [
      "Python 3.12.8\n"
     ]
    }
   ],
   "source": [
    "# verify version\n",
    "!python --version"
   ]
  },
  {
   "cell_type": "code",
   "execution_count": 2,
   "id": "2bd07391-bfe8-492c-ab2d-929a0b580473",
   "metadata": {
    "scrolled": true
   },
   "outputs": [
    {
     "name": "stdout",
     "output_type": "stream",
     "text": [
      "Requirement already satisfied: luxai-s3 in /home/max1024/venvs/lux/lib/python3.12/site-packages (0.2.1)\n",
      "Requirement already satisfied: jax in /home/max1024/venvs/lux/lib/python3.12/site-packages (from luxai-s3) (0.5.0)\n",
      "Requirement already satisfied: gymnax==0.0.8 in /home/max1024/venvs/lux/lib/python3.12/site-packages (from luxai-s3) (0.0.8)\n",
      "Requirement already satisfied: tyro in /home/max1024/venvs/lux/lib/python3.12/site-packages (from luxai-s3) (0.9.13)\n",
      "Requirement already satisfied: jaxlib in /home/max1024/venvs/lux/lib/python3.12/site-packages (from gymnax==0.0.8->luxai-s3) (0.5.0)\n",
      "Requirement already satisfied: chex in /home/max1024/venvs/lux/lib/python3.12/site-packages (from gymnax==0.0.8->luxai-s3) (0.1.88)\n",
      "Requirement already satisfied: flax in /home/max1024/venvs/lux/lib/python3.12/site-packages (from gymnax==0.0.8->luxai-s3) (0.10.2)\n",
      "Requirement already satisfied: pyyaml in /home/max1024/venvs/lux/lib/python3.12/site-packages (from gymnax==0.0.8->luxai-s3) (6.0.2)\n",
      "Requirement already satisfied: gym>=0.26 in /home/max1024/venvs/lux/lib/python3.12/site-packages (from gymnax==0.0.8->luxai-s3) (0.26.2)\n",
      "Requirement already satisfied: gymnasium in /home/max1024/venvs/lux/lib/python3.12/site-packages (from gymnax==0.0.8->luxai-s3) (1.0.0)\n",
      "Requirement already satisfied: matplotlib in /home/max1024/venvs/lux/lib/python3.12/site-packages (from gymnax==0.0.8->luxai-s3) (3.10.0)\n",
      "Requirement already satisfied: seaborn in /home/max1024/venvs/lux/lib/python3.12/site-packages (from gymnax==0.0.8->luxai-s3) (0.13.2)\n",
      "Requirement already satisfied: ml_dtypes>=0.4.0 in /home/max1024/venvs/lux/lib/python3.12/site-packages (from jax->luxai-s3) (0.5.1)\n",
      "Requirement already satisfied: numpy>=1.25 in /home/max1024/venvs/lux/lib/python3.12/site-packages (from jax->luxai-s3) (2.2.2)\n",
      "Requirement already satisfied: opt_einsum in /home/max1024/venvs/lux/lib/python3.12/site-packages (from jax->luxai-s3) (3.4.0)\n",
      "Requirement already satisfied: scipy>=1.11.1 in /home/max1024/venvs/lux/lib/python3.12/site-packages (from jax->luxai-s3) (1.15.1)\n",
      "Requirement already satisfied: docstring-parser>=0.15 in /home/max1024/venvs/lux/lib/python3.12/site-packages (from tyro->luxai-s3) (0.16)\n",
      "Requirement already satisfied: rich>=11.1.0 in /home/max1024/venvs/lux/lib/python3.12/site-packages (from tyro->luxai-s3) (13.9.4)\n",
      "Requirement already satisfied: shtab>=1.5.6 in /home/max1024/venvs/lux/lib/python3.12/site-packages (from tyro->luxai-s3) (1.7.1)\n",
      "Requirement already satisfied: typeguard>=4.0.0 in /home/max1024/venvs/lux/lib/python3.12/site-packages (from tyro->luxai-s3) (4.4.1)\n",
      "Requirement already satisfied: typing-extensions>=4.9.0 in /home/max1024/venvs/lux/lib/python3.12/site-packages (from tyro->luxai-s3) (4.12.2)\n",
      "Requirement already satisfied: cloudpickle>=1.2.0 in /home/max1024/venvs/lux/lib/python3.12/site-packages (from gym>=0.26->gymnax==0.0.8->luxai-s3) (3.1.1)\n",
      "Requirement already satisfied: gym_notices>=0.0.4 in /home/max1024/venvs/lux/lib/python3.12/site-packages (from gym>=0.26->gymnax==0.0.8->luxai-s3) (0.0.8)\n",
      "Requirement already satisfied: markdown-it-py>=2.2.0 in /home/max1024/venvs/lux/lib/python3.12/site-packages (from rich>=11.1.0->tyro->luxai-s3) (3.0.0)\n",
      "Requirement already satisfied: pygments<3.0.0,>=2.13.0 in /home/max1024/venvs/lux/lib/python3.12/site-packages (from rich>=11.1.0->tyro->luxai-s3) (2.19.1)\n",
      "Requirement already satisfied: absl-py>=0.9.0 in /home/max1024/venvs/lux/lib/python3.12/site-packages (from chex->gymnax==0.0.8->luxai-s3) (2.1.0)\n",
      "Requirement already satisfied: setuptools in /home/max1024/venvs/lux/lib/python3.12/site-packages (from chex->gymnax==0.0.8->luxai-s3) (75.8.0)\n",
      "Requirement already satisfied: toolz>=0.9.0 in /home/max1024/venvs/lux/lib/python3.12/site-packages (from chex->gymnax==0.0.8->luxai-s3) (1.0.0)\n",
      "Requirement already satisfied: msgpack in /home/max1024/venvs/lux/lib/python3.12/site-packages (from flax->gymnax==0.0.8->luxai-s3) (1.1.0)\n",
      "Requirement already satisfied: optax in /home/max1024/venvs/lux/lib/python3.12/site-packages (from flax->gymnax==0.0.8->luxai-s3) (0.2.4)\n",
      "Requirement already satisfied: orbax-checkpoint in /home/max1024/venvs/lux/lib/python3.12/site-packages (from flax->gymnax==0.0.8->luxai-s3) (0.11.4)\n",
      "Requirement already satisfied: tensorstore in /home/max1024/venvs/lux/lib/python3.12/site-packages (from flax->gymnax==0.0.8->luxai-s3) (0.1.71)\n",
      "Requirement already satisfied: farama-notifications>=0.0.1 in /home/max1024/venvs/lux/lib/python3.12/site-packages (from gymnasium->gymnax==0.0.8->luxai-s3) (0.0.4)\n",
      "Requirement already satisfied: contourpy>=1.0.1 in /home/max1024/venvs/lux/lib/python3.12/site-packages (from matplotlib->gymnax==0.0.8->luxai-s3) (1.3.1)\n",
      "Requirement already satisfied: cycler>=0.10 in /home/max1024/venvs/lux/lib/python3.12/site-packages (from matplotlib->gymnax==0.0.8->luxai-s3) (0.12.1)\n",
      "Requirement already satisfied: fonttools>=4.22.0 in /home/max1024/venvs/lux/lib/python3.12/site-packages (from matplotlib->gymnax==0.0.8->luxai-s3) (4.56.0)\n",
      "Requirement already satisfied: kiwisolver>=1.3.1 in /home/max1024/venvs/lux/lib/python3.12/site-packages (from matplotlib->gymnax==0.0.8->luxai-s3) (1.4.8)\n",
      "Requirement already satisfied: packaging>=20.0 in /home/max1024/venvs/lux/lib/python3.12/site-packages (from matplotlib->gymnax==0.0.8->luxai-s3) (24.2)\n",
      "Requirement already satisfied: pillow>=8 in /home/max1024/venvs/lux/lib/python3.12/site-packages (from matplotlib->gymnax==0.0.8->luxai-s3) (11.1.0)\n",
      "Requirement already satisfied: pyparsing>=2.3.1 in /home/max1024/venvs/lux/lib/python3.12/site-packages (from matplotlib->gymnax==0.0.8->luxai-s3) (3.2.1)\n",
      "Requirement already satisfied: python-dateutil>=2.7 in /home/max1024/venvs/lux/lib/python3.12/site-packages (from matplotlib->gymnax==0.0.8->luxai-s3) (2.9.0.post0)\n",
      "Requirement already satisfied: pandas>=1.2 in /home/max1024/venvs/lux/lib/python3.12/site-packages (from seaborn->gymnax==0.0.8->luxai-s3) (2.2.3)\n",
      "Requirement already satisfied: mdurl~=0.1 in /home/max1024/venvs/lux/lib/python3.12/site-packages (from markdown-it-py>=2.2.0->rich>=11.1.0->tyro->luxai-s3) (0.1.2)\n",
      "Requirement already satisfied: pytz>=2020.1 in /home/max1024/venvs/lux/lib/python3.12/site-packages (from pandas>=1.2->seaborn->gymnax==0.0.8->luxai-s3) (2025.1)\n",
      "Requirement already satisfied: tzdata>=2022.7 in /home/max1024/venvs/lux/lib/python3.12/site-packages (from pandas>=1.2->seaborn->gymnax==0.0.8->luxai-s3) (2025.1)\n",
      "Requirement already satisfied: six>=1.5 in /home/max1024/venvs/lux/lib/python3.12/site-packages (from python-dateutil>=2.7->matplotlib->gymnax==0.0.8->luxai-s3) (1.17.0)\n",
      "Requirement already satisfied: etils[epy] in /home/max1024/venvs/lux/lib/python3.12/site-packages (from optax->flax->gymnax==0.0.8->luxai-s3) (1.11.0)\n",
      "Requirement already satisfied: nest_asyncio in /home/max1024/venvs/lux/lib/python3.12/site-packages (from orbax-checkpoint->flax->gymnax==0.0.8->luxai-s3) (1.6.0)\n",
      "Requirement already satisfied: protobuf in /home/max1024/venvs/lux/lib/python3.12/site-packages (from orbax-checkpoint->flax->gymnax==0.0.8->luxai-s3) (5.29.3)\n",
      "Requirement already satisfied: humanize in /home/max1024/venvs/lux/lib/python3.12/site-packages (from orbax-checkpoint->flax->gymnax==0.0.8->luxai-s3) (4.11.0)\n",
      "Requirement already satisfied: simplejson>=3.16.0 in /home/max1024/venvs/lux/lib/python3.12/site-packages (from orbax-checkpoint->flax->gymnax==0.0.8->luxai-s3) (3.19.3)\n",
      "Requirement already satisfied: fsspec in /home/max1024/venvs/lux/lib/python3.12/site-packages (from etils[epath,epy]->orbax-checkpoint->flax->gymnax==0.0.8->luxai-s3) (2025.2.0)\n",
      "Requirement already satisfied: importlib_resources in /home/max1024/venvs/lux/lib/python3.12/site-packages (from etils[epath,epy]->orbax-checkpoint->flax->gymnax==0.0.8->luxai-s3) (6.5.2)\n",
      "Requirement already satisfied: zipp in /home/max1024/venvs/lux/lib/python3.12/site-packages (from etils[epath,epy]->orbax-checkpoint->flax->gymnax==0.0.8->luxai-s3) (3.21.0)\n"
     ]
    }
   ],
   "source": [
    "!pip install --upgrade luxai-s3"
   ]
  },
  {
   "cell_type": "code",
   "execution_count": 3,
   "id": "41b6ec47-43a9-4af9-8a3a-2c836ad74e6a",
   "metadata": {},
   "outputs": [],
   "source": [
    "import os\n",
    "import sys\n",
    "import numpy as np\n",
    "import random"
   ]
  },
  {
   "cell_type": "code",
   "execution_count": 4,
   "id": "6b8265fc-2d91-43e9-8a33-6f60a13cc31d",
   "metadata": {},
   "outputs": [
    {
     "data": {
      "text/plain": [
       "['main.py', 'agent.py', 'lux', 'README.md']"
      ]
     },
     "execution_count": 4,
     "metadata": {},
     "output_type": "execute_result"
    }
   ],
   "source": [
    "os.listdir(\"../../Data/lux-ai-season-3/\")"
   ]
  },
  {
   "cell_type": "code",
   "execution_count": 5,
   "id": "dd61a5e5-f2bb-4ce8-b53f-515373aea175",
   "metadata": {},
   "outputs": [
    {
     "name": "stdout",
     "output_type": "stream",
     "text": [
      "mkdir: cannot create directory ‘Test’: File exists\n"
     ]
    }
   ],
   "source": [
    "!mkdir Test"
   ]
  },
  {
   "cell_type": "code",
   "execution_count": 6,
   "id": "f88669fd-ea25-4951-9f23-e3ccd0e0e612",
   "metadata": {},
   "outputs": [],
   "source": [
    "!cp -r ../../Data/lux-ai-season-3/* Test/"
   ]
  },
  {
   "cell_type": "code",
   "execution_count": 7,
   "id": "2d59a377-2749-46a3-b032-84e46edd9a2b",
   "metadata": {},
   "outputs": [
    {
     "data": {
      "text/plain": [
       "array([1, 2, 3, 2])"
      ]
     },
     "execution_count": 7,
     "metadata": {},
     "output_type": "execute_result"
    }
   ],
   "source": [
    "prac_array = np.array([1, 2, 3, 2])\n",
    "prac_array"
   ]
  },
  {
   "cell_type": "code",
   "execution_count": 8,
   "id": "fc6a0888-c717-4b6e-8457-7884270bd3a7",
   "metadata": {},
   "outputs": [
    {
     "data": {
      "text/plain": [
       "array([ True,  True, False,  True])"
      ]
     },
     "execution_count": 8,
     "metadata": {},
     "output_type": "execute_result"
    }
   ],
   "source": [
    "prac_condition = prac_array <= 2\n",
    "prac_condition"
   ]
  },
  {
   "cell_type": "code",
   "execution_count": 9,
   "id": "4a91102a-178e-4059-a3b4-c36440c883f4",
   "metadata": {},
   "outputs": [
    {
     "data": {
      "text/plain": [
       "array([1, 2, 2])"
      ]
     },
     "execution_count": 9,
     "metadata": {},
     "output_type": "execute_result"
    }
   ],
   "source": [
    "prac_result = prac_array[prac_condition]\n",
    "prac_result"
   ]
  },
  {
   "cell_type": "code",
   "execution_count": 10,
   "id": "5a6d146b-b122-4439-b51e-93833f470940",
   "metadata": {},
   "outputs": [
    {
     "data": {
      "text/plain": [
       "array([[1, 2],\n",
       "       [3, 4],\n",
       "       [5, 6]])"
      ]
     },
     "execution_count": 10,
     "metadata": {},
     "output_type": "execute_result"
    }
   ],
   "source": [
    "prac_array = np.array([[1, 2], [3, 4], [5, 6]])\n",
    "prac_array"
   ]
  },
  {
   "cell_type": "code",
   "execution_count": 11,
   "id": "99f9c287-24eb-48d6-9f78-66e61c5262a5",
   "metadata": {},
   "outputs": [
    {
     "data": {
      "text/plain": [
       "True"
      ]
     },
     "execution_count": 11,
     "metadata": {},
     "output_type": "execute_result"
    }
   ],
   "source": [
    "5 in prac_array"
   ]
  },
  {
   "cell_type": "code",
   "execution_count": 12,
   "id": "9d644cb2-07da-4896-a047-1aae2ef3af29",
   "metadata": {},
   "outputs": [
    {
     "data": {
      "text/plain": [
       "False"
      ]
     },
     "execution_count": 12,
     "metadata": {},
     "output_type": "execute_result"
    }
   ],
   "source": [
    "7 in prac_array"
   ]
  },
  {
   "cell_type": "code",
   "execution_count": 13,
   "id": "cedd241a-6324-4ee0-b4c9-c433f8e8f3a5",
   "metadata": {},
   "outputs": [],
   "source": [
    "empty_list = []"
   ]
  },
  {
   "cell_type": "code",
   "execution_count": 14,
   "id": "df86c3af-0251-4f29-9841-9d3e65360dcc",
   "metadata": {},
   "outputs": [
    {
     "data": {
      "text/plain": [
       "[]"
      ]
     },
     "execution_count": 14,
     "metadata": {},
     "output_type": "execute_result"
    }
   ],
   "source": [
    "empty_list"
   ]
  },
  {
   "cell_type": "code",
   "execution_count": 15,
   "id": "2af22e8f-0da8-43c4-9604-8c1f457c3d69",
   "metadata": {},
   "outputs": [
    {
     "data": {
      "text/plain": [
       "(4, 4, 4)"
      ]
     },
     "execution_count": 15,
     "metadata": {},
     "output_type": "execute_result"
    }
   ],
   "source": [
    "np.zeros((4, 4, 4)).shape"
   ]
  },
  {
   "cell_type": "code",
   "execution_count": 16,
   "id": "c6f8b9dc-288a-4eee-81c9-9021fff7065f",
   "metadata": {},
   "outputs": [
    {
     "data": {
      "text/plain": [
       "0.9917284745304953"
      ]
     },
     "execution_count": 16,
     "metadata": {},
     "output_type": "execute_result"
    }
   ],
   "source": [
    "random.uniform(0, 1)"
   ]
  },
  {
   "cell_type": "code",
   "execution_count": 17,
   "id": "23681c93-be44-41ce-8a28-164093f1898f",
   "metadata": {},
   "outputs": [
    {
     "data": {
      "text/plain": [
       "(4, 4, 4)"
      ]
     },
     "execution_count": 17,
     "metadata": {},
     "output_type": "execute_result"
    }
   ],
   "source": [
    "Q_table = np.zeros((4, 4, 4))\n",
    "Q_table.shape"
   ]
  },
  {
   "cell_type": "code",
   "execution_count": 18,
   "id": "ddfac129-d2cf-41fb-946e-90b29a40b72b",
   "metadata": {},
   "outputs": [
    {
     "data": {
      "text/plain": [
       "np.int64(0)"
      ]
     },
     "execution_count": 18,
     "metadata": {},
     "output_type": "execute_result"
    }
   ],
   "source": [
    "np.argmax(Q_table)"
   ]
  },
  {
   "cell_type": "code",
   "execution_count": 19,
   "id": "47a7bdc9-7b46-468b-b73a-4eae9b4d5cc2",
   "metadata": {},
   "outputs": [
    {
     "data": {
      "image/png": "[encoded data removed]",
      "text/plain": [
       "<Figure size 600x600 with 2 Axes>"
      ]
     },
     "metadata": {},
     "output_type": "display_data"
    }
   ],
   "source": [
    "import numpy as np\n",
    "import random\n",
    "import matplotlib.pyplot as plt\n",
    "import seaborn as sns\n",
    "\n",
    "# Define the environment (4x4 Grid)\n",
    "GRID_SIZE = 4\n",
    "ACTIONS = [\"UP\", \"DOWN\", \"LEFT\", \"RIGHT\"]\n",
    "ACTION_MAP = {0: (-1, 0), 1: (1, 0), 2: (0, -1), 3: (0, 1)}\n",
    "\n",
    "# Q-learning parameters\n",
    "alpha = 0.1  # Learning rate\n",
    "gamma = 0.9  # Discount factor\n",
    "epsilon = 0.2  # Exploration probability\n",
    "num_episodes = 5000  # Training episodes\n",
    "\n",
    "# Initialize Q-table (4x4 grid, 4 possible actions)\n",
    "Q_table = np.zeros((GRID_SIZE, GRID_SIZE, len(ACTIONS)))\n",
    "Q_table[GRID_SIZE - 1, GRID_SIZE - 1, :] = 100  # Set all actions at (3,3) to 100\n",
    "\n",
    "# Define reward function\n",
    "def get_reward(state):\n",
    "    return 100 if state == (GRID_SIZE - 1, GRID_SIZE - 1) else -1  # Goal = 100, Else = -1\n",
    "\n",
    "# Function to choose action (ε-greedy)\n",
    "def choose_action(state):\n",
    "    if random.uniform(0, 1) < epsilon:  # Explore\n",
    "        return random.choice(range(len(ACTIONS)))\n",
    "    else:  # Exploit (choose best action)\n",
    "        return np.argmax(Q_table[state[0], state[1]])\n",
    "\n",
    "# Training loop\n",
    "for episode in range(num_episodes):\n",
    "    state = (0, 0)  # Start position\n",
    "    while state != (GRID_SIZE - 1, GRID_SIZE - 1):\n",
    "        action = choose_action(state)\n",
    "        move = ACTION_MAP[action]\n",
    "        next_state = (max(0, min(GRID_SIZE - 1, state[0] + move[0])),\n",
    "                      max(0, min(GRID_SIZE - 1, state[1] + move[1])))\n",
    "\n",
    "        reward = get_reward(next_state)\n",
    "\n",
    "        # If next state is goal, set its Q-value directly\n",
    "        if next_state == (GRID_SIZE - 1, GRID_SIZE - 1):\n",
    "            Q_table[state[0], state[1], action] = reward  # Directly assign goal reward\n",
    "        else:\n",
    "            # Standard Q-learning update rule\n",
    "            Q_table[state[0], state[1], action] += alpha * (\n",
    "                reward + gamma * np.max(Q_table[next_state[0], next_state[1]]) - Q_table[state[0], state[1], action]\n",
    "            )\n",
    "\n",
    "        state = next_state  # Move to next state\n",
    "\n",
    "\n",
    "# Extract the maximum Q-values for each state\n",
    "best_q_values = np.max(Q_table, axis=2)\n",
    "\n",
    "# Visualize the Q-table as a heatmap\n",
    "plt.figure(figsize=(6, 6))\n",
    "sns.heatmap(best_q_values, annot=True, fmt=\".1f\", cmap=\"coolwarm\", square=True, cbar=True)\n",
    "\n",
    "plt.title(\"Learned Q-values (Max Over Actions)\")\n",
    "plt.xlabel(\"Column Index\")\n",
    "plt.ylabel(\"Row Index\")\n",
    "plt.show()"
   ]
  },
  {
   "cell_type": "markdown",
   "id": "480ec4e4-ff2b-46f1-be67-46ef8d8c4629",
   "metadata": {},
   "source": [
    "# My Agent"
   ]
  },
  {
   "cell_type": "code",
   "execution_count": null,
   "id": "bf4aa6f8-f118-4d5b-b37e-64e1fa5b9b2b",
   "metadata": {},
   "outputs": [],
   "source": [
    "%%writefile Test/agent.py\n",
    "\n",
    "from transformers import AutoTokenizer, AutoModelForCausalLM\n",
    "import torch\n",
    "import torch.nn as nn\n",
    "import torch.optim as optim\n",
    "import numpy as np\n",
    "import gym\n",
    "from lux.utils import direction_to\n",
    "from stable_baselines3 import PPO\n",
    "\n",
    "class WorldModel(nn.Module):\n",
    "    def __init__(self, input_dim, hidden_dim, output_dim):\n",
    "        super(WorldModel, self).__init__()\n",
    "        self.fc1 = nn.Linear(input_dim, hidden_dim)\n",
    "        self.fc2 = nn.Linear(hidden_dim, hidden_dim)\n",
    "        self.fc3 = nn.Linear(hidden_dim, output_dim)\n",
    "        self.relu = nn.ReLU()\n",
    "    \n",
    "    def forward(self, x):\n",
    "        x = self.relu(self.fc1(x))\n",
    "        x = self.relu(self.fc2(x))\n",
    "        x = self.fc3(x)\n",
    "        return x\n",
    "\n",
    "class MetaLearner(nn.Module):\n",
    "    def __init__(self, input_dim, hidden_dim, output_dim):\n",
    "        super(MetaLearner, self).__init__()\n",
    "        self.fc1 = nn.Linear(input_dim, hidden_dim)\n",
    "        self.fc2 = nn.Linear(hidden_dim, hidden_dim)\n",
    "        self.fc3 = nn.Linear(hidden_dim, output_dim)\n",
    "        self.relu = nn.ReLU()\n",
    "    \n",
    "    def forward(self, x):\n",
    "        x = self.relu(self.fc1(x))\n",
    "        x = self.relu(self.fc2(x))\n",
    "        x = self.fc3(x)\n",
    "        return torch.softmax(x, dim=-1)\n",
    "\n",
    "    def fine_tune(self, state, target_weights, optimizer):\n",
    "        optimizer.zero_grad()\n",
    "        predicted_weights = self.forward(state)\n",
    "        loss = nn.MSELoss()(predicted_weights, target_weights)\n",
    "        loss.backward()\n",
    "        optimizer.step()\n",
    "        return loss.item()\n",
    "\n",
    "class SelfImprovingPolicy:\n",
    "    def __init__(self, learning_rate=0.0003):\n",
    "        self.model = PPO(\"MlpPolicy\", gym.make(\"LuxAI-v3\"), verbose=1)\n",
    "        self.optimizer = optim.Adam(self.model.policy.parameters(), lr=learning_rate)\n",
    "    \n",
    "    def update_policy(self, state, reward, action):\n",
    "        self.optimizer.zero_grad()\n",
    "        loss = -reward * self.model.policy.evaluate_actions(state, action)[0].mean()\n",
    "        loss.backward()\n",
    "        self.optimizer.step()\n",
    "    \n",
    "    def select_action(self, observation):\n",
    "        return self.model.predict(observation, deterministic=False)\n",
    "\n",
    "class RiskRewardEvaluator:\n",
    "    def __init__(self, risk_tolerance=0.5, aggression_factor=1.2, efficiency_factor=0.8):\n",
    "        self.risk_tolerance = risk_tolerance\n",
    "        self.aggression_factor = aggression_factor\n",
    "        self.efficiency_factor = efficiency_factor\n",
    "    \n",
    "    def evaluate(self, reward, uncertainty, energy_efficiency, aggression_level):\n",
    "        adjusted_reward = reward - (self.risk_tolerance * uncertainty)\n",
    "        adjusted_reward += (self.aggression_factor * aggression_level) - (self.efficiency_factor * (1 - energy_efficiency))\n",
    "        return adjusted_reward\n",
    "\n",
    "class ExplorationExploitationBalancer:\n",
    "    def __init__(self, exploration_weight=0.85):\n",
    "        self.exploration_weight = exploration_weight\n",
    "    \n",
    "    def balance(self, unit_state, known_rewards):\n",
    "        exploration_factor = np.random.uniform(0, 1)\n",
    "        if exploration_factor < self.exploration_weight:\n",
    "            return np.random.choice(range(len(known_rewards)))  # Explore\n",
    "        return np.argmax(known_rewards)  # Exploit\n",
    "\n",
    "class TemporalOpponentPredictor(nn.Module):\n",
    "    def __init__(self, input_dim, hidden_dim, output_dim):\n",
    "        super(TemporalOpponentPredictor, self).__init__()\n",
    "        self.lstm = nn.LSTM(input_dim, hidden_dim, batch_first=True)\n",
    "        self.fc = nn.Linear(hidden_dim, output_dim)\n",
    "    \n",
    "    def forward(self, x):\n",
    "        lstm_out, _ = self.lstm(x)\n",
    "        return self.fc(lstm_out[:, -1, :])\n",
    "\n",
    "class AIPathPlanner:\n",
    "    def __init__(self, grid_size=(24, 24)):\n",
    "        self.grid_size = grid_size\n",
    "    \n",
    "    def heuristic(self, a, b):\n",
    "        return abs(a[0] - b[0]) + abs(a[1] - b[1])\n",
    "    \n",
    "    def a_star_search(self, start, goal, obstacles):\n",
    "        open_set = []\n",
    "        heapq.heappush(open_set, (0, start))\n",
    "        came_from = {}\n",
    "        cost_so_far = {start: 0}\n",
    "        \n",
    "        while open_set:\n",
    "            _, current = heapq.heappop(open_set)\n",
    "            if current == goal:\n",
    "                break\n",
    "            for dx, dy in [(-1, 0), (1, 0), (0, -1), (0, 1)]:\n",
    "                neighbor = (current[0] + dx, current[1] + dy)\n",
    "                if (0 <= neighbor[0] < self.grid_size[0] and \n",
    "                    0 <= neighbor[1] < self.grid_size[1] and \n",
    "                    neighbor not in obstacles):\n",
    "                    new_cost = cost_so_far[current] + 1\n",
    "                    if neighbor not in cost_so_far or new_cost < cost_so_far[neighbor]:\n",
    "                        cost_so_far[neighbor] = new_cost\n",
    "                        priority = new_cost + self.heuristic(goal, neighbor)\n",
    "                        heapq.heappush(open_set, (priority, neighbor))\n",
    "                        came_from[neighbor] = current\n",
    "        \n",
    "        path = []\n",
    "        current = goal\n",
    "        while current in came_from:\n",
    "            path.append(current)\n",
    "            current = came_from[current]\n",
    "        path.reverse()\n",
    "        return path\n",
    "\n",
    "class OpponentMemory:\n",
    "    def __init__(self, max_size=300):\n",
    "        self.max_size = max_size\n",
    "        self.memory = []\n",
    "    \n",
    "    def add(self, data):\n",
    "        if len(self.memory) >= self.max_size:\n",
    "            self.memory.pop(0)\n",
    "        self.memory.append(data)\n",
    "    \n",
    "    def get_recent(self, num=15):\n",
    "        return self.memory[-num:]\n",
    "    \n",
    "    def analyze_opponent(self):\n",
    "        if len(self.memory) < 15:\n",
    "            return \"unknown\"\n",
    "        move_patterns = [entry['move'] for entry in self.memory[-15:]]\n",
    "        aggression_levels = [entry['aggression'] for entry in self.memory[-15:]]\n",
    "        \n",
    "        avg_aggression = np.mean(aggression_levels)\n",
    "        if avg_aggression > 0.8:\n",
    "            return \"hyper-aggressive\"\n",
    "        elif avg_aggression > 0.6:\n",
    "            return \"aggressive\"\n",
    "        elif avg_aggression < 0.3:\n",
    "            return \"defensive\"\n",
    "        return \"balanced\"\n",
    "\n",
    "class AdaptiveOpponentStrategy:\n",
    "    def __init__(self):\n",
    "        self.counter_strategies = {\n",
    "            \"hyper-aggressive\": \"trap\",\n",
    "            \"aggressive\": \"defensive\",\n",
    "            \"defensive\": \"resource-hogging\",\n",
    "            \"balanced\": \"opportunistic\",\n",
    "            \"unknown\": \"cautious\"\n",
    "        }\n",
    "    \n",
    "    def get_counter_strategy(self, opponent_style):\n",
    "        return self.counter_strategies.get(opponent_style, \"cautious\")\n",
    "\n",
    "class EnergyOptimizer:\n",
    "    def __init__(self, efficiency_factor=0.93):\n",
    "        self.efficiency_factor = efficiency_factor\n",
    "    \n",
    "    def optimize(self, energy_available, energy_needed):\n",
    "        return min(energy_available, energy_needed * self.efficiency_factor)\n",
    "\n",
    "class HRLController:\n",
    "    def __init__(self):\n",
    "        self.high_level_tasks = [\"scout\", \"harvest\", \"combat\", \"defend\", \"ambush\", \"trap\"]\n",
    "    \n",
    "    def assign_task(self, unit_state, opponent_style):\n",
    "        if opponent_style == \"hyper-aggressive\" and unit_state['energy'] > 80:\n",
    "            return \"trap\"\n",
    "        elif opponent_style == \"aggressive\" and unit_state['energy'] > 70:\n",
    "            return \"defend\"\n",
    "        elif unit_state['energy'] > 100:\n",
    "            return \"combat\"\n",
    "        elif unit_state['energy'] > 60:\n",
    "            return \"harvest\"\n",
    "        elif opponent_style == \"defensive\":\n",
    "            return \"ambush\"\n",
    "        return \"scout\"\n",
    "\n",
    "class CommunicationModule:\n",
    "    def __init__(self):\n",
    "        self.messages = []\n",
    "    \n",
    "    def broadcast(self, message):\n",
    "        self.messages.append(message)\n",
    "    \n",
    "    def receive(self):\n",
    "        return self.messages.pop(0) if self.messages else None\n",
    "\n",
    "class AdaptiveCombatStrategy:\n",
    "    def __init__(self):\n",
    "        self.aggressiveness_threshold = 0.85\n",
    "    \n",
    "    def adjust_combat(self, opponent_behavior, unit_state):\n",
    "        if opponent_behavior == \"hyper-aggressive\":\n",
    "            return \"set-trap\" if unit_state['energy'] > 90 else \"evade\"\n",
    "        elif opponent_behavior == \"aggressive\":\n",
    "            return \"evade\" if unit_state['energy'] < 50 else \"counterattack\"\n",
    "        elif opponent_behavior == \"defensive\":\n",
    "            return \"press\" if unit_state['energy'] > 75 else \"hold\"\n",
    "        return \"balanced\"\n",
    "\n",
    "class Agent():\n",
    "    def __init__(self, player: str, env_cfg) -> None:\n",
    "        self.player = player\n",
    "        self.enemy_player = \"player_1\" if self.player == \"player_0\" else \"player_0\"\n",
    "        self.team_id = 0 if self.player == \"player_0\" else 1\n",
    "        self.enemy_team_id = 1 if self.team_id == 0 else 0\n",
    "        self.env_cfg = env_cfg\n",
    "        self.unit_move_cost = env_cfg['unit_move_cost']\n",
    "        self.unit_sap_cost = env_cfg['unit_sap_cost']\n",
    "        self.unit_sap_range = env_cfg['unit_sap_range']\n",
    "        self.unit_sensor_range = env_cfg['unit_sensor_range']\n",
    "        self.map_height = env_cfg['map_height']\n",
    "        self.map_width = env_cfg['map_width']\n",
    "        self.first_spawn = False\n",
    "        \n",
    "        self.map_explored_status = np.zeros((self.map_height, self.map_width), dtype=int)\n",
    "        self.opponent_moves = []\n",
    "        self.opponent_memory = OpponentMemory(max_size=100)\n",
    "        self.enemy_aggression = 20\n",
    "        self.enemy_stealth = 60\n",
    "        \n",
    "        self.tokenizer = AutoTokenizer.from_pretrained(\"deepseek-ai/DeepSeek-R1-Distill-Qwen-1.5B\")\n",
    "        self.model = AutoModelForCausalLM.from_pretrained(\"deepseek-ai/DeepSeek-R1-Distill-Qwen-1.5B\")\n",
    "        \n",
    "        self.world_model = WorldModel(input_dim=20, hidden_dim=128, output_dim=20)\n",
    "        self.meta_learner = MetaLearner(input_dim=10, hidden_dim=64, output_dim=3)\n",
    "        self.self_improving_policy = SelfImprovingPolicy()\n",
    "        self.risk_reward_evaluator = RiskRewardEvaluator()\n",
    "        self.exploration_exploitation_balancer = ExplorationExploitationBalancer()\n",
    "        self.temporal_predictor = TemporalOpponentPredictor(input_dim=5, hidden_dim=64, output_dim=5)\n",
    "        self.ai_path_planner = AIPathPlanner()\n",
    "    \n",
    "    def act(self, step: int, obs, remainingOverageTime: int = 60):\n",
    "        opponent_style = self.opponent_memory.analyze_opponent()\n",
    "        state_sequence = torch.tensor(self.opponent_memory.get_recent(5), dtype=torch.float32).unsqueeze(0)\n",
    "        predicted_opponent_move = self.temporal_predictor(state_sequence).argmax().item()\n",
    "\n",
    "        unit_actions = {}\n",
    "        for unit_id in range(len(obs['units']['position'][self.team_id])):\n",
    "            action, _ = self.self_improving_policy.select_action(obs)\n",
    "            energy_efficiency = np.random.uniform(0.7, 1.0)  # Simulated efficiency factor\n",
    "            aggression_level = np.random.uniform(0, 1)  # Simulated aggression factor\n",
    "            risk_adjusted_reward = self.risk_reward_evaluator.evaluate(obs['team_points'][self.team_id] - obs['team_points'][self.enemy_team_id], np.random.rand(), energy_efficiency, aggression_level)\n",
    "            optimal_action = self.exploration_exploitation_balancer.balance(obs, [risk_adjusted_reward])\n",
    "            unit_actions[unit_id] = optimal_action\n",
    "            \n",
    "            # Update policy with adjusted reward\n",
    "            self.self_improving_policy.update_policy(obs, risk_adjusted_reward, action)\n",
    "        \n",
    "        return unit_actions"
   ]
  },
  {
   "cell_type": "code",
   "execution_count": null,
   "id": "1656aa61-f0c6-4c79-9d00-d87647fcc70a",
   "metadata": {},
   "outputs": [],
   "source": []
  },
  {
   "cell_type": "code",
   "execution_count": null,
   "id": "41ce9aa1-e2db-4430-8bdc-2cf853669ed3",
   "metadata": {},
   "outputs": [],
   "source": []
  },
  {
   "cell_type": "code",
   "execution_count": null,
   "id": "810404d3-e978-4db0-9705-5e3ddc8096b6",
   "metadata": {},
   "outputs": [],
   "source": []
  },
  {
   "cell_type": "code",
   "execution_count": null,
   "id": "a473e953-3803-4daf-a70d-036980127d81",
   "metadata": {},
   "outputs": [],
   "source": []
  },
  {
   "cell_type": "code",
   "execution_count": null,
   "id": "127a3753-7adb-415a-8d0e-6a99e34d0e72",
   "metadata": {},
   "outputs": [],
   "source": []
  },
  {
   "cell_type": "code",
   "execution_count": null,
   "id": "1edb1df4-6dda-4f10-9c75-7386933b2237",
   "metadata": {},
   "outputs": [],
   "source": []
  },
  {
   "cell_type": "code",
   "execution_count": null,
   "id": "f79f3aa5-b7e5-476d-a08b-c097949eaeec",
   "metadata": {},
   "outputs": [],
   "source": []
  },
  {
   "cell_type": "code",
   "execution_count": null,
   "id": "e3b5a512-98e1-4db2-857e-91ac30563ed4",
   "metadata": {},
   "outputs": [],
   "source": []
  },
  {
   "cell_type": "code",
   "execution_count": null,
   "id": "dc87d4eb-72a6-468e-aea0-9a4bbfd7f4d9",
   "metadata": {},
   "outputs": [],
   "source": []
  },
  {
   "cell_type": "code",
   "execution_count": null,
   "id": "708e9adc-aba3-470a-9ce5-80d77b9f4103",
   "metadata": {},
   "outputs": [],
   "source": []
  },
  {
   "cell_type": "code",
   "execution_count": null,
   "id": "29b1ff10-655b-473f-9d08-a168ce14febd",
   "metadata": {},
   "outputs": [],
   "source": []
  },
  {
   "cell_type": "code",
   "execution_count": null,
   "id": "6aa1d53d-0d72-4b71-bca4-283a6869ac34",
   "metadata": {},
   "outputs": [],
   "source": []
  },
  {
   "cell_type": "code",
   "execution_count": null,
   "id": "a65e2aec-4b6b-40a2-8bea-442d959314e4",
   "metadata": {},
   "outputs": [],
   "source": []
  },
  {
   "cell_type": "code",
   "execution_count": null,
   "id": "411f17b1-6a0e-4817-9168-5c0af2b43f9d",
   "metadata": {},
   "outputs": [],
   "source": []
  },
  {
   "cell_type": "code",
   "execution_count": null,
   "id": "9469c73b-d8e7-4da0-9b24-9e8732c477e4",
   "metadata": {},
   "outputs": [],
   "source": []
  },
  {
   "cell_type": "code",
   "execution_count": null,
   "id": "9fc24e2b-b55a-47b1-967f-339a51d0e3a2",
   "metadata": {},
   "outputs": [],
   "source": []
  },
  {
   "cell_type": "code",
   "execution_count": null,
   "id": "f961a908-c196-4fab-9643-84c6fdd13c00",
   "metadata": {},
   "outputs": [],
   "source": []
  },
  {
   "cell_type": "code",
   "execution_count": null,
   "id": "8c226967-5cdc-4d19-bf57-9b931d1f8f7a",
   "metadata": {},
   "outputs": [],
   "source": []
  },
  {
   "cell_type": "code",
   "execution_count": null,
   "id": "b7f134d0-8a7e-4999-aad7-73ab991ce4e9",
   "metadata": {},
   "outputs": [],
   "source": []
  },
  {
   "cell_type": "code",
   "execution_count": null,
   "id": "ea31ec9a-6bb3-4b58-91ac-0d273c8625ce",
   "metadata": {},
   "outputs": [],
   "source": []
  },
  {
   "cell_type": "code",
   "execution_count": null,
   "id": "c19d3f35-28ea-4304-8861-29d56a966603",
   "metadata": {},
   "outputs": [],
   "source": []
  },
  {
   "cell_type": "code",
   "execution_count": null,
   "id": "bdb9eb9a-ed96-4e92-80b6-5f6757e6aba2",
   "metadata": {},
   "outputs": [],
   "source": []
  },
  {
   "cell_type": "code",
   "execution_count": null,
   "id": "4580a5d2-90bc-4d9a-8ae1-0e58528a6948",
   "metadata": {},
   "outputs": [],
   "source": []
  },
  {
   "cell_type": "code",
   "execution_count": null,
   "id": "fb1516ac-f690-4db5-9137-00f546503fd0",
   "metadata": {},
   "outputs": [],
   "source": []
  },
  {
   "cell_type": "code",
   "execution_count": null,
   "id": "f287b74d-48b5-4eeb-981b-206db12bd484",
   "metadata": {},
   "outputs": [],
   "source": []
  },
  {
   "cell_type": "code",
   "execution_count": null,
   "id": "b33fef54-2e61-4cf6-bfbb-2b3c8a6cfdaa",
   "metadata": {},
   "outputs": [],
   "source": []
  },
  {
   "cell_type": "code",
   "execution_count": null,
   "id": "66d372f2-23c3-4f7c-9d9d-dc1a3ef60710",
   "metadata": {},
   "outputs": [],
   "source": []
  },
  {
   "cell_type": "code",
   "execution_count": null,
   "id": "a3a3497d-9155-4ed8-a394-53c298dddd28",
   "metadata": {},
   "outputs": [],
   "source": []
  },
  {
   "cell_type": "code",
   "execution_count": null,
   "id": "f6451666-5aab-4ea7-b70e-8cdd98f3106c",
   "metadata": {},
   "outputs": [],
   "source": []
  },
  {
   "cell_type": "code",
   "execution_count": null,
   "id": "6b64f012-0bac-46fc-b795-e8876dd0705b",
   "metadata": {},
   "outputs": [],
   "source": []
  },
  {
   "cell_type": "code",
   "execution_count": null,
   "id": "c7ad66f7-cb73-49c2-9b5c-6bc8d71a123b",
   "metadata": {},
   "outputs": [],
   "source": []
  },
  {
   "cell_type": "code",
   "execution_count": null,
   "id": "1d31b2ab-ed28-46cc-b5d8-c6670a1a3b74",
   "metadata": {},
   "outputs": [],
   "source": [
    "!luxai-s3 Test/main.py Test/main.py --output=replay_my_agent.html"
   ]
  },
  {
   "cell_type": "code",
   "execution_count": null,
   "id": "5a70e049-5c0b-49ef-90c0-efa060ae4fec",
   "metadata": {},
   "outputs": [],
   "source": []
  }
 ],
 "metadata": {
  "kaggle": {
   "accelerator": "none",
   "dataSources": [
    {
     "databundleVersionId": 10395677,
     "sourceId": 86411,
     "sourceType": "competition"
    }
   ],
   "isGpuEnabled": false,
   "isInternetEnabled": true,
   "language": "python",
   "sourceType": "notebook"
  },
  "kernelspec": {
   "display_name": "Python 3 (ipykernel)",
   "language": "python",
   "name": "python3"
  },
  "language_info": {
   "codemirror_mode": {
    "name": "ipython",
    "version": 3
   },
   "file_extension": ".py",
   "mimetype": "text/x-python",
   "name": "python",
   "nbconvert_exporter": "python",
   "pygments_lexer": "ipython3",
   "version": "3.12.8"
  },
  "papermill": {
   "default_parameters": {},
   "duration": 143.048125,
   "end_time": "2024-12-26T20:02:43.573801",
   "environment_variables": {},
   "exception": null,
   "input_path": "__notebook__.ipynb",
   "output_path": "__notebook__.ipynb",
   "parameters": {},
   "start_time": "2024-12-26T20:00:20.525676",
   "version": "2.6.0"
  }
 },
 "nbformat": 4,
 "nbformat_minor": 5
}
