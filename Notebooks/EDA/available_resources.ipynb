{
 "cells": [
  {
   "cell_type": "code",
   "execution_count": 1,
   "id": "2bd07391-bfe8-492c-ab2d-929a0b580473",
   "metadata": {
    "scrolled": true
   },
   "outputs": [
    {
     "name": "stdout",
     "output_type": "stream",
     "text": [
      "Looking in indexes: https://pypi.org/simple, https://pypi.ngc.nvidia.com\n",
      "Requirement already satisfied: luxai-s3 in /home/max1024/Kaggle/Lux/.venv/lib/python3.12/site-packages (0.2.1)\n",
      "Requirement already satisfied: jax in /home/max1024/Kaggle/Lux/.venv/lib/python3.12/site-packages (from luxai-s3) (0.5.0)\n",
      "Requirement already satisfied: gymnax==0.0.8 in /home/max1024/Kaggle/Lux/.venv/lib/python3.12/site-packages (from luxai-s3) (0.0.8)\n",
      "Requirement already satisfied: tyro in /home/max1024/Kaggle/Lux/.venv/lib/python3.12/site-packages (from luxai-s3) (0.9.13)\n",
      "Requirement already satisfied: jaxlib in /home/max1024/Kaggle/Lux/.venv/lib/python3.12/site-packages (from gymnax==0.0.8->luxai-s3) (0.5.0)\n",
      "Requirement already satisfied: chex in /home/max1024/Kaggle/Lux/.venv/lib/python3.12/site-packages (from gymnax==0.0.8->luxai-s3) (0.1.88)\n",
      "Requirement already satisfied: flax in /home/max1024/Kaggle/Lux/.venv/lib/python3.12/site-packages (from gymnax==0.0.8->luxai-s3) (0.10.2)\n",
      "Requirement already satisfied: pyyaml in /home/max1024/Kaggle/Lux/.venv/lib/python3.12/site-packages (from gymnax==0.0.8->luxai-s3) (6.0.2)\n",
      "Requirement already satisfied: gym>=0.26 in /home/max1024/Kaggle/Lux/.venv/lib/python3.12/site-packages (from gymnax==0.0.8->luxai-s3) (0.26.2)\n",
      "Requirement already satisfied: gymnasium in /home/max1024/Kaggle/Lux/.venv/lib/python3.12/site-packages (from gymnax==0.0.8->luxai-s3) (1.0.0)\n",
      "Requirement already satisfied: matplotlib in /home/max1024/Kaggle/Lux/.venv/lib/python3.12/site-packages (from gymnax==0.0.8->luxai-s3) (3.10.0)\n",
      "Requirement already satisfied: seaborn in /home/max1024/Kaggle/Lux/.venv/lib/python3.12/site-packages (from gymnax==0.0.8->luxai-s3) (0.13.2)\n",
      "Requirement already satisfied: ml_dtypes>=0.4.0 in /home/max1024/Kaggle/Lux/.venv/lib/python3.12/site-packages (from jax->luxai-s3) (0.5.1)\n",
      "Requirement already satisfied: numpy>=1.25 in /home/max1024/Kaggle/Lux/.venv/lib/python3.12/site-packages (from jax->luxai-s3) (1.26.4)\n",
      "Requirement already satisfied: opt_einsum in /home/max1024/Kaggle/Lux/.venv/lib/python3.12/site-packages (from jax->luxai-s3) (3.4.0)\n",
      "Requirement already satisfied: scipy>=1.11.1 in /home/max1024/Kaggle/Lux/.venv/lib/python3.12/site-packages (from jax->luxai-s3) (1.15.1)\n",
      "Requirement already satisfied: docstring-parser>=0.15 in /home/max1024/Kaggle/Lux/.venv/lib/python3.12/site-packages (from tyro->luxai-s3) (0.16)\n",
      "Requirement already satisfied: rich>=11.1.0 in /home/max1024/Kaggle/Lux/.venv/lib/python3.12/site-packages (from tyro->luxai-s3) (13.9.4)\n",
      "Requirement already satisfied: shtab>=1.5.6 in /home/max1024/Kaggle/Lux/.venv/lib/python3.12/site-packages (from tyro->luxai-s3) (1.7.1)\n",
      "Requirement already satisfied: typeguard>=4.0.0 in /home/max1024/Kaggle/Lux/.venv/lib/python3.12/site-packages (from tyro->luxai-s3) (4.4.1)\n",
      "Requirement already satisfied: typing-extensions>=4.9.0 in /home/max1024/Kaggle/Lux/.venv/lib/python3.12/site-packages (from tyro->luxai-s3) (4.12.2)\n",
      "Requirement already satisfied: cloudpickle>=1.2.0 in /home/max1024/Kaggle/Lux/.venv/lib/python3.12/site-packages (from gym>=0.26->gymnax==0.0.8->luxai-s3) (3.1.1)\n",
      "Requirement already satisfied: gym_notices>=0.0.4 in /home/max1024/Kaggle/Lux/.venv/lib/python3.12/site-packages (from gym>=0.26->gymnax==0.0.8->luxai-s3) (0.0.8)\n",
      "Requirement already satisfied: markdown-it-py>=2.2.0 in /home/max1024/Kaggle/Lux/.venv/lib/python3.12/site-packages (from rich>=11.1.0->tyro->luxai-s3) (3.0.0)\n",
      "Requirement already satisfied: pygments<3.0.0,>=2.13.0 in /home/max1024/Kaggle/Lux/.venv/lib/python3.12/site-packages (from rich>=11.1.0->tyro->luxai-s3) (2.19.1)\n",
      "Requirement already satisfied: absl-py>=0.9.0 in /home/max1024/Kaggle/Lux/.venv/lib/python3.12/site-packages (from chex->gymnax==0.0.8->luxai-s3) (2.1.0)\n",
      "Requirement already satisfied: setuptools in /home/max1024/Kaggle/Lux/.venv/lib/python3.12/site-packages (from chex->gymnax==0.0.8->luxai-s3) (75.8.0)\n",
      "Requirement already satisfied: toolz>=0.9.0 in /home/max1024/Kaggle/Lux/.venv/lib/python3.12/site-packages (from chex->gymnax==0.0.8->luxai-s3) (1.0.0)\n",
      "Requirement already satisfied: msgpack in /home/max1024/Kaggle/Lux/.venv/lib/python3.12/site-packages (from flax->gymnax==0.0.8->luxai-s3) (1.1.0)\n",
      "Requirement already satisfied: optax in /home/max1024/Kaggle/Lux/.venv/lib/python3.12/site-packages (from flax->gymnax==0.0.8->luxai-s3) (0.2.4)\n",
      "Requirement already satisfied: orbax-checkpoint in /home/max1024/Kaggle/Lux/.venv/lib/python3.12/site-packages (from flax->gymnax==0.0.8->luxai-s3) (0.11.4)\n",
      "Requirement already satisfied: tensorstore in /home/max1024/Kaggle/Lux/.venv/lib/python3.12/site-packages (from flax->gymnax==0.0.8->luxai-s3) (0.1.71)\n",
      "Requirement already satisfied: farama-notifications>=0.0.1 in /home/max1024/Kaggle/Lux/.venv/lib/python3.12/site-packages (from gymnasium->gymnax==0.0.8->luxai-s3) (0.0.4)\n",
      "Requirement already satisfied: contourpy>=1.0.1 in /home/max1024/Kaggle/Lux/.venv/lib/python3.12/site-packages (from matplotlib->gymnax==0.0.8->luxai-s3) (1.3.1)\n",
      "Requirement already satisfied: cycler>=0.10 in /home/max1024/Kaggle/Lux/.venv/lib/python3.12/site-packages (from matplotlib->gymnax==0.0.8->luxai-s3) (0.12.1)\n",
      "Requirement already satisfied: fonttools>=4.22.0 in /home/max1024/Kaggle/Lux/.venv/lib/python3.12/site-packages (from matplotlib->gymnax==0.0.8->luxai-s3) (4.56.0)\n",
      "Requirement already satisfied: kiwisolver>=1.3.1 in /home/max1024/Kaggle/Lux/.venv/lib/python3.12/site-packages (from matplotlib->gymnax==0.0.8->luxai-s3) (1.4.8)\n",
      "Requirement already satisfied: packaging>=20.0 in /home/max1024/Kaggle/Lux/.venv/lib/python3.12/site-packages (from matplotlib->gymnax==0.0.8->luxai-s3) (24.2)\n",
      "Requirement already satisfied: pillow>=8 in /home/max1024/Kaggle/Lux/.venv/lib/python3.12/site-packages (from matplotlib->gymnax==0.0.8->luxai-s3) (10.3.0)\n",
      "Requirement already satisfied: pyparsing>=2.3.1 in /home/max1024/Kaggle/Lux/.venv/lib/python3.12/site-packages (from matplotlib->gymnax==0.0.8->luxai-s3) (3.2.1)\n",
      "Requirement already satisfied: python-dateutil>=2.7 in /home/max1024/Kaggle/Lux/.venv/lib/python3.12/site-packages (from matplotlib->gymnax==0.0.8->luxai-s3) (2.9.0.post0)\n",
      "Requirement already satisfied: pandas>=1.2 in /home/max1024/Kaggle/Lux/.venv/lib/python3.12/site-packages (from seaborn->gymnax==0.0.8->luxai-s3) (2.2.3)\n",
      "Requirement already satisfied: mdurl~=0.1 in /home/max1024/Kaggle/Lux/.venv/lib/python3.12/site-packages (from markdown-it-py>=2.2.0->rich>=11.1.0->tyro->luxai-s3) (0.1.2)\n",
      "Requirement already satisfied: pytz>=2020.1 in /home/max1024/Kaggle/Lux/.venv/lib/python3.12/site-packages (from pandas>=1.2->seaborn->gymnax==0.0.8->luxai-s3) (2025.1)\n",
      "Requirement already satisfied: tzdata>=2022.7 in /home/max1024/Kaggle/Lux/.venv/lib/python3.12/site-packages (from pandas>=1.2->seaborn->gymnax==0.0.8->luxai-s3) (2025.1)\n",
      "Requirement already satisfied: six>=1.5 in /home/max1024/Kaggle/Lux/.venv/lib/python3.12/site-packages (from python-dateutil>=2.7->matplotlib->gymnax==0.0.8->luxai-s3) (1.17.0)\n",
      "Requirement already satisfied: etils[epy] in /home/max1024/Kaggle/Lux/.venv/lib/python3.12/site-packages (from optax->flax->gymnax==0.0.8->luxai-s3) (1.12.0)\n",
      "Requirement already satisfied: nest_asyncio in /home/max1024/Kaggle/Lux/.venv/lib/python3.12/site-packages (from orbax-checkpoint->flax->gymnax==0.0.8->luxai-s3) (1.6.0)\n",
      "Requirement already satisfied: protobuf in /home/max1024/Kaggle/Lux/.venv/lib/python3.12/site-packages (from orbax-checkpoint->flax->gymnax==0.0.8->luxai-s3) (5.29.3)\n",
      "Requirement already satisfied: humanize in /home/max1024/Kaggle/Lux/.venv/lib/python3.12/site-packages (from orbax-checkpoint->flax->gymnax==0.0.8->luxai-s3) (4.11.0)\n",
      "Requirement already satisfied: simplejson>=3.16.0 in /home/max1024/Kaggle/Lux/.venv/lib/python3.12/site-packages (from orbax-checkpoint->flax->gymnax==0.0.8->luxai-s3) (3.19.3)\n",
      "Requirement already satisfied: fsspec in /home/max1024/Kaggle/Lux/.venv/lib/python3.12/site-packages (from etils[epath,epy]->orbax-checkpoint->flax->gymnax==0.0.8->luxai-s3) (2024.9.0)\n",
      "Requirement already satisfied: importlib_resources in /home/max1024/Kaggle/Lux/.venv/lib/python3.12/site-packages (from etils[epath,epy]->orbax-checkpoint->flax->gymnax==0.0.8->luxai-s3) (6.5.2)\n",
      "Requirement already satisfied: zipp in /home/max1024/Kaggle/Lux/.venv/lib/python3.12/site-packages (from etils[epath,epy]->orbax-checkpoint->flax->gymnax==0.0.8->luxai-s3) (3.21.0)\n",
      "Note: you may need to restart the kernel to use updated packages.\n"
     ]
    }
   ],
   "source": [
    "%pip install --upgrade luxai-s3"
   ]
  },
  {
   "cell_type": "code",
   "execution_count": 2,
   "id": "cf5c9c91-32e0-4300-aa89-7faa68aa4380",
   "metadata": {},
   "outputs": [],
   "source": [
    "from luxai_s3.wrappers import LuxAIS3GymEnv, RecordEpisode\n",
    "import numpy as np\n",
    "\n",
    "np.set_printoptions(linewidth=200)"
   ]
  },
  {
   "cell_type": "code",
   "execution_count": 3,
   "id": "68a76efa-d9a2-46d4-a148-f3f8ee802ca0",
   "metadata": {},
   "outputs": [
    {
     "name": "stderr",
     "output_type": "stream",
     "text": [
      "WARNING:2025-02-24 19:07:12,360:jax._src.xla_bridge:987: An NVIDIA GPU may be present on this machine, but a CUDA-enabled jaxlib is not installed. Falling back to cpu.\n"
     ]
    }
   ],
   "source": [
    "env = RecordEpisode(\n",
    "    LuxAIS3GymEnv(numpy_output=True), save_on_close=True, save_on_reset=True, save_dir=\"replays\"\n",
    ")"
   ]
  },
  {
   "cell_type": "code",
   "execution_count": 4,
   "id": "bd2681de-3a49-429c-b3d6-918149c950c7",
   "metadata": {},
   "outputs": [],
   "source": [
    "obs, info = env.reset()"
   ]
  },
  {
   "cell_type": "markdown",
   "id": "b2382b14-c8db-47b7-a0e4-8959be1088fc",
   "metadata": {},
   "source": [
    "# obs"
   ]
  },
  {
   "cell_type": "code",
   "execution_count": 5,
   "id": "14ea3a6c-dcb5-487a-986c-fea66c70ef44",
   "metadata": {},
   "outputs": [
    {
     "data": {
      "text/plain": [
       "dict_keys(['player_0', 'player_1'])"
      ]
     },
     "execution_count": 5,
     "metadata": {},
     "output_type": "execute_result"
    }
   ],
   "source": [
    "obs.keys()"
   ]
  },
  {
   "cell_type": "code",
   "execution_count": 6,
   "id": "0626ed20-34d6-4a64-ae05-2d7e7873b5a7",
   "metadata": {},
   "outputs": [
    {
     "data": {
      "text/plain": [
       "dict"
      ]
     },
     "execution_count": 6,
     "metadata": {},
     "output_type": "execute_result"
    }
   ],
   "source": [
    "obs_player_0 = obs['player_0']\n",
    "type(obs_player_0)"
   ]
  },
  {
   "cell_type": "code",
   "execution_count": 7,
   "id": "98ed494b-da27-4a0e-a321-220334be6d9e",
   "metadata": {},
   "outputs": [
    {
     "data": {
      "text/plain": [
       "dict_keys(['units', 'units_mask', 'sensor_mask', 'map_features', 'relic_nodes', 'relic_nodes_mask', 'team_points', 'team_wins', 'steps', 'match_steps'])"
      ]
     },
     "execution_count": 7,
     "metadata": {},
     "output_type": "execute_result"
    }
   ],
   "source": [
    "obs_player_0.keys()"
   ]
  },
  {
   "cell_type": "code",
   "execution_count": 8,
   "id": "7f794597",
   "metadata": {},
   "outputs": [
    {
     "name": "stdout",
     "output_type": "stream",
     "text": [
      "0\n",
      "units\n",
      "1\n",
      "units_mask\n",
      "2\n",
      "sensor_mask\n",
      "3\n",
      "map_features\n",
      "4\n",
      "relic_nodes\n",
      "5\n",
      "relic_nodes_mask\n",
      "6\n",
      "team_points\n",
      "7\n",
      "team_wins\n",
      "8\n",
      "steps\n",
      "9\n",
      "match_steps\n"
     ]
    }
   ],
   "source": [
    "for i, key in enumerate(obs_player_0.keys()):\n",
    "    print(i)\n",
    "    print(key)"
   ]
  },
  {
   "cell_type": "code",
   "execution_count": 9,
   "id": "f225b58a-3697-4286-a6fd-b069468b154a",
   "metadata": {},
   "outputs": [
    {
     "data": {
      "text/plain": [
       "dict"
      ]
     },
     "execution_count": 9,
     "metadata": {},
     "output_type": "execute_result"
    }
   ],
   "source": [
    "obs_player_0_units = obs_player_0['units']\n",
    "type(obs_player_0_units)"
   ]
  },
  {
   "cell_type": "code",
   "execution_count": 10,
   "id": "7af2ceaa-ed06-44e3-9ada-d7a11c3c6ebd",
   "metadata": {},
   "outputs": [
    {
     "data": {
      "text/plain": [
       "dict_keys(['position', 'energy'])"
      ]
     },
     "execution_count": 10,
     "metadata": {},
     "output_type": "execute_result"
    }
   ],
   "source": [
    "obs_player_0_units.keys()"
   ]
  },
  {
   "cell_type": "code",
   "execution_count": 11,
   "id": "69f5fd70-e011-49b8-9e9f-3f89e031b3cd",
   "metadata": {},
   "outputs": [
    {
     "data": {
      "text/plain": [
       "numpy.ndarray"
      ]
     },
     "execution_count": 11,
     "metadata": {},
     "output_type": "execute_result"
    }
   ],
   "source": [
    "obs_player_0_units_position = obs_player_0_units['position']\n",
    "type(obs_player_0_units_position)"
   ]
  },
  {
   "cell_type": "code",
   "execution_count": 12,
   "id": "e0455e51-bcdb-4b17-b852-8d36b58f22ce",
   "metadata": {},
   "outputs": [
    {
     "data": {
      "text/plain": [
       "(2, 16, 2)"
      ]
     },
     "execution_count": 12,
     "metadata": {},
     "output_type": "execute_result"
    }
   ],
   "source": [
    "obs_player_0_units_position.shape"
   ]
  },
  {
   "cell_type": "code",
   "execution_count": 13,
   "id": "edc5f61e-913a-43e9-bea7-3cc865638fbd",
   "metadata": {},
   "outputs": [
    {
     "data": {
      "text/plain": [
       "array([[[-1, -1],\n",
       "        [-1, -1],\n",
       "        [-1, -1],\n",
       "        [-1, -1],\n",
       "        [-1, -1],\n",
       "        [-1, -1],\n",
       "        [-1, -1],\n",
       "        [-1, -1],\n",
       "        [-1, -1],\n",
       "        [-1, -1],\n",
       "        [-1, -1],\n",
       "        [-1, -1],\n",
       "        [-1, -1],\n",
       "        [-1, -1],\n",
       "        [-1, -1],\n",
       "        [-1, -1]],\n",
       "\n",
       "       [[-1, -1],\n",
       "        [-1, -1],\n",
       "        [-1, -1],\n",
       "        [-1, -1],\n",
       "        [-1, -1],\n",
       "        [-1, -1],\n",
       "        [-1, -1],\n",
       "        [-1, -1],\n",
       "        [-1, -1],\n",
       "        [-1, -1],\n",
       "        [-1, -1],\n",
       "        [-1, -1],\n",
       "        [-1, -1],\n",
       "        [-1, -1],\n",
       "        [-1, -1],\n",
       "        [-1, -1]]], dtype=int16)"
      ]
     },
     "execution_count": 13,
     "metadata": {},
     "output_type": "execute_result"
    }
   ],
   "source": [
    "obs_player_0_units_position"
   ]
  },
  {
   "cell_type": "code",
   "execution_count": 14,
   "id": "c5a08230",
   "metadata": {},
   "outputs": [
    {
     "data": {
      "text/plain": [
       "array([-1, -1], dtype=int16)"
      ]
     },
     "execution_count": 14,
     "metadata": {},
     "output_type": "execute_result"
    }
   ],
   "source": [
    "obs_player_0_units_position[0][0]"
   ]
  },
  {
   "cell_type": "code",
   "execution_count": 15,
   "id": "705c2d2b",
   "metadata": {},
   "outputs": [
    {
     "data": {
      "text/plain": [
       "array([-1, -1], dtype=int16)"
      ]
     },
     "execution_count": 15,
     "metadata": {},
     "output_type": "execute_result"
    }
   ],
   "source": [
    "obs_player_0_units_position[0][0]"
   ]
  },
  {
   "cell_type": "code",
   "execution_count": 16,
   "id": "e3d7c6ab",
   "metadata": {},
   "outputs": [
    {
     "data": {
      "text/plain": [
       "numpy.ndarray"
      ]
     },
     "execution_count": 16,
     "metadata": {},
     "output_type": "execute_result"
    }
   ],
   "source": [
    "obs_player_0_units_energy = obs_player_0_units['energy']\n",
    "type(obs_player_0_units_energy)"
   ]
  },
  {
   "cell_type": "code",
   "execution_count": 17,
   "id": "f3f8ce2f",
   "metadata": {},
   "outputs": [
    {
     "data": {
      "text/plain": [
       "(2, 16)"
      ]
     },
     "execution_count": 17,
     "metadata": {},
     "output_type": "execute_result"
    }
   ],
   "source": [
    "obs_player_0_units_energy.shape"
   ]
  },
  {
   "cell_type": "code",
   "execution_count": 18,
   "id": "2fd786dc",
   "metadata": {},
   "outputs": [
    {
     "data": {
      "text/plain": [
       "array([[-1, -1, -1, -1, -1, -1, -1, -1, -1, -1, -1, -1, -1, -1, -1, -1],\n",
       "       [-1, -1, -1, -1, -1, -1, -1, -1, -1, -1, -1, -1, -1, -1, -1, -1]], dtype=int16)"
      ]
     },
     "execution_count": 18,
     "metadata": {},
     "output_type": "execute_result"
    }
   ],
   "source": [
    "obs_player_0_units_energy"
   ]
  },
  {
   "cell_type": "code",
   "execution_count": 19,
   "id": "b7e3dccc-ef38-48e1-9eaf-1f1ed6415d82",
   "metadata": {},
   "outputs": [
    {
     "data": {
      "text/plain": [
       "numpy.ndarray"
      ]
     },
     "execution_count": 19,
     "metadata": {},
     "output_type": "execute_result"
    }
   ],
   "source": [
    "obs_player_0_units_mask = obs_player_0['units_mask']\n",
    "type(obs_player_0_units_mask)"
   ]
  },
  {
   "cell_type": "code",
   "execution_count": 20,
   "id": "f63e772d-7567-4f59-8407-b563facd9e95",
   "metadata": {},
   "outputs": [
    {
     "data": {
      "text/plain": [
       "(2, 16)"
      ]
     },
     "execution_count": 20,
     "metadata": {},
     "output_type": "execute_result"
    }
   ],
   "source": [
    "obs_player_0_units_mask.shape"
   ]
  },
  {
   "cell_type": "code",
   "execution_count": 21,
   "id": "e52bb7cc-fe7e-4aeb-8989-897fb87ffbca",
   "metadata": {},
   "outputs": [
    {
     "data": {
      "text/plain": [
       "array([[False, False, False, False, False, False, False, False, False, False, False, False, False, False, False, False],\n",
       "       [False, False, False, False, False, False, False, False, False, False, False, False, False, False, False, False]])"
      ]
     },
     "execution_count": 21,
     "metadata": {},
     "output_type": "execute_result"
    }
   ],
   "source": [
    "obs_player_0_units_mask"
   ]
  },
  {
   "cell_type": "code",
   "execution_count": 22,
   "id": "d21d3d70-21ed-4e58-a4e2-0a84ddadce30",
   "metadata": {},
   "outputs": [
    {
     "data": {
      "text/plain": [
       "numpy.ndarray"
      ]
     },
     "execution_count": 22,
     "metadata": {},
     "output_type": "execute_result"
    }
   ],
   "source": [
    "obs_player_0_sensor_mask = obs_player_0['sensor_mask']\n",
    "type(obs_player_0_sensor_mask)"
   ]
  },
  {
   "cell_type": "code",
   "execution_count": 23,
   "id": "8b9d38b7-decd-4941-bd41-bda8adc50378",
   "metadata": {},
   "outputs": [
    {
     "data": {
      "text/plain": [
       "(24, 24)"
      ]
     },
     "execution_count": 23,
     "metadata": {},
     "output_type": "execute_result"
    }
   ],
   "source": [
    "obs_player_0_sensor_mask.shape"
   ]
  },
  {
   "cell_type": "code",
   "execution_count": 24,
   "id": "b13fc09e-8813-447c-b739-c09fe791dc08",
   "metadata": {
    "scrolled": true
   },
   "outputs": [
    {
     "data": {
      "text/plain": [
       "array([[False, False, False, False, False, False, False, False, False, False, False, False, False, False, False, False, False, False, False, False, False, False, False, False],\n",
       "       [False, False, False, False, False, False, False, False, False, False, False, False, False, False, False, False, False, False, False, False, False, False, False, False],\n",
       "       [False, False, False, False, False, False, False, False, False, False, False, False, False, False, False, False, False, False, False, False, False, False, False, False],\n",
       "       [False, False, False, False, False, False, False, False, False, False, False, False, False, False, False, False, False, False, False, False, False, False, False, False],\n",
       "       [False, False, False, False, False, False, False, False, False, False, False, False, False, False, False, False, False, False, False, False, False, False, False, False],\n",
       "       [False, False, False, False, False, False, False, False, False, False, False, False, False, False, False, False, False, False, False, False, False, False, False, False],\n",
       "       [False, False, False, False, False, False, False, False, False, False, False, False, False, False, False, False, False, False, False, False, False, False, False, False],\n",
       "       [False, False, False, False, False, False, False, False, False, False, False, False, False, False, False, False, False, False, False, False, False, False, False, False],\n",
       "       [False, False, False, False, False, False, False, False, False, False, False, False, False, False, False, False, False, False, False, False, False, False, False, False],\n",
       "       [False, False, False, False, False, False, False, False, False, False, False, False, False, False, False, False, False, False, False, False, False, False, False, False],\n",
       "       [False, False, False, False, False, False, False, False, False, False, False, False, False, False, False, False, False, False, False, False, False, False, False, False],\n",
       "       [False, False, False, False, False, False, False, False, False, False, False, False, False, False, False, False, False, False, False, False, False, False, False, False],\n",
       "       [False, False, False, False, False, False, False, False, False, False, False, False, False, False, False, False, False, False, False, False, False, False, False, False],\n",
       "       [False, False, False, False, False, False, False, False, False, False, False, False, False, False, False, False, False, False, False, False, False, False, False, False],\n",
       "       [False, False, False, False, False, False, False, False, False, False, False, False, False, False, False, False, False, False, False, False, False, False, False, False],\n",
       "       [False, False, False, False, False, False, False, False, False, False, False, False, False, False, False, False, False, False, False, False, False, False, False, False],\n",
       "       [False, False, False, False, False, False, False, False, False, False, False, False, False, False, False, False, False, False, False, False, False, False, False, False],\n",
       "       [False, False, False, False, False, False, False, False, False, False, False, False, False, False, False, False, False, False, False, False, False, False, False, False],\n",
       "       [False, False, False, False, False, False, False, False, False, False, False, False, False, False, False, False, False, False, False, False, False, False, False, False],\n",
       "       [False, False, False, False, False, False, False, False, False, False, False, False, False, False, False, False, False, False, False, False, False, False, False, False],\n",
       "       [False, False, False, False, False, False, False, False, False, False, False, False, False, False, False, False, False, False, False, False, False, False, False, False],\n",
       "       [False, False, False, False, False, False, False, False, False, False, False, False, False, False, False, False, False, False, False, False, False, False, False, False],\n",
       "       [False, False, False, False, False, False, False, False, False, False, False, False, False, False, False, False, False, False, False, False, False, False, False, False],\n",
       "       [False, False, False, False, False, False, False, False, False, False, False, False, False, False, False, False, False, False, False, False, False, False, False, False]])"
      ]
     },
     "execution_count": 24,
     "metadata": {},
     "output_type": "execute_result"
    }
   ],
   "source": [
    "obs_player_0_sensor_mask"
   ]
  },
  {
   "cell_type": "code",
   "execution_count": 25,
   "id": "6b7a1dce-d4d5-429a-be86-dc678a569949",
   "metadata": {},
   "outputs": [
    {
     "data": {
      "text/plain": [
       "dict"
      ]
     },
     "execution_count": 25,
     "metadata": {},
     "output_type": "execute_result"
    }
   ],
   "source": [
    "obs_player_0_map_features = obs_player_0['map_features']\n",
    "type(obs_player_0_map_features)"
   ]
  },
  {
   "cell_type": "code",
   "execution_count": 26,
   "id": "54b3851f-0e0f-4b0c-a9c7-e4e04ce89dba",
   "metadata": {},
   "outputs": [
    {
     "data": {
      "text/plain": [
       "dict_keys(['energy', 'tile_type'])"
      ]
     },
     "execution_count": 26,
     "metadata": {},
     "output_type": "execute_result"
    }
   ],
   "source": [
    "obs_player_0_map_features.keys()"
   ]
  },
  {
   "cell_type": "code",
   "execution_count": 27,
   "id": "5465b0f1-b51d-4b65-8680-0c328c210874",
   "metadata": {},
   "outputs": [
    {
     "data": {
      "text/plain": [
       "numpy.ndarray"
      ]
     },
     "execution_count": 27,
     "metadata": {},
     "output_type": "execute_result"
    }
   ],
   "source": [
    "obs_player_0_map_features_energy = obs_player_0_map_features['energy']\n",
    "type(obs_player_0_map_features_energy)"
   ]
  },
  {
   "cell_type": "code",
   "execution_count": 28,
   "id": "94dc6acc-e747-472f-9b39-00132cedf80d",
   "metadata": {},
   "outputs": [
    {
     "data": {
      "text/plain": [
       "(24, 24)"
      ]
     },
     "execution_count": 28,
     "metadata": {},
     "output_type": "execute_result"
    }
   ],
   "source": [
    "obs_player_0_map_features_energy.shape"
   ]
  },
  {
   "cell_type": "code",
   "execution_count": 29,
   "id": "3bf318e9-c848-44ca-b82c-08427e508b2b",
   "metadata": {},
   "outputs": [
    {
     "data": {
      "text/plain": [
       "array([[-1, -1, -1, -1, -1, -1, -1, -1, -1, -1, -1, -1, -1, -1, -1, -1, -1, -1, -1, -1, -1, -1, -1, -1],\n",
       "       [-1, -1, -1, -1, -1, -1, -1, -1, -1, -1, -1, -1, -1, -1, -1, -1, -1, -1, -1, -1, -1, -1, -1, -1],\n",
       "       [-1, -1, -1, -1, -1, -1, -1, -1, -1, -1, -1, -1, -1, -1, -1, -1, -1, -1, -1, -1, -1, -1, -1, -1],\n",
       "       [-1, -1, -1, -1, -1, -1, -1, -1, -1, -1, -1, -1, -1, -1, -1, -1, -1, -1, -1, -1, -1, -1, -1, -1],\n",
       "       [-1, -1, -1, -1, -1, -1, -1, -1, -1, -1, -1, -1, -1, -1, -1, -1, -1, -1, -1, -1, -1, -1, -1, -1],\n",
       "       [-1, -1, -1, -1, -1, -1, -1, -1, -1, -1, -1, -1, -1, -1, -1, -1, -1, -1, -1, -1, -1, -1, -1, -1],\n",
       "       [-1, -1, -1, -1, -1, -1, -1, -1, -1, -1, -1, -1, -1, -1, -1, -1, -1, -1, -1, -1, -1, -1, -1, -1],\n",
       "       [-1, -1, -1, -1, -1, -1, -1, -1, -1, -1, -1, -1, -1, -1, -1, -1, -1, -1, -1, -1, -1, -1, -1, -1],\n",
       "       [-1, -1, -1, -1, -1, -1, -1, -1, -1, -1, -1, -1, -1, -1, -1, -1, -1, -1, -1, -1, -1, -1, -1, -1],\n",
       "       [-1, -1, -1, -1, -1, -1, -1, -1, -1, -1, -1, -1, -1, -1, -1, -1, -1, -1, -1, -1, -1, -1, -1, -1],\n",
       "       [-1, -1, -1, -1, -1, -1, -1, -1, -1, -1, -1, -1, -1, -1, -1, -1, -1, -1, -1, -1, -1, -1, -1, -1],\n",
       "       [-1, -1, -1, -1, -1, -1, -1, -1, -1, -1, -1, -1, -1, -1, -1, -1, -1, -1, -1, -1, -1, -1, -1, -1],\n",
       "       [-1, -1, -1, -1, -1, -1, -1, -1, -1, -1, -1, -1, -1, -1, -1, -1, -1, -1, -1, -1, -1, -1, -1, -1],\n",
       "       [-1, -1, -1, -1, -1, -1, -1, -1, -1, -1, -1, -1, -1, -1, -1, -1, -1, -1, -1, -1, -1, -1, -1, -1],\n",
       "       [-1, -1, -1, -1, -1, -1, -1, -1, -1, -1, -1, -1, -1, -1, -1, -1, -1, -1, -1, -1, -1, -1, -1, -1],\n",
       "       [-1, -1, -1, -1, -1, -1, -1, -1, -1, -1, -1, -1, -1, -1, -1, -1, -1, -1, -1, -1, -1, -1, -1, -1],\n",
       "       [-1, -1, -1, -1, -1, -1, -1, -1, -1, -1, -1, -1, -1, -1, -1, -1, -1, -1, -1, -1, -1, -1, -1, -1],\n",
       "       [-1, -1, -1, -1, -1, -1, -1, -1, -1, -1, -1, -1, -1, -1, -1, -1, -1, -1, -1, -1, -1, -1, -1, -1],\n",
       "       [-1, -1, -1, -1, -1, -1, -1, -1, -1, -1, -1, -1, -1, -1, -1, -1, -1, -1, -1, -1, -1, -1, -1, -1],\n",
       "       [-1, -1, -1, -1, -1, -1, -1, -1, -1, -1, -1, -1, -1, -1, -1, -1, -1, -1, -1, -1, -1, -1, -1, -1],\n",
       "       [-1, -1, -1, -1, -1, -1, -1, -1, -1, -1, -1, -1, -1, -1, -1, -1, -1, -1, -1, -1, -1, -1, -1, -1],\n",
       "       [-1, -1, -1, -1, -1, -1, -1, -1, -1, -1, -1, -1, -1, -1, -1, -1, -1, -1, -1, -1, -1, -1, -1, -1],\n",
       "       [-1, -1, -1, -1, -1, -1, -1, -1, -1, -1, -1, -1, -1, -1, -1, -1, -1, -1, -1, -1, -1, -1, -1, -1],\n",
       "       [-1, -1, -1, -1, -1, -1, -1, -1, -1, -1, -1, -1, -1, -1, -1, -1, -1, -1, -1, -1, -1, -1, -1, -1]], dtype=int16)"
      ]
     },
     "execution_count": 29,
     "metadata": {},
     "output_type": "execute_result"
    }
   ],
   "source": [
    "obs_player_0_map_features_energy"
   ]
  },
  {
   "cell_type": "code",
   "execution_count": 30,
   "id": "f8dbe802-e92d-4448-ba98-5f301b006bb5",
   "metadata": {},
   "outputs": [
    {
     "data": {
      "text/plain": [
       "numpy.ndarray"
      ]
     },
     "execution_count": 30,
     "metadata": {},
     "output_type": "execute_result"
    }
   ],
   "source": [
    "obs_player_0_map_features_tile_type = obs_player_0_map_features['tile_type']\n",
    "type(obs_player_0_map_features_tile_type)"
   ]
  },
  {
   "cell_type": "code",
   "execution_count": 31,
   "id": "05c14515-d751-4ab4-9ed2-40ee7118f3ee",
   "metadata": {},
   "outputs": [
    {
     "data": {
      "text/plain": [
       "(24, 24)"
      ]
     },
     "execution_count": 31,
     "metadata": {},
     "output_type": "execute_result"
    }
   ],
   "source": [
    "obs_player_0_map_features_tile_type.shape"
   ]
  },
  {
   "cell_type": "code",
   "execution_count": 32,
   "id": "2886087c-c35a-42a8-8c84-02ea6f1217d1",
   "metadata": {},
   "outputs": [
    {
     "data": {
      "text/plain": [
       "array([[-1, -1, -1, -1, -1, -1, -1, -1, -1, -1, -1, -1, -1, -1, -1, -1, -1, -1, -1, -1, -1, -1, -1, -1],\n",
       "       [-1, -1, -1, -1, -1, -1, -1, -1, -1, -1, -1, -1, -1, -1, -1, -1, -1, -1, -1, -1, -1, -1, -1, -1],\n",
       "       [-1, -1, -1, -1, -1, -1, -1, -1, -1, -1, -1, -1, -1, -1, -1, -1, -1, -1, -1, -1, -1, -1, -1, -1],\n",
       "       [-1, -1, -1, -1, -1, -1, -1, -1, -1, -1, -1, -1, -1, -1, -1, -1, -1, -1, -1, -1, -1, -1, -1, -1],\n",
       "       [-1, -1, -1, -1, -1, -1, -1, -1, -1, -1, -1, -1, -1, -1, -1, -1, -1, -1, -1, -1, -1, -1, -1, -1],\n",
       "       [-1, -1, -1, -1, -1, -1, -1, -1, -1, -1, -1, -1, -1, -1, -1, -1, -1, -1, -1, -1, -1, -1, -1, -1],\n",
       "       [-1, -1, -1, -1, -1, -1, -1, -1, -1, -1, -1, -1, -1, -1, -1, -1, -1, -1, -1, -1, -1, -1, -1, -1],\n",
       "       [-1, -1, -1, -1, -1, -1, -1, -1, -1, -1, -1, -1, -1, -1, -1, -1, -1, -1, -1, -1, -1, -1, -1, -1],\n",
       "       [-1, -1, -1, -1, -1, -1, -1, -1, -1, -1, -1, -1, -1, -1, -1, -1, -1, -1, -1, -1, -1, -1, -1, -1],\n",
       "       [-1, -1, -1, -1, -1, -1, -1, -1, -1, -1, -1, -1, -1, -1, -1, -1, -1, -1, -1, -1, -1, -1, -1, -1],\n",
       "       [-1, -1, -1, -1, -1, -1, -1, -1, -1, -1, -1, -1, -1, -1, -1, -1, -1, -1, -1, -1, -1, -1, -1, -1],\n",
       "       [-1, -1, -1, -1, -1, -1, -1, -1, -1, -1, -1, -1, -1, -1, -1, -1, -1, -1, -1, -1, -1, -1, -1, -1],\n",
       "       [-1, -1, -1, -1, -1, -1, -1, -1, -1, -1, -1, -1, -1, -1, -1, -1, -1, -1, -1, -1, -1, -1, -1, -1],\n",
       "       [-1, -1, -1, -1, -1, -1, -1, -1, -1, -1, -1, -1, -1, -1, -1, -1, -1, -1, -1, -1, -1, -1, -1, -1],\n",
       "       [-1, -1, -1, -1, -1, -1, -1, -1, -1, -1, -1, -1, -1, -1, -1, -1, -1, -1, -1, -1, -1, -1, -1, -1],\n",
       "       [-1, -1, -1, -1, -1, -1, -1, -1, -1, -1, -1, -1, -1, -1, -1, -1, -1, -1, -1, -1, -1, -1, -1, -1],\n",
       "       [-1, -1, -1, -1, -1, -1, -1, -1, -1, -1, -1, -1, -1, -1, -1, -1, -1, -1, -1, -1, -1, -1, -1, -1],\n",
       "       [-1, -1, -1, -1, -1, -1, -1, -1, -1, -1, -1, -1, -1, -1, -1, -1, -1, -1, -1, -1, -1, -1, -1, -1],\n",
       "       [-1, -1, -1, -1, -1, -1, -1, -1, -1, -1, -1, -1, -1, -1, -1, -1, -1, -1, -1, -1, -1, -1, -1, -1],\n",
       "       [-1, -1, -1, -1, -1, -1, -1, -1, -1, -1, -1, -1, -1, -1, -1, -1, -1, -1, -1, -1, -1, -1, -1, -1],\n",
       "       [-1, -1, -1, -1, -1, -1, -1, -1, -1, -1, -1, -1, -1, -1, -1, -1, -1, -1, -1, -1, -1, -1, -1, -1],\n",
       "       [-1, -1, -1, -1, -1, -1, -1, -1, -1, -1, -1, -1, -1, -1, -1, -1, -1, -1, -1, -1, -1, -1, -1, -1],\n",
       "       [-1, -1, -1, -1, -1, -1, -1, -1, -1, -1, -1, -1, -1, -1, -1, -1, -1, -1, -1, -1, -1, -1, -1, -1],\n",
       "       [-1, -1, -1, -1, -1, -1, -1, -1, -1, -1, -1, -1, -1, -1, -1, -1, -1, -1, -1, -1, -1, -1, -1, -1]], dtype=int32)"
      ]
     },
     "execution_count": 32,
     "metadata": {},
     "output_type": "execute_result"
    }
   ],
   "source": [
    "obs_player_0_map_features_tile_type"
   ]
  },
  {
   "cell_type": "code",
   "execution_count": 33,
   "id": "510d622c-7b04-441c-b8cb-44b636d9285e",
   "metadata": {},
   "outputs": [
    {
     "data": {
      "text/plain": [
       "numpy.ndarray"
      ]
     },
     "execution_count": 33,
     "metadata": {},
     "output_type": "execute_result"
    }
   ],
   "source": [
    "obs_player_0_relic_nodes = obs_player_0['relic_nodes']\n",
    "type(obs_player_0_relic_nodes)"
   ]
  },
  {
   "cell_type": "code",
   "execution_count": 34,
   "id": "1d08eb20-07c3-417d-816f-c0f2baba3f21",
   "metadata": {},
   "outputs": [
    {
     "data": {
      "text/plain": [
       "(6, 2)"
      ]
     },
     "execution_count": 34,
     "metadata": {},
     "output_type": "execute_result"
    }
   ],
   "source": [
    "obs_player_0_relic_nodes.shape"
   ]
  },
  {
   "cell_type": "code",
   "execution_count": 35,
   "id": "4741671d-fd7a-4c99-8354-f490e1591b7e",
   "metadata": {},
   "outputs": [
    {
     "data": {
      "text/plain": [
       "array([[-1, -1],\n",
       "       [-1, -1],\n",
       "       [-1, -1],\n",
       "       [-1, -1],\n",
       "       [-1, -1],\n",
       "       [-1, -1]], dtype=int16)"
      ]
     },
     "execution_count": 35,
     "metadata": {},
     "output_type": "execute_result"
    }
   ],
   "source": [
    "obs_player_0_relic_nodes"
   ]
  },
  {
   "cell_type": "code",
   "execution_count": 36,
   "id": "5684d756-ccb4-4be4-9334-8e0fad787f2c",
   "metadata": {},
   "outputs": [
    {
     "data": {
      "text/plain": [
       "numpy.ndarray"
      ]
     },
     "execution_count": 36,
     "metadata": {},
     "output_type": "execute_result"
    }
   ],
   "source": [
    "obs_player_0_relic_nodes_mask = obs_player_0['relic_nodes_mask']\n",
    "type(obs_player_0_relic_nodes_mask)"
   ]
  },
  {
   "cell_type": "code",
   "execution_count": 37,
   "id": "ef5138b9-e9ba-4031-80f9-f5ef28cb7567",
   "metadata": {},
   "outputs": [
    {
     "data": {
      "text/plain": [
       "(6,)"
      ]
     },
     "execution_count": 37,
     "metadata": {},
     "output_type": "execute_result"
    }
   ],
   "source": [
    "obs_player_0_relic_nodes_mask.shape"
   ]
  },
  {
   "cell_type": "code",
   "execution_count": 38,
   "id": "08025b7b-26da-4880-bbf6-dea1a4530f98",
   "metadata": {},
   "outputs": [
    {
     "data": {
      "text/plain": [
       "array([False, False, False, False, False, False])"
      ]
     },
     "execution_count": 38,
     "metadata": {},
     "output_type": "execute_result"
    }
   ],
   "source": [
    "obs_player_0_relic_nodes_mask"
   ]
  },
  {
   "cell_type": "code",
   "execution_count": 39,
   "id": "dd6bf177",
   "metadata": {},
   "outputs": [
    {
     "data": {
      "text/plain": [
       "0"
      ]
     },
     "execution_count": 39,
     "metadata": {},
     "output_type": "execute_result"
    }
   ],
   "source": [
    "obs_player_0_relic_nodes_mask.sum()"
   ]
  },
  {
   "cell_type": "code",
   "execution_count": 40,
   "id": "0a5366df",
   "metadata": {},
   "outputs": [
    {
     "data": {
      "text/plain": [
       "6"
      ]
     },
     "execution_count": 40,
     "metadata": {},
     "output_type": "execute_result"
    }
   ],
   "source": [
    "obs_player_0_relic_nodes_mask.size"
   ]
  },
  {
   "cell_type": "code",
   "execution_count": 41,
   "id": "e26f7efb",
   "metadata": {},
   "outputs": [
    {
     "name": "stdout",
     "output_type": "stream",
     "text": [
      "Relic node 0 is not visible\n",
      "Relic node 1 is not visible\n",
      "Relic node 2 is not visible\n",
      "Relic node 3 is not visible\n",
      "Relic node 4 is not visible\n",
      "Relic node 5 is not visible\n"
     ]
    }
   ],
   "source": [
    "for i in range(obs_player_0_relic_nodes_mask.size):\n",
    "    if obs_player_0_relic_nodes_mask[i]:\n",
    "        print(f\"Relic node {i} is visible\")\n",
    "    else:\n",
    "        print(f\"Relic node {i} is not visible\")"
   ]
  },
  {
   "cell_type": "code",
   "execution_count": 42,
   "id": "8fa4aaed-9e94-473b-b835-53a51f33bbe3",
   "metadata": {},
   "outputs": [
    {
     "data": {
      "text/plain": [
       "numpy.ndarray"
      ]
     },
     "execution_count": 42,
     "metadata": {},
     "output_type": "execute_result"
    }
   ],
   "source": [
    "obs_player_0_steps = obs_player_0['steps']\n",
    "type(obs_player_0_steps)"
   ]
  },
  {
   "cell_type": "code",
   "execution_count": 43,
   "id": "6b8fdc98-a723-4199-8a8b-d885ded7660d",
   "metadata": {},
   "outputs": [
    {
     "data": {
      "text/plain": [
       "()"
      ]
     },
     "execution_count": 43,
     "metadata": {},
     "output_type": "execute_result"
    }
   ],
   "source": [
    "obs_player_0_steps.shape"
   ]
  },
  {
   "cell_type": "code",
   "execution_count": 44,
   "id": "371b20b2-572f-4bfb-9b97-b99c5a3e9fa2",
   "metadata": {},
   "outputs": [
    {
     "data": {
      "text/plain": [
       "array(0, dtype=int32)"
      ]
     },
     "execution_count": 44,
     "metadata": {},
     "output_type": "execute_result"
    }
   ],
   "source": [
    "obs_player_0_steps"
   ]
  },
  {
   "cell_type": "code",
   "execution_count": 45,
   "id": "78164cbc-b4a4-4047-80c1-38d3252e4059",
   "metadata": {},
   "outputs": [
    {
     "data": {
      "text/plain": [
       "numpy.ndarray"
      ]
     },
     "execution_count": 45,
     "metadata": {},
     "output_type": "execute_result"
    }
   ],
   "source": [
    "obs_player_0_match_steps = obs_player_0['match_steps']\n",
    "type(obs_player_0_match_steps)"
   ]
  },
  {
   "cell_type": "code",
   "execution_count": 46,
   "id": "6a499f9e-2f63-4095-a33e-7d4362eb6236",
   "metadata": {},
   "outputs": [
    {
     "data": {
      "text/plain": [
       "()"
      ]
     },
     "execution_count": 46,
     "metadata": {},
     "output_type": "execute_result"
    }
   ],
   "source": [
    "obs_player_0_match_steps.shape"
   ]
  },
  {
   "cell_type": "code",
   "execution_count": 47,
   "id": "5d29dff7-d5d8-43ed-ab21-6dd7954e5298",
   "metadata": {},
   "outputs": [
    {
     "data": {
      "text/plain": [
       "array(0, dtype=int32)"
      ]
     },
     "execution_count": 47,
     "metadata": {},
     "output_type": "execute_result"
    }
   ],
   "source": [
    "obs_player_0_match_steps"
   ]
  },
  {
   "cell_type": "markdown",
   "id": "ecce6ab4-cf90-4859-b57c-28b46452fcef",
   "metadata": {},
   "source": [
    "# info"
   ]
  },
  {
   "cell_type": "code",
   "execution_count": 48,
   "id": "00012831-1313-4e23-b94b-e3ca7a61a64c",
   "metadata": {},
   "outputs": [
    {
     "data": {
      "text/plain": [
       "dict"
      ]
     },
     "execution_count": 48,
     "metadata": {},
     "output_type": "execute_result"
    }
   ],
   "source": [
    "type(info)"
   ]
  },
  {
   "cell_type": "code",
   "execution_count": 49,
   "id": "3a81a55b-eea9-4168-9961-f722414abaaa",
   "metadata": {},
   "outputs": [
    {
     "data": {
      "text/plain": [
       "dict_keys(['params', 'full_params', 'state'])"
      ]
     },
     "execution_count": 49,
     "metadata": {},
     "output_type": "execute_result"
    }
   ],
   "source": [
    "info.keys()"
   ]
  },
  {
   "cell_type": "code",
   "execution_count": 50,
   "id": "a22936ff-2920-48a3-a3d5-3bc1640bf6fd",
   "metadata": {},
   "outputs": [
    {
     "data": {
      "text/plain": [
       "dict"
      ]
     },
     "execution_count": 50,
     "metadata": {},
     "output_type": "execute_result"
    }
   ],
   "source": [
    "info_params = info['params']\n",
    "type(info_params)"
   ]
  },
  {
   "cell_type": "code",
   "execution_count": 51,
   "id": "057825f4-b75c-4691-8b51-eef48f7fb371",
   "metadata": {},
   "outputs": [
    {
     "data": {
      "text/plain": [
       "dict_keys(['max_units', 'match_count_per_episode', 'max_steps_in_match', 'map_height', 'map_width', 'num_teams', 'unit_move_cost', 'unit_sap_cost', 'unit_sap_range', 'unit_sensor_range'])"
      ]
     },
     "execution_count": 51,
     "metadata": {},
     "output_type": "execute_result"
    }
   ],
   "source": [
    "info_params.keys()"
   ]
  },
  {
   "cell_type": "code",
   "execution_count": 52,
   "id": "6cb8b034-d38a-49bc-b002-383e01706e66",
   "metadata": {},
   "outputs": [
    {
     "data": {
      "text/plain": [
       "int"
      ]
     },
     "execution_count": 52,
     "metadata": {},
     "output_type": "execute_result"
    }
   ],
   "source": [
    "info_params_max_units = info_params['max_units']\n",
    "type(info_params_max_units)"
   ]
  },
  {
   "cell_type": "code",
   "execution_count": 53,
   "id": "7bd0a386-6213-4690-a6c7-89a0e61fd798",
   "metadata": {},
   "outputs": [
    {
     "data": {
      "text/plain": [
       "16"
      ]
     },
     "execution_count": 53,
     "metadata": {},
     "output_type": "execute_result"
    }
   ],
   "source": [
    "info_params_max_units"
   ]
  },
  {
   "cell_type": "code",
   "execution_count": 54,
   "id": "beb5be51-27ae-40d3-9009-5e69bda06bfa",
   "metadata": {},
   "outputs": [
    {
     "data": {
      "text/plain": [
       "int"
      ]
     },
     "execution_count": 54,
     "metadata": {},
     "output_type": "execute_result"
    }
   ],
   "source": [
    "info_params_match_count_per_episode = info_params['match_count_per_episode']\n",
    "type(info_params_match_count_per_episode)"
   ]
  },
  {
   "cell_type": "code",
   "execution_count": 55,
   "id": "8f75c984-a1a0-43a1-86fe-f97f536dc41c",
   "metadata": {},
   "outputs": [
    {
     "data": {
      "text/plain": [
       "5"
      ]
     },
     "execution_count": 55,
     "metadata": {},
     "output_type": "execute_result"
    }
   ],
   "source": [
    "info_params_match_count_per_episode"
   ]
  },
  {
   "cell_type": "code",
   "execution_count": 56,
   "id": "3210ddea-c077-4d94-878c-94f02eca7edb",
   "metadata": {},
   "outputs": [
    {
     "data": {
      "text/plain": [
       "int"
      ]
     },
     "execution_count": 56,
     "metadata": {},
     "output_type": "execute_result"
    }
   ],
   "source": [
    "info_params_max_steps_in_match = info_params['max_steps_in_match']\n",
    "type(info_params_max_steps_in_match)"
   ]
  },
  {
   "cell_type": "code",
   "execution_count": 57,
   "id": "dcd1df4d-3640-4f97-8e13-59ea06275531",
   "metadata": {},
   "outputs": [
    {
     "data": {
      "text/plain": [
       "100"
      ]
     },
     "execution_count": 57,
     "metadata": {},
     "output_type": "execute_result"
    }
   ],
   "source": [
    "info_params_max_steps_in_match"
   ]
  },
  {
   "cell_type": "code",
   "execution_count": 58,
   "id": "bfb13302-6b74-4e87-abbf-a7688e9f11d1",
   "metadata": {},
   "outputs": [
    {
     "data": {
      "text/plain": [
       "int"
      ]
     },
     "execution_count": 58,
     "metadata": {},
     "output_type": "execute_result"
    }
   ],
   "source": [
    "info_params_map_height = info_params['map_height']\n",
    "type(info_params_map_height)"
   ]
  },
  {
   "cell_type": "code",
   "execution_count": 59,
   "id": "9ae94521-f139-4b51-81bf-fe962b71eb69",
   "metadata": {},
   "outputs": [
    {
     "data": {
      "text/plain": [
       "24"
      ]
     },
     "execution_count": 59,
     "metadata": {},
     "output_type": "execute_result"
    }
   ],
   "source": [
    "info_params_map_height"
   ]
  },
  {
   "cell_type": "code",
   "execution_count": 60,
   "id": "fbcaa26d-77f7-40b1-832b-45d242d22866",
   "metadata": {},
   "outputs": [
    {
     "data": {
      "text/plain": [
       "int"
      ]
     },
     "execution_count": 60,
     "metadata": {},
     "output_type": "execute_result"
    }
   ],
   "source": [
    "info_params_map_width = info_params['map_width']\n",
    "type(info_params_map_width)"
   ]
  },
  {
   "cell_type": "code",
   "execution_count": 61,
   "id": "c8e51e6c-bc11-4bcd-aa90-1fb111fa2fb9",
   "metadata": {},
   "outputs": [
    {
     "data": {
      "text/plain": [
       "24"
      ]
     },
     "execution_count": 61,
     "metadata": {},
     "output_type": "execute_result"
    }
   ],
   "source": [
    "info_params_map_width"
   ]
  },
  {
   "cell_type": "code",
   "execution_count": 62,
   "id": "384f74c9-0d5f-4e30-9e6a-ac4293b776fb",
   "metadata": {},
   "outputs": [
    {
     "data": {
      "text/plain": [
       "int"
      ]
     },
     "execution_count": 62,
     "metadata": {},
     "output_type": "execute_result"
    }
   ],
   "source": [
    "info_params_num_teams = info_params['num_teams']\n",
    "type(info_params_num_teams)"
   ]
  },
  {
   "cell_type": "code",
   "execution_count": 63,
   "id": "16c5c1e0-9a05-40eb-8b61-fc1ab2f254c8",
   "metadata": {},
   "outputs": [
    {
     "data": {
      "text/plain": [
       "2"
      ]
     },
     "execution_count": 63,
     "metadata": {},
     "output_type": "execute_result"
    }
   ],
   "source": [
    "info_params_num_teams"
   ]
  },
  {
   "cell_type": "code",
   "execution_count": 64,
   "id": "27a6fa5a-eb10-4b65-86b6-b308a85e2c23",
   "metadata": {},
   "outputs": [
    {
     "data": {
      "text/plain": [
       "int"
      ]
     },
     "execution_count": 64,
     "metadata": {},
     "output_type": "execute_result"
    }
   ],
   "source": [
    "info_params_unit_move_cost = info_params['unit_move_cost']\n",
    "type(info_params_unit_move_cost)"
   ]
  },
  {
   "cell_type": "code",
   "execution_count": 65,
   "id": "9c0ad0f1-07e2-432b-9d2a-491fe25a7bc9",
   "metadata": {},
   "outputs": [
    {
     "data": {
      "text/plain": [
       "4"
      ]
     },
     "execution_count": 65,
     "metadata": {},
     "output_type": "execute_result"
    }
   ],
   "source": [
    "info_params_unit_move_cost"
   ]
  },
  {
   "cell_type": "code",
   "execution_count": 66,
   "id": "fc0b6d65-5954-4b43-bddb-63436cc5e1de",
   "metadata": {},
   "outputs": [
    {
     "data": {
      "text/plain": [
       "int"
      ]
     },
     "execution_count": 66,
     "metadata": {},
     "output_type": "execute_result"
    }
   ],
   "source": [
    "info_params_unit_sap_cost = info_params['unit_sap_cost']\n",
    "type(info_params_unit_sap_cost)"
   ]
  },
  {
   "cell_type": "code",
   "execution_count": 67,
   "id": "94ed10f2-0719-4d90-a34f-686fb3e9860b",
   "metadata": {},
   "outputs": [
    {
     "data": {
      "text/plain": [
       "45"
      ]
     },
     "execution_count": 67,
     "metadata": {},
     "output_type": "execute_result"
    }
   ],
   "source": [
    "info_params_unit_sap_cost"
   ]
  },
  {
   "cell_type": "code",
   "execution_count": 68,
   "id": "ad10e79a-4f03-4811-8ee9-a35080a5dcc9",
   "metadata": {},
   "outputs": [
    {
     "data": {
      "text/plain": [
       "int"
      ]
     },
     "execution_count": 68,
     "metadata": {},
     "output_type": "execute_result"
    }
   ],
   "source": [
    "info_params_unit_sap_range = info_params['unit_sap_range']\n",
    "type(info_params_unit_sap_range)"
   ]
  },
  {
   "cell_type": "code",
   "execution_count": 69,
   "id": "1131a284-97b3-4a08-b3e9-84d08b9fb35c",
   "metadata": {},
   "outputs": [
    {
     "data": {
      "text/plain": [
       "3"
      ]
     },
     "execution_count": 69,
     "metadata": {},
     "output_type": "execute_result"
    }
   ],
   "source": [
    "info_params_unit_sap_range"
   ]
  },
  {
   "cell_type": "code",
   "execution_count": 70,
   "id": "59420499-0db3-45fa-b1ca-425eced9fbf0",
   "metadata": {},
   "outputs": [
    {
     "data": {
      "text/plain": [
       "int"
      ]
     },
     "execution_count": 70,
     "metadata": {},
     "output_type": "execute_result"
    }
   ],
   "source": [
    "info_params_unit_sensor_range = info_params['unit_sensor_range']\n",
    "type(info_params_unit_sensor_range)"
   ]
  },
  {
   "cell_type": "code",
   "execution_count": 71,
   "id": "008a3e5b-40ec-49a5-9e51-49c8042ee65f",
   "metadata": {},
   "outputs": [
    {
     "data": {
      "text/plain": [
       "2"
      ]
     },
     "execution_count": 71,
     "metadata": {},
     "output_type": "execute_result"
    }
   ],
   "source": [
    "info_params_unit_sensor_range"
   ]
  },
  {
   "cell_type": "code",
   "execution_count": 72,
   "id": "fa04e5a1-9ae6-40ce-b480-4071cf21dbd5",
   "metadata": {},
   "outputs": [
    {
     "data": {
      "text/plain": [
       "dict"
      ]
     },
     "execution_count": 72,
     "metadata": {},
     "output_type": "execute_result"
    }
   ],
   "source": [
    "info_full_params = info['full_params']\n",
    "type(info_full_params)"
   ]
  },
  {
   "cell_type": "code",
   "execution_count": 73,
   "id": "3b096236-b5a2-4d32-97c9-c7606978d089",
   "metadata": {},
   "outputs": [
    {
     "data": {
      "text/plain": [
       "dict_keys(['max_steps_in_match', 'map_type', 'map_width', 'map_height', 'num_teams', 'match_count_per_episode', 'max_units', 'init_unit_energy', 'min_unit_energy', 'max_unit_energy', 'unit_move_cost', 'spawn_rate', 'unit_sap_cost', 'unit_sap_range', 'unit_sap_dropoff_factor', 'unit_energy_void_factor', 'max_energy_nodes', 'max_energy_per_tile', 'min_energy_per_tile', 'max_relic_nodes', 'relic_config_size', 'fog_of_war', 'unit_sensor_range', 'nebula_tile_vision_reduction', 'nebula_tile_energy_reduction', 'nebula_tile_drift_speed', 'energy_node_drift_speed', 'energy_node_drift_magnitude'])"
      ]
     },
     "execution_count": 73,
     "metadata": {},
     "output_type": "execute_result"
    }
   ],
   "source": [
    "info_full_params.keys()"
   ]
  },
  {
   "cell_type": "code",
   "execution_count": 74,
   "id": "fdec5cbd-5344-42ba-981a-f6d9c7865010",
   "metadata": {},
   "outputs": [
    {
     "name": "stdout",
     "output_type": "stream",
     "text": [
      "max_steps_in_match\n",
      "<class 'int'>\n",
      "100\n",
      "map_type\n",
      "<class 'int'>\n",
      "1\n",
      "map_width\n",
      "<class 'int'>\n",
      "24\n",
      "map_height\n",
      "<class 'int'>\n",
      "24\n",
      "num_teams\n",
      "<class 'int'>\n",
      "2\n",
      "match_count_per_episode\n",
      "<class 'int'>\n",
      "5\n",
      "max_units\n",
      "<class 'int'>\n",
      "16\n",
      "init_unit_energy\n",
      "<class 'int'>\n",
      "100\n",
      "min_unit_energy\n",
      "<class 'int'>\n",
      "0\n",
      "max_unit_energy\n",
      "<class 'int'>\n",
      "400\n",
      "unit_move_cost\n",
      "<class 'int'>\n",
      "4\n",
      "spawn_rate\n",
      "<class 'int'>\n",
      "3\n",
      "unit_sap_cost\n",
      "<class 'int'>\n",
      "45\n",
      "unit_sap_range\n",
      "<class 'int'>\n",
      "3\n",
      "unit_sap_dropoff_factor\n",
      "<class 'float'>\n",
      "1.0\n",
      "unit_energy_void_factor\n",
      "<class 'float'>\n",
      "0.0625\n",
      "max_energy_nodes\n",
      "<class 'int'>\n",
      "6\n",
      "max_energy_per_tile\n",
      "<class 'int'>\n",
      "20\n",
      "min_energy_per_tile\n",
      "<class 'int'>\n",
      "-20\n",
      "max_relic_nodes\n",
      "<class 'int'>\n",
      "6\n",
      "relic_config_size\n",
      "<class 'int'>\n",
      "5\n",
      "fog_of_war\n",
      "<class 'bool'>\n",
      "True\n",
      "unit_sensor_range\n",
      "<class 'int'>\n",
      "2\n",
      "nebula_tile_vision_reduction\n",
      "<class 'int'>\n",
      "5\n",
      "nebula_tile_energy_reduction\n",
      "<class 'int'>\n",
      "5\n",
      "nebula_tile_drift_speed\n",
      "<class 'float'>\n",
      "0.10000000149011612\n",
      "energy_node_drift_speed\n",
      "<class 'float'>\n",
      "0.05000000074505806\n",
      "energy_node_drift_magnitude\n",
      "<class 'int'>\n",
      "4\n"
     ]
    }
   ],
   "source": [
    "for key in info_full_params.keys():\n",
    "    print(key)\n",
    "    print(type(info_full_params[key]))\n",
    "    print(info_full_params[key])    "
   ]
  },
  {
   "cell_type": "code",
   "execution_count": 75,
   "id": "8aeb2dec-927c-4660-9d86-3b1203ce647e",
   "metadata": {},
   "outputs": [
    {
     "data": {
      "text/plain": [
       "luxai_s3.state.EnvState"
      ]
     },
     "execution_count": 75,
     "metadata": {},
     "output_type": "execute_result"
    }
   ],
   "source": [
    "info_state = info['state']\n",
    "type(info_state)"
   ]
  },
  {
   "cell_type": "code",
   "execution_count": 76,
   "id": "767cedfc-3820-464c-9042-84dbb12d64a7",
   "metadata": {},
   "outputs": [
    {
     "data": {
      "text/plain": [
       "['__annotations__',\n",
       " '__class__',\n",
       " '__dataclass_fields__',\n",
       " '__dataclass_params__',\n",
       " '__delattr__',\n",
       " '__dict__',\n",
       " '__dir__',\n",
       " '__doc__',\n",
       " '__eq__',\n",
       " '__format__',\n",
       " '__ge__',\n",
       " '__getattribute__',\n",
       " '__getstate__',\n",
       " '__gt__',\n",
       " '__hash__',\n",
       " '__init__',\n",
       " '__init_subclass__',\n",
       " '__le__',\n",
       " '__lt__',\n",
       " '__match_args__',\n",
       " '__module__',\n",
       " '__ne__',\n",
       " '__new__',\n",
       " '__reduce__',\n",
       " '__reduce_ex__',\n",
       " '__repr__',\n",
       " '__setattr__',\n",
       " '__sizeof__',\n",
       " '__str__',\n",
       " '__subclasshook__',\n",
       " '__weakref__',\n",
       " '_flax_dataclass',\n",
       " 'energy_node_fns',\n",
       " 'energy_nodes',\n",
       " 'energy_nodes_mask',\n",
       " 'map_features',\n",
       " 'match_steps',\n",
       " 'relic_node_configs',\n",
       " 'relic_nodes',\n",
       " 'relic_nodes_map_weights',\n",
       " 'relic_nodes_mask',\n",
       " 'relic_spawn_schedule',\n",
       " 'replace',\n",
       " 'sensor_mask',\n",
       " 'steps',\n",
       " 'team_points',\n",
       " 'team_wins',\n",
       " 'units',\n",
       " 'units_mask',\n",
       " 'vision_power_map']"
      ]
     },
     "execution_count": 76,
     "metadata": {},
     "output_type": "execute_result"
    }
   ],
   "source": [
    "dir(info_state)"
   ]
  },
  {
   "cell_type": "code",
   "execution_count": 77,
   "id": "706c1849-046f-4879-89eb-0953a5f4eb97",
   "metadata": {
    "scrolled": true
   },
   "outputs": [
    {
     "data": {
      "text/plain": [
       "dict_keys(['units', 'units_mask', 'energy_nodes', 'energy_node_fns', 'energy_nodes_mask', 'relic_nodes', 'relic_node_configs', 'relic_nodes_mask', 'relic_nodes_map_weights', 'relic_spawn_schedule', 'map_features', 'sensor_mask', 'vision_power_map', 'team_points', 'team_wins', 'steps', 'match_steps'])"
      ]
     },
     "execution_count": 77,
     "metadata": {},
     "output_type": "execute_result"
    }
   ],
   "source": [
    "info_state.__dict__.keys()"
   ]
  },
  {
   "cell_type": "code",
   "execution_count": 78,
   "id": "e175e6b4-a535-43d5-8f5d-d2f06f24553f",
   "metadata": {},
   "outputs": [
    {
     "data": {
      "text/plain": [
       "(2, 16, 2)"
      ]
     },
     "execution_count": 78,
     "metadata": {},
     "output_type": "execute_result"
    }
   ],
   "source": [
    "info_state.units.position.shape"
   ]
  },
  {
   "cell_type": "markdown",
   "id": "54ffeb65",
   "metadata": {},
   "source": [
    "# Agent test and next steps"
   ]
  },
  {
   "cell_type": "code",
   "execution_count": 79,
   "id": "2b66da26",
   "metadata": {},
   "outputs": [],
   "source": [
    "from lux.utils import direction_to\n",
    "import sys\n",
    "import numpy as np\n",
    "class Agent():\n",
    "    def __init__(self, player: str, env_cfg) -> None:\n",
    "        self.player = player\n",
    "        self.opp_player = \"player_1\" if self.player == \"player_0\" else \"player_0\"\n",
    "        self.team_id = 0 if self.player == \"player_0\" else 1\n",
    "        self.opp_team_id = 1 if self.team_id == 0 else 0\n",
    "        np.random.seed(0)\n",
    "        self.env_cfg = env_cfg\n",
    "        \n",
    "        self.relic_node_positions = []\n",
    "        self.discovered_relic_nodes_ids = set()\n",
    "        self.unit_explore_locations = dict()\n",
    "\n",
    "    def act(self, step: int, obs, remainingOverageTime: int = 60):\n",
    "        \"\"\"implement this function to decide what actions to send to each available unit. \n",
    "        \n",
    "        step is the current timestep number of the game starting from 0 going up to max_steps_in_match * match_count_per_episode - 1.\n",
    "        \"\"\"\n",
    "        unit_mask = np.array(obs[\"units_mask\"][self.team_id]) # shape (max_units, )\n",
    "        unit_positions = np.array(obs[\"units\"][\"position\"][self.team_id]) # shape (max_units, 2)\n",
    "        unit_energys = np.array(obs[\"units\"][\"energy\"][self.team_id]) # shape (max_units, 1)\n",
    "        observed_relic_node_positions = np.array(obs[\"relic_nodes\"]) # shape (max_relic_nodes, 2)\n",
    "        observed_relic_nodes_mask = np.array(obs[\"relic_nodes_mask\"]) # shape (max_relic_nodes, )\n",
    "        team_points = np.array(obs[\"team_points\"]) # points of each team, team_points[self.team_id] is the points of the your team\n",
    "        \n",
    "        # ids of units you can control at this timestep\n",
    "        available_unit_ids = np.where(unit_mask)[0]\n",
    "        # visible relic nodes\n",
    "        visible_relic_node_ids = set(np.where(observed_relic_nodes_mask)[0])\n",
    "        \n",
    "        actions = np.zeros((self.env_cfg[\"max_units\"], 3), dtype=int)\n",
    "\n",
    "\n",
    "        # basic strategy here is simply to have some units randomly explore and some units collecting as much energy as possible\n",
    "        # and once a relic node is found, we send all units to move randomly around the first relic node to gain points\n",
    "        # and information about where relic nodes are found are saved for the next match\n",
    "        \n",
    "        # save any new relic nodes that we discover for the rest of the game.\n",
    "        for id in visible_relic_node_ids:\n",
    "            if id not in self.discovered_relic_nodes_ids:\n",
    "                self.discovered_relic_nodes_ids.add(id)\n",
    "                self.relic_node_positions.append(observed_relic_node_positions[id])\n",
    "            \n",
    "\n",
    "        # unit ids range from 0 to max_units - 1\n",
    "        for unit_id in available_unit_ids:\n",
    "            unit_pos = unit_positions[unit_id]\n",
    "            unit_energy = unit_energys[unit_id]\n",
    "            if len(self.relic_node_positions) > 0:\n",
    "                nearest_relic_node_position = self.relic_node_positions[0]\n",
    "                manhattan_distance = abs(unit_pos[0] - nearest_relic_node_position[0]) + abs(unit_pos[1] - nearest_relic_node_position[1])\n",
    "                \n",
    "                # if close to the relic node we want to hover around it and hope to gain points\n",
    "                if manhattan_distance <= 4:\n",
    "                    random_direction = np.random.randint(0, 5)\n",
    "                    actions[unit_id] = [random_direction, 0, 0]\n",
    "                else:\n",
    "                    # otherwise we want to move towards the relic node\n",
    "                    actions[unit_id] = [direction_to(unit_pos, nearest_relic_node_position), 0, 0]\n",
    "            else:\n",
    "                # randomly explore by picking a random location on the map and moving there for about 20 steps\n",
    "                if step % 20 == 0 or unit_id not in self.unit_explore_locations:\n",
    "                    rand_loc = (np.random.randint(0, self.env_cfg[\"map_width\"]), np.random.randint(0, self.env_cfg[\"map_height\"]))\n",
    "                    self.unit_explore_locations[unit_id] = rand_loc\n",
    "                actions[unit_id] = [direction_to(unit_pos, self.unit_explore_locations[unit_id]), 0, 0]\n",
    "        return actions"
   ]
  },
  {
   "cell_type": "code",
   "execution_count": 80,
   "id": "317e5a7c",
   "metadata": {},
   "outputs": [],
   "source": [
    "agent0 = Agent(\"player_0\", info_params)\n",
    "agent1 = Agent(\"player_1\", info_params)"
   ]
  },
  {
   "cell_type": "code",
   "execution_count": 81,
   "id": "06022062",
   "metadata": {},
   "outputs": [],
   "source": [
    "actions0 = agent0.act(obs['player_0']['steps'], obs['player_0'])\n",
    "actions1 = agent1.act(obs['player_1']['steps'], obs['player_1'])"
   ]
  },
  {
   "cell_type": "code",
   "execution_count": 82,
   "id": "e43945f8",
   "metadata": {},
   "outputs": [
    {
     "data": {
      "text/plain": [
       "array([[0, 0, 0],\n",
       "       [0, 0, 0],\n",
       "       [0, 0, 0],\n",
       "       [0, 0, 0],\n",
       "       [0, 0, 0],\n",
       "       [0, 0, 0],\n",
       "       [0, 0, 0],\n",
       "       [0, 0, 0],\n",
       "       [0, 0, 0],\n",
       "       [0, 0, 0],\n",
       "       [0, 0, 0],\n",
       "       [0, 0, 0],\n",
       "       [0, 0, 0],\n",
       "       [0, 0, 0],\n",
       "       [0, 0, 0],\n",
       "       [0, 0, 0]])"
      ]
     },
     "execution_count": 82,
     "metadata": {},
     "output_type": "execute_result"
    }
   ],
   "source": [
    "actions0"
   ]
  },
  {
   "cell_type": "code",
   "execution_count": 83,
   "id": "f05c17f7-6796-40db-9a0e-00ef31a919ff",
   "metadata": {},
   "outputs": [],
   "source": [
    "next_obs, reward, terminated, truncated, info = env.step({\n",
    "    \"player_0\": actions0,\n",
    "    \"player_1\": actions1\n",
    "})"
   ]
  },
  {
   "cell_type": "code",
   "execution_count": 84,
   "id": "f60a3d36",
   "metadata": {},
   "outputs": [
    {
     "data": {
      "text/plain": [
       "dict_keys(['player_0', 'player_1'])"
      ]
     },
     "execution_count": 84,
     "metadata": {},
     "output_type": "execute_result"
    }
   ],
   "source": [
    "next_obs.keys()"
   ]
  },
  {
   "cell_type": "code",
   "execution_count": 85,
   "id": "78a8c9da",
   "metadata": {},
   "outputs": [
    {
     "data": {
      "text/plain": [
       "dict_keys(['units', 'units_mask', 'sensor_mask', 'map_features', 'relic_nodes', 'relic_nodes_mask', 'team_points', 'team_wins', 'steps', 'match_steps'])"
      ]
     },
     "execution_count": 85,
     "metadata": {},
     "output_type": "execute_result"
    }
   ],
   "source": [
    "next_obs['player_0'].keys()"
   ]
  },
  {
   "cell_type": "code",
   "execution_count": 86,
   "id": "fcf07cef",
   "metadata": {},
   "outputs": [
    {
     "data": {
      "text/plain": [
       "{'player_0': array(0, dtype=int32), 'player_1': array(0, dtype=int32)}"
      ]
     },
     "execution_count": 86,
     "metadata": {},
     "output_type": "execute_result"
    }
   ],
   "source": [
    "reward"
   ]
  },
  {
   "cell_type": "code",
   "execution_count": 87,
   "id": "a97be014",
   "metadata": {},
   "outputs": [
    {
     "data": {
      "text/plain": [
       "{'player_0': array(False), 'player_1': array(False)}"
      ]
     },
     "execution_count": 87,
     "metadata": {},
     "output_type": "execute_result"
    }
   ],
   "source": [
    "terminated"
   ]
  },
  {
   "cell_type": "code",
   "execution_count": 88,
   "id": "47ebccf9",
   "metadata": {},
   "outputs": [
    {
     "data": {
      "text/plain": [
       "{'player_0': array(False), 'player_1': array(False)}"
      ]
     },
     "execution_count": 88,
     "metadata": {},
     "output_type": "execute_result"
    }
   ],
   "source": [
    "truncated"
   ]
  },
  {
   "cell_type": "code",
   "execution_count": 89,
   "id": "1706cab9",
   "metadata": {},
   "outputs": [
    {
     "data": {
      "text/plain": [
       "dict_keys(['discount', 'final_observation', 'final_state', 'player_0', 'player_1'])"
      ]
     },
     "execution_count": 89,
     "metadata": {},
     "output_type": "execute_result"
    }
   ],
   "source": [
    "info.keys()"
   ]
  },
  {
   "cell_type": "code",
   "execution_count": 90,
   "id": "79b0cbb9",
   "metadata": {},
   "outputs": [
    {
     "data": {
      "text/plain": [
       "Array(1., dtype=float32, weak_type=True)"
      ]
     },
     "execution_count": 90,
     "metadata": {},
     "output_type": "execute_result"
    }
   ],
   "source": [
    "info['discount']"
   ]
  },
  {
   "cell_type": "code",
   "execution_count": 91,
   "id": "64478fc0",
   "metadata": {},
   "outputs": [
    {
     "data": {
      "text/plain": [
       "{'player_0': EnvObs(units=UnitState(position=Array([[[ 0,  0],\n",
       "         [-1, -1],\n",
       "         [-1, -1],\n",
       "         [-1, -1],\n",
       "         [-1, -1],\n",
       "         [-1, -1],\n",
       "         [-1, -1],\n",
       "         [-1, -1],\n",
       "         [-1, -1],\n",
       "         [-1, -1],\n",
       "         [-1, -1],\n",
       "         [-1, -1],\n",
       "         [-1, -1],\n",
       "         [-1, -1],\n",
       "         [-1, -1],\n",
       "         [-1, -1]],\n",
       " \n",
       "        [[-1, -1],\n",
       "         [-1, -1],\n",
       "         [-1, -1],\n",
       "         [-1, -1],\n",
       "         [-1, -1],\n",
       "         [-1, -1],\n",
       "         [-1, -1],\n",
       "         [-1, -1],\n",
       "         [-1, -1],\n",
       "         [-1, -1],\n",
       "         [-1, -1],\n",
       "         [-1, -1],\n",
       "         [-1, -1],\n",
       "         [-1, -1],\n",
       "         [-1, -1],\n",
       "         [-1, -1]]], dtype=int16), energy=Array([[100,  -1,  -1,  -1,  -1,  -1,  -1,  -1,  -1,  -1,  -1,  -1,  -1,  -1,  -1,  -1],\n",
       "        [ -1,  -1,  -1,  -1,  -1,  -1,  -1,  -1,  -1,  -1,  -1,  -1,  -1,  -1,  -1,  -1]], dtype=int16)), units_mask=Array([[ True, False, False, False, False, False, False, False, False, False, False, False, False, False, False, False],\n",
       "        [False, False, False, False, False, False, False, False, False, False, False, False, False, False, False, False]], dtype=bool), sensor_mask=Array([[ True,  True,  True, False, False, False, False, False, False, False, False, False, False, False, False, False, False, False, False, False, False, False, False, False],\n",
       "        [ True,  True,  True, False, False, False, False, False, False, False, False, False, False, False, False, False, False, False, False, False, False, False, False, False],\n",
       "        [ True,  True,  True, False, False, False, False, False, False, False, False, False, False, False, False, False, False, False, False, False, False, False, False, False],\n",
       "        [False, False, False, False, False, False, False, False, False, False, False, False, False, False, False, False, False, False, False, False, False, False, False, False],\n",
       "        [False, False, False, False, False, False, False, False, False, False, False, False, False, False, False, False, False, False, False, False, False, False, False, False],\n",
       "        [False, False, False, False, False, False, False, False, False, False, False, False, False, False, False, False, False, False, False, False, False, False, False, False],\n",
       "        [False, False, False, False, False, False, False, False, False, False, False, False, False, False, False, False, False, False, False, False, False, False, False, False],\n",
       "        [False, False, False, False, False, False, False, False, False, False, False, False, False, False, False, False, False, False, False, False, False, False, False, False],\n",
       "        [False, False, False, False, False, False, False, False, False, False, False, False, False, False, False, False, False, False, False, False, False, False, False, False],\n",
       "        [False, False, False, False, False, False, False, False, False, False, False, False, False, False, False, False, False, False, False, False, False, False, False, False],\n",
       "        [False, False, False, False, False, False, False, False, False, False, False, False, False, False, False, False, False, False, False, False, False, False, False, False],\n",
       "        [False, False, False, False, False, False, False, False, False, False, False, False, False, False, False, False, False, False, False, False, False, False, False, False],\n",
       "        [False, False, False, False, False, False, False, False, False, False, False, False, False, False, False, False, False, False, False, False, False, False, False, False],\n",
       "        [False, False, False, False, False, False, False, False, False, False, False, False, False, False, False, False, False, False, False, False, False, False, False, False],\n",
       "        [False, False, False, False, False, False, False, False, False, False, False, False, False, False, False, False, False, False, False, False, False, False, False, False],\n",
       "        [False, False, False, False, False, False, False, False, False, False, False, False, False, False, False, False, False, False, False, False, False, False, False, False],\n",
       "        [False, False, False, False, False, False, False, False, False, False, False, False, False, False, False, False, False, False, False, False, False, False, False, False],\n",
       "        [False, False, False, False, False, False, False, False, False, False, False, False, False, False, False, False, False, False, False, False, False, False, False, False],\n",
       "        [False, False, False, False, False, False, False, False, False, False, False, False, False, False, False, False, False, False, False, False, False, False, False, False],\n",
       "        [False, False, False, False, False, False, False, False, False, False, False, False, False, False, False, False, False, False, False, False, False, False, False, False],\n",
       "        [False, False, False, False, False, False, False, False, False, False, False, False, False, False, False, False, False, False, False, False, False, False, False, False],\n",
       "        [False, False, False, False, False, False, False, False, False, False, False, False, False, False, False, False, False, False, False, False, False, False, False, False],\n",
       "        [False, False, False, False, False, False, False, False, False, False, False, False, False, False, False, False, False, False, False, False, False, False, False, False],\n",
       "        [False, False, False, False, False, False, False, False, False, False, False, False, False, False, False, False, False, False, False, False, False, False, False, False]], dtype=bool), map_features=MapTile(energy=Array([[ 6,  5,  2, -1, -1, -1, -1, -1, -1, -1, -1, -1, -1, -1, -1, -1, -1, -1, -1, -1, -1, -1, -1, -1],\n",
       "        [ 6,  2, -1, -1, -1, -1, -1, -1, -1, -1, -1, -1, -1, -1, -1, -1, -1, -1, -1, -1, -1, -1, -1, -1],\n",
       "        [ 4, -1, -3, -1, -1, -1, -1, -1, -1, -1, -1, -1, -1, -1, -1, -1, -1, -1, -1, -1, -1, -1, -1, -1],\n",
       "        [-1, -1, -1, -1, -1, -1, -1, -1, -1, -1, -1, -1, -1, -1, -1, -1, -1, -1, -1, -1, -1, -1, -1, -1],\n",
       "        [-1, -1, -1, -1, -1, -1, -1, -1, -1, -1, -1, -1, -1, -1, -1, -1, -1, -1, -1, -1, -1, -1, -1, -1],\n",
       "        [-1, -1, -1, -1, -1, -1, -1, -1, -1, -1, -1, -1, -1, -1, -1, -1, -1, -1, -1, -1, -1, -1, -1, -1],\n",
       "        [-1, -1, -1, -1, -1, -1, -1, -1, -1, -1, -1, -1, -1, -1, -1, -1, -1, -1, -1, -1, -1, -1, -1, -1],\n",
       "        [-1, -1, -1, -1, -1, -1, -1, -1, -1, -1, -1, -1, -1, -1, -1, -1, -1, -1, -1, -1, -1, -1, -1, -1],\n",
       "        [-1, -1, -1, -1, -1, -1, -1, -1, -1, -1, -1, -1, -1, -1, -1, -1, -1, -1, -1, -1, -1, -1, -1, -1],\n",
       "        [-1, -1, -1, -1, -1, -1, -1, -1, -1, -1, -1, -1, -1, -1, -1, -1, -1, -1, -1, -1, -1, -1, -1, -1],\n",
       "        [-1, -1, -1, -1, -1, -1, -1, -1, -1, -1, -1, -1, -1, -1, -1, -1, -1, -1, -1, -1, -1, -1, -1, -1],\n",
       "        [-1, -1, -1, -1, -1, -1, -1, -1, -1, -1, -1, -1, -1, -1, -1, -1, -1, -1, -1, -1, -1, -1, -1, -1],\n",
       "        [-1, -1, -1, -1, -1, -1, -1, -1, -1, -1, -1, -1, -1, -1, -1, -1, -1, -1, -1, -1, -1, -1, -1, -1],\n",
       "        [-1, -1, -1, -1, -1, -1, -1, -1, -1, -1, -1, -1, -1, -1, -1, -1, -1, -1, -1, -1, -1, -1, -1, -1],\n",
       "        [-1, -1, -1, -1, -1, -1, -1, -1, -1, -1, -1, -1, -1, -1, -1, -1, -1, -1, -1, -1, -1, -1, -1, -1],\n",
       "        [-1, -1, -1, -1, -1, -1, -1, -1, -1, -1, -1, -1, -1, -1, -1, -1, -1, -1, -1, -1, -1, -1, -1, -1],\n",
       "        [-1, -1, -1, -1, -1, -1, -1, -1, -1, -1, -1, -1, -1, -1, -1, -1, -1, -1, -1, -1, -1, -1, -1, -1],\n",
       "        [-1, -1, -1, -1, -1, -1, -1, -1, -1, -1, -1, -1, -1, -1, -1, -1, -1, -1, -1, -1, -1, -1, -1, -1],\n",
       "        [-1, -1, -1, -1, -1, -1, -1, -1, -1, -1, -1, -1, -1, -1, -1, -1, -1, -1, -1, -1, -1, -1, -1, -1],\n",
       "        [-1, -1, -1, -1, -1, -1, -1, -1, -1, -1, -1, -1, -1, -1, -1, -1, -1, -1, -1, -1, -1, -1, -1, -1],\n",
       "        [-1, -1, -1, -1, -1, -1, -1, -1, -1, -1, -1, -1, -1, -1, -1, -1, -1, -1, -1, -1, -1, -1, -1, -1],\n",
       "        [-1, -1, -1, -1, -1, -1, -1, -1, -1, -1, -1, -1, -1, -1, -1, -1, -1, -1, -1, -1, -1, -1, -1, -1],\n",
       "        [-1, -1, -1, -1, -1, -1, -1, -1, -1, -1, -1, -1, -1, -1, -1, -1, -1, -1, -1, -1, -1, -1, -1, -1],\n",
       "        [-1, -1, -1, -1, -1, -1, -1, -1, -1, -1, -1, -1, -1, -1, -1, -1, -1, -1, -1, -1, -1, -1, -1, -1]], dtype=int16), tile_type=Array([[ 0,  0,  0, -1, -1, -1, -1, -1, -1, -1, -1, -1, -1, -1, -1, -1, -1, -1, -1, -1, -1, -1, -1, -1],\n",
       "        [ 0,  0,  0, -1, -1, -1, -1, -1, -1, -1, -1, -1, -1, -1, -1, -1, -1, -1, -1, -1, -1, -1, -1, -1],\n",
       "        [ 0,  0,  0, -1, -1, -1, -1, -1, -1, -1, -1, -1, -1, -1, -1, -1, -1, -1, -1, -1, -1, -1, -1, -1],\n",
       "        [-1, -1, -1, -1, -1, -1, -1, -1, -1, -1, -1, -1, -1, -1, -1, -1, -1, -1, -1, -1, -1, -1, -1, -1],\n",
       "        [-1, -1, -1, -1, -1, -1, -1, -1, -1, -1, -1, -1, -1, -1, -1, -1, -1, -1, -1, -1, -1, -1, -1, -1],\n",
       "        [-1, -1, -1, -1, -1, -1, -1, -1, -1, -1, -1, -1, -1, -1, -1, -1, -1, -1, -1, -1, -1, -1, -1, -1],\n",
       "        [-1, -1, -1, -1, -1, -1, -1, -1, -1, -1, -1, -1, -1, -1, -1, -1, -1, -1, -1, -1, -1, -1, -1, -1],\n",
       "        [-1, -1, -1, -1, -1, -1, -1, -1, -1, -1, -1, -1, -1, -1, -1, -1, -1, -1, -1, -1, -1, -1, -1, -1],\n",
       "        [-1, -1, -1, -1, -1, -1, -1, -1, -1, -1, -1, -1, -1, -1, -1, -1, -1, -1, -1, -1, -1, -1, -1, -1],\n",
       "        [-1, -1, -1, -1, -1, -1, -1, -1, -1, -1, -1, -1, -1, -1, -1, -1, -1, -1, -1, -1, -1, -1, -1, -1],\n",
       "        [-1, -1, -1, -1, -1, -1, -1, -1, -1, -1, -1, -1, -1, -1, -1, -1, -1, -1, -1, -1, -1, -1, -1, -1],\n",
       "        [-1, -1, -1, -1, -1, -1, -1, -1, -1, -1, -1, -1, -1, -1, -1, -1, -1, -1, -1, -1, -1, -1, -1, -1],\n",
       "        [-1, -1, -1, -1, -1, -1, -1, -1, -1, -1, -1, -1, -1, -1, -1, -1, -1, -1, -1, -1, -1, -1, -1, -1],\n",
       "        [-1, -1, -1, -1, -1, -1, -1, -1, -1, -1, -1, -1, -1, -1, -1, -1, -1, -1, -1, -1, -1, -1, -1, -1],\n",
       "        [-1, -1, -1, -1, -1, -1, -1, -1, -1, -1, -1, -1, -1, -1, -1, -1, -1, -1, -1, -1, -1, -1, -1, -1],\n",
       "        [-1, -1, -1, -1, -1, -1, -1, -1, -1, -1, -1, -1, -1, -1, -1, -1, -1, -1, -1, -1, -1, -1, -1, -1],\n",
       "        [-1, -1, -1, -1, -1, -1, -1, -1, -1, -1, -1, -1, -1, -1, -1, -1, -1, -1, -1, -1, -1, -1, -1, -1],\n",
       "        [-1, -1, -1, -1, -1, -1, -1, -1, -1, -1, -1, -1, -1, -1, -1, -1, -1, -1, -1, -1, -1, -1, -1, -1],\n",
       "        [-1, -1, -1, -1, -1, -1, -1, -1, -1, -1, -1, -1, -1, -1, -1, -1, -1, -1, -1, -1, -1, -1, -1, -1],\n",
       "        [-1, -1, -1, -1, -1, -1, -1, -1, -1, -1, -1, -1, -1, -1, -1, -1, -1, -1, -1, -1, -1, -1, -1, -1],\n",
       "        [-1, -1, -1, -1, -1, -1, -1, -1, -1, -1, -1, -1, -1, -1, -1, -1, -1, -1, -1, -1, -1, -1, -1, -1],\n",
       "        [-1, -1, -1, -1, -1, -1, -1, -1, -1, -1, -1, -1, -1, -1, -1, -1, -1, -1, -1, -1, -1, -1, -1, -1],\n",
       "        [-1, -1, -1, -1, -1, -1, -1, -1, -1, -1, -1, -1, -1, -1, -1, -1, -1, -1, -1, -1, -1, -1, -1, -1],\n",
       "        [-1, -1, -1, -1, -1, -1, -1, -1, -1, -1, -1, -1, -1, -1, -1, -1, -1, -1, -1, -1, -1, -1, -1, -1]], dtype=int32, weak_type=True)), relic_nodes=Array([[-1, -1],\n",
       "        [-1, -1],\n",
       "        [-1, -1],\n",
       "        [-1, -1],\n",
       "        [-1, -1],\n",
       "        [-1, -1]], dtype=int16), relic_nodes_mask=Array([False, False, False, False, False, False], dtype=bool), team_points=Array([0, 0], dtype=int32), team_wins=Array([0, 0], dtype=int32), steps=Array(1, dtype=int32, weak_type=True), match_steps=Array(1, dtype=int32, weak_type=True)),\n",
       " 'player_1': EnvObs(units=UnitState(position=Array([[[-1, -1],\n",
       "         [-1, -1],\n",
       "         [-1, -1],\n",
       "         [-1, -1],\n",
       "         [-1, -1],\n",
       "         [-1, -1],\n",
       "         [-1, -1],\n",
       "         [-1, -1],\n",
       "         [-1, -1],\n",
       "         [-1, -1],\n",
       "         [-1, -1],\n",
       "         [-1, -1],\n",
       "         [-1, -1],\n",
       "         [-1, -1],\n",
       "         [-1, -1],\n",
       "         [-1, -1]],\n",
       " \n",
       "        [[23, 23],\n",
       "         [-1, -1],\n",
       "         [-1, -1],\n",
       "         [-1, -1],\n",
       "         [-1, -1],\n",
       "         [-1, -1],\n",
       "         [-1, -1],\n",
       "         [-1, -1],\n",
       "         [-1, -1],\n",
       "         [-1, -1],\n",
       "         [-1, -1],\n",
       "         [-1, -1],\n",
       "         [-1, -1],\n",
       "         [-1, -1],\n",
       "         [-1, -1],\n",
       "         [-1, -1]]], dtype=int16), energy=Array([[ -1,  -1,  -1,  -1,  -1,  -1,  -1,  -1,  -1,  -1,  -1,  -1,  -1,  -1,  -1,  -1],\n",
       "        [100,  -1,  -1,  -1,  -1,  -1,  -1,  -1,  -1,  -1,  -1,  -1,  -1,  -1,  -1,  -1]], dtype=int16)), units_mask=Array([[False, False, False, False, False, False, False, False, False, False, False, False, False, False, False, False],\n",
       "        [ True, False, False, False, False, False, False, False, False, False, False, False, False, False, False, False]], dtype=bool), sensor_mask=Array([[False, False, False, False, False, False, False, False, False, False, False, False, False, False, False, False, False, False, False, False, False, False, False, False],\n",
       "        [False, False, False, False, False, False, False, False, False, False, False, False, False, False, False, False, False, False, False, False, False, False, False, False],\n",
       "        [False, False, False, False, False, False, False, False, False, False, False, False, False, False, False, False, False, False, False, False, False, False, False, False],\n",
       "        [False, False, False, False, False, False, False, False, False, False, False, False, False, False, False, False, False, False, False, False, False, False, False, False],\n",
       "        [False, False, False, False, False, False, False, False, False, False, False, False, False, False, False, False, False, False, False, False, False, False, False, False],\n",
       "        [False, False, False, False, False, False, False, False, False, False, False, False, False, False, False, False, False, False, False, False, False, False, False, False],\n",
       "        [False, False, False, False, False, False, False, False, False, False, False, False, False, False, False, False, False, False, False, False, False, False, False, False],\n",
       "        [False, False, False, False, False, False, False, False, False, False, False, False, False, False, False, False, False, False, False, False, False, False, False, False],\n",
       "        [False, False, False, False, False, False, False, False, False, False, False, False, False, False, False, False, False, False, False, False, False, False, False, False],\n",
       "        [False, False, False, False, False, False, False, False, False, False, False, False, False, False, False, False, False, False, False, False, False, False, False, False],\n",
       "        [False, False, False, False, False, False, False, False, False, False, False, False, False, False, False, False, False, False, False, False, False, False, False, False],\n",
       "        [False, False, False, False, False, False, False, False, False, False, False, False, False, False, False, False, False, False, False, False, False, False, False, False],\n",
       "        [False, False, False, False, False, False, False, False, False, False, False, False, False, False, False, False, False, False, False, False, False, False, False, False],\n",
       "        [False, False, False, False, False, False, False, False, False, False, False, False, False, False, False, False, False, False, False, False, False, False, False, False],\n",
       "        [False, False, False, False, False, False, False, False, False, False, False, False, False, False, False, False, False, False, False, False, False, False, False, False],\n",
       "        [False, False, False, False, False, False, False, False, False, False, False, False, False, False, False, False, False, False, False, False, False, False, False, False],\n",
       "        [False, False, False, False, False, False, False, False, False, False, False, False, False, False, False, False, False, False, False, False, False, False, False, False],\n",
       "        [False, False, False, False, False, False, False, False, False, False, False, False, False, False, False, False, False, False, False, False, False, False, False, False],\n",
       "        [False, False, False, False, False, False, False, False, False, False, False, False, False, False, False, False, False, False, False, False, False, False, False, False],\n",
       "        [False, False, False, False, False, False, False, False, False, False, False, False, False, False, False, False, False, False, False, False, False, False, False, False],\n",
       "        [False, False, False, False, False, False, False, False, False, False, False, False, False, False, False, False, False, False, False, False, False, False, False, False],\n",
       "        [False, False, False, False, False, False, False, False, False, False, False, False, False, False, False, False, False, False, False, False, False,  True,  True,  True],\n",
       "        [False, False, False, False, False, False, False, False, False, False, False, False, False, False, False, False, False, False, False, False, False,  True,  True,  True],\n",
       "        [False, False, False, False, False, False, False, False, False, False, False, False, False, False, False, False, False, False, False, False, False,  True,  True,  True]], dtype=bool), map_features=MapTile(energy=Array([[-1, -1, -1, -1, -1, -1, -1, -1, -1, -1, -1, -1, -1, -1, -1, -1, -1, -1, -1, -1, -1, -1, -1, -1],\n",
       "        [-1, -1, -1, -1, -1, -1, -1, -1, -1, -1, -1, -1, -1, -1, -1, -1, -1, -1, -1, -1, -1, -1, -1, -1],\n",
       "        [-1, -1, -1, -1, -1, -1, -1, -1, -1, -1, -1, -1, -1, -1, -1, -1, -1, -1, -1, -1, -1, -1, -1, -1],\n",
       "        [-1, -1, -1, -1, -1, -1, -1, -1, -1, -1, -1, -1, -1, -1, -1, -1, -1, -1, -1, -1, -1, -1, -1, -1],\n",
       "        [-1, -1, -1, -1, -1, -1, -1, -1, -1, -1, -1, -1, -1, -1, -1, -1, -1, -1, -1, -1, -1, -1, -1, -1],\n",
       "        [-1, -1, -1, -1, -1, -1, -1, -1, -1, -1, -1, -1, -1, -1, -1, -1, -1, -1, -1, -1, -1, -1, -1, -1],\n",
       "        [-1, -1, -1, -1, -1, -1, -1, -1, -1, -1, -1, -1, -1, -1, -1, -1, -1, -1, -1, -1, -1, -1, -1, -1],\n",
       "        [-1, -1, -1, -1, -1, -1, -1, -1, -1, -1, -1, -1, -1, -1, -1, -1, -1, -1, -1, -1, -1, -1, -1, -1],\n",
       "        [-1, -1, -1, -1, -1, -1, -1, -1, -1, -1, -1, -1, -1, -1, -1, -1, -1, -1, -1, -1, -1, -1, -1, -1],\n",
       "        [-1, -1, -1, -1, -1, -1, -1, -1, -1, -1, -1, -1, -1, -1, -1, -1, -1, -1, -1, -1, -1, -1, -1, -1],\n",
       "        [-1, -1, -1, -1, -1, -1, -1, -1, -1, -1, -1, -1, -1, -1, -1, -1, -1, -1, -1, -1, -1, -1, -1, -1],\n",
       "        [-1, -1, -1, -1, -1, -1, -1, -1, -1, -1, -1, -1, -1, -1, -1, -1, -1, -1, -1, -1, -1, -1, -1, -1],\n",
       "        [-1, -1, -1, -1, -1, -1, -1, -1, -1, -1, -1, -1, -1, -1, -1, -1, -1, -1, -1, -1, -1, -1, -1, -1],\n",
       "        [-1, -1, -1, -1, -1, -1, -1, -1, -1, -1, -1, -1, -1, -1, -1, -1, -1, -1, -1, -1, -1, -1, -1, -1],\n",
       "        [-1, -1, -1, -1, -1, -1, -1, -1, -1, -1, -1, -1, -1, -1, -1, -1, -1, -1, -1, -1, -1, -1, -1, -1],\n",
       "        [-1, -1, -1, -1, -1, -1, -1, -1, -1, -1, -1, -1, -1, -1, -1, -1, -1, -1, -1, -1, -1, -1, -1, -1],\n",
       "        [-1, -1, -1, -1, -1, -1, -1, -1, -1, -1, -1, -1, -1, -1, -1, -1, -1, -1, -1, -1, -1, -1, -1, -1],\n",
       "        [-1, -1, -1, -1, -1, -1, -1, -1, -1, -1, -1, -1, -1, -1, -1, -1, -1, -1, -1, -1, -1, -1, -1, -1],\n",
       "        [-1, -1, -1, -1, -1, -1, -1, -1, -1, -1, -1, -1, -1, -1, -1, -1, -1, -1, -1, -1, -1, -1, -1, -1],\n",
       "        [-1, -1, -1, -1, -1, -1, -1, -1, -1, -1, -1, -1, -1, -1, -1, -1, -1, -1, -1, -1, -1, -1, -1, -1],\n",
       "        [-1, -1, -1, -1, -1, -1, -1, -1, -1, -1, -1, -1, -1, -1, -1, -1, -1, -1, -1, -1, -1, -1, -1, -1],\n",
       "        [-1, -1, -1, -1, -1, -1, -1, -1, -1, -1, -1, -1, -1, -1, -1, -1, -1, -1, -1, -1, -1, -3, -1,  2],\n",
       "        [-1, -1, -1, -1, -1, -1, -1, -1, -1, -1, -1, -1, -1, -1, -1, -1, -1, -1, -1, -1, -1, -1,  2,  5],\n",
       "        [-1, -1, -1, -1, -1, -1, -1, -1, -1, -1, -1, -1, -1, -1, -1, -1, -1, -1, -1, -1, -1,  4,  6,  6]], dtype=int16), tile_type=Array([[-1, -1, -1, -1, -1, -1, -1, -1, -1, -1, -1, -1, -1, -1, -1, -1, -1, -1, -1, -1, -1, -1, -1, -1],\n",
       "        [-1, -1, -1, -1, -1, -1, -1, -1, -1, -1, -1, -1, -1, -1, -1, -1, -1, -1, -1, -1, -1, -1, -1, -1],\n",
       "        [-1, -1, -1, -1, -1, -1, -1, -1, -1, -1, -1, -1, -1, -1, -1, -1, -1, -1, -1, -1, -1, -1, -1, -1],\n",
       "        [-1, -1, -1, -1, -1, -1, -1, -1, -1, -1, -1, -1, -1, -1, -1, -1, -1, -1, -1, -1, -1, -1, -1, -1],\n",
       "        [-1, -1, -1, -1, -1, -1, -1, -1, -1, -1, -1, -1, -1, -1, -1, -1, -1, -1, -1, -1, -1, -1, -1, -1],\n",
       "        [-1, -1, -1, -1, -1, -1, -1, -1, -1, -1, -1, -1, -1, -1, -1, -1, -1, -1, -1, -1, -1, -1, -1, -1],\n",
       "        [-1, -1, -1, -1, -1, -1, -1, -1, -1, -1, -1, -1, -1, -1, -1, -1, -1, -1, -1, -1, -1, -1, -1, -1],\n",
       "        [-1, -1, -1, -1, -1, -1, -1, -1, -1, -1, -1, -1, -1, -1, -1, -1, -1, -1, -1, -1, -1, -1, -1, -1],\n",
       "        [-1, -1, -1, -1, -1, -1, -1, -1, -1, -1, -1, -1, -1, -1, -1, -1, -1, -1, -1, -1, -1, -1, -1, -1],\n",
       "        [-1, -1, -1, -1, -1, -1, -1, -1, -1, -1, -1, -1, -1, -1, -1, -1, -1, -1, -1, -1, -1, -1, -1, -1],\n",
       "        [-1, -1, -1, -1, -1, -1, -1, -1, -1, -1, -1, -1, -1, -1, -1, -1, -1, -1, -1, -1, -1, -1, -1, -1],\n",
       "        [-1, -1, -1, -1, -1, -1, -1, -1, -1, -1, -1, -1, -1, -1, -1, -1, -1, -1, -1, -1, -1, -1, -1, -1],\n",
       "        [-1, -1, -1, -1, -1, -1, -1, -1, -1, -1, -1, -1, -1, -1, -1, -1, -1, -1, -1, -1, -1, -1, -1, -1],\n",
       "        [-1, -1, -1, -1, -1, -1, -1, -1, -1, -1, -1, -1, -1, -1, -1, -1, -1, -1, -1, -1, -1, -1, -1, -1],\n",
       "        [-1, -1, -1, -1, -1, -1, -1, -1, -1, -1, -1, -1, -1, -1, -1, -1, -1, -1, -1, -1, -1, -1, -1, -1],\n",
       "        [-1, -1, -1, -1, -1, -1, -1, -1, -1, -1, -1, -1, -1, -1, -1, -1, -1, -1, -1, -1, -1, -1, -1, -1],\n",
       "        [-1, -1, -1, -1, -1, -1, -1, -1, -1, -1, -1, -1, -1, -1, -1, -1, -1, -1, -1, -1, -1, -1, -1, -1],\n",
       "        [-1, -1, -1, -1, -1, -1, -1, -1, -1, -1, -1, -1, -1, -1, -1, -1, -1, -1, -1, -1, -1, -1, -1, -1],\n",
       "        [-1, -1, -1, -1, -1, -1, -1, -1, -1, -1, -1, -1, -1, -1, -1, -1, -1, -1, -1, -1, -1, -1, -1, -1],\n",
       "        [-1, -1, -1, -1, -1, -1, -1, -1, -1, -1, -1, -1, -1, -1, -1, -1, -1, -1, -1, -1, -1, -1, -1, -1],\n",
       "        [-1, -1, -1, -1, -1, -1, -1, -1, -1, -1, -1, -1, -1, -1, -1, -1, -1, -1, -1, -1, -1, -1, -1, -1],\n",
       "        [-1, -1, -1, -1, -1, -1, -1, -1, -1, -1, -1, -1, -1, -1, -1, -1, -1, -1, -1, -1, -1,  0,  0,  0],\n",
       "        [-1, -1, -1, -1, -1, -1, -1, -1, -1, -1, -1, -1, -1, -1, -1, -1, -1, -1, -1, -1, -1,  0,  0,  0],\n",
       "        [-1, -1, -1, -1, -1, -1, -1, -1, -1, -1, -1, -1, -1, -1, -1, -1, -1, -1, -1, -1, -1,  0,  0,  0]], dtype=int32, weak_type=True)), relic_nodes=Array([[-1, -1],\n",
       "        [-1, -1],\n",
       "        [-1, -1],\n",
       "        [-1, -1],\n",
       "        [-1, -1],\n",
       "        [-1, -1]], dtype=int16), relic_nodes_mask=Array([False, False, False, False, False, False], dtype=bool), team_points=Array([0, 0], dtype=int32), team_wins=Array([0, 0], dtype=int32), steps=Array(1, dtype=int32, weak_type=True), match_steps=Array(1, dtype=int32, weak_type=True))}"
      ]
     },
     "execution_count": 91,
     "metadata": {},
     "output_type": "execute_result"
    }
   ],
   "source": [
    "info['final_observation']"
   ]
  },
  {
   "cell_type": "code",
   "execution_count": 92,
   "id": "799153d9",
   "metadata": {},
   "outputs": [
    {
     "data": {
      "text/plain": [
       "EnvState(units=UnitState(position=Array([[[ 0,  0],\n",
       "        [ 0,  0],\n",
       "        [ 0,  0],\n",
       "        [ 0,  0],\n",
       "        [ 0,  0],\n",
       "        [ 0,  0],\n",
       "        [ 0,  0],\n",
       "        [ 0,  0],\n",
       "        [ 0,  0],\n",
       "        [ 0,  0],\n",
       "        [ 0,  0],\n",
       "        [ 0,  0],\n",
       "        [ 0,  0],\n",
       "        [ 0,  0],\n",
       "        [ 0,  0],\n",
       "        [ 0,  0]],\n",
       "\n",
       "       [[23, 23],\n",
       "        [ 0,  0],\n",
       "        [ 0,  0],\n",
       "        [ 0,  0],\n",
       "        [ 0,  0],\n",
       "        [ 0,  0],\n",
       "        [ 0,  0],\n",
       "        [ 0,  0],\n",
       "        [ 0,  0],\n",
       "        [ 0,  0],\n",
       "        [ 0,  0],\n",
       "        [ 0,  0],\n",
       "        [ 0,  0],\n",
       "        [ 0,  0],\n",
       "        [ 0,  0],\n",
       "        [ 0,  0]]], dtype=int16), energy=Array([[[100],\n",
       "        [  0],\n",
       "        [  0],\n",
       "        [  0],\n",
       "        [  0],\n",
       "        [  0],\n",
       "        [  0],\n",
       "        [  0],\n",
       "        [  0],\n",
       "        [  0],\n",
       "        [  0],\n",
       "        [  0],\n",
       "        [  0],\n",
       "        [  0],\n",
       "        [  0],\n",
       "        [  0]],\n",
       "\n",
       "       [[100],\n",
       "        [  0],\n",
       "        [  0],\n",
       "        [  0],\n",
       "        [  0],\n",
       "        [  0],\n",
       "        [  0],\n",
       "        [  0],\n",
       "        [  0],\n",
       "        [  0],\n",
       "        [  0],\n",
       "        [  0],\n",
       "        [  0],\n",
       "        [  0],\n",
       "        [  0],\n",
       "        [  0]]], dtype=int16)), units_mask=Array([[ True, False, False, False, False, False, False, False, False, False, False, False, False, False, False, False],\n",
       "       [ True, False, False, False, False, False, False, False, False, False, False, False, False, False, False, False]], dtype=bool), energy_nodes=Array([[ 1,  2],\n",
       "       [ 2,  4],\n",
       "       [ 3,  3],\n",
       "       [21, 22],\n",
       "       [19, 21],\n",
       "       [20, 20]], dtype=int16), energy_node_fns=Array([[0. , 1.2, 1. , 4. ],\n",
       "       [0. , 0. , 0. , 0. ],\n",
       "       [0. , 0. , 0. , 0. ],\n",
       "       [0. , 1.2, 1. , 4. ],\n",
       "       [0. , 0. , 0. , 0. ],\n",
       "       [0. , 0. , 0. , 0. ]], dtype=float32), energy_nodes_mask=Array([ True,  True, False,  True,  True, False], dtype=bool), relic_nodes=Array([[18, 15],\n",
       "       [ 2, 10],\n",
       "       [19, 15],\n",
       "       [ 8,  5],\n",
       "       [13, 21],\n",
       "       [ 8,  4]], dtype=int16), relic_node_configs=Array([[[False, False, False, False, False],\n",
       "        [False,  True, False, False, False],\n",
       "        [False,  True, False, False, False],\n",
       "        [False, False, False, False, False],\n",
       "        [False, False, False, False, False]],\n",
       "\n",
       "       [[False, False, False, False, False],\n",
       "        [False,  True, False, False, False],\n",
       "        [ True, False, False, False, False],\n",
       "        [False,  True, False,  True, False],\n",
       "        [ True, False,  True, False, False]],\n",
       "\n",
       "       [[ True,  True,  True, False,  True],\n",
       "        [False, False,  True,  True, False],\n",
       "        [False, False, False, False,  True],\n",
       "        [False, False, False, False,  True],\n",
       "        [False, False, False, False, False]],\n",
       "\n",
       "       [[False, False, False, False, False],\n",
       "        [False, False, False, False, False],\n",
       "        [False, False, False, False, False],\n",
       "        [False, False,  True,  True, False],\n",
       "        [False, False, False, False, False]],\n",
       "\n",
       "       [[False, False, False, False, False],\n",
       "        [False,  True, False, False, False],\n",
       "        [ True, False, False, False, False],\n",
       "        [False,  True, False,  True, False],\n",
       "        [ True, False,  True, False, False]],\n",
       "\n",
       "       [[False,  True,  True, False,  True],\n",
       "        [False, False, False,  True, False],\n",
       "        [False, False, False,  True,  True],\n",
       "        [False, False, False, False,  True],\n",
       "        [False, False, False, False,  True]]], dtype=bool), relic_nodes_mask=Array([False, False, False, False, False, False], dtype=bool), relic_nodes_map_weights=Array([[0, 0, 0, 0, 0, 0, 0, 0, 0, 0, 0, 0, 0, 0, 0, 0, 0, 0, 0, 0, 0, 0, 0, 0],\n",
       "       [0, 0, 0, 0, 0, 0, 0, 0, 0, 0, 0, 0, 0, 0, 0, 0, 0, 0, 0, 0, 0, 0, 0, 0],\n",
       "       [0, 0, 0, 0, 0, 0, 0, 0, 0, 0, 0, 0, 0, 0, 0, 0, 0, 0, 0, 0, 0, 0, 0, 0],\n",
       "       [0, 0, 0, 0, 0, 0, 0, 0, 0, 0, 0, 0, 0, 0, 0, 0, 0, 0, 0, 0, 0, 0, 0, 0],\n",
       "       [0, 0, 0, 0, 0, 0, 0, 0, 0, 0, 0, 0, 0, 0, 0, 0, 0, 0, 0, 0, 0, 0, 0, 0],\n",
       "       [0, 0, 0, 0, 0, 0, 0, 0, 0, 0, 0, 0, 0, 0, 0, 0, 0, 0, 0, 0, 0, 0, 0, 0],\n",
       "       [0, 0, 0, 0, 0, 0, 0, 0, 0, 0, 0, 0, 0, 0, 0, 0, 0, 0, 0, 0, 0, 0, 0, 0],\n",
       "       [0, 0, 0, 0, 0, 0, 0, 0, 0, 0, 0, 0, 0, 0, 0, 0, 0, 0, 0, 0, 0, 0, 0, 0],\n",
       "       [0, 0, 0, 0, 0, 0, 0, 0, 0, 0, 0, 0, 0, 0, 0, 0, 0, 0, 0, 0, 0, 0, 0, 0],\n",
       "       [0, 0, 0, 0, 0, 1, 1, 0, 0, 0, 0, 0, 0, 0, 0, 0, 0, 0, 0, 0, 0, 0, 0, 0],\n",
       "       [0, 0, 0, 0, 0, 0, 0, 0, 0, 0, 0, 0, 0, 0, 0, 0, 0, 0, 0, 0, 0, 0, 0, 0],\n",
       "       [0, 0, 0, 0, 0, 0, 0, 0, 0, 0, 0, 0, 0, 0, 0, 0, 0, 0, 0, 0, 0, 0, 0, 0],\n",
       "       [0, 0, 0, 0, 0, 0, 0, 0, 0, 0, 0, 0, 0, 0, 0, 0, 0, 0, 0, 0, 0, 0, 0, 0],\n",
       "       [0, 0, 0, 0, 0, 0, 0, 0, 0, 0, 0, 0, 0, 0, 0, 0, 0, 0, 0, 0, 0, 0, 0, 0],\n",
       "       [0, 0, 0, 0, 0, 0, 0, 0, 0, 0, 0, 0, 0, 0, 0, 0, 0, 0, 0, 0, 0, 0, 0, 0],\n",
       "       [0, 0, 0, 0, 0, 0, 0, 0, 0, 0, 0, 0, 0, 0, 0, 0, 0, 0, 0, 0, 0, 0, 0, 0],\n",
       "       [0, 0, 0, 0, 0, 0, 0, 0, 0, 0, 0, 0, 0, 0, 0, 0, 0, 0, 0, 0, 0, 0, 0, 0],\n",
       "       [0, 0, 0, 0, 0, 0, 0, 0, 0, 0, 0, 0, 0, 0, 1, 0, 0, 0, 0, 0, 0, 0, 0, 0],\n",
       "       [0, 0, 0, 0, 0, 0, 0, 0, 0, 0, 0, 0, 0, 0, 1, 0, 0, 0, 0, 0, 0, 0, 0, 0],\n",
       "       [0, 0, 0, 0, 0, 0, 0, 0, 0, 0, 0, 0, 0, 0, 0, 0, 0, 0, 0, 0, 0, 0, 0, 0],\n",
       "       [0, 0, 0, 0, 0, 0, 0, 0, 0, 0, 0, 0, 0, 0, 0, 0, 0, 0, 0, 0, 0, 0, 0, 0],\n",
       "       [0, 0, 0, 0, 0, 0, 0, 0, 0, 0, 0, 0, 0, 0, 0, 0, 0, 0, 0, 0, 0, 0, 0, 0],\n",
       "       [0, 0, 0, 0, 0, 0, 0, 0, 0, 0, 0, 0, 0, 0, 0, 0, 0, 0, 0, 0, 0, 0, 0, 0],\n",
       "       [0, 0, 0, 0, 0, 0, 0, 0, 0, 0, 0, 0, 0, 0, 0, 0, 0, 0, 0, 0, 0, 0, 0, 0]], dtype=int16), relic_spawn_schedule=Array([48, -1, -1, 48, -1, -1], dtype=int32), map_features=MapTile(energy=Array([[ 6,  5,  2, -1, -4, -6, -5,  0,  6,  9,  7,  3,  0,  2,  4,  3, -2, -6, -4,  0,  2, -1, -5, -5],\n",
       "       [ 6,  2, -1, -3, -3, -3, -2,  1,  6,  9,  7,  1, -4, -3,  0,  2, -1, -5, -4,  1,  4,  1, -4, -5],\n",
       "       [ 4, -1, -3,  0,  2,  4,  3,  2,  3,  5,  4, -2, -6, -4,  1,  5,  3,  0,  0,  5,  8,  6,  1, -1],\n",
       "       [ 1, -4, -3,  2,  6,  8,  5,  0, -1,  1,  2, -2, -4, -1,  5,  9,  7,  3,  2,  6, 10,  8,  4,  2],\n",
       "       [-1, -6, -3,  4,  8,  7,  2, -3, -3,  1,  3,  2,  0,  3,  8,  9,  6,  1,  0,  3,  6,  5,  1,  0],\n",
       "       [-1, -5, -2,  3,  5,  2, -3, -5, -1,  4,  6,  4,  2,  3,  6,  6,  1, -4, -4,  0,  2,  0, -4, -4],\n",
       "       [ 1,  0,  1,  2,  0, -3, -5, -2,  3,  8,  7,  3,  0,  1,  3,  2, -3, -6, -4,  1,  3,  0, -5, -6],\n",
       "       [ 3,  6,  6,  3, -1, -3, -1,  3,  8,  8,  4, -1, -3, -1,  2,  1, -2, -3,  1,  6,  7,  3, -1, -2],\n",
       "       [ 4,  9,  9,  5,  1,  1,  4,  8,  8,  4, -1, -5, -3,  1,  4,  3,  1,  2,  6,  9,  9,  5,  2,  3],\n",
       "       [ 3,  7,  7,  4,  2,  3,  6,  7,  4, -1, -5, -4,  1,  6,  7,  4,  2,  3,  6,  8,  5,  1,  0,  4],\n",
       "       [ 1,  3,  1, -2, -2,  2,  4,  3, -1, -5, -4,  1,  7,  9,  6,  1, -1,  1,  3,  3, -1, -4, -3,  2],\n",
       "       [ 3,  0, -4, -6, -4,  0,  2,  0, -3, -3,  1,  7,  9,  7,  1, -3, -3,  0,  2,  0, -4, -6, -4,  0],\n",
       "       [ 7,  2, -3, -4, -1,  3,  3,  1, -1,  1,  6,  9,  7,  1, -4, -5, -1,  3,  4,  2, -2, -2,  1,  3],\n",
       "       [ 9,  4,  0,  1,  5,  8,  6,  3,  2,  4,  7,  6,  1, -4, -5, -1,  4,  7,  6,  3,  2,  4,  7,  7],\n",
       "       [ 7,  3,  2,  5,  9,  9,  6,  2,  1,  3,  4,  1, -3, -5, -1,  4,  8,  8,  4,  1,  1,  5,  9,  9],\n",
       "       [ 1, -2, -1,  3,  7,  6,  1, -3, -2,  1,  2, -1, -3, -1,  4,  8,  8,  3, -1, -3, -1,  3,  6,  6],\n",
       "       [-2, -6, -5,  0,  3,  1, -4, -6, -3,  2,  3,  1,  0,  3,  7,  8,  3, -2, -5, -3,  0,  2,  1,  0],\n",
       "       [ 0, -4, -4,  0,  2,  0, -4, -4,  1,  6,  6,  3,  2,  4,  6,  4, -1, -5, -3,  2,  5,  3, -2, -5],\n",
       "       [ 4,  0,  1,  5,  6,  3,  0,  1,  6,  9,  8,  3,  0,  2,  3,  1, -3, -3,  2,  7,  8,  4, -3, -6],\n",
       "       [ 5,  2,  4,  8, 10,  6,  2,  3,  7,  9,  5, -1, -4, -2,  2,  1, -1,  0,  5,  8,  6,  2, -3, -4],\n",
       "       [ 2, -1,  1,  6,  8,  5,  0,  0,  3,  5,  1, -4, -6, -2,  4,  5,  3,  2,  3,  4,  2,  0, -3, -1],\n",
       "       [-2, -5, -4,  1,  4,  1, -4, -5, -1,  2,  0, -3, -4,  1,  7,  9,  6,  1, -2, -3, -3, -3, -1,  2],\n",
       "       [-1, -5, -5, -1,  2,  0, -4, -6, -2,  3,  4,  2,  0,  3,  7,  9,  6,  0, -5, -6, -4, -1,  2,  5],\n",
       "       [ 4, -1, -2,  2,  5,  4,  0, -2,  1,  7,  9,  7,  3,  1,  3,  4,  3,  1, -1, -1,  1,  4,  6,  6]], dtype=int16), tile_type=Array([[0, 0, 0, 0, 0, 0, 0, 0, 1, 0, 0, 0, 2, 2, 0, 0, 0, 0, 0, 0, 0, 0, 0, 0],\n",
       "       [0, 0, 0, 0, 0, 0, 0, 0, 0, 0, 0, 2, 0, 0, 0, 2, 0, 0, 0, 0, 0, 0, 0, 0],\n",
       "       [0, 0, 0, 0, 0, 1, 1, 0, 0, 0, 0, 2, 0, 0, 0, 0, 1, 1, 0, 2, 0, 0, 0, 0],\n",
       "       [0, 0, 0, 0, 1, 1, 1, 0, 0, 0, 0, 0, 0, 0, 0, 0, 1, 1, 0, 0, 0, 0, 0, 0],\n",
       "       [0, 0, 0, 0, 1, 1, 0, 0, 0, 0, 0, 0, 0, 2, 0, 0, 1, 1, 0, 0, 0, 2, 0, 0],\n",
       "       [0, 2, 1, 0, 0, 0, 0, 0, 0, 0, 0, 0, 0, 2, 0, 0, 0, 0, 0, 0, 0, 0, 0, 0],\n",
       "       [2, 0, 0, 0, 0, 0, 0, 0, 0, 0, 0, 0, 0, 2, 0, 0, 0, 0, 0, 1, 1, 1, 0, 0],\n",
       "       [0, 0, 0, 0, 0, 0, 0, 0, 0, 0, 0, 0, 2, 2, 0, 0, 0, 0, 0, 1, 1, 1, 0, 0],\n",
       "       [0, 0, 0, 0, 0, 0, 0, 0, 0, 0, 0, 1, 2, 2, 0, 0, 0, 0, 0, 0, 0, 0, 2, 0],\n",
       "       [0, 0, 0, 0, 0, 0, 0, 0, 0, 0, 1, 1, 1, 2, 0, 0, 0, 0, 0, 0, 0, 0, 0, 0],\n",
       "       [0, 0, 0, 0, 2, 0, 0, 0, 2, 2, 2, 1, 0, 0, 2, 2, 2, 2, 2, 2, 0, 0, 0, 2],\n",
       "       [0, 0, 0, 0, 0, 0, 2, 2, 2, 0, 2, 0, 0, 0, 1, 2, 2, 0, 0, 0, 0, 0, 0, 2],\n",
       "       [0, 0, 0, 0, 0, 0, 0, 0, 0, 0, 0, 0, 0, 1, 1, 1, 0, 0, 0, 0, 0, 2, 2, 0],\n",
       "       [0, 0, 0, 0, 0, 0, 0, 0, 0, 0, 0, 0, 2, 2, 1, 0, 0, 0, 0, 0, 0, 0, 0, 0],\n",
       "       [0, 0, 0, 0, 2, 0, 0, 0, 0, 0, 0, 0, 0, 2, 0, 0, 0, 0, 0, 0, 0, 0, 0, 0],\n",
       "       [0, 0, 0, 0, 0, 0, 0, 0, 0, 0, 0, 0, 2, 2, 0, 0, 0, 0, 0, 0, 0, 0, 0, 1],\n",
       "       [0, 0, 0, 2, 2, 0, 0, 0, 0, 0, 0, 0, 2, 0, 0, 0, 0, 0, 0, 0, 0, 0, 0, 0],\n",
       "       [0, 0, 0, 0, 2, 0, 0, 0, 0, 0, 0, 0, 2, 0, 0, 0, 0, 0, 0, 0, 1, 1, 0, 0],\n",
       "       [0, 0, 1, 0, 0, 0, 0, 0, 0, 0, 0, 0, 0, 0, 0, 0, 0, 0, 0, 1, 1, 1, 0, 0],\n",
       "       [0, 0, 1, 0, 0, 0, 2, 2, 0, 2, 0, 0, 0, 2, 0, 0, 0, 0, 0, 1, 1, 0, 0, 0],\n",
       "       [0, 0, 0, 0, 0, 0, 0, 2, 0, 0, 0, 0, 0, 0, 0, 0, 0, 0, 0, 0, 0, 0, 0, 0],\n",
       "       [0, 0, 0, 0, 1, 1, 0, 0, 0, 0, 0, 0, 0, 0, 0, 0, 0, 0, 1, 0, 0, 0, 0, 0],\n",
       "       [2, 2, 0, 0, 0, 0, 0, 0, 0, 0, 0, 0, 0, 0, 0, 0, 0, 0, 2, 0, 0, 0, 0, 0],\n",
       "       [2, 2, 0, 0, 0, 0, 0, 0, 0, 0, 0, 0, 0, 0, 0, 0, 0, 2, 0, 0, 0, 0, 0, 0]], dtype=int32, weak_type=True)), sensor_mask=Array([[[ True,  True,  True, ..., False, False, False],\n",
       "        [ True,  True,  True, ..., False, False, False],\n",
       "        [ True,  True,  True, ..., False, False, False],\n",
       "        ...,\n",
       "        [False, False, False, ..., False, False, False],\n",
       "        [False, False, False, ..., False, False, False],\n",
       "        [False, False, False, ..., False, False, False]],\n",
       "\n",
       "       [[False, False, False, ..., False, False, False],\n",
       "        [False, False, False, ..., False, False, False],\n",
       "        [False, False, False, ..., False, False, False],\n",
       "        ...,\n",
       "        [False, False, False, ...,  True,  True,  True],\n",
       "        [False, False, False, ...,  True,  True,  True],\n",
       "        [False, False, False, ...,  True,  True,  True]]], dtype=bool), vision_power_map=Array([[[13,  2,  1, ...,  0,  0,  0],\n",
       "        [ 2,  2,  1, ...,  0,  0,  0],\n",
       "        [ 1,  1,  1, ...,  0,  0,  0],\n",
       "        ...,\n",
       "        [ 0,  0,  0, ...,  0,  0,  0],\n",
       "        [ 0,  0,  0, ...,  0,  0,  0],\n",
       "        [ 0,  0,  0, ...,  0,  0,  0]],\n",
       "\n",
       "       [[ 0,  0,  0, ...,  0,  0,  0],\n",
       "        [ 0,  0,  0, ...,  0,  0,  0],\n",
       "        [ 0,  0,  0, ...,  0,  0,  0],\n",
       "        ...,\n",
       "        [ 0,  0,  0, ...,  1,  1,  1],\n",
       "        [ 0,  0,  0, ...,  1,  2,  2],\n",
       "        [ 0,  0,  0, ...,  1,  2, 13]]], dtype=int16), team_points=Array([0, 0], dtype=int32), team_wins=Array([0, 0], dtype=int32), steps=Array(1, dtype=int32, weak_type=True), match_steps=Array(1, dtype=int32, weak_type=True))"
      ]
     },
     "execution_count": 92,
     "metadata": {},
     "output_type": "execute_result"
    }
   ],
   "source": [
    "info['final_state']"
   ]
  },
  {
   "cell_type": "code",
   "execution_count": 93,
   "id": "07da4866",
   "metadata": {},
   "outputs": [
    {
     "data": {
      "text/plain": [
       "{}"
      ]
     },
     "execution_count": 93,
     "metadata": {},
     "output_type": "execute_result"
    }
   ],
   "source": [
    "info['player_0']"
   ]
  },
  {
   "cell_type": "code",
   "execution_count": 94,
   "id": "727a6bc0",
   "metadata": {},
   "outputs": [
    {
     "data": {
      "text/plain": [
       "{}"
      ]
     },
     "execution_count": 94,
     "metadata": {},
     "output_type": "execute_result"
    }
   ],
   "source": [
    "info['player_1']"
   ]
  },
  {
   "cell_type": "code",
   "execution_count": 95,
   "id": "b1c1e300-b000-4d73-a1da-264970643e73",
   "metadata": {},
   "outputs": [
    {
     "data": {
      "text/plain": [
       "array([0, 0], dtype=int32)"
      ]
     },
     "execution_count": 95,
     "metadata": {},
     "output_type": "execute_result"
    }
   ],
   "source": [
    "next_obs['player_0']['team_points']"
   ]
  },
  {
   "cell_type": "code",
   "execution_count": 96,
   "id": "22ea0f4b",
   "metadata": {},
   "outputs": [
    {
     "data": {
      "text/plain": [
       "array([0, 0], dtype=int32)"
      ]
     },
     "execution_count": 96,
     "metadata": {},
     "output_type": "execute_result"
    }
   ],
   "source": [
    "next_obs['player_1']['team_points']"
   ]
  },
  {
   "cell_type": "code",
   "execution_count": 97,
   "id": "b544f5ff-dc6c-4825-a15f-c8bf051ee08b",
   "metadata": {},
   "outputs": [
    {
     "data": {
      "text/plain": [
       "array(1, dtype=int32)"
      ]
     },
     "execution_count": 97,
     "metadata": {},
     "output_type": "execute_result"
    }
   ],
   "source": [
    "next_obs['player_0']['steps']"
   ]
  },
  {
   "cell_type": "code",
   "execution_count": 98,
   "id": "9bddb2fb",
   "metadata": {},
   "outputs": [
    {
     "data": {
      "text/plain": [
       "array(1, dtype=int32)"
      ]
     },
     "execution_count": 98,
     "metadata": {},
     "output_type": "execute_result"
    }
   ],
   "source": [
    "next_obs['player_1']['steps']"
   ]
  },
  {
   "cell_type": "code",
   "execution_count": 99,
   "id": "067ede07-0c2a-468c-8265-99109927ebe8",
   "metadata": {},
   "outputs": [],
   "source": [
    "actions0 = agent0.act(next_obs['player_0']['steps'], next_obs['player_0'])\n",
    "actions1 = agent1.act(next_obs['player_1']['steps'], next_obs['player_1'])"
   ]
  },
  {
   "cell_type": "code",
   "execution_count": 100,
   "id": "c4159bdd-1f20-4b41-96a5-326e07c5d4ee",
   "metadata": {},
   "outputs": [
    {
     "data": {
      "text/plain": [
       "array([[3, 0, 0],\n",
       "       [0, 0, 0],\n",
       "       [0, 0, 0],\n",
       "       [0, 0, 0],\n",
       "       [0, 0, 0],\n",
       "       [0, 0, 0],\n",
       "       [0, 0, 0],\n",
       "       [0, 0, 0],\n",
       "       [0, 0, 0],\n",
       "       [0, 0, 0],\n",
       "       [0, 0, 0],\n",
       "       [0, 0, 0],\n",
       "       [0, 0, 0],\n",
       "       [0, 0, 0],\n",
       "       [0, 0, 0],\n",
       "       [0, 0, 0]])"
      ]
     },
     "execution_count": 100,
     "metadata": {},
     "output_type": "execute_result"
    }
   ],
   "source": [
    "actions0"
   ]
  },
  {
   "cell_type": "code",
   "execution_count": 101,
   "id": "9c076efa",
   "metadata": {},
   "outputs": [
    {
     "data": {
      "text/plain": [
       "{'max_units': 16,\n",
       " 'match_count_per_episode': 5,\n",
       " 'max_steps_in_match': 100,\n",
       " 'map_height': 24,\n",
       " 'map_width': 24,\n",
       " 'num_teams': 2,\n",
       " 'unit_move_cost': 4,\n",
       " 'unit_sap_cost': 45,\n",
       " 'unit_sap_range': 3,\n",
       " 'unit_sensor_range': 2}"
      ]
     },
     "execution_count": 101,
     "metadata": {},
     "output_type": "execute_result"
    }
   ],
   "source": [
    "info_params"
   ]
  },
  {
   "cell_type": "code",
   "execution_count": 102,
   "id": "c64674e0",
   "metadata": {},
   "outputs": [
    {
     "name": "stdout",
     "output_type": "stream",
     "text": [
      "Tile type: \n",
      " [[ 0  0  0 -1 -1 -1 -1 -1 -1 -1 -1 -1 -1 -1 -1 -1 -1 -1 -1 -1 -1 -1 -1 -1]\n",
      " [ 0  0  0 -1 -1 -1 -1 -1 -1 -1 -1 -1 -1 -1 -1 -1 -1 -1 -1 -1 -1 -1 -1 -1]\n",
      " [ 0  0  0 -1 -1 -1 -1 -1 -1 -1 -1 -1 -1 -1 -1 -1 -1 -1 -1 -1 -1 -1 -1 -1]\n",
      " [-1 -1 -1 -1 -1 -1 -1 -1 -1 -1 -1 -1 -1 -1 -1 -1 -1 -1 -1 -1 -1 -1 -1 -1]\n",
      " [-1 -1 -1 -1 -1 -1 -1 -1 -1 -1 -1 -1 -1 -1 -1 -1 -1 -1 -1 -1 -1 -1 -1 -1]\n",
      " [-1 -1 -1 -1 -1 -1 -1 -1 -1 -1 -1 -1 -1 -1 -1 -1 -1 -1 -1 -1 -1 -1 -1 -1]\n",
      " [-1 -1 -1 -1 -1 -1 -1 -1 -1 -1 -1 -1 -1 -1 -1 -1 -1 -1 -1 -1 -1 -1 -1 -1]\n",
      " [-1 -1 -1 -1 -1 -1 -1 -1 -1 -1 -1 -1 -1 -1 -1 -1 -1 -1 -1 -1 -1 -1 -1 -1]\n",
      " [-1 -1 -1 -1 -1 -1 -1 -1 -1 -1 -1 -1 -1 -1 -1 -1 -1 -1 -1 -1 -1 -1 -1 -1]\n",
      " [-1 -1 -1 -1 -1 -1 -1 -1 -1 -1 -1 -1 -1 -1 -1 -1 -1 -1 -1 -1 -1 -1 -1 -1]\n",
      " [-1 -1 -1 -1 -1 -1 -1 -1 -1 -1 -1 -1 -1 -1 -1 -1 -1 -1 -1 -1 -1 -1 -1 -1]\n",
      " [-1 -1 -1 -1 -1 -1 -1 -1 -1 -1 -1 -1 -1 -1 -1 -1 -1 -1 -1 -1 -1 -1 -1 -1]\n",
      " [-1 -1 -1 -1 -1 -1 -1 -1 -1 -1 -1 -1 -1 -1 -1 -1 -1 -1 -1 -1 -1 -1 -1 -1]\n",
      " [-1 -1 -1 -1 -1 -1 -1 -1 -1 -1 -1 -1 -1 -1 -1 -1 -1 -1 -1 -1 -1 -1 -1 -1]\n",
      " [-1 -1 -1 -1 -1 -1 -1 -1 -1 -1 -1 -1 -1 -1 -1 -1 -1 -1 -1 -1 -1 -1 -1 -1]\n",
      " [-1 -1 -1 -1 -1 -1 -1 -1 -1 -1 -1 -1 -1 -1 -1 -1 -1 -1 -1 -1 -1 -1 -1 -1]\n",
      " [-1 -1 -1 -1 -1 -1 -1 -1 -1 -1 -1 -1 -1 -1 -1 -1 -1 -1 -1 -1 -1 -1 -1 -1]\n",
      " [-1 -1 -1 -1 -1 -1 -1 -1 -1 -1 -1 -1 -1 -1 -1 -1 -1 -1 -1 -1 -1 -1 -1 -1]\n",
      " [-1 -1 -1 -1 -1 -1 -1 -1 -1 -1 -1 -1 -1 -1 -1 -1 -1 -1 -1 -1 -1 -1 -1 -1]\n",
      " [-1 -1 -1 -1 -1 -1 -1 -1 -1 -1 -1 -1 -1 -1 -1 -1 -1 -1 -1 -1 -1 -1 -1 -1]\n",
      " [-1 -1 -1 -1 -1 -1 -1 -1 -1 -1 -1 -1 -1 -1 -1 -1 -1 -1 -1 -1 -1 -1 -1 -1]\n",
      " [-1 -1 -1 -1 -1 -1 -1 -1 -1 -1 -1 -1 -1 -1 -1 -1 -1 -1 -1 -1 -1 -1 -1 -1]\n",
      " [-1 -1 -1 -1 -1 -1 -1 -1 -1 -1 -1 -1 -1 -1 -1 -1 -1 -1 -1 -1 -1 -1 -1 -1]\n",
      " [-1 -1 -1 -1 -1 -1 -1 -1 -1 -1 -1 -1 -1 -1 -1 -1 -1 -1 -1 -1 -1 -1 -1 -1]]\n"
     ]
    }
   ],
   "source": [
    "print(\"Tile type: \\n\", next_obs['player_0']['map_features']['tile_type'])"
   ]
  },
  {
   "cell_type": "code",
   "execution_count": 103,
   "id": "f2e04299",
   "metadata": {},
   "outputs": [
    {
     "data": {
      "text/plain": [
       "array([[3, 0, 0],\n",
       "       [0, 0, 0],\n",
       "       [0, 0, 0],\n",
       "       [0, 0, 0],\n",
       "       [0, 0, 0],\n",
       "       [0, 0, 0],\n",
       "       [0, 0, 0],\n",
       "       [0, 0, 0],\n",
       "       [0, 0, 0],\n",
       "       [0, 0, 0],\n",
       "       [0, 0, 0],\n",
       "       [0, 0, 0],\n",
       "       [0, 0, 0],\n",
       "       [0, 0, 0],\n",
       "       [0, 0, 0],\n",
       "       [0, 0, 0]])"
      ]
     },
     "execution_count": 103,
     "metadata": {},
     "output_type": "execute_result"
    }
   ],
   "source": [
    "actions0"
   ]
  },
  {
   "cell_type": "code",
   "execution_count": 104,
   "id": "d0754117",
   "metadata": {},
   "outputs": [
    {
     "data": {
      "text/plain": [
       "array([[ 0,  0,  0, -1, -1, -1, -1, -1, -1, -1, -1, -1, -1, -1, -1, -1, -1, -1, -1, -1, -1, -1, -1, -1],\n",
       "       [ 0,  0,  0, -1, -1, -1, -1, -1, -1, -1, -1, -1, -1, -1, -1, -1, -1, -1, -1, -1, -1, -1, -1, -1],\n",
       "       [ 0,  0,  0, -1, -1, -1, -1, -1, -1, -1, -1, -1, -1, -1, -1, -1, -1, -1, -1, -1, -1, -1, -1, -1],\n",
       "       [-1, -1, -1, -1, -1, -1, -1, -1, -1, -1, -1, -1, -1, -1, -1, -1, -1, -1, -1, -1, -1, -1, -1, -1],\n",
       "       [-1, -1, -1, -1, -1, -1, -1, -1, -1, -1, -1, -1, -1, -1, -1, -1, -1, -1, -1, -1, -1, -1, -1, -1],\n",
       "       [-1, -1, -1, -1, -1, -1, -1, -1, -1, -1, -1, -1, -1, -1, -1, -1, -1, -1, -1, -1, -1, -1, -1, -1],\n",
       "       [-1, -1, -1, -1, -1, -1, -1, -1, -1, -1, -1, -1, -1, -1, -1, -1, -1, -1, -1, -1, -1, -1, -1, -1],\n",
       "       [-1, -1, -1, -1, -1, -1, -1, -1, -1, -1, -1, -1, -1, -1, -1, -1, -1, -1, -1, -1, -1, -1, -1, -1],\n",
       "       [-1, -1, -1, -1, -1, -1, -1, -1, -1, -1, -1, -1, -1, -1, -1, -1, -1, -1, -1, -1, -1, -1, -1, -1],\n",
       "       [-1, -1, -1, -1, -1, -1, -1, -1, -1, -1, -1, -1, -1, -1, -1, -1, -1, -1, -1, -1, -1, -1, -1, -1],\n",
       "       [-1, -1, -1, -1, -1, -1, -1, -1, -1, -1, -1, -1, -1, -1, -1, -1, -1, -1, -1, -1, -1, -1, -1, -1],\n",
       "       [-1, -1, -1, -1, -1, -1, -1, -1, -1, -1, -1, -1, -1, -1, -1, -1, -1, -1, -1, -1, -1, -1, -1, -1],\n",
       "       [-1, -1, -1, -1, -1, -1, -1, -1, -1, -1, -1, -1, -1, -1, -1, -1, -1, -1, -1, -1, -1, -1, -1, -1],\n",
       "       [-1, -1, -1, -1, -1, -1, -1, -1, -1, -1, -1, -1, -1, -1, -1, -1, -1, -1, -1, -1, -1, -1, -1, -1],\n",
       "       [-1, -1, -1, -1, -1, -1, -1, -1, -1, -1, -1, -1, -1, -1, -1, -1, -1, -1, -1, -1, -1, -1, -1, -1],\n",
       "       [-1, -1, -1, -1, -1, -1, -1, -1, -1, -1, -1, -1, -1, -1, -1, -1, -1, -1, -1, -1, -1, -1, -1, -1],\n",
       "       [-1, -1, -1, -1, -1, -1, -1, -1, -1, -1, -1, -1, -1, -1, -1, -1, -1, -1, -1, -1, -1, -1, -1, -1],\n",
       "       [-1, -1, -1, -1, -1, -1, -1, -1, -1, -1, -1, -1, -1, -1, -1, -1, -1, -1, -1, -1, -1, -1, -1, -1],\n",
       "       [-1, -1, -1, -1, -1, -1, -1, -1, -1, -1, -1, -1, -1, -1, -1, -1, -1, -1, -1, -1, -1, -1, -1, -1],\n",
       "       [-1, -1, -1, -1, -1, -1, -1, -1, -1, -1, -1, -1, -1, -1, -1, -1, -1, -1, -1, -1, -1, -1, -1, -1],\n",
       "       [-1, -1, -1, -1, -1, -1, -1, -1, -1, -1, -1, -1, -1, -1, -1, -1, -1, -1, -1, -1, -1, -1, -1, -1],\n",
       "       [-1, -1, -1, -1, -1, -1, -1, -1, -1, -1, -1, -1, -1, -1, -1, -1, -1, -1, -1, -1, -1, -1, -1, -1],\n",
       "       [-1, -1, -1, -1, -1, -1, -1, -1, -1, -1, -1, -1, -1, -1, -1, -1, -1, -1, -1, -1, -1, -1, -1, -1],\n",
       "       [-1, -1, -1, -1, -1, -1, -1, -1, -1, -1, -1, -1, -1, -1, -1, -1, -1, -1, -1, -1, -1, -1, -1, -1]], dtype=int32)"
      ]
     },
     "execution_count": 104,
     "metadata": {},
     "output_type": "execute_result"
    }
   ],
   "source": [
    "next_obs['player_0']['map_features']['tile_type'].T"
   ]
  },
  {
   "cell_type": "code",
   "execution_count": 105,
   "id": "824243b7",
   "metadata": {},
   "outputs": [
    {
     "data": {
      "text/plain": [
       "array([[[ 0,  0],\n",
       "        [-1, -1],\n",
       "        [-1, -1],\n",
       "        [-1, -1],\n",
       "        [-1, -1],\n",
       "        [-1, -1],\n",
       "        [-1, -1],\n",
       "        [-1, -1],\n",
       "        [-1, -1],\n",
       "        [-1, -1],\n",
       "        [-1, -1],\n",
       "        [-1, -1],\n",
       "        [-1, -1],\n",
       "        [-1, -1],\n",
       "        [-1, -1],\n",
       "        [-1, -1]],\n",
       "\n",
       "       [[-1, -1],\n",
       "        [-1, -1],\n",
       "        [-1, -1],\n",
       "        [-1, -1],\n",
       "        [-1, -1],\n",
       "        [-1, -1],\n",
       "        [-1, -1],\n",
       "        [-1, -1],\n",
       "        [-1, -1],\n",
       "        [-1, -1],\n",
       "        [-1, -1],\n",
       "        [-1, -1],\n",
       "        [-1, -1],\n",
       "        [-1, -1],\n",
       "        [-1, -1],\n",
       "        [-1, -1]]], dtype=int16)"
      ]
     },
     "execution_count": 105,
     "metadata": {},
     "output_type": "execute_result"
    }
   ],
   "source": [
    "next_obs['player_0']['units']['position']"
   ]
  },
  {
   "cell_type": "code",
   "execution_count": 106,
   "id": "4ec12d8e",
   "metadata": {},
   "outputs": [
    {
     "data": {
      "text/plain": [
       "array([[ True,  True,  True, False, False, False, False, False, False, False, False, False, False, False, False, False, False, False, False, False, False, False, False, False],\n",
       "       [ True,  True,  True, False, False, False, False, False, False, False, False, False, False, False, False, False, False, False, False, False, False, False, False, False],\n",
       "       [ True,  True,  True, False, False, False, False, False, False, False, False, False, False, False, False, False, False, False, False, False, False, False, False, False],\n",
       "       [False, False, False, False, False, False, False, False, False, False, False, False, False, False, False, False, False, False, False, False, False, False, False, False],\n",
       "       [False, False, False, False, False, False, False, False, False, False, False, False, False, False, False, False, False, False, False, False, False, False, False, False],\n",
       "       [False, False, False, False, False, False, False, False, False, False, False, False, False, False, False, False, False, False, False, False, False, False, False, False],\n",
       "       [False, False, False, False, False, False, False, False, False, False, False, False, False, False, False, False, False, False, False, False, False, False, False, False],\n",
       "       [False, False, False, False, False, False, False, False, False, False, False, False, False, False, False, False, False, False, False, False, False, False, False, False],\n",
       "       [False, False, False, False, False, False, False, False, False, False, False, False, False, False, False, False, False, False, False, False, False, False, False, False],\n",
       "       [False, False, False, False, False, False, False, False, False, False, False, False, False, False, False, False, False, False, False, False, False, False, False, False],\n",
       "       [False, False, False, False, False, False, False, False, False, False, False, False, False, False, False, False, False, False, False, False, False, False, False, False],\n",
       "       [False, False, False, False, False, False, False, False, False, False, False, False, False, False, False, False, False, False, False, False, False, False, False, False],\n",
       "       [False, False, False, False, False, False, False, False, False, False, False, False, False, False, False, False, False, False, False, False, False, False, False, False],\n",
       "       [False, False, False, False, False, False, False, False, False, False, False, False, False, False, False, False, False, False, False, False, False, False, False, False],\n",
       "       [False, False, False, False, False, False, False, False, False, False, False, False, False, False, False, False, False, False, False, False, False, False, False, False],\n",
       "       [False, False, False, False, False, False, False, False, False, False, False, False, False, False, False, False, False, False, False, False, False, False, False, False],\n",
       "       [False, False, False, False, False, False, False, False, False, False, False, False, False, False, False, False, False, False, False, False, False, False, False, False],\n",
       "       [False, False, False, False, False, False, False, False, False, False, False, False, False, False, False, False, False, False, False, False, False, False, False, False],\n",
       "       [False, False, False, False, False, False, False, False, False, False, False, False, False, False, False, False, False, False, False, False, False, False, False, False],\n",
       "       [False, False, False, False, False, False, False, False, False, False, False, False, False, False, False, False, False, False, False, False, False, False, False, False],\n",
       "       [False, False, False, False, False, False, False, False, False, False, False, False, False, False, False, False, False, False, False, False, False, False, False, False],\n",
       "       [False, False, False, False, False, False, False, False, False, False, False, False, False, False, False, False, False, False, False, False, False, False, False, False],\n",
       "       [False, False, False, False, False, False, False, False, False, False, False, False, False, False, False, False, False, False, False, False, False, False, False, False],\n",
       "       [False, False, False, False, False, False, False, False, False, False, False, False, False, False, False, False, False, False, False, False, False, False, False, False]])"
      ]
     },
     "execution_count": 106,
     "metadata": {},
     "output_type": "execute_result"
    }
   ],
   "source": [
    "next_obs['player_0']['sensor_mask'].T"
   ]
  },
  {
   "cell_type": "code",
   "execution_count": 107,
   "id": "afa147e6",
   "metadata": {},
   "outputs": [
    {
     "name": "stdout",
     "output_type": "stream",
     "text": [
      "Reward:  {'player_0': array(0, dtype=int32), 'player_1': array(0, dtype=int32)}\n",
      "Player 0 points:  [0 0]\n",
      "Player 1 points:  [0 0]\n",
      "Player 0 steps:  2\n",
      "Player 1 steps:  2\n",
      "Tile type: \n",
      " [[ 0  0  0 -1 -1 -1 -1 -1 -1 -1 -1 -1 -1 -1 -1 -1 -1 -1 -1 -1 -1 -1 -1 -1]\n",
      " [ 0  0  0 -1 -1 -1 -1 -1 -1 -1 -1 -1 -1 -1 -1 -1 -1 -1 -1 -1 -1 -1 -1 -1]\n",
      " [ 0  0  0 -1 -1 -1 -1 -1 -1 -1 -1 -1 -1 -1 -1 -1 -1 -1 -1 -1 -1 -1 -1 -1]\n",
      " [ 0  0  0 -1 -1 -1 -1 -1 -1 -1 -1 -1 -1 -1 -1 -1 -1 -1 -1 -1 -1 -1 -1 -1]\n",
      " [-1 -1 -1 -1 -1 -1 -1 -1 -1 -1 -1 -1 -1 -1 -1 -1 -1 -1 -1 -1 -1 -1 -1 -1]\n",
      " [-1 -1 -1 -1 -1 -1 -1 -1 -1 -1 -1 -1 -1 -1 -1 -1 -1 -1 -1 -1 -1 -1 -1 -1]\n",
      " [-1 -1 -1 -1 -1 -1 -1 -1 -1 -1 -1 -1 -1 -1 -1 -1 -1 -1 -1 -1 -1 -1 -1 -1]\n",
      " [-1 -1 -1 -1 -1 -1 -1 -1 -1 -1 -1 -1 -1 -1 -1 -1 -1 -1 -1 -1 -1 -1 -1 -1]\n",
      " [-1 -1 -1 -1 -1 -1 -1 -1 -1 -1 -1 -1 -1 -1 -1 -1 -1 -1 -1 -1 -1 -1 -1 -1]\n",
      " [-1 -1 -1 -1 -1 -1 -1 -1 -1 -1 -1 -1 -1 -1 -1 -1 -1 -1 -1 -1 -1 -1 -1 -1]\n",
      " [-1 -1 -1 -1 -1 -1 -1 -1 -1 -1 -1 -1 -1 -1 -1 -1 -1 -1 -1 -1 -1 -1 -1 -1]\n",
      " [-1 -1 -1 -1 -1 -1 -1 -1 -1 -1 -1 -1 -1 -1 -1 -1 -1 -1 -1 -1 -1 -1 -1 -1]\n",
      " [-1 -1 -1 -1 -1 -1 -1 -1 -1 -1 -1 -1 -1 -1 -1 -1 -1 -1 -1 -1 -1 -1 -1 -1]\n",
      " [-1 -1 -1 -1 -1 -1 -1 -1 -1 -1 -1 -1 -1 -1 -1 -1 -1 -1 -1 -1 -1 -1 -1 -1]\n",
      " [-1 -1 -1 -1 -1 -1 -1 -1 -1 -1 -1 -1 -1 -1 -1 -1 -1 -1 -1 -1 -1 -1 -1 -1]\n",
      " [-1 -1 -1 -1 -1 -1 -1 -1 -1 -1 -1 -1 -1 -1 -1 -1 -1 -1 -1 -1 -1 -1 -1 -1]\n",
      " [-1 -1 -1 -1 -1 -1 -1 -1 -1 -1 -1 -1 -1 -1 -1 -1 -1 -1 -1 -1 -1 -1 -1 -1]\n",
      " [-1 -1 -1 -1 -1 -1 -1 -1 -1 -1 -1 -1 -1 -1 -1 -1 -1 -1 -1 -1 -1 -1 -1 -1]\n",
      " [-1 -1 -1 -1 -1 -1 -1 -1 -1 -1 -1 -1 -1 -1 -1 -1 -1 -1 -1 -1 -1 -1 -1 -1]\n",
      " [-1 -1 -1 -1 -1 -1 -1 -1 -1 -1 -1 -1 -1 -1 -1 -1 -1 -1 -1 -1 -1 -1 -1 -1]\n",
      " [-1 -1 -1 -1 -1 -1 -1 -1 -1 -1 -1 -1 -1 -1 -1 -1 -1 -1 -1 -1 -1 -1 -1 -1]\n",
      " [-1 -1 -1 -1 -1 -1 -1 -1 -1 -1 -1 -1 -1 -1 -1 -1 -1 -1 -1 -1 -1 -1 -1 -1]\n",
      " [-1 -1 -1 -1 -1 -1 -1 -1 -1 -1 -1 -1 -1 -1 -1 -1 -1 -1 -1 -1 -1 -1 -1 -1]\n",
      " [-1 -1 -1 -1 -1 -1 -1 -1 -1 -1 -1 -1 -1 -1 -1 -1 -1 -1 -1 -1 -1 -1 -1 -1]]\n"
     ]
    }
   ],
   "source": [
    "next_obs, reward, terminated, truncated, info = env.step({\n",
    "    \"player_0\": actions0,\n",
    "    \"player_1\": actions1\n",
    "})\n",
    "\n",
    "print(\"Reward: \", reward)\n",
    "print(\"Player 0 points: \", next_obs['player_0']['team_points'])\n",
    "print(\"Player 1 points: \", next_obs['player_1']['team_points'])\n",
    "print(\"Player 0 steps: \", next_obs['player_0']['steps'])\n",
    "print(\"Player 1 steps: \", next_obs['player_1']['steps'])\n",
    "\n",
    "actions0 = agent0.act(next_obs['player_0']['steps'], next_obs['player_0'])\n",
    "actions1 = agent1.act(next_obs['player_1']['steps'], next_obs['player_1'])\n",
    "\n",
    "#print(actions0)\n",
    "\n",
    "print(\"Tile type: \\n\", next_obs['player_0']['map_features']['tile_type'].T)"
   ]
  },
  {
   "cell_type": "code",
   "execution_count": 108,
   "id": "ee2aaf10",
   "metadata": {},
   "outputs": [
    {
     "data": {
      "text/plain": [
       "array([[[ 0,  1],\n",
       "        [-1, -1],\n",
       "        [-1, -1],\n",
       "        [-1, -1],\n",
       "        [-1, -1],\n",
       "        [-1, -1],\n",
       "        [-1, -1],\n",
       "        [-1, -1],\n",
       "        [-1, -1],\n",
       "        [-1, -1],\n",
       "        [-1, -1],\n",
       "        [-1, -1],\n",
       "        [-1, -1],\n",
       "        [-1, -1],\n",
       "        [-1, -1],\n",
       "        [-1, -1]],\n",
       "\n",
       "       [[-1, -1],\n",
       "        [-1, -1],\n",
       "        [-1, -1],\n",
       "        [-1, -1],\n",
       "        [-1, -1],\n",
       "        [-1, -1],\n",
       "        [-1, -1],\n",
       "        [-1, -1],\n",
       "        [-1, -1],\n",
       "        [-1, -1],\n",
       "        [-1, -1],\n",
       "        [-1, -1],\n",
       "        [-1, -1],\n",
       "        [-1, -1],\n",
       "        [-1, -1],\n",
       "        [-1, -1]]], dtype=int16)"
      ]
     },
     "execution_count": 108,
     "metadata": {},
     "output_type": "execute_result"
    }
   ],
   "source": [
    "next_obs['player_0']['units']['position']"
   ]
  },
  {
   "cell_type": "code",
   "execution_count": 104,
   "id": "66dbb98b",
   "metadata": {},
   "outputs": [
    {
     "data": {
      "text/plain": [
       "dict_keys(['discount', 'final_observation', 'final_state', 'player_0', 'player_1'])"
      ]
     },
     "execution_count": 104,
     "metadata": {},
     "output_type": "execute_result"
    }
   ],
   "source": [
    "info.keys()"
   ]
  },
  {
   "cell_type": "code",
   "execution_count": 105,
   "id": "149695ca",
   "metadata": {},
   "outputs": [
    {
     "data": {
      "text/plain": [
       "dict_keys(['player_0', 'player_1'])"
      ]
     },
     "execution_count": 105,
     "metadata": {},
     "output_type": "execute_result"
    }
   ],
   "source": [
    "next_obs.keys()"
   ]
  },
  {
   "cell_type": "code",
   "execution_count": 106,
   "id": "3c3ee62a",
   "metadata": {},
   "outputs": [
    {
     "data": {
      "text/plain": [
       "dict_keys(['units', 'units_mask', 'sensor_mask', 'map_features', 'relic_nodes', 'relic_nodes_mask', 'team_points', 'team_wins', 'steps', 'match_steps'])"
      ]
     },
     "execution_count": 106,
     "metadata": {},
     "output_type": "execute_result"
    }
   ],
   "source": [
    "next_obs['player_0'].keys()"
   ]
  },
  {
   "cell_type": "markdown",
   "id": "b59e03ce",
   "metadata": {},
   "source": [
    "# Loop"
   ]
  },
  {
   "cell_type": "code",
   "execution_count": null,
   "id": "eb4907e5",
   "metadata": {},
   "outputs": [],
   "source": [
    "obs_all, info = env.reset()\n",
    "env_cfg = info['params']"
   ]
  },
  {
   "cell_type": "code",
   "execution_count": null,
   "id": "c829acb3",
   "metadata": {},
   "outputs": [],
   "source": [
    "agent0 = Agent(\"player_0\", env_cfg)\n",
    "agent1 = Agent(\"player_1\", env_cfg)"
   ]
  },
  {
   "cell_type": "code",
   "execution_count": null,
   "id": "b38bfb92",
   "metadata": {},
   "outputs": [],
   "source": [
    "actions0 = agent0.act(obs_all['player_0']['steps'], obs_all['player_0'])\n",
    "actions1 = agent1.act(obs_all['player_1']['steps'], obs_all['player_1'])"
   ]
  },
  {
   "cell_type": "code",
   "execution_count": null,
   "id": "8f26a2ef",
   "metadata": {},
   "outputs": [],
   "source": [
    "obs_all['player_0']['steps']"
   ]
  },
  {
   "cell_type": "code",
   "execution_count": null,
   "id": "63dc3059",
   "metadata": {},
   "outputs": [],
   "source": [
    "obs_all['player_0']['match_steps']"
   ]
  },
  {
   "cell_type": "code",
   "execution_count": null,
   "id": "ab59b9d9",
   "metadata": {},
   "outputs": [],
   "source": [
    "obs_all['player_0']['units']['position']"
   ]
  },
  {
   "cell_type": "code",
   "execution_count": null,
   "id": "0965317c",
   "metadata": {},
   "outputs": [],
   "source": [
    "obs_all['player_0']['team_points']"
   ]
  },
  {
   "cell_type": "code",
   "execution_count": null,
   "id": "4d1cbae3",
   "metadata": {},
   "outputs": [],
   "source": [
    "for i in range(1000):\n",
    "    next_obs, reward, terminated, truncated, info = env.step({\n",
    "        \"player_0\": actions0,\n",
    "        \"player_1\": actions1\n",
    "    })\n",
    "\n",
    "    print(\"Reward: \", reward)\n",
    "    \n",
    "    print(\"Player 0 points: \", next_obs['player_0']['team_points'])\n",
    "    print(\"Player 1 points: \", next_obs['player_1']['team_points'])\n",
    "    print(\"Player 0 steps: \", next_obs['player_0']['steps'])\n",
    "    print(\"Player 0 match steps: \", next_obs['player_0']['match_steps'])\n",
    "    print(\"Player 1 steps: \", next_obs['player_1']['steps'])\n",
    "    print(\"Player 1 match steps: \", next_obs['player_1']['match_steps'])\n",
    "    print(\"Player 0 units position: \", next_obs['player_0']['units']['position'])\n",
    "    print(\"Player 1 units position: \", next_obs['player_1']['units']['position'])\n",
    "\n",
    "    actions0 = agent0.act(next_obs['player_0']['steps'], next_obs['player_0'])\n",
    "    actions1 = agent1.act(next_obs['player_1']['steps'], next_obs['player_1'])\n",
    "\n",
    "    #print(actions0)\n",
    "\n",
    "    print(\"Player 0 tile type: \\n\", next_obs['player_0']['map_features']['tile_type'])"
   ]
  },
  {
   "cell_type": "code",
   "execution_count": null,
   "id": "ebe4ef38",
   "metadata": {},
   "outputs": [],
   "source": []
  },
  {
   "cell_type": "code",
   "execution_count": null,
   "id": "70566e73",
   "metadata": {},
   "outputs": [],
   "source": []
  },
  {
   "cell_type": "code",
   "execution_count": null,
   "id": "a60518f6",
   "metadata": {},
   "outputs": [],
   "source": []
  },
  {
   "cell_type": "code",
   "execution_count": null,
   "id": "abe28649",
   "metadata": {},
   "outputs": [],
   "source": []
  },
  {
   "cell_type": "code",
   "execution_count": null,
   "id": "741d65f1",
   "metadata": {},
   "outputs": [],
   "source": []
  },
  {
   "cell_type": "code",
   "execution_count": null,
   "id": "fcd5888f",
   "metadata": {},
   "outputs": [],
   "source": []
  },
  {
   "cell_type": "code",
   "execution_count": null,
   "id": "20b8a633",
   "metadata": {},
   "outputs": [],
   "source": []
  }
 ],
 "metadata": {
  "kaggle": {
   "accelerator": "none",
   "dataSources": [
    {
     "databundleVersionId": 10395677,
     "sourceId": 86411,
     "sourceType": "competition"
    }
   ],
   "isGpuEnabled": false,
   "isInternetEnabled": true,
   "language": "python",
   "sourceType": "notebook"
  },
  "kernelspec": {
   "display_name": ".venv",
   "language": "python",
   "name": "python3"
  },
  "language_info": {
   "codemirror_mode": {
    "name": "ipython",
    "version": 3
   },
   "file_extension": ".py",
   "mimetype": "text/x-python",
   "name": "python",
   "nbconvert_exporter": "python",
   "pygments_lexer": "ipython3",
   "version": "3.12.8"
  },
  "papermill": {
   "default_parameters": {},
   "duration": 143.048125,
   "end_time": "2024-12-26T20:02:43.573801",
   "environment_variables": {},
   "exception": null,
   "input_path": "__notebook__.ipynb",
   "output_path": "__notebook__.ipynb",
   "parameters": {},
   "start_time": "2024-12-26T20:00:20.525676",
   "version": "2.6.0"
  }
 },
 "nbformat": 4,
 "nbformat_minor": 5
}
