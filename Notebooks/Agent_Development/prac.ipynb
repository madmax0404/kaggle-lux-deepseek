{
 "cells": [
  {
   "cell_type": "code",
   "execution_count": 5,
   "metadata": {},
   "outputs": [
    {
     "name": "stdout",
     "output_type": "stream",
     "text": [
      "The following values were not passed to `accelerate launch` and had defaults used instead:\n",
      "\t`--num_processes` was set to a value of `1`\n",
      "\t`--num_machines` was set to a value of `1`\n",
      "\t`--dynamo_backend` was set to a value of `'no'`\n",
      "To avoid this warning pass in values for each of the problematic parameters or run `accelerate config`.\n",
      "WARNING:2025-02-18 14:05:00,324:jax._src.xla_bridge:987: An NVIDIA GPU may be present on this machine, but a CUDA-enabled jaxlib is not installed. Falling back to cpu.\n",
      "[2025-02-18 14:05:04,588] [INFO] [real_accelerator.py:222:get_accelerator] Setting ds_accelerator to cuda (auto detect)\n",
      "Traceback (most recent call last):\n",
      "  File \"/home/max1024/Kaggle/Lux/Notebooks/Agent_Development/training_test.py\", line 384, in <module>\n",
      "    trainer = ModifiedPPOTrainer(\n",
      "              ^^^^^^^^^^^^^^^^^^^\n",
      "  File \"/home/max1024/Kaggle/Lux/.venv/lib/python3.12/site-packages/transformers/utils/deprecation.py\", line 165, in wrapped_func\n",
      "    return func(*args, **kwargs)\n",
      "           ^^^^^^^^^^^^^^^^^^^^^\n",
      "  File \"/home/max1024/Kaggle/Lux/.venv/lib/python3.12/site-packages/transformers/utils/deprecation.py\", line 165, in wrapped_func\n",
      "    return func(*args, **kwargs)\n",
      "           ^^^^^^^^^^^^^^^^^^^^^\n",
      "  File \"/home/max1024/Kaggle/Lux/.venv/lib/python3.12/site-packages/transformers/utils/deprecation.py\", line 165, in wrapped_func\n",
      "    return func(*args, **kwargs)\n",
      "           ^^^^^^^^^^^^^^^^^^^^^\n",
      "  File \"/home/max1024/Kaggle/Lux/Notebooks/Agent_Development/Modified_PPO_Trainer/ppo_trainer_20250218_01.py\", line 501, in __init__\n",
      "    time_int = broadcast(time_tensor, 0).item()  # avoid different timestamps across processes\n",
      "               ^^^^^^^^^^^^^^^^^^^^^^^^^\n",
      "  File \"/home/max1024/Kaggle/Lux/.venv/lib/python3.12/site-packages/accelerate/utils/operations.py\", line 372, in wrapper\n",
      "    return function(*args, **kwargs)\n",
      "           ^^^^^^^^^^^^^^^^^^^^^^^^^\n",
      "  File \"/home/max1024/Kaggle/Lux/.venv/lib/python3.12/site-packages/accelerate/utils/operations.py\", line 555, in broadcast\n",
      "    return _gpu_broadcast(tensor, src=from_process)\n",
      "           ^^^^^^^^^^^^^^^^^^^^^^^^^^^^^^^^^^^^^^^^\n",
      "  File \"/home/max1024/Kaggle/Lux/.venv/lib/python3.12/site-packages/accelerate/utils/operations.py\", line 469, in _gpu_broadcast\n",
      "    return recursively_apply(_gpu_broadcast_one, data, error_on_other_type=True, src=src)\n",
      "           ^^^^^^^^^^^^^^^^^^^^^^^^^^^^^^^^^^^^^^^^^^^^^^^^^^^^^^^^^^^^^^^^^^^^^^^^^^^^^^\n",
      "  File \"/home/max1024/Kaggle/Lux/.venv/lib/python3.12/site-packages/accelerate/utils/operations.py\", line 126, in recursively_apply\n",
      "    return func(data, *args, **kwargs)\n",
      "           ^^^^^^^^^^^^^^^^^^^^^^^^^^^\n",
      "  File \"/home/max1024/Kaggle/Lux/.venv/lib/python3.12/site-packages/accelerate/utils/operations.py\", line 466, in _gpu_broadcast_one\n",
      "    torch.distributed.broadcast(tensor, src=src)\n",
      "  File \"/home/max1024/Kaggle/Lux/.venv/lib/python3.12/site-packages/torch/distributed/c10d_logger.py\", line 83, in wrapper\n",
      "    return func(*args, **kwargs)\n",
      "           ^^^^^^^^^^^^^^^^^^^^^\n",
      "  File \"/home/max1024/Kaggle/Lux/.venv/lib/python3.12/site-packages/torch/distributed/distributed_c10d.py\", line 2416, in broadcast\n",
      "    default_pg = _get_default_group()\n",
      "                 ^^^^^^^^^^^^^^^^^^^^\n",
      "  File \"/home/max1024/Kaggle/Lux/.venv/lib/python3.12/site-packages/torch/distributed/distributed_c10d.py\", line 1150, in _get_default_group\n",
      "    raise ValueError(\n",
      "ValueError: Default process group has not been initialized, please make sure to call init_process_group.\n",
      "Traceback (most recent call last):\n",
      "  File \"/home/max1024/Kaggle/Lux/.venv/bin/accelerate\", line 8, in <module>\n",
      "    sys.exit(main())\n",
      "             ^^^^^^\n",
      "  File \"/home/max1024/Kaggle/Lux/.venv/lib/python3.12/site-packages/accelerate/commands/accelerate_cli.py\", line 48, in main\n",
      "    args.func(args)\n",
      "  File \"/home/max1024/Kaggle/Lux/.venv/lib/python3.12/site-packages/accelerate/commands/launch.py\", line 1172, in launch_command\n",
      "    simple_launcher(args)\n",
      "  File \"/home/max1024/Kaggle/Lux/.venv/lib/python3.12/site-packages/accelerate/commands/launch.py\", line 762, in simple_launcher\n",
      "    raise subprocess.CalledProcessError(returncode=process.returncode, cmd=cmd)\n",
      "subprocess.CalledProcessError: Command '['/home/max1024/Kaggle/Lux/.venv/bin/python', 'training_test.py']' returned non-zero exit status 1.\n"
     ]
    }
   ],
   "source": [
    "!accelerate launch --mixed_precision=\"bf16\" training_test.py"
   ]
  }
 ],
 "metadata": {
  "kernelspec": {
   "display_name": ".venv",
   "language": "python",
   "name": "python3"
  },
  "language_info": {
   "codemirror_mode": {
    "name": "ipython",
    "version": 3
   },
   "file_extension": ".py",
   "mimetype": "text/x-python",
   "name": "python",
   "nbconvert_exporter": "python",
   "pygments_lexer": "ipython3",
   "version": "3.12.8"
  }
 },
 "nbformat": 4,
 "nbformat_minor": 2
}
