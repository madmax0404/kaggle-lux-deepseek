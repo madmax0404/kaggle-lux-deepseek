{
 "cells": [
  {
   "cell_type": "code",
   "execution_count": 1,
   "id": "52958575",
   "metadata": {},
   "outputs": [],
   "source": [
    "import re\n",
    "import torch\n",
    "from transformers import AutoTokenizer, AutoModelForCausalLM, BitsAndBytesConfig, AutoConfig\n",
    "from trl import PPOTrainer, PPOConfig\n",
    "import luxai_s3\n",
    "from luxai_s3.wrappers import LuxAIS3GymEnv, RecordEpisode\n",
    "from luxai_s3.params import EnvParams\n",
    "import numpy as np\n",
    "from datasets import load_dataset, Dataset\n",
    "from peft import LoraConfig, get_peft_model\n",
    "import os\n",
    "from accelerate import infer_auto_device_map\n",
    "import gc\n",
    "import copy\n",
    "gc.enable()\n",
    "\n",
    "#from stable_baselines3 import PPO\n",
    "#import gymnasium as gym\n",
    "#import gym"
   ]
  },
  {
   "cell_type": "code",
   "execution_count": 2,
   "id": "afcf8610",
   "metadata": {},
   "outputs": [],
   "source": [
    "os.environ[\"PYTORCH_CUDA_ALLOC_CONF\"] = \"expandable_segments:True\"\n",
    "torch.backends.cuda.matmul.allow_tf32 = True\n",
    "torch.backends.cudnn.allow_tf32 = True\n",
    "os.environ[\"FLASH_ATTENTION\"] = \"1\"\n",
    "torch._dynamo.config.capture_scalar_outputs = True\n",
    "torch._dynamo.config.cache_size_limit = 64\n",
    "os.environ[\"CUDA_LAUNCH_BLOCKING\"] = \"1\"\n",
    "np.set_printoptions(linewidth=200)\n",
    "# Configure CUDA memory management\n",
    "os.environ[\"PYTORCH_CUDA_ALLOC_CONF\"] = \"max_split_size_mb:128,garbage_collection_threshold:0.8\"\n",
    "torch.cuda.empty_cache()\n",
    "torch.backends.cudnn.benchmark = False\n",
    "\n",
    "# Enable gradient checkpointing\n",
    "os.environ[\"PYTORCH_ATTENTION_USE_MEMORY_EFFICIENT_ATTENTION\"] = \"1\"\n",
    "os.environ[\"TORCH_USE_CUDA_DSA\"] = \"1\""
   ]
  },
  {
   "cell_type": "code",
   "execution_count": 3,
   "id": "c971a92b",
   "metadata": {},
   "outputs": [],
   "source": [
    "data = load_dataset('openai/gsm8k', 'main')"
   ]
  },
  {
   "cell_type": "code",
   "execution_count": 4,
   "id": "97761178",
   "metadata": {},
   "outputs": [
    {
     "data": {
      "text/plain": [
       "Dataset({\n",
       "    features: ['question', 'answer'],\n",
       "    num_rows: 7473\n",
       "})"
      ]
     },
     "execution_count": 4,
     "metadata": {},
     "output_type": "execute_result"
    }
   ],
   "source": [
    "train_data = data['train']\n",
    "train_data"
   ]
  },
  {
   "cell_type": "code",
   "execution_count": 5,
   "id": "4dc0e296",
   "metadata": {},
   "outputs": [
    {
     "data": {
      "text/plain": [
       "7473"
      ]
     },
     "execution_count": 5,
     "metadata": {},
     "output_type": "execute_result"
    }
   ],
   "source": [
    "train_data.num_rows"
   ]
  },
  {
   "cell_type": "code",
   "execution_count": 6,
   "id": "53f68f97",
   "metadata": {},
   "outputs": [
    {
     "data": {
      "text/plain": [
       "{'question': Value(dtype='string', id=None),\n",
       " 'answer': Value(dtype='string', id=None)}"
      ]
     },
     "execution_count": 6,
     "metadata": {},
     "output_type": "execute_result"
    }
   ],
   "source": [
    "train_data.features"
   ]
  },
  {
   "cell_type": "code",
   "execution_count": 7,
   "id": "6cd15183",
   "metadata": {},
   "outputs": [
    {
     "data": {
      "text/plain": [
       "{'question': 'Natalia sold clips to 48 of her friends in April, and then she sold half as many clips in May. How many clips did Natalia sell altogether in April and May?',\n",
       " 'answer': 'Natalia sold 48/2 = <<48/2=24>>24 clips in May.\\nNatalia sold 48+24 = <<48+24=72>>72 clips altogether in April and May.\\n#### 72'}"
      ]
     },
     "execution_count": 7,
     "metadata": {},
     "output_type": "execute_result"
    }
   ],
   "source": [
    "train_data[0]"
   ]
  },
  {
   "cell_type": "code",
   "execution_count": 8,
   "id": "5d8d0115",
   "metadata": {},
   "outputs": [],
   "source": [
    "# Load and prep dataset\n",
    "\n",
    "SYSTEM_PROMPT = \"\"\"\n",
    "Respond in the following format:\n",
    "<reasoning>\n",
    "...\n",
    "</reasoning>\n",
    "<answer>\n",
    "...\n",
    "</answer>\n",
    "\"\"\"\n",
    "\n",
    "XML_COT_FORMAT = \"\"\"\\\n",
    "<reasoning>\n",
    "{reasoning}\n",
    "</reasoning>\n",
    "<answer>\n",
    "{answer}\n",
    "</answer>\n",
    "\"\"\""
   ]
  },
  {
   "cell_type": "code",
   "execution_count": 9,
   "id": "17f17ee1",
   "metadata": {},
   "outputs": [],
   "source": [
    "def extract_xml_answer(text: str) -> str:\n",
    "    answer = text.split(\"<answer>\")[-1]\n",
    "    answer = answer.split(\"</answer>\")[0]\n",
    "    return answer.strip()\n",
    "\n",
    "def extract_hash_answer(text: str) -> str | None:\n",
    "    if \"####\" not in text:\n",
    "        return None\n",
    "    return text.split(\"####\")[1].strip()\n",
    "\n",
    "# uncomment middle messages for 1-shot prompting\n",
    "def get_gsm8k_questions(split = \"train\") -> Dataset:\n",
    "    data = load_dataset('openai/gsm8k', 'main')[split] # type: ignore\n",
    "    data = data.map(lambda x: { # type: ignore\n",
    "        'prompt': [\n",
    "            {'role': 'system', 'content': SYSTEM_PROMPT},\n",
    "            {'role': 'user', 'content': x['question']}\n",
    "        ],\n",
    "        'answer': extract_hash_answer(x['answer'])\n",
    "    }) # type: ignore\n",
    "    return data # type: ignore\n",
    "\n",
    "dataset = get_gsm8k_questions()"
   ]
  },
  {
   "cell_type": "code",
   "execution_count": 10,
   "id": "fe737742",
   "metadata": {},
   "outputs": [],
   "source": [
    "model_name = \"deepseek-ai/DeepSeek-R1-Distill-Qwen-1.5B\"\n",
    "\n",
    "# ✅ Load tokenizer\n",
    "tokenizer = AutoTokenizer.from_pretrained(model_name)\n",
    "\n",
    "# ✅ Ensure pad token is set correctly\n",
    "tokenizer.pad_token = tokenizer.eos_token\n",
    "\n",
    "# ✅ Optimized quantization configuration\n",
    "bnb_config = BitsAndBytesConfig(\n",
    "    load_in_4bit=True,\n",
    "    bnb_4bit_compute_dtype=torch.bfloat16,\n",
    "    bnb_4bit_quant_type=\"nf4\",\n",
    "    bnb_4bit_use_double_quant=True,  # ✅ Add nested quantization for better memory usage\n",
    "    bnb_4bit_quant_storage=\"bfloat16\"  # Enable quantized storage\n",
    ")\n",
    "\n",
    "autoconfig = AutoConfig.from_pretrained(model_name)"
   ]
  },
  {
   "cell_type": "code",
   "execution_count": 11,
   "id": "caaa520d",
   "metadata": {},
   "outputs": [],
   "source": [
    "autoconfig.max_position_embeddings = 10000\n",
    "autoconfig.use_cache = False"
   ]
  },
  {
   "cell_type": "code",
   "execution_count": 12,
   "id": "8ec2f3a3",
   "metadata": {},
   "outputs": [],
   "source": [
    "#from lux.utils import direction_to\n",
    "#import sys\n",
    "import numpy as np\n",
    "\n",
    "answer_format = {'content': '\\nRespond in the following format:\\n<reasoning>\\n...\\n</reasoning>\\n<answer>\\n...\\n</answer>\\n', 'role': 'system'}\n",
    "\n",
    "game_rules = {'content': \n",
    "\"\"\"\n",
    "!!!GAME RULES!!!\n",
    "Environment\n",
    "Two teams compete against each other on a 2D map in a best of 5 match sequence (called a game) with each match lasting 100 time steps. Both teams have a pool of units they can control to gain points around the map while also trying to prevent the other team from doing the same.\n",
    "A core objective of this game is a balanced strategy of exploration and exploitation. It is recommended to explore more in the first match or two before leveraging gained knowledge about the map and opponent behavior to win the latter matches.\n",
    "Map\n",
    "The map is a randomly generated 2D grid of size 24x24. There are several core features that make up the map: Unknown Tiles, Empty Tiles, Asteroid Tiles, Nebula Tiles, Energy Tiles, Relic Nodes, and Relic Fragments. Notably, in a game, the map is never regenerated completely between matches. Whatever is the state of the map at the end of one match is what is used for the next match.\n",
    "Unknown Tiles\n",
    "These are tiles that are not visible. They can be any type of tile but are not visible to you until a unit is within sensor range of that tile.\n",
    "Empty Tiles\n",
    "These are empty tiles in space without anything special about them. Units and tiles can be placed/move onto these tiles.\n",
    "Asteroid Tiles\n",
    "Asteroid tiles are impassable tiles that block anything from moving/spawning onto them. These tiles might move around over time during the map in a symmetric fashion. Sometimes asteroid tiles might move on top of existing units. In the game the unit is not removed as a result of this and can still take actions and move around provided there is an non asteroid tile adjacent to it.\n",
    "Nebula Tiles\n",
    "Nebula tiles are passable tiles with a number of features. These tiles might move around over time during the map in a symmetric fashion.\n",
    "Vision Reduction: Nebula tiles can reduce/block vision of units. Because of vision reduction it is even possible for a unit to be unable to see itself while still being able to move! See Vision section below for more details on how team vision is determined. All nebula tiles have the same vision reduction value called params.nebula_tile_vision_reduction which is randomized from 0 to 3.\n",
    "Energy Reduction: Nebula tiles can reduce the energy of units that end their turn on them. All nebula tiles have the same energy reduction value called params.nebula_tile_energy_reduction.\n",
    "In Map Tile Types, empty tiles are represented by 0, asteroid tiles by 1, nebula tiles by 2, and unknown tiles by -1.\n",
    "Energy Tiles\n",
    "Energy tiles are mysterious objects that emit energy fields which can be harvested by units. These tiles might move around over time during the map in a symmetric fashion. In code, what actually occurs in each game is energy tiles are randomly generated on the map symmetrically and a random function is generated for each tile. Each energy tile's function is a function of distance. The energy value of a tile on a map is determined to be the sum of the energy tile functions applied to the distance between tile and each tile.\n",
    "Relic Nodes\n",
    "Relic nodes are objects in space that enable ships to go near it to gain team points. These relic nodes however are ancient and thus fragmented. As a result, only certain tiles near the relic nodes when a friendly ship is on it will gain points. The tiles that yield points are always hidden and can only be discovered by trial and error by moving around the relic nodes. Relic node positions themselves can be observed if withins sensor range. The tiles around relic nodes can overlap with tiles of other relic nodes but will not yield extra points if that occurs and is treated as one tile.\n",
    "In code, a random 5x5 configuration / mask centered on the relic node is generated indicating which tiles yield points and which don't. Multiple ships can stack on one tile but will only yield at most one point per tile. Note that ship stacking can be risky due to the sapping action.\n",
    "Units\n",
    "Units in the game are ships that can move one tile in 5 directions (center, up, right, down, left) and perform a ranged energy sapping action. Units can overlap with other friendly units if they move onto the same tile. Units have a energy property which determines whether they can perform actions and start with 100 energy and can have a max of 400 energy. Energy is recharged via the energy field of the map. They always spawn on one of the two corners of the map depending on which team they are on.\n",
    "Note that nebula tiles and energy fields can modify the energy of a unit when it is on that tile. However they can never reduce the energy of a unit below 0, only opposing units can do that which will then remove the unit from the game to be respawned at a later timestep. Unit IDs range from 0 to params.max_units - 1 for each team, and are recycled when units are spawned in if a previous one was removed.\n",
    "Move Actions\n",
    "All move actions except moving center cost params.unit_move_cost energy to perform. Moving center is always free (a zero action). Attempting to move off the edge of the map results in no movement occuring but energy is still consumed. Units cannot move onto tiles with an impassible feature like an asteroid tile.\n",
    "Sap Actions\n",
    "The sap action lets a unit target a specific tile on the map within a range called params.unit_sap_range and reduces the energy of each opposition unit on the target tile by params.unit_sap_cost while also costing unit_sap_cost energy to use. Moreover, any opposition units on the 8 adjacent tiles to the target tile are also sapped and their energy is reduced by params.unit_sap_cost * params.unit_sap_dropoff_factor.\n",
    "Sap actions are submitted to the game engine / environment as a delta x and delta y value relative to the unit's current position. The delta x and delta y value magnitudes must both be <= params.unit_sap_range, so the sap range is a square around the unit.\n",
    "Generally sap actions are risky since a single miss means your ships lose energy while the opponent does not. The area of effect can mitigate this risk somewhat depending on game parameters. Sap actions can however prove very valuable when opposition ships are heavily stacked and get hit as sapping the stacked tile hits every ship on the tile.\n",
    "Vision\n",
    "A team's vision is the combined vision of all units on that team. Team vision is essentially a boolean mask / matrix over the 2D map indicating whether that tile's information is visible to the team. In this game, you can think of each unit having an \"eye in the sky\" sattelite that is capturing information about the units surroundings, but this sattelite has reduced accuracy the farther away the tile is from the unit.\n",
    "To determine which map tiles are visible to a team, we compute a vision power value for each tile on the map. For each unit on a team, we check each tile within the unit's sensor range and add 1 + params.unit_sensor_range - min(dx, dy) to the vision power map at tile (x+dx, y+dy) where (x,y) is the unit's position and (dx, dy) is the offset from the unit's position and abs(dx) <= params.unit_sensor_range and abs(dy) <= params.unit_sensor_range.\n",
    "Nebula tiles have a vision reduction value of params.nebula_tile_vision_reduction. This number is reduced from every tile's vision power if that tile is a nebula tile.\n",
    "When a unit is near a nebula tile, it can't see details about some nebula tiles, but it can see tiles beyond nebula tiles.\n",
    "When a unit is inside a nebula tile, if the nebula vision reduction is powerful enough, the unit cannot even see itself or any other nebula tiles.\n",
    "Unit vision can overlap and increase the vision power linearly, which can help handle the situations like above when you cannot see anything.\n",
    "Collisions / Energy Void Fields\n",
    "In close quarters, units can impact each other in two ways, via direct collisions or by being adjacent to each other and sapping energy via their energy void fields.\n",
    "In the event of two or more units from opposing teams occupy the same tile at the end of a turn, the team with the highest aggregate energy among its units on that tile survive, while the units of the opposing teams are removed from the game. If it is a tie, all units are removed from the game.\n",
    "Furthermore, each unit generates an \"energy void\" field around itself that affects all cardinally (up, right, down left) adjacent opposition units. To determine how exactly each unit is affected by these energy void fields, we compute a 2D map for each team indicating the energy void strength at each tile. A unit contributes to tiles adjacent to itself a energy void strength equal to the total amount of energy the unit has at the start of the turn multiplied by params.unit_energy_void_factor rounded down. After a energy void map is computed for each team, a unit's energy is reduced by the energy void strength of the tile it is on divided by the total number of units on that tile. Note that units removed due to collisions do not contribute to the energy void field.\n",
    "The energy void fields generally encourage stacking units to better spread out energy sapped by energy void fields of opposition units.\n",
    "Win Conditions\n",
    "To win the game, the team must have won the most matches out of the 5 match sequence.\n",
    "To win a match, the team must have gained more relic points than the other team at the end of the match. If the relic points scores are tied, then the match winner is decided by who has more total unit energy. If that is also tied then the winner is chosen at random.\n",
    "Match Resolution Order\n",
    "At each time step of a match, we run the following steps in order:\n",
    "1. Move all units that have enough energy to move\n",
    "2. Execute the sap actions of all units that have enough energy to do so\n",
    "3. Resolve collisions and apply energy void fields\n",
    "4. Update the energy of all units based on their position (energy fields and nebula tiles)\n",
    "5. Spawn units for all teams. Remove units that have less than 0 energy.\n",
    "6. Determine the team vision / sensor masks for all teams and mask out observations accordingly\n",
    "7. Environment objects like asteroids/nebula tiles/energy tiles move around in space\n",
    "8. Compute new team points\n",
    "Note that each match runs for params.max_steps_in_match steps and you take that many actions that affect the game. However, you will actually receive params.max_steps_in_match + 1 frames of observations since the very first frame will either be empty or the previous match's final observation (actions on these observations will not do anything).\n",
    "Game Parameters\n",
    "The full set of game parameters can be found here in the codebase.\n",
    "Randomized Game Parameters / Map Generation\n",
    "There are a number of randomized game paramteres which can modify and even disable/enable certain game mechanics. None of these game parameters are changed between matches in a game. The majority of these parameters are also not given to the teams themselves and must be discovered through exploration.\n",
    "env_params_ranges = dict(\n",
    "    map_type=[1],\n",
    "    unit_move_cost=list(range(1, 6)), # list(range(x, y)) = [x, x+1, x+2, ... , y-1]\n",
    "    unit_sensor_range=list(range(2, 5)),\n",
    "    nebula_tile_vision_reduction=list(range(0,4)),\n",
    "    nebula_tile_energy_reduction=[0, 0, 10, 25],\n",
    "    unit_sap_cost=list(range(30, 51)),\n",
    "    unit_sap_range=list(range(3, 8)),\n",
    "    unit_sap_dropoff_factor=[0.25, 0.5, 1],\n",
    "    unit_energy_void_factor=[0.0625, 0.125, 0.25, 0.375],\n",
    "    # map randomizations\n",
    "    nebula_tile_drift_speed=[-0.05, -0.025, 0.025, 0.05],\n",
    "    energy_tile_drift_speed=[0.01, 0.02, 0.03, 0.04, 0.05],\n",
    "    energy_tile_drift_magnitude=list(range(3, 6))\n",
    ")\n",
    "These parameter ranges (and other parameters) are subject to change in the beta phase of this competition as we gather feedback and data.\n",
    "There are 6 actions that can be taken by a unit in this game: 0 = center, 1 = up, 2 = right, 3 = down, 4 = left, 5 = sap.\n",
    "So your answer should be in this format:\n",
    "Unit 0: action(from 0 to 5)\n",
    "Unit 1: action(from 0 to 5)\n",
    "Unit 2: action(from 0 to 5)\n",
    "Unit 3: action(from 0 to 5)\n",
    "Unit 4: action(from 0 to 5)\n",
    "Unit 5: action(from 0 to 5)\n",
    "Unit 6: action(from 0 to 5)\n",
    "Unit 7: action(from 0 to 5)\n",
    "Unit 8: action(from 0 to 5)\n",
    "Unit 9: action(from 0 to 5)\n",
    "Unit 10: action(from 0 to 5)\n",
    "Unit 11: action(from 0 to 5)\n",
    "Unit 12: action(from 0 to 5)\n",
    "Unit 13: action(from 0 to 5)\n",
    "Unit 14: action(from 0 to 5)\n",
    "Unit 15: action(from 0 to 5)\n",
    "However, if you choose to sap(5), you should provide the direction of the sap, which is a pair of integers (dx, dy) where dx and dy are the relative coordinates of the target tile from the unit's current position. The magnitudes of dx and dy must be less than or equal to the unit's sap range. For example, if unit 3 is at (5, 5) and you want to sap the tile at (7, 7), your answer for unit 3 should be 5, 2, 2.\n",
    "Also, you can only take actions for the units that are available to you in the current timestep. If you take an action for a unit that is not available to you, the game engine will ignore that action.\n",
    "Additionally, you can only take one action per unit per timestep. If you take multiple actions for a single unit in a timestep, the game engine will ignore all but the first action.\n",
    "So, below is an example of a valid answer:\n",
    "Unit 0: 1 # move up\n",
    "Unit 1: 2 # move right\n",
    "Unit 2: 5, 2, 2 # sap at (2, 2) relative to unit 2's current position\n",
    "Unit 3: 0 # center\n",
    "Unit 4: 5, 1, 1 # sap at (1, 1) relative to unit 4's current position\n",
    "Unit 5: 5, -1, -2 # sap at (-1, -2) relative to unit 5's current position\n",
    "Unit 6: 5, -2, 2 # sap at (-2, 2) relative to unit 6's current position\n",
    "Unit 7: 5, 0, 0 # sap at (0, 0) relative to unit 7's current position\n",
    "Unit 8: 4 # move left\n",
    "Unit 9: 0 # center\n",
    "Unit 10: 3 # move down\n",
    "Unit 11: 2 # move right\n",
    "Unit 12: 1 # move up\n",
    "Unit 13: 0 # center\n",
    "Unit 14: 5, -4, 5 # sap at (-4, 5) relative to unit 14's current position\n",
    "Unit 15: 5, 3, -3 # sap at (3, -3) relative to unit 15's current position\n",
    "\"\"\"\n",
    ", 'role': 'system'\n",
    "}\n",
    "\n",
    "\n",
    "# Helper functions\n",
    "def manhattan_distance(pos1, pos2):\n",
    "    return abs(pos1[0] - pos2[0]) + abs(pos1[1] - pos2[1])\n",
    "\n",
    "def absolute_distance(pos1, pos2):\n",
    "    return max(abs(pos1[0] - pos2[0]), abs(pos1[1] - pos2[1]))\n",
    "\n",
    "def find_opposite_corner_coords(array, row, col):\n",
    "    \"\"\"\n",
    "    Given a 2D array and a coordinate (row, col), this function returns the opposite corner coordinates.\n",
    "\n",
    "    :param array: 2D list or NumPy array\n",
    "    :param row: Row index of the given point\n",
    "    :param col: Column index of the given point\n",
    "    :return: (row', col') - Opposite corner coordinates\n",
    "    \"\"\"\n",
    "    num_rows = len(array)\n",
    "    num_cols = len(array[0]) if num_rows > 0 else 0\n",
    "\n",
    "    # Opposite coordinates\n",
    "    opp_row = num_rows - 1 - row\n",
    "    opp_col = num_cols - 1 - col\n",
    "\n",
    "    return (opp_row, opp_col)\n",
    "\n",
    "\n",
    "class Agent():\n",
    "    def __init__(self, player: str, env_cfg) -> None:\n",
    "        self.player = player\n",
    "        self.enemy_player = \"player_1\" if self.player == \"player_0\" else \"player_0\"\n",
    "        self.team_id = 0 if self.player == \"player_0\" else 1\n",
    "        self.enemy_team_id = 1 if self.team_id == 0 else 0\n",
    "        #np.random.seed(0)\n",
    "        self.env_cfg = env_cfg\n",
    "        #self.min_unit_sap_dropoff_factor = 1\n",
    "        #self.min_sap_power = self.unit_sap_cost * self.min_unit_sap_dropoff_factor\n",
    "        self.map_height = env_cfg[\"map_height\"]\n",
    "        self.map_width = env_cfg[\"map_width\"]\n",
    "        self.my_spawn_location = None\n",
    "        self.enemy_spawn_location = None\n",
    "        self.first_spawn = False\n",
    "        self.llm_input = None\n",
    "\n",
    "        self.map_explored_status = np.zeros((self.map_height, self.map_width), dtype=int)\n",
    "\n",
    "        \n",
    "\n",
    "        self.model = AutoModelForCausalLM.from_pretrained(\n",
    "            model_name,\n",
    "            trust_remote_code=True,\n",
    "            device_map=\"auto\",  # Let Accelerate handle device placement\n",
    "            #device_map={\"0\": \"14GiB\", \"cpu\": \"64GiB\"},  # Let Accelerate handle device placement\n",
    "            quantization_config=bnb_config,\n",
    "            torch_dtype=torch.bfloat16,\n",
    "            config=autoconfig,\n",
    "            attn_implementation=\"flash_attention_2\",\n",
    "            #use_cache=False,  # Disable KV cache during training\n",
    "            low_cpu_mem_usage=True\n",
    "        )\n",
    "\n",
    "        # Enable memory efficient features\n",
    "        self.model.gradient_checkpointing_enable()\n",
    "        self.model.enable_input_require_grads()\n",
    "\n",
    "        #self.model = torch.compile(self.model)\n",
    "\n",
    "        # device_map = infer_auto_device_map(model, max_memory={0: \"14GiB\", \"cpu\": \"64GiB\"})\n",
    "\n",
    "        # model = AutoModelForCausalLM.from_pretrained(\n",
    "        #     model_name,\n",
    "        #     trust_remote_code=True,\n",
    "        #     #device_map=\"auto\",  # Let Accelerate handle device placement\n",
    "        #     device_map=device_map,  # Let Accelerate handle device placement\n",
    "        #     quantization_config=bnb_config,\n",
    "        #     torch_dtype=torch.bfloat16,\n",
    "        #     config=autoconfig,\n",
    "        #     attn_implementation=\"flash_attention_2\"\n",
    "        # )\n",
    "\n",
    "        # peft_config = LoraConfig(\n",
    "        #     r=8,\n",
    "        #     lora_alpha=16,\n",
    "        #     lora_dropout=0.1,\n",
    "        #     target_modules=[\"q_proj\", \"v_proj\"],\n",
    "        #     bias=\"none\",\n",
    "        #     task_type=\"CAUSAL_LM\"\n",
    "        # )\n",
    "        \n",
    "        \n",
    "        # self.model = get_peft_model(model, peft_config)#.to('cpu')\n",
    "        # self.model.gradient_checkpointing_enable()\n",
    "\n",
    "        # self.relic_node_positions = []\n",
    "        # self.discovered_relic_nodes_ids = set()\n",
    "        # self.unit_explore_locations = dict()\n",
    "\n",
    "    def prep_llm_input(self, env_cfg, obs):\n",
    "\n",
    "        game_state_info = \"\\n!!!GAME STATE INFORMATION!!!\"\n",
    "\n",
    "        ### env_cfg information\n",
    "        env_cfg_info = \"\\nENVIRONMENT CONFIGURATION:\"\n",
    "        max_units = f\"\\nMaximum possible number of units for each team: {env_cfg['max_units']}.\"\n",
    "        match_count_per_episode = f\"\\nNumber of matches per game: {env_cfg['match_count_per_episode']}.\"\n",
    "        max_steps_in_match = f\"\\nNumber of steps per match: {env_cfg['max_steps_in_match']}.\"\n",
    "        map_height = f\"\\nMap height: {env_cfg['map_height']}.\"\n",
    "        map_width = f\"\\nMap width: {env_cfg['map_width']}.\"\n",
    "        num_teams = f\"\\nNumber of teams: {env_cfg['num_teams']}.\"\n",
    "        unit_move_cost = f\"\\nUnit move energy cost: {env_cfg['unit_move_cost']}.\"\n",
    "        unit_sap_cost = f\"\\nUnit sap energy cost: {env_cfg['unit_sap_cost']}.\"\n",
    "        unit_sap_range = f\"\\nUnit sap range: {env_cfg['unit_sap_range']}.\"\n",
    "        unit_sensor_range = f\"\\nUnit sensor range: {env_cfg['unit_sensor_range']}.\"\n",
    "\n",
    "        ### obs information\n",
    "        obs_info = \"\\nOBSERVATION:\"\n",
    "        unit_position_warning = \"\\nUnit position: -1, -1 means the unit is not spawned yet or not visible.\"\n",
    "\n",
    "        # unit positions\n",
    "        unit_position_info = \"\\nUnit Positions:\"\n",
    "        obs_my_unit_positions = obs['units']['position'][self.team_id]\n",
    "        my_unit_positions_list = []\n",
    "        for i in range(obs_my_unit_positions.shape[0]):\n",
    "            pos = obs_my_unit_positions[i]\n",
    "            my_unit_positions_list.append(f\"\\nMy unit {i} position: {pos[0]}, {pos[1]}.\")\n",
    "        my_unit_positions = \"\".join(my_unit_positions_list)\n",
    "\n",
    "        obs_enemy_unit_positions = obs['units']['position'][self.enemy_team_id]\n",
    "        enemy_unit_positions_list = []\n",
    "        for i in range(obs_enemy_unit_positions.shape[0]):\n",
    "            pos = obs_enemy_unit_positions[i]\n",
    "            enemy_unit_positions_list.append(f\"\\nEnemy unit {i} position: {pos[0]}, {pos[1]}.\")\n",
    "        enemy_unit_positions = \"\".join(enemy_unit_positions_list)\n",
    "\n",
    "        # unit energys\n",
    "        unit_energy_info = \"\\nUnit Energys:\"\n",
    "        obs_my_unit_energys = obs['units']['energy'][self.team_id]\n",
    "        my_unit_energys_list = []\n",
    "        for i in range(obs_my_unit_energys.shape[0]):\n",
    "            energy = obs_my_unit_energys[i]\n",
    "            my_unit_energys_list.append(f\"\\nMy unit {i} energy: {energy}.\")\n",
    "        my_unit_energys = \"\".join(my_unit_energys_list)\n",
    "\n",
    "        obs_enemy_unit_energys = obs['units']['energy'][self.enemy_team_id]\n",
    "        enemy_unit_energys_list = []\n",
    "        for i in range(obs_enemy_unit_energys.shape[0]):\n",
    "            energy = obs_enemy_unit_energys[i]\n",
    "            enemy_unit_energys_list.append(f\"\\nEnemy unit {i} energy: {energy}.\")\n",
    "        enemy_unit_energys = \"\".join(enemy_unit_energys_list)\n",
    "\n",
    "        # unit masks\n",
    "        unit_mask_info = \"\\nUnit Visibility:\"\n",
    "        obs_my_units_mask = obs['units_mask'][self.team_id]\n",
    "        my_units_mask_list = []\n",
    "        for i in range(obs_my_units_mask.shape[0]):\n",
    "            mask = obs_my_units_mask[i]\n",
    "            my_units_mask_list.append(f\"\\nMy unit {i} visibility: {mask}.\")\n",
    "        my_units_mask = \"\".join(my_units_mask_list)\n",
    "\n",
    "        obs_enemy_units_mask = obs['units_mask'][self.enemy_team_id]\n",
    "        enemy_units_mask_list = []\n",
    "        for i in range(obs_enemy_units_mask.shape[0]):\n",
    "            mask = obs_enemy_units_mask[i]\n",
    "            enemy_units_mask_list.append(f\"\\nEnemy unit {i} visibility: {mask}.\")\n",
    "        enemy_units_mask = \"\".join(enemy_units_mask_list)\n",
    "\n",
    "        # sensor mask\n",
    "        sensor_mask_info = \"\\nSensor Mask:\"\n",
    "        obs_sensor_mask = obs['sensor_mask']\n",
    "        sensor_mask_list = []\n",
    "        for i in range(obs_sensor_mask.shape[0]):\n",
    "            sensor_mask_list.append(f\"\\nSensor mask row {i}: {str(obs_sensor_mask[i]).replace(\"[\", \"\").replace(\"]\", \"\")}.\")\n",
    "        sensor_mask = \"\".join(sensor_mask_list)\n",
    "\n",
    "        # map features - energy\n",
    "        map_features_energy_info = \"\\nMap Energys:\"\n",
    "        obs_map_features_energy = obs['map_features']['energy']\n",
    "        map_features_energy_list = []\n",
    "        for i in range(obs_map_features_energy.shape[0]):\n",
    "            map_features_energy_list.append(f\"\\nMap energy row {i}: {str(obs_map_features_energy[i]).replace(\"[\", \"\").replace(\"]\", \"\")}.\")\n",
    "        map_features_energy = \"\".join(map_features_energy_list)\n",
    "\n",
    "        # map features - tile_type\n",
    "        map_features_tile_type_info = \"\\nMap Tile Types:\"\n",
    "        obs_map_features_tile_type = obs['map_features']['tile_type']\n",
    "        map_features_tile_type_list = []\n",
    "        for i in range(obs_map_features_tile_type.shape[0]):\n",
    "            map_features_tile_type_list.append(f\"\\nMap tile type row {i}: {str(obs_map_features_tile_type[i]).replace(\"[\", \"\").replace(\"]\", \"\")}.\")\n",
    "        map_features_tile_type = \"\".join(map_features_tile_type_list)\n",
    "\n",
    "        # relic nodes\n",
    "        relic_node_info = \"\\nRelic Node positions:\"\n",
    "        relic_node_warning = \"\\nRelic node position: -1, -1 means the relic node is not yet discoverd.\"\n",
    "        obs_relic_nodes = obs['relic_nodes']\n",
    "        relic_nodes_list = []\n",
    "        for i in range(obs_relic_nodes.shape[0]):\n",
    "            relic_nodes_list.append(f\"\\nRelic node {i} position: {obs_relic_nodes[i][0]}, {obs_relic_nodes[i][1]}.\")\n",
    "        relic_nodes = \"\".join(relic_nodes_list)\n",
    "\n",
    "        # relic nodes mask\n",
    "        relic_node_mask_info = \"\\nRelic Node Visibility:\"\n",
    "        obs_relic_nodes_mask = obs['relic_nodes_mask']\n",
    "        relic_nodes_mask_list = []\n",
    "        for i in range(obs_relic_nodes_mask.shape[0]):\n",
    "            relic_nodes_mask_list.append(f\"\\nRelic node {i} visibility: {obs_relic_nodes_mask[i]}.\")\n",
    "        relic_nodes_mask = \"\".join(relic_nodes_mask_list)\n",
    "\n",
    "        # team points\n",
    "        my_team_points = f\"\\nMy current point for this match is: {obs['team_points'][self.team_id]}.\"\n",
    "        enemy_team_points = f\"\\nEnemy current point for this match is: {obs['team_points'][self.enemy_team_id]}.\"\n",
    "\n",
    "        # team wins\n",
    "        my_team_wins = f\"\\nI have won {obs['team_wins'][self.team_id]} matches.\"\n",
    "        enemy_team_wins = f\"\\nEnemy has won {obs['team_wins'][self.enemy_team_id]} matches.\"\n",
    "\n",
    "        # steps\n",
    "        steps = f\"\\nThis is step {obs['steps']} of the game.\"\n",
    "\n",
    "        # match_steps\n",
    "        match_steps = f\"\\nThis is step {obs['match_steps']} of the match.\"\n",
    "\n",
    "        if self.enemy_spawn_location is None:\n",
    "            enemy_spawn_location_warning = \"\\nEnemy spawn location: not yet discovered.\"\n",
    "        else:\n",
    "            enemy_spawn_location_warning = f\"\\nEnemy spawn location: {self.enemy_spawn_location[0]}, {self.enemy_spawn_location[1]}.\"\n",
    "        \n",
    "        all_variables = \"\".join([\n",
    "            game_state_info, env_cfg_info, max_units, match_count_per_episode, max_steps_in_match, map_height, map_width, num_teams, unit_move_cost, unit_sap_cost, unit_sap_range, unit_sensor_range,\n",
    "            obs_info,\n",
    "            unit_position_warning, unit_position_info, my_unit_positions, enemy_unit_positions,\n",
    "            unit_energy_info, my_unit_energys, enemy_unit_energys,\n",
    "            unit_mask_info, my_units_mask, enemy_units_mask,\n",
    "            sensor_mask_info, sensor_mask,\n",
    "            map_features_energy_info, map_features_energy,\n",
    "            map_features_tile_type_info, map_features_tile_type,\n",
    "            relic_node_info, relic_node_warning, relic_nodes,\n",
    "            relic_node_mask_info, relic_nodes_mask,\n",
    "            my_team_points, enemy_team_points, my_team_wins, enemy_team_wins, steps, match_steps, enemy_spawn_location_warning\n",
    "        ])\n",
    "\n",
    "        return {'content':all_variables, 'role':'user'}\n",
    "\n",
    "    def act(self, step: int, obs, remainingOverageTime: int = 60):\n",
    "        \"\"\"implement this function to decide what actions to send to each available unit. \n",
    "        \n",
    "        step is the current timestep number of the game starting from 0 going up to max_steps_in_match * match_count_per_episode - 1.\n",
    "        \"\"\"\n",
    "\n",
    "        # units\n",
    "        unit_positions = np.array(obs[\"units\"][\"position\"][self.team_id]) # shape (max_units, 2)\n",
    "        # enemy_unit_positions = np.array(obs[\"units\"][\"position\"][self.enemy_team_id]) # shape (max_units, 2)\n",
    "\n",
    "        # unit_energys = np.array(obs[\"units\"][\"energy\"][self.team_id]) # shape (max_units, 1)\n",
    "        # enemy_unit_energys = np.array(obs[\"units\"][\"energy\"][self.enemy_team_id]) # shape (max_units, 1)\n",
    "\n",
    "        # units_mask\n",
    "        unit_mask = np.array(obs[\"units_mask\"][self.team_id]) # shape (max_units, )\n",
    "        # enemy_unit_mask = np.array(obs[\"units_mask\"][self.enemy_team_id]) # shape (max_units, )\n",
    "\n",
    "        # sensor_mask\n",
    "        # sensor_mask = obs['sensor_mask']\n",
    "\n",
    "        # map_features\n",
    "        map_features = obs['map_features']\n",
    "        # current_map_energy = map_features['energy']\n",
    "        current_map_tile_type = map_features['tile_type']\n",
    "\n",
    "        # update map explored status\n",
    "        self.map_explored_status[current_map_tile_type != -1] = 1\n",
    "        \n",
    "        # observed_relic_node_positions = np.array(obs[\"relic_nodes\"]) # shape (max_relic_nodes, 2)\n",
    "        # observed_relic_nodes_mask = np.array(obs[\"relic_nodes_mask\"]) # shape (max_relic_nodes, )\n",
    "        # team_points = np.array(obs[\"team_points\"]) # points of each team, team_points[self.team_id] is the points of the your team\n",
    "        \n",
    "        # ids of units you can control at this timestep\n",
    "        available_unit_ids = np.where(unit_mask)[0]\n",
    "        # enemy_available_unit_ids = np.where(enemy_unit_mask)[0]\n",
    "\n",
    "        if available_unit_ids.shape[0] == 0:\n",
    "            pass\n",
    "        else:\n",
    "            if self.first_spawn == False:\n",
    "                first_unit_id = available_unit_ids[0]\n",
    "                first_unit_pos = unit_positions[first_unit_id]\n",
    "                self.my_spawn_location = (first_unit_pos[0], first_unit_pos[1])\n",
    "                self.enemy_spawn_location = find_opposite_corner_coords(self.map_explored_status, first_unit_pos[0], first_unit_pos[1])\n",
    "                self.first_spawn = True\n",
    "        \n",
    "        # visible relic nodes\n",
    "        # visible_relic_node_ids = set(np.where(observed_relic_nodes_mask)[0])\n",
    "\n",
    "        self.llm_input = self.prep_llm_input(self.env_cfg, obs)\n",
    "\n",
    "        actions = np.zeros((self.env_cfg[\"max_units\"], 3), dtype=int)\n",
    "                \n",
    "        return actions"
   ]
  },
  {
   "cell_type": "code",
   "execution_count": 13,
   "id": "10b1d6f9",
   "metadata": {},
   "outputs": [
    {
     "name": "stderr",
     "output_type": "stream",
     "text": [
      "WARNING:2025-02-15 14:18:48,422:jax._src.xla_bridge:987: An NVIDIA GPU may be present on this machine, but a CUDA-enabled jaxlib is not installed. Falling back to cpu.\n"
     ]
    }
   ],
   "source": [
    "env = RecordEpisode(\n",
    "    LuxAIS3GymEnv(numpy_output=True)\n",
    ")"
   ]
  },
  {
   "cell_type": "code",
   "execution_count": 14,
   "id": "e4d718d1",
   "metadata": {},
   "outputs": [],
   "source": [
    "obs_all, info = env.reset()"
   ]
  },
  {
   "cell_type": "code",
   "execution_count": 15,
   "id": "d85f0d05",
   "metadata": {},
   "outputs": [],
   "source": [
    "agent0 = Agent(\"player_0\", info['params'])\n",
    "#agent1 = Agent(\"player_1\", info['params'])"
   ]
  },
  {
   "cell_type": "code",
   "execution_count": 16,
   "id": "994e4c39",
   "metadata": {},
   "outputs": [],
   "source": [
    "actions0 = agent0.act(obs_all['player_0']['steps'], obs_all['player_0'])\n",
    "#actions1 = agent1.act(obs_all['player_1']['steps'], obs_all['player_1'])"
   ]
  },
  {
   "cell_type": "code",
   "execution_count": 17,
   "id": "d61e65de",
   "metadata": {},
   "outputs": [
    {
     "data": {
      "text/plain": [
       "{'prompt': [{'content': '\\nRespond in the following format:\\n<reasoning>\\n...\\n</reasoning>\\n<answer>\\n...\\n</answer>\\n',\n",
       "   'role': 'system'},\n",
       "  {'content': '\\n!!!GAME RULES!!!\\nEnvironment\\nTwo teams compete against each other on a 2D map in a best of 5 match sequence (called a game) with each match lasting 100 time steps. Both teams have a pool of units they can control to gain points around the map while also trying to prevent the other team from doing the same.\\nA core objective of this game is a balanced strategy of exploration and exploitation. It is recommended to explore more in the first match or two before leveraging gained knowledge about the map and opponent behavior to win the latter matches.\\nMap\\nThe map is a randomly generated 2D grid of size 24x24. There are several core features that make up the map: Unknown Tiles, Empty Tiles, Asteroid Tiles, Nebula Tiles, Energy Tiles, Relic Nodes, and Relic Fragments. Notably, in a game, the map is never regenerated completely between matches. Whatever is the state of the map at the end of one match is what is used for the next match.\\nUnknown Tiles\\nThese are tiles that are not visible. They can be any type of tile but are not visible to you until a unit is within sensor range of that tile.\\nEmpty Tiles\\nThese are empty tiles in space without anything special about them. Units and tiles can be placed/move onto these tiles.\\nAsteroid Tiles\\nAsteroid tiles are impassable tiles that block anything from moving/spawning onto them. These tiles might move around over time during the map in a symmetric fashion. Sometimes asteroid tiles might move on top of existing units. In the game the unit is not removed as a result of this and can still take actions and move around provided there is an non asteroid tile adjacent to it.\\nNebula Tiles\\nNebula tiles are passable tiles with a number of features. These tiles might move around over time during the map in a symmetric fashion.\\nVision Reduction: Nebula tiles can reduce/block vision of units. Because of vision reduction it is even possible for a unit to be unable to see itself while still being able to move! See Vision section below for more details on how team vision is determined. All nebula tiles have the same vision reduction value called params.nebula_tile_vision_reduction which is randomized from 0 to 3.\\nEnergy Reduction: Nebula tiles can reduce the energy of units that end their turn on them. All nebula tiles have the same energy reduction value called params.nebula_tile_energy_reduction.\\nIn Map Tile Types, empty tiles are represented by 0, asteroid tiles by 1, nebula tiles by 2, and unknown tiles by -1.\\nEnergy Tiles\\nEnergy tiles are mysterious objects that emit energy fields which can be harvested by units. These tiles might move around over time during the map in a symmetric fashion. In code, what actually occurs in each game is energy tiles are randomly generated on the map symmetrically and a random function is generated for each tile. Each energy tile\\'s function is a function of distance. The energy value of a tile on a map is determined to be the sum of the energy tile functions applied to the distance between tile and each tile.\\nRelic Nodes\\nRelic nodes are objects in space that enable ships to go near it to gain team points. These relic nodes however are ancient and thus fragmented. As a result, only certain tiles near the relic nodes when a friendly ship is on it will gain points. The tiles that yield points are always hidden and can only be discovered by trial and error by moving around the relic nodes. Relic node positions themselves can be observed if withins sensor range. The tiles around relic nodes can overlap with tiles of other relic nodes but will not yield extra points if that occurs and is treated as one tile.\\nIn code, a random 5x5 configuration / mask centered on the relic node is generated indicating which tiles yield points and which don\\'t. Multiple ships can stack on one tile but will only yield at most one point per tile. Note that ship stacking can be risky due to the sapping action.\\nUnits\\nUnits in the game are ships that can move one tile in 5 directions (center, up, right, down, left) and perform a ranged energy sapping action. Units can overlap with other friendly units if they move onto the same tile. Units have a energy property which determines whether they can perform actions and start with 100 energy and can have a max of 400 energy. Energy is recharged via the energy field of the map. They always spawn on one of the two corners of the map depending on which team they are on.\\nNote that nebula tiles and energy fields can modify the energy of a unit when it is on that tile. However they can never reduce the energy of a unit below 0, only opposing units can do that which will then remove the unit from the game to be respawned at a later timestep. Unit IDs range from 0 to params.max_units - 1 for each team, and are recycled when units are spawned in if a previous one was removed.\\nMove Actions\\nAll move actions except moving center cost params.unit_move_cost energy to perform. Moving center is always free (a zero action). Attempting to move off the edge of the map results in no movement occuring but energy is still consumed. Units cannot move onto tiles with an impassible feature like an asteroid tile.\\nSap Actions\\nThe sap action lets a unit target a specific tile on the map within a range called params.unit_sap_range and reduces the energy of each opposition unit on the target tile by params.unit_sap_cost while also costing unit_sap_cost energy to use. Moreover, any opposition units on the 8 adjacent tiles to the target tile are also sapped and their energy is reduced by params.unit_sap_cost * params.unit_sap_dropoff_factor.\\nSap actions are submitted to the game engine / environment as a delta x and delta y value relative to the unit\\'s current position. The delta x and delta y value magnitudes must both be <= params.unit_sap_range, so the sap range is a square around the unit.\\nGenerally sap actions are risky since a single miss means your ships lose energy while the opponent does not. The area of effect can mitigate this risk somewhat depending on game parameters. Sap actions can however prove very valuable when opposition ships are heavily stacked and get hit as sapping the stacked tile hits every ship on the tile.\\nVision\\nA team\\'s vision is the combined vision of all units on that team. Team vision is essentially a boolean mask / matrix over the 2D map indicating whether that tile\\'s information is visible to the team. In this game, you can think of each unit having an \"eye in the sky\" sattelite that is capturing information about the units surroundings, but this sattelite has reduced accuracy the farther away the tile is from the unit.\\nTo determine which map tiles are visible to a team, we compute a vision power value for each tile on the map. For each unit on a team, we check each tile within the unit\\'s sensor range and add 1 + params.unit_sensor_range - min(dx, dy) to the vision power map at tile (x+dx, y+dy) where (x,y) is the unit\\'s position and (dx, dy) is the offset from the unit\\'s position and abs(dx) <= params.unit_sensor_range and abs(dy) <= params.unit_sensor_range.\\nNebula tiles have a vision reduction value of params.nebula_tile_vision_reduction. This number is reduced from every tile\\'s vision power if that tile is a nebula tile.\\nWhen a unit is near a nebula tile, it can\\'t see details about some nebula tiles, but it can see tiles beyond nebula tiles.\\nWhen a unit is inside a nebula tile, if the nebula vision reduction is powerful enough, the unit cannot even see itself or any other nebula tiles.\\nUnit vision can overlap and increase the vision power linearly, which can help handle the situations like above when you cannot see anything.\\nCollisions / Energy Void Fields\\nIn close quarters, units can impact each other in two ways, via direct collisions or by being adjacent to each other and sapping energy via their energy void fields.\\nIn the event of two or more units from opposing teams occupy the same tile at the end of a turn, the team with the highest aggregate energy among its units on that tile survive, while the units of the opposing teams are removed from the game. If it is a tie, all units are removed from the game.\\nFurthermore, each unit generates an \"energy void\" field around itself that affects all cardinally (up, right, down left) adjacent opposition units. To determine how exactly each unit is affected by these energy void fields, we compute a 2D map for each team indicating the energy void strength at each tile. A unit contributes to tiles adjacent to itself a energy void strength equal to the total amount of energy the unit has at the start of the turn multiplied by params.unit_energy_void_factor rounded down. After a energy void map is computed for each team, a unit\\'s energy is reduced by the energy void strength of the tile it is on divided by the total number of units on that tile. Note that units removed due to collisions do not contribute to the energy void field.\\nThe energy void fields generally encourage stacking units to better spread out energy sapped by energy void fields of opposition units.\\nWin Conditions\\nTo win the game, the team must have won the most matches out of the 5 match sequence.\\nTo win a match, the team must have gained more relic points than the other team at the end of the match. If the relic points scores are tied, then the match winner is decided by who has more total unit energy. If that is also tied then the winner is chosen at random.\\nMatch Resolution Order\\nAt each time step of a match, we run the following steps in order:\\n1. Move all units that have enough energy to move\\n2. Execute the sap actions of all units that have enough energy to do so\\n3. Resolve collisions and apply energy void fields\\n4. Update the energy of all units based on their position (energy fields and nebula tiles)\\n5. Spawn units for all teams. Remove units that have less than 0 energy.\\n6. Determine the team vision / sensor masks for all teams and mask out observations accordingly\\n7. Environment objects like asteroids/nebula tiles/energy tiles move around in space\\n8. Compute new team points\\nNote that each match runs for params.max_steps_in_match steps and you take that many actions that affect the game. However, you will actually receive params.max_steps_in_match + 1 frames of observations since the very first frame will either be empty or the previous match\\'s final observation (actions on these observations will not do anything).\\nGame Parameters\\nThe full set of game parameters can be found here in the codebase.\\nRandomized Game Parameters / Map Generation\\nThere are a number of randomized game paramteres which can modify and even disable/enable certain game mechanics. None of these game parameters are changed between matches in a game. The majority of these parameters are also not given to the teams themselves and must be discovered through exploration.\\nenv_params_ranges = dict(\\n    map_type=[1],\\n    unit_move_cost=list(range(1, 6)), # list(range(x, y)) = [x, x+1, x+2, ... , y-1]\\n    unit_sensor_range=list(range(2, 5)),\\n    nebula_tile_vision_reduction=list(range(0,4)),\\n    nebula_tile_energy_reduction=[0, 0, 10, 25],\\n    unit_sap_cost=list(range(30, 51)),\\n    unit_sap_range=list(range(3, 8)),\\n    unit_sap_dropoff_factor=[0.25, 0.5, 1],\\n    unit_energy_void_factor=[0.0625, 0.125, 0.25, 0.375],\\n    # map randomizations\\n    nebula_tile_drift_speed=[-0.05, -0.025, 0.025, 0.05],\\n    energy_tile_drift_speed=[0.01, 0.02, 0.03, 0.04, 0.05],\\n    energy_tile_drift_magnitude=list(range(3, 6))\\n)\\nThese parameter ranges (and other parameters) are subject to change in the beta phase of this competition as we gather feedback and data.\\nThere are 6 actions that can be taken by a unit in this game: 0 = center, 1 = up, 2 = right, 3 = down, 4 = left, 5 = sap.\\nSo your answer should be in this format:\\nUnit 0: action(from 0 to 5)\\nUnit 1: action(from 0 to 5)\\nUnit 2: action(from 0 to 5)\\nUnit 3: action(from 0 to 5)\\nUnit 4: action(from 0 to 5)\\nUnit 5: action(from 0 to 5)\\nUnit 6: action(from 0 to 5)\\nUnit 7: action(from 0 to 5)\\nUnit 8: action(from 0 to 5)\\nUnit 9: action(from 0 to 5)\\nUnit 10: action(from 0 to 5)\\nUnit 11: action(from 0 to 5)\\nUnit 12: action(from 0 to 5)\\nUnit 13: action(from 0 to 5)\\nUnit 14: action(from 0 to 5)\\nUnit 15: action(from 0 to 5)\\nHowever, if you choose to sap(5), you should provide the direction of the sap, which is a pair of integers (dx, dy) where dx and dy are the relative coordinates of the target tile from the unit\\'s current position. The magnitudes of dx and dy must be less than or equal to the unit\\'s sap range. For example, if unit 3 is at (5, 5) and you want to sap the tile at (7, 7), your answer for unit 3 should be 5, 2, 2.\\nAlso, you can only take actions for the units that are available to you in the current timestep. If you take an action for a unit that is not available to you, the game engine will ignore that action.\\nAdditionally, you can only take one action per unit per timestep. If you take multiple actions for a single unit in a timestep, the game engine will ignore all but the first action.\\nSo, below is an example of a valid answer:\\nUnit 0: 1 # move up\\nUnit 1: 2 # move right\\nUnit 2: 5, 2, 2 # sap at (2, 2) relative to unit 2\\'s current position\\nUnit 3: 0 # center\\nUnit 4: 5, 1, 1 # sap at (1, 1) relative to unit 4\\'s current position\\nUnit 5: 5, -1, -2 # sap at (-1, -2) relative to unit 5\\'s current position\\nUnit 6: 5, -2, 2 # sap at (-2, 2) relative to unit 6\\'s current position\\nUnit 7: 5, 0, 0 # sap at (0, 0) relative to unit 7\\'s current position\\nUnit 8: 4 # move left\\nUnit 9: 0 # center\\nUnit 10: 3 # move down\\nUnit 11: 2 # move right\\nUnit 12: 1 # move up\\nUnit 13: 0 # center\\nUnit 14: 5, -4, 5 # sap at (-4, 5) relative to unit 14\\'s current position\\nUnit 15: 5, 3, -3 # sap at (3, -3) relative to unit 15\\'s current position\\n',\n",
       "   'role': 'system'},\n",
       "  {'content': '\\n!!!GAME STATE INFORMATION!!!\\nENVIRONMENT CONFIGURATION:\\nMaximum possible number of units for each team: 16.\\nNumber of matches per game: 5.\\nNumber of steps per match: 100.\\nMap height: 24.\\nMap width: 24.\\nNumber of teams: 2.\\nUnit move energy cost: 4.\\nUnit sap energy cost: 45.\\nUnit sap range: 3.\\nUnit sensor range: 2.\\nOBSERVATION:\\nUnit position: -1, -1 means the unit is not spawned yet or not visible.\\nUnit Positions:\\nMy unit 0 position: -1, -1.\\nMy unit 1 position: -1, -1.\\nMy unit 2 position: -1, -1.\\nMy unit 3 position: -1, -1.\\nMy unit 4 position: -1, -1.\\nMy unit 5 position: -1, -1.\\nMy unit 6 position: -1, -1.\\nMy unit 7 position: -1, -1.\\nMy unit 8 position: -1, -1.\\nMy unit 9 position: -1, -1.\\nMy unit 10 position: -1, -1.\\nMy unit 11 position: -1, -1.\\nMy unit 12 position: -1, -1.\\nMy unit 13 position: -1, -1.\\nMy unit 14 position: -1, -1.\\nMy unit 15 position: -1, -1.\\nEnemy unit 0 position: -1, -1.\\nEnemy unit 1 position: -1, -1.\\nEnemy unit 2 position: -1, -1.\\nEnemy unit 3 position: -1, -1.\\nEnemy unit 4 position: -1, -1.\\nEnemy unit 5 position: -1, -1.\\nEnemy unit 6 position: -1, -1.\\nEnemy unit 7 position: -1, -1.\\nEnemy unit 8 position: -1, -1.\\nEnemy unit 9 position: -1, -1.\\nEnemy unit 10 position: -1, -1.\\nEnemy unit 11 position: -1, -1.\\nEnemy unit 12 position: -1, -1.\\nEnemy unit 13 position: -1, -1.\\nEnemy unit 14 position: -1, -1.\\nEnemy unit 15 position: -1, -1.\\nUnit Energys:\\nMy unit 0 energy: -1.\\nMy unit 1 energy: -1.\\nMy unit 2 energy: -1.\\nMy unit 3 energy: -1.\\nMy unit 4 energy: -1.\\nMy unit 5 energy: -1.\\nMy unit 6 energy: -1.\\nMy unit 7 energy: -1.\\nMy unit 8 energy: -1.\\nMy unit 9 energy: -1.\\nMy unit 10 energy: -1.\\nMy unit 11 energy: -1.\\nMy unit 12 energy: -1.\\nMy unit 13 energy: -1.\\nMy unit 14 energy: -1.\\nMy unit 15 energy: -1.\\nEnemy unit 0 energy: -1.\\nEnemy unit 1 energy: -1.\\nEnemy unit 2 energy: -1.\\nEnemy unit 3 energy: -1.\\nEnemy unit 4 energy: -1.\\nEnemy unit 5 energy: -1.\\nEnemy unit 6 energy: -1.\\nEnemy unit 7 energy: -1.\\nEnemy unit 8 energy: -1.\\nEnemy unit 9 energy: -1.\\nEnemy unit 10 energy: -1.\\nEnemy unit 11 energy: -1.\\nEnemy unit 12 energy: -1.\\nEnemy unit 13 energy: -1.\\nEnemy unit 14 energy: -1.\\nEnemy unit 15 energy: -1.\\nUnit Visibility:\\nMy unit 0 visibility: False.\\nMy unit 1 visibility: False.\\nMy unit 2 visibility: False.\\nMy unit 3 visibility: False.\\nMy unit 4 visibility: False.\\nMy unit 5 visibility: False.\\nMy unit 6 visibility: False.\\nMy unit 7 visibility: False.\\nMy unit 8 visibility: False.\\nMy unit 9 visibility: False.\\nMy unit 10 visibility: False.\\nMy unit 11 visibility: False.\\nMy unit 12 visibility: False.\\nMy unit 13 visibility: False.\\nMy unit 14 visibility: False.\\nMy unit 15 visibility: False.\\nEnemy unit 0 visibility: False.\\nEnemy unit 1 visibility: False.\\nEnemy unit 2 visibility: False.\\nEnemy unit 3 visibility: False.\\nEnemy unit 4 visibility: False.\\nEnemy unit 5 visibility: False.\\nEnemy unit 6 visibility: False.\\nEnemy unit 7 visibility: False.\\nEnemy unit 8 visibility: False.\\nEnemy unit 9 visibility: False.\\nEnemy unit 10 visibility: False.\\nEnemy unit 11 visibility: False.\\nEnemy unit 12 visibility: False.\\nEnemy unit 13 visibility: False.\\nEnemy unit 14 visibility: False.\\nEnemy unit 15 visibility: False.\\nSensor Mask:\\nSensor mask row 0: False False False False False False False False False False False False False False False False False False False False False False False False.\\nSensor mask row 1: False False False False False False False False False False False False False False False False False False False False False False False False.\\nSensor mask row 2: False False False False False False False False False False False False False False False False False False False False False False False False.\\nSensor mask row 3: False False False False False False False False False False False False False False False False False False False False False False False False.\\nSensor mask row 4: False False False False False False False False False False False False False False False False False False False False False False False False.\\nSensor mask row 5: False False False False False False False False False False False False False False False False False False False False False False False False.\\nSensor mask row 6: False False False False False False False False False False False False False False False False False False False False False False False False.\\nSensor mask row 7: False False False False False False False False False False False False False False False False False False False False False False False False.\\nSensor mask row 8: False False False False False False False False False False False False False False False False False False False False False False False False.\\nSensor mask row 9: False False False False False False False False False False False False False False False False False False False False False False False False.\\nSensor mask row 10: False False False False False False False False False False False False False False False False False False False False False False False False.\\nSensor mask row 11: False False False False False False False False False False False False False False False False False False False False False False False False.\\nSensor mask row 12: False False False False False False False False False False False False False False False False False False False False False False False False.\\nSensor mask row 13: False False False False False False False False False False False False False False False False False False False False False False False False.\\nSensor mask row 14: False False False False False False False False False False False False False False False False False False False False False False False False.\\nSensor mask row 15: False False False False False False False False False False False False False False False False False False False False False False False False.\\nSensor mask row 16: False False False False False False False False False False False False False False False False False False False False False False False False.\\nSensor mask row 17: False False False False False False False False False False False False False False False False False False False False False False False False.\\nSensor mask row 18: False False False False False False False False False False False False False False False False False False False False False False False False.\\nSensor mask row 19: False False False False False False False False False False False False False False False False False False False False False False False False.\\nSensor mask row 20: False False False False False False False False False False False False False False False False False False False False False False False False.\\nSensor mask row 21: False False False False False False False False False False False False False False False False False False False False False False False False.\\nSensor mask row 22: False False False False False False False False False False False False False False False False False False False False False False False False.\\nSensor mask row 23: False False False False False False False False False False False False False False False False False False False False False False False False.\\nMap Energys:\\nMap energy row 0: -1 -1 -1 -1 -1 -1 -1 -1 -1 -1 -1 -1 -1 -1 -1 -1 -1 -1 -1 -1 -1 -1 -1 -1.\\nMap energy row 1: -1 -1 -1 -1 -1 -1 -1 -1 -1 -1 -1 -1 -1 -1 -1 -1 -1 -1 -1 -1 -1 -1 -1 -1.\\nMap energy row 2: -1 -1 -1 -1 -1 -1 -1 -1 -1 -1 -1 -1 -1 -1 -1 -1 -1 -1 -1 -1 -1 -1 -1 -1.\\nMap energy row 3: -1 -1 -1 -1 -1 -1 -1 -1 -1 -1 -1 -1 -1 -1 -1 -1 -1 -1 -1 -1 -1 -1 -1 -1.\\nMap energy row 4: -1 -1 -1 -1 -1 -1 -1 -1 -1 -1 -1 -1 -1 -1 -1 -1 -1 -1 -1 -1 -1 -1 -1 -1.\\nMap energy row 5: -1 -1 -1 -1 -1 -1 -1 -1 -1 -1 -1 -1 -1 -1 -1 -1 -1 -1 -1 -1 -1 -1 -1 -1.\\nMap energy row 6: -1 -1 -1 -1 -1 -1 -1 -1 -1 -1 -1 -1 -1 -1 -1 -1 -1 -1 -1 -1 -1 -1 -1 -1.\\nMap energy row 7: -1 -1 -1 -1 -1 -1 -1 -1 -1 -1 -1 -1 -1 -1 -1 -1 -1 -1 -1 -1 -1 -1 -1 -1.\\nMap energy row 8: -1 -1 -1 -1 -1 -1 -1 -1 -1 -1 -1 -1 -1 -1 -1 -1 -1 -1 -1 -1 -1 -1 -1 -1.\\nMap energy row 9: -1 -1 -1 -1 -1 -1 -1 -1 -1 -1 -1 -1 -1 -1 -1 -1 -1 -1 -1 -1 -1 -1 -1 -1.\\nMap energy row 10: -1 -1 -1 -1 -1 -1 -1 -1 -1 -1 -1 -1 -1 -1 -1 -1 -1 -1 -1 -1 -1 -1 -1 -1.\\nMap energy row 11: -1 -1 -1 -1 -1 -1 -1 -1 -1 -1 -1 -1 -1 -1 -1 -1 -1 -1 -1 -1 -1 -1 -1 -1.\\nMap energy row 12: -1 -1 -1 -1 -1 -1 -1 -1 -1 -1 -1 -1 -1 -1 -1 -1 -1 -1 -1 -1 -1 -1 -1 -1.\\nMap energy row 13: -1 -1 -1 -1 -1 -1 -1 -1 -1 -1 -1 -1 -1 -1 -1 -1 -1 -1 -1 -1 -1 -1 -1 -1.\\nMap energy row 14: -1 -1 -1 -1 -1 -1 -1 -1 -1 -1 -1 -1 -1 -1 -1 -1 -1 -1 -1 -1 -1 -1 -1 -1.\\nMap energy row 15: -1 -1 -1 -1 -1 -1 -1 -1 -1 -1 -1 -1 -1 -1 -1 -1 -1 -1 -1 -1 -1 -1 -1 -1.\\nMap energy row 16: -1 -1 -1 -1 -1 -1 -1 -1 -1 -1 -1 -1 -1 -1 -1 -1 -1 -1 -1 -1 -1 -1 -1 -1.\\nMap energy row 17: -1 -1 -1 -1 -1 -1 -1 -1 -1 -1 -1 -1 -1 -1 -1 -1 -1 -1 -1 -1 -1 -1 -1 -1.\\nMap energy row 18: -1 -1 -1 -1 -1 -1 -1 -1 -1 -1 -1 -1 -1 -1 -1 -1 -1 -1 -1 -1 -1 -1 -1 -1.\\nMap energy row 19: -1 -1 -1 -1 -1 -1 -1 -1 -1 -1 -1 -1 -1 -1 -1 -1 -1 -1 -1 -1 -1 -1 -1 -1.\\nMap energy row 20: -1 -1 -1 -1 -1 -1 -1 -1 -1 -1 -1 -1 -1 -1 -1 -1 -1 -1 -1 -1 -1 -1 -1 -1.\\nMap energy row 21: -1 -1 -1 -1 -1 -1 -1 -1 -1 -1 -1 -1 -1 -1 -1 -1 -1 -1 -1 -1 -1 -1 -1 -1.\\nMap energy row 22: -1 -1 -1 -1 -1 -1 -1 -1 -1 -1 -1 -1 -1 -1 -1 -1 -1 -1 -1 -1 -1 -1 -1 -1.\\nMap energy row 23: -1 -1 -1 -1 -1 -1 -1 -1 -1 -1 -1 -1 -1 -1 -1 -1 -1 -1 -1 -1 -1 -1 -1 -1.\\nMap Tile Types:\\nMap tile type row 0: -1 -1 -1 -1 -1 -1 -1 -1 -1 -1 -1 -1 -1 -1 -1 -1 -1 -1 -1 -1 -1 -1 -1 -1.\\nMap tile type row 1: -1 -1 -1 -1 -1 -1 -1 -1 -1 -1 -1 -1 -1 -1 -1 -1 -1 -1 -1 -1 -1 -1 -1 -1.\\nMap tile type row 2: -1 -1 -1 -1 -1 -1 -1 -1 -1 -1 -1 -1 -1 -1 -1 -1 -1 -1 -1 -1 -1 -1 -1 -1.\\nMap tile type row 3: -1 -1 -1 -1 -1 -1 -1 -1 -1 -1 -1 -1 -1 -1 -1 -1 -1 -1 -1 -1 -1 -1 -1 -1.\\nMap tile type row 4: -1 -1 -1 -1 -1 -1 -1 -1 -1 -1 -1 -1 -1 -1 -1 -1 -1 -1 -1 -1 -1 -1 -1 -1.\\nMap tile type row 5: -1 -1 -1 -1 -1 -1 -1 -1 -1 -1 -1 -1 -1 -1 -1 -1 -1 -1 -1 -1 -1 -1 -1 -1.\\nMap tile type row 6: -1 -1 -1 -1 -1 -1 -1 -1 -1 -1 -1 -1 -1 -1 -1 -1 -1 -1 -1 -1 -1 -1 -1 -1.\\nMap tile type row 7: -1 -1 -1 -1 -1 -1 -1 -1 -1 -1 -1 -1 -1 -1 -1 -1 -1 -1 -1 -1 -1 -1 -1 -1.\\nMap tile type row 8: -1 -1 -1 -1 -1 -1 -1 -1 -1 -1 -1 -1 -1 -1 -1 -1 -1 -1 -1 -1 -1 -1 -1 -1.\\nMap tile type row 9: -1 -1 -1 -1 -1 -1 -1 -1 -1 -1 -1 -1 -1 -1 -1 -1 -1 -1 -1 -1 -1 -1 -1 -1.\\nMap tile type row 10: -1 -1 -1 -1 -1 -1 -1 -1 -1 -1 -1 -1 -1 -1 -1 -1 -1 -1 -1 -1 -1 -1 -1 -1.\\nMap tile type row 11: -1 -1 -1 -1 -1 -1 -1 -1 -1 -1 -1 -1 -1 -1 -1 -1 -1 -1 -1 -1 -1 -1 -1 -1.\\nMap tile type row 12: -1 -1 -1 -1 -1 -1 -1 -1 -1 -1 -1 -1 -1 -1 -1 -1 -1 -1 -1 -1 -1 -1 -1 -1.\\nMap tile type row 13: -1 -1 -1 -1 -1 -1 -1 -1 -1 -1 -1 -1 -1 -1 -1 -1 -1 -1 -1 -1 -1 -1 -1 -1.\\nMap tile type row 14: -1 -1 -1 -1 -1 -1 -1 -1 -1 -1 -1 -1 -1 -1 -1 -1 -1 -1 -1 -1 -1 -1 -1 -1.\\nMap tile type row 15: -1 -1 -1 -1 -1 -1 -1 -1 -1 -1 -1 -1 -1 -1 -1 -1 -1 -1 -1 -1 -1 -1 -1 -1.\\nMap tile type row 16: -1 -1 -1 -1 -1 -1 -1 -1 -1 -1 -1 -1 -1 -1 -1 -1 -1 -1 -1 -1 -1 -1 -1 -1.\\nMap tile type row 17: -1 -1 -1 -1 -1 -1 -1 -1 -1 -1 -1 -1 -1 -1 -1 -1 -1 -1 -1 -1 -1 -1 -1 -1.\\nMap tile type row 18: -1 -1 -1 -1 -1 -1 -1 -1 -1 -1 -1 -1 -1 -1 -1 -1 -1 -1 -1 -1 -1 -1 -1 -1.\\nMap tile type row 19: -1 -1 -1 -1 -1 -1 -1 -1 -1 -1 -1 -1 -1 -1 -1 -1 -1 -1 -1 -1 -1 -1 -1 -1.\\nMap tile type row 20: -1 -1 -1 -1 -1 -1 -1 -1 -1 -1 -1 -1 -1 -1 -1 -1 -1 -1 -1 -1 -1 -1 -1 -1.\\nMap tile type row 21: -1 -1 -1 -1 -1 -1 -1 -1 -1 -1 -1 -1 -1 -1 -1 -1 -1 -1 -1 -1 -1 -1 -1 -1.\\nMap tile type row 22: -1 -1 -1 -1 -1 -1 -1 -1 -1 -1 -1 -1 -1 -1 -1 -1 -1 -1 -1 -1 -1 -1 -1 -1.\\nMap tile type row 23: -1 -1 -1 -1 -1 -1 -1 -1 -1 -1 -1 -1 -1 -1 -1 -1 -1 -1 -1 -1 -1 -1 -1 -1.\\nRelic Node positions:\\nRelic node position: -1, -1 means the relic node is not yet discoverd.\\nRelic node 0 position: -1, -1.\\nRelic node 1 position: -1, -1.\\nRelic node 2 position: -1, -1.\\nRelic node 3 position: -1, -1.\\nRelic node 4 position: -1, -1.\\nRelic node 5 position: -1, -1.\\nRelic Node Visibility:\\nRelic node 0 visibility: False.\\nRelic node 1 visibility: False.\\nRelic node 2 visibility: False.\\nRelic node 3 visibility: False.\\nRelic node 4 visibility: False.\\nRelic node 5 visibility: False.\\nMy current point for this match is: 0.\\nEnemy current point for this match is: 0.\\nI have won 0 matches.\\nEnemy has won 0 matches.\\nThis is step 0 of the game.\\nThis is step 0 of the match.\\nEnemy spawn location: not yet discovered.',\n",
       "   'role': 'user'}]}"
      ]
     },
     "execution_count": 17,
     "metadata": {},
     "output_type": "execute_result"
    }
   ],
   "source": [
    "temp_dataset = Dataset.from_list([{'prompt': [answer_format, game_rules, agent0.llm_input]}])\n",
    "temp_dataset[0]"
   ]
  },
  {
   "cell_type": "code",
   "execution_count": 18,
   "id": "fb642226",
   "metadata": {},
   "outputs": [
    {
     "data": {
      "text/plain": [
       "{'content': '\\n!!!GAME STATE INFORMATION!!!\\nENVIRONMENT CONFIGURATION:\\nMaximum possible number of units for each team: 16.\\nNumber of matches per game: 5.\\nNumber of steps per match: 100.\\nMap height: 24.\\nMap width: 24.\\nNumber of teams: 2.\\nUnit move energy cost: 4.\\nUnit sap energy cost: 45.\\nUnit sap range: 3.\\nUnit sensor range: 2.\\nOBSERVATION:\\nUnit position: -1, -1 means the unit is not spawned yet or not visible.\\nUnit Positions:\\nMy unit 0 position: -1, -1.\\nMy unit 1 position: -1, -1.\\nMy unit 2 position: -1, -1.\\nMy unit 3 position: -1, -1.\\nMy unit 4 position: -1, -1.\\nMy unit 5 position: -1, -1.\\nMy unit 6 position: -1, -1.\\nMy unit 7 position: -1, -1.\\nMy unit 8 position: -1, -1.\\nMy unit 9 position: -1, -1.\\nMy unit 10 position: -1, -1.\\nMy unit 11 position: -1, -1.\\nMy unit 12 position: -1, -1.\\nMy unit 13 position: -1, -1.\\nMy unit 14 position: -1, -1.\\nMy unit 15 position: -1, -1.\\nEnemy unit 0 position: -1, -1.\\nEnemy unit 1 position: -1, -1.\\nEnemy unit 2 position: -1, -1.\\nEnemy unit 3 position: -1, -1.\\nEnemy unit 4 position: -1, -1.\\nEnemy unit 5 position: -1, -1.\\nEnemy unit 6 position: -1, -1.\\nEnemy unit 7 position: -1, -1.\\nEnemy unit 8 position: -1, -1.\\nEnemy unit 9 position: -1, -1.\\nEnemy unit 10 position: -1, -1.\\nEnemy unit 11 position: -1, -1.\\nEnemy unit 12 position: -1, -1.\\nEnemy unit 13 position: -1, -1.\\nEnemy unit 14 position: -1, -1.\\nEnemy unit 15 position: -1, -1.\\nUnit Energys:\\nMy unit 0 energy: -1.\\nMy unit 1 energy: -1.\\nMy unit 2 energy: -1.\\nMy unit 3 energy: -1.\\nMy unit 4 energy: -1.\\nMy unit 5 energy: -1.\\nMy unit 6 energy: -1.\\nMy unit 7 energy: -1.\\nMy unit 8 energy: -1.\\nMy unit 9 energy: -1.\\nMy unit 10 energy: -1.\\nMy unit 11 energy: -1.\\nMy unit 12 energy: -1.\\nMy unit 13 energy: -1.\\nMy unit 14 energy: -1.\\nMy unit 15 energy: -1.\\nEnemy unit 0 energy: -1.\\nEnemy unit 1 energy: -1.\\nEnemy unit 2 energy: -1.\\nEnemy unit 3 energy: -1.\\nEnemy unit 4 energy: -1.\\nEnemy unit 5 energy: -1.\\nEnemy unit 6 energy: -1.\\nEnemy unit 7 energy: -1.\\nEnemy unit 8 energy: -1.\\nEnemy unit 9 energy: -1.\\nEnemy unit 10 energy: -1.\\nEnemy unit 11 energy: -1.\\nEnemy unit 12 energy: -1.\\nEnemy unit 13 energy: -1.\\nEnemy unit 14 energy: -1.\\nEnemy unit 15 energy: -1.\\nUnit Visibility:\\nMy unit 0 visibility: False.\\nMy unit 1 visibility: False.\\nMy unit 2 visibility: False.\\nMy unit 3 visibility: False.\\nMy unit 4 visibility: False.\\nMy unit 5 visibility: False.\\nMy unit 6 visibility: False.\\nMy unit 7 visibility: False.\\nMy unit 8 visibility: False.\\nMy unit 9 visibility: False.\\nMy unit 10 visibility: False.\\nMy unit 11 visibility: False.\\nMy unit 12 visibility: False.\\nMy unit 13 visibility: False.\\nMy unit 14 visibility: False.\\nMy unit 15 visibility: False.\\nEnemy unit 0 visibility: False.\\nEnemy unit 1 visibility: False.\\nEnemy unit 2 visibility: False.\\nEnemy unit 3 visibility: False.\\nEnemy unit 4 visibility: False.\\nEnemy unit 5 visibility: False.\\nEnemy unit 6 visibility: False.\\nEnemy unit 7 visibility: False.\\nEnemy unit 8 visibility: False.\\nEnemy unit 9 visibility: False.\\nEnemy unit 10 visibility: False.\\nEnemy unit 11 visibility: False.\\nEnemy unit 12 visibility: False.\\nEnemy unit 13 visibility: False.\\nEnemy unit 14 visibility: False.\\nEnemy unit 15 visibility: False.\\nSensor Mask:\\nSensor mask row 0: False False False False False False False False False False False False False False False False False False False False False False False False.\\nSensor mask row 1: False False False False False False False False False False False False False False False False False False False False False False False False.\\nSensor mask row 2: False False False False False False False False False False False False False False False False False False False False False False False False.\\nSensor mask row 3: False False False False False False False False False False False False False False False False False False False False False False False False.\\nSensor mask row 4: False False False False False False False False False False False False False False False False False False False False False False False False.\\nSensor mask row 5: False False False False False False False False False False False False False False False False False False False False False False False False.\\nSensor mask row 6: False False False False False False False False False False False False False False False False False False False False False False False False.\\nSensor mask row 7: False False False False False False False False False False False False False False False False False False False False False False False False.\\nSensor mask row 8: False False False False False False False False False False False False False False False False False False False False False False False False.\\nSensor mask row 9: False False False False False False False False False False False False False False False False False False False False False False False False.\\nSensor mask row 10: False False False False False False False False False False False False False False False False False False False False False False False False.\\nSensor mask row 11: False False False False False False False False False False False False False False False False False False False False False False False False.\\nSensor mask row 12: False False False False False False False False False False False False False False False False False False False False False False False False.\\nSensor mask row 13: False False False False False False False False False False False False False False False False False False False False False False False False.\\nSensor mask row 14: False False False False False False False False False False False False False False False False False False False False False False False False.\\nSensor mask row 15: False False False False False False False False False False False False False False False False False False False False False False False False.\\nSensor mask row 16: False False False False False False False False False False False False False False False False False False False False False False False False.\\nSensor mask row 17: False False False False False False False False False False False False False False False False False False False False False False False False.\\nSensor mask row 18: False False False False False False False False False False False False False False False False False False False False False False False False.\\nSensor mask row 19: False False False False False False False False False False False False False False False False False False False False False False False False.\\nSensor mask row 20: False False False False False False False False False False False False False False False False False False False False False False False False.\\nSensor mask row 21: False False False False False False False False False False False False False False False False False False False False False False False False.\\nSensor mask row 22: False False False False False False False False False False False False False False False False False False False False False False False False.\\nSensor mask row 23: False False False False False False False False False False False False False False False False False False False False False False False False.\\nMap Energys:\\nMap energy row 0: -1 -1 -1 -1 -1 -1 -1 -1 -1 -1 -1 -1 -1 -1 -1 -1 -1 -1 -1 -1 -1 -1 -1 -1.\\nMap energy row 1: -1 -1 -1 -1 -1 -1 -1 -1 -1 -1 -1 -1 -1 -1 -1 -1 -1 -1 -1 -1 -1 -1 -1 -1.\\nMap energy row 2: -1 -1 -1 -1 -1 -1 -1 -1 -1 -1 -1 -1 -1 -1 -1 -1 -1 -1 -1 -1 -1 -1 -1 -1.\\nMap energy row 3: -1 -1 -1 -1 -1 -1 -1 -1 -1 -1 -1 -1 -1 -1 -1 -1 -1 -1 -1 -1 -1 -1 -1 -1.\\nMap energy row 4: -1 -1 -1 -1 -1 -1 -1 -1 -1 -1 -1 -1 -1 -1 -1 -1 -1 -1 -1 -1 -1 -1 -1 -1.\\nMap energy row 5: -1 -1 -1 -1 -1 -1 -1 -1 -1 -1 -1 -1 -1 -1 -1 -1 -1 -1 -1 -1 -1 -1 -1 -1.\\nMap energy row 6: -1 -1 -1 -1 -1 -1 -1 -1 -1 -1 -1 -1 -1 -1 -1 -1 -1 -1 -1 -1 -1 -1 -1 -1.\\nMap energy row 7: -1 -1 -1 -1 -1 -1 -1 -1 -1 -1 -1 -1 -1 -1 -1 -1 -1 -1 -1 -1 -1 -1 -1 -1.\\nMap energy row 8: -1 -1 -1 -1 -1 -1 -1 -1 -1 -1 -1 -1 -1 -1 -1 -1 -1 -1 -1 -1 -1 -1 -1 -1.\\nMap energy row 9: -1 -1 -1 -1 -1 -1 -1 -1 -1 -1 -1 -1 -1 -1 -1 -1 -1 -1 -1 -1 -1 -1 -1 -1.\\nMap energy row 10: -1 -1 -1 -1 -1 -1 -1 -1 -1 -1 -1 -1 -1 -1 -1 -1 -1 -1 -1 -1 -1 -1 -1 -1.\\nMap energy row 11: -1 -1 -1 -1 -1 -1 -1 -1 -1 -1 -1 -1 -1 -1 -1 -1 -1 -1 -1 -1 -1 -1 -1 -1.\\nMap energy row 12: -1 -1 -1 -1 -1 -1 -1 -1 -1 -1 -1 -1 -1 -1 -1 -1 -1 -1 -1 -1 -1 -1 -1 -1.\\nMap energy row 13: -1 -1 -1 -1 -1 -1 -1 -1 -1 -1 -1 -1 -1 -1 -1 -1 -1 -1 -1 -1 -1 -1 -1 -1.\\nMap energy row 14: -1 -1 -1 -1 -1 -1 -1 -1 -1 -1 -1 -1 -1 -1 -1 -1 -1 -1 -1 -1 -1 -1 -1 -1.\\nMap energy row 15: -1 -1 -1 -1 -1 -1 -1 -1 -1 -1 -1 -1 -1 -1 -1 -1 -1 -1 -1 -1 -1 -1 -1 -1.\\nMap energy row 16: -1 -1 -1 -1 -1 -1 -1 -1 -1 -1 -1 -1 -1 -1 -1 -1 -1 -1 -1 -1 -1 -1 -1 -1.\\nMap energy row 17: -1 -1 -1 -1 -1 -1 -1 -1 -1 -1 -1 -1 -1 -1 -1 -1 -1 -1 -1 -1 -1 -1 -1 -1.\\nMap energy row 18: -1 -1 -1 -1 -1 -1 -1 -1 -1 -1 -1 -1 -1 -1 -1 -1 -1 -1 -1 -1 -1 -1 -1 -1.\\nMap energy row 19: -1 -1 -1 -1 -1 -1 -1 -1 -1 -1 -1 -1 -1 -1 -1 -1 -1 -1 -1 -1 -1 -1 -1 -1.\\nMap energy row 20: -1 -1 -1 -1 -1 -1 -1 -1 -1 -1 -1 -1 -1 -1 -1 -1 -1 -1 -1 -1 -1 -1 -1 -1.\\nMap energy row 21: -1 -1 -1 -1 -1 -1 -1 -1 -1 -1 -1 -1 -1 -1 -1 -1 -1 -1 -1 -1 -1 -1 -1 -1.\\nMap energy row 22: -1 -1 -1 -1 -1 -1 -1 -1 -1 -1 -1 -1 -1 -1 -1 -1 -1 -1 -1 -1 -1 -1 -1 -1.\\nMap energy row 23: -1 -1 -1 -1 -1 -1 -1 -1 -1 -1 -1 -1 -1 -1 -1 -1 -1 -1 -1 -1 -1 -1 -1 -1.\\nMap Tile Types:\\nMap tile type row 0: -1 -1 -1 -1 -1 -1 -1 -1 -1 -1 -1 -1 -1 -1 -1 -1 -1 -1 -1 -1 -1 -1 -1 -1.\\nMap tile type row 1: -1 -1 -1 -1 -1 -1 -1 -1 -1 -1 -1 -1 -1 -1 -1 -1 -1 -1 -1 -1 -1 -1 -1 -1.\\nMap tile type row 2: -1 -1 -1 -1 -1 -1 -1 -1 -1 -1 -1 -1 -1 -1 -1 -1 -1 -1 -1 -1 -1 -1 -1 -1.\\nMap tile type row 3: -1 -1 -1 -1 -1 -1 -1 -1 -1 -1 -1 -1 -1 -1 -1 -1 -1 -1 -1 -1 -1 -1 -1 -1.\\nMap tile type row 4: -1 -1 -1 -1 -1 -1 -1 -1 -1 -1 -1 -1 -1 -1 -1 -1 -1 -1 -1 -1 -1 -1 -1 -1.\\nMap tile type row 5: -1 -1 -1 -1 -1 -1 -1 -1 -1 -1 -1 -1 -1 -1 -1 -1 -1 -1 -1 -1 -1 -1 -1 -1.\\nMap tile type row 6: -1 -1 -1 -1 -1 -1 -1 -1 -1 -1 -1 -1 -1 -1 -1 -1 -1 -1 -1 -1 -1 -1 -1 -1.\\nMap tile type row 7: -1 -1 -1 -1 -1 -1 -1 -1 -1 -1 -1 -1 -1 -1 -1 -1 -1 -1 -1 -1 -1 -1 -1 -1.\\nMap tile type row 8: -1 -1 -1 -1 -1 -1 -1 -1 -1 -1 -1 -1 -1 -1 -1 -1 -1 -1 -1 -1 -1 -1 -1 -1.\\nMap tile type row 9: -1 -1 -1 -1 -1 -1 -1 -1 -1 -1 -1 -1 -1 -1 -1 -1 -1 -1 -1 -1 -1 -1 -1 -1.\\nMap tile type row 10: -1 -1 -1 -1 -1 -1 -1 -1 -1 -1 -1 -1 -1 -1 -1 -1 -1 -1 -1 -1 -1 -1 -1 -1.\\nMap tile type row 11: -1 -1 -1 -1 -1 -1 -1 -1 -1 -1 -1 -1 -1 -1 -1 -1 -1 -1 -1 -1 -1 -1 -1 -1.\\nMap tile type row 12: -1 -1 -1 -1 -1 -1 -1 -1 -1 -1 -1 -1 -1 -1 -1 -1 -1 -1 -1 -1 -1 -1 -1 -1.\\nMap tile type row 13: -1 -1 -1 -1 -1 -1 -1 -1 -1 -1 -1 -1 -1 -1 -1 -1 -1 -1 -1 -1 -1 -1 -1 -1.\\nMap tile type row 14: -1 -1 -1 -1 -1 -1 -1 -1 -1 -1 -1 -1 -1 -1 -1 -1 -1 -1 -1 -1 -1 -1 -1 -1.\\nMap tile type row 15: -1 -1 -1 -1 -1 -1 -1 -1 -1 -1 -1 -1 -1 -1 -1 -1 -1 -1 -1 -1 -1 -1 -1 -1.\\nMap tile type row 16: -1 -1 -1 -1 -1 -1 -1 -1 -1 -1 -1 -1 -1 -1 -1 -1 -1 -1 -1 -1 -1 -1 -1 -1.\\nMap tile type row 17: -1 -1 -1 -1 -1 -1 -1 -1 -1 -1 -1 -1 -1 -1 -1 -1 -1 -1 -1 -1 -1 -1 -1 -1.\\nMap tile type row 18: -1 -1 -1 -1 -1 -1 -1 -1 -1 -1 -1 -1 -1 -1 -1 -1 -1 -1 -1 -1 -1 -1 -1 -1.\\nMap tile type row 19: -1 -1 -1 -1 -1 -1 -1 -1 -1 -1 -1 -1 -1 -1 -1 -1 -1 -1 -1 -1 -1 -1 -1 -1.\\nMap tile type row 20: -1 -1 -1 -1 -1 -1 -1 -1 -1 -1 -1 -1 -1 -1 -1 -1 -1 -1 -1 -1 -1 -1 -1 -1.\\nMap tile type row 21: -1 -1 -1 -1 -1 -1 -1 -1 -1 -1 -1 -1 -1 -1 -1 -1 -1 -1 -1 -1 -1 -1 -1 -1.\\nMap tile type row 22: -1 -1 -1 -1 -1 -1 -1 -1 -1 -1 -1 -1 -1 -1 -1 -1 -1 -1 -1 -1 -1 -1 -1 -1.\\nMap tile type row 23: -1 -1 -1 -1 -1 -1 -1 -1 -1 -1 -1 -1 -1 -1 -1 -1 -1 -1 -1 -1 -1 -1 -1 -1.\\nRelic Node positions:\\nRelic node position: -1, -1 means the relic node is not yet discoverd.\\nRelic node 0 position: -1, -1.\\nRelic node 1 position: -1, -1.\\nRelic node 2 position: -1, -1.\\nRelic node 3 position: -1, -1.\\nRelic node 4 position: -1, -1.\\nRelic node 5 position: -1, -1.\\nRelic Node Visibility:\\nRelic node 0 visibility: False.\\nRelic node 1 visibility: False.\\nRelic node 2 visibility: False.\\nRelic node 3 visibility: False.\\nRelic node 4 visibility: False.\\nRelic node 5 visibility: False.\\nMy current point for this match is: 0.\\nEnemy current point for this match is: 0.\\nI have won 0 matches.\\nEnemy has won 0 matches.\\nThis is step 0 of the game.\\nThis is step 0 of the match.\\nEnemy spawn location: not yet discovered.',\n",
       " 'role': 'user'}"
      ]
     },
     "execution_count": 18,
     "metadata": {},
     "output_type": "execute_result"
    }
   ],
   "source": [
    "agent0.llm_input"
   ]
  },
  {
   "cell_type": "code",
   "execution_count": 19,
   "id": "43239786",
   "metadata": {},
   "outputs": [],
   "source": [
    "previous_score = 0.0"
   ]
  },
  {
   "cell_type": "code",
   "execution_count": 20,
   "id": "4e0dc307",
   "metadata": {},
   "outputs": [
    {
     "data": {
      "text/plain": [
       "0"
      ]
     },
     "execution_count": 20,
     "metadata": {},
     "output_type": "execute_result"
    }
   ],
   "source": [
    "current_score = obs_all['player_0']['team_points'][0]\n",
    "current_score"
   ]
  },
  {
   "cell_type": "code",
   "execution_count": 21,
   "id": "78c71758",
   "metadata": {},
   "outputs": [
    {
     "data": {
      "text/plain": [
       "0.0"
      ]
     },
     "execution_count": 21,
     "metadata": {},
     "output_type": "execute_result"
    }
   ],
   "source": [
    "reward_score = current_score - previous_score\n",
    "reward_score"
   ]
  },
  {
   "cell_type": "code",
   "execution_count": 22,
   "id": "1ad949a7",
   "metadata": {},
   "outputs": [],
   "source": [
    "# Reward functions\n",
    "def strict_format_reward_func(completions, **kwargs) -> list[float]:\n",
    "    \"\"\"Reward function that checks if the completion has a specific format.\"\"\"\n",
    "    pattern = r\"^<reasoning>\\n.*?\\n</reasoning>\\n<answer>\\n.*?\\n</answer>\\n$\"\n",
    "    responses = [completion[0][\"content\"] for completion in completions]\n",
    "    matches = [re.match(pattern, r) for r in responses]\n",
    "\n",
    "    return [0.5 if match else 0.0 for match in matches]\n",
    "\n",
    "def soft_format_reward_func(completions, **kwargs) -> list[float]:\n",
    "    \"\"\"Reward function that checks if the completion has a specific format.\"\"\"\n",
    "    pattern = r\"<reasoning>.*?</reasoning>\\s*<answer>.*?</answer>\"\n",
    "    responses = [completion[0][\"content\"] for completion in completions]\n",
    "    matches = [re.match(pattern, r) for r in responses]\n",
    "\n",
    "    return [0.5 if match else 0.0 for match in matches]\n",
    "\n",
    "def count_xml(text) -> float:\n",
    "    count = 0.0\n",
    "    if text.count(\"<reasoning>\\n\") == 1:\n",
    "        count += 0.125\n",
    "        count -= len(text.split(\"<reasoning>\\n\")[0])*0.001\n",
    "    if text.count(\"\\n</reasoning>\\n\") == 1:\n",
    "        count += 0.125\n",
    "    if text.count(\"\\n<answer>\\n\") == 1:\n",
    "        count += 0.125\n",
    "        count -= len(text.split(\"\\n</answer>\\n\")[-1])*0.001\n",
    "    if text.count(\"\\n</answer>\") == 1:\n",
    "        count += 0.125\n",
    "        count -= (len(text.split(\"\\n</answer>\")[-1]) - 1)*0.001\n",
    "\n",
    "    return count\n",
    "\n",
    "def xmlcount_reward_func(completions, **kwargs) -> list[float]:\n",
    "    contents = [completion[0][\"content\"] for completion in completions]\n",
    "\n",
    "    return [count_xml(c) for c in contents]\n",
    "\n",
    "def answer_format_reward_func(completions, **kwargs) -> list[float]:\n",
    "    responses = [completion[0][\"content\"] for completion in completions]\n",
    "    answers = [extract_xml_answer(r) for r in responses]\n",
    "    answer_pattern = re.compile(r\"^Unit \\d+: (0|1|2|3|4|5(, -?\\d+, -?\\d+)?) # (move up|move right|move down|move left|center|sap at \\(-?\\d+, -?\\d+\\) relative to unit \\d+'s current position)$\")\n",
    "\n",
    "    scores = []\n",
    "    for answer in answers:\n",
    "        answer_score = 0.0\n",
    "        for action in answer.split(\"\\n\"):\n",
    "            if answer_pattern.match(action):\n",
    "                answer_score += 0.5 / 16\n",
    "                unit_number = int(action.split(\":\")[0].split(\" \")[1])\n",
    "                if unit_number < 0 or unit_number > 15:\n",
    "                    answer_score -= 0.1 / 16\n",
    "            if len(action) != 16:\n",
    "                answer_score -= 0.1\n",
    "        scores.append(answer_score)\n",
    "\n",
    "    return scores\n",
    "\n",
    "def point_gain_reward_func(completions, **kwargs) -> list[float]:\n",
    "\n",
    "    return [reward_score for completion in completions]"
   ]
  },
  {
   "cell_type": "code",
   "execution_count": 23,
   "id": "e18b8bff",
   "metadata": {},
   "outputs": [
    {
     "data": {
      "text/plain": [
       "Dataset({\n",
       "    features: ['question', 'answer', 'prompt'],\n",
       "    num_rows: 7473\n",
       "})"
      ]
     },
     "execution_count": 23,
     "metadata": {},
     "output_type": "execute_result"
    }
   ],
   "source": [
    "dataset"
   ]
  },
  {
   "cell_type": "code",
   "execution_count": 24,
   "id": "8cb1011b",
   "metadata": {},
   "outputs": [
    {
     "data": {
      "text/plain": [
       "{'question': 'Natalia sold clips to 48 of her friends in April, and then she sold half as many clips in May. How many clips did Natalia sell altogether in April and May?',\n",
       " 'answer': '72',\n",
       " 'prompt': [{'content': '\\nRespond in the following format:\\n<reasoning>\\n...\\n</reasoning>\\n<answer>\\n...\\n</answer>\\n',\n",
       "   'role': 'system'},\n",
       "  {'content': 'Natalia sold clips to 48 of her friends in April, and then she sold half as many clips in May. How many clips did Natalia sell altogether in April and May?',\n",
       "   'role': 'user'}]}"
      ]
     },
     "execution_count": 24,
     "metadata": {},
     "output_type": "execute_result"
    }
   ],
   "source": [
    "dataset[0]"
   ]
  },
  {
   "cell_type": "code",
   "execution_count": 25,
   "id": "05c71ea9",
   "metadata": {},
   "outputs": [
    {
     "data": {
      "text/plain": [
       "Dataset({\n",
       "    features: ['prompt'],\n",
       "    num_rows: 1\n",
       "})"
      ]
     },
     "execution_count": 25,
     "metadata": {},
     "output_type": "execute_result"
    }
   ],
   "source": [
    "temp_dataset = Dataset.from_list([{'prompt': [answer_format, game_rules, agent0.llm_input]}])\n",
    "temp_dataset"
   ]
  },
  {
   "cell_type": "code",
   "execution_count": 26,
   "id": "61a097ed",
   "metadata": {},
   "outputs": [
    {
     "data": {
      "text/plain": [
       "{'prompt': [{'content': '\\nRespond in the following format:\\n<reasoning>\\n...\\n</reasoning>\\n<answer>\\n...\\n</answer>\\n',\n",
       "   'role': 'system'},\n",
       "  {'content': '\\n!!!GAME RULES!!!\\nEnvironment\\nTwo teams compete against each other on a 2D map in a best of 5 match sequence (called a game) with each match lasting 100 time steps. Both teams have a pool of units they can control to gain points around the map while also trying to prevent the other team from doing the same.\\nA core objective of this game is a balanced strategy of exploration and exploitation. It is recommended to explore more in the first match or two before leveraging gained knowledge about the map and opponent behavior to win the latter matches.\\nMap\\nThe map is a randomly generated 2D grid of size 24x24. There are several core features that make up the map: Unknown Tiles, Empty Tiles, Asteroid Tiles, Nebula Tiles, Energy Tiles, Relic Nodes, and Relic Fragments. Notably, in a game, the map is never regenerated completely between matches. Whatever is the state of the map at the end of one match is what is used for the next match.\\nUnknown Tiles\\nThese are tiles that are not visible. They can be any type of tile but are not visible to you until a unit is within sensor range of that tile.\\nEmpty Tiles\\nThese are empty tiles in space without anything special about them. Units and tiles can be placed/move onto these tiles.\\nAsteroid Tiles\\nAsteroid tiles are impassable tiles that block anything from moving/spawning onto them. These tiles might move around over time during the map in a symmetric fashion. Sometimes asteroid tiles might move on top of existing units. In the game the unit is not removed as a result of this and can still take actions and move around provided there is an non asteroid tile adjacent to it.\\nNebula Tiles\\nNebula tiles are passable tiles with a number of features. These tiles might move around over time during the map in a symmetric fashion.\\nVision Reduction: Nebula tiles can reduce/block vision of units. Because of vision reduction it is even possible for a unit to be unable to see itself while still being able to move! See Vision section below for more details on how team vision is determined. All nebula tiles have the same vision reduction value called params.nebula_tile_vision_reduction which is randomized from 0 to 3.\\nEnergy Reduction: Nebula tiles can reduce the energy of units that end their turn on them. All nebula tiles have the same energy reduction value called params.nebula_tile_energy_reduction.\\nIn Map Tile Types, empty tiles are represented by 0, asteroid tiles by 1, nebula tiles by 2, and unknown tiles by -1.\\nEnergy Tiles\\nEnergy tiles are mysterious objects that emit energy fields which can be harvested by units. These tiles might move around over time during the map in a symmetric fashion. In code, what actually occurs in each game is energy tiles are randomly generated on the map symmetrically and a random function is generated for each tile. Each energy tile\\'s function is a function of distance. The energy value of a tile on a map is determined to be the sum of the energy tile functions applied to the distance between tile and each tile.\\nRelic Nodes\\nRelic nodes are objects in space that enable ships to go near it to gain team points. These relic nodes however are ancient and thus fragmented. As a result, only certain tiles near the relic nodes when a friendly ship is on it will gain points. The tiles that yield points are always hidden and can only be discovered by trial and error by moving around the relic nodes. Relic node positions themselves can be observed if withins sensor range. The tiles around relic nodes can overlap with tiles of other relic nodes but will not yield extra points if that occurs and is treated as one tile.\\nIn code, a random 5x5 configuration / mask centered on the relic node is generated indicating which tiles yield points and which don\\'t. Multiple ships can stack on one tile but will only yield at most one point per tile. Note that ship stacking can be risky due to the sapping action.\\nUnits\\nUnits in the game are ships that can move one tile in 5 directions (center, up, right, down, left) and perform a ranged energy sapping action. Units can overlap with other friendly units if they move onto the same tile. Units have a energy property which determines whether they can perform actions and start with 100 energy and can have a max of 400 energy. Energy is recharged via the energy field of the map. They always spawn on one of the two corners of the map depending on which team they are on.\\nNote that nebula tiles and energy fields can modify the energy of a unit when it is on that tile. However they can never reduce the energy of a unit below 0, only opposing units can do that which will then remove the unit from the game to be respawned at a later timestep. Unit IDs range from 0 to params.max_units - 1 for each team, and are recycled when units are spawned in if a previous one was removed.\\nMove Actions\\nAll move actions except moving center cost params.unit_move_cost energy to perform. Moving center is always free (a zero action). Attempting to move off the edge of the map results in no movement occuring but energy is still consumed. Units cannot move onto tiles with an impassible feature like an asteroid tile.\\nSap Actions\\nThe sap action lets a unit target a specific tile on the map within a range called params.unit_sap_range and reduces the energy of each opposition unit on the target tile by params.unit_sap_cost while also costing unit_sap_cost energy to use. Moreover, any opposition units on the 8 adjacent tiles to the target tile are also sapped and their energy is reduced by params.unit_sap_cost * params.unit_sap_dropoff_factor.\\nSap actions are submitted to the game engine / environment as a delta x and delta y value relative to the unit\\'s current position. The delta x and delta y value magnitudes must both be <= params.unit_sap_range, so the sap range is a square around the unit.\\nGenerally sap actions are risky since a single miss means your ships lose energy while the opponent does not. The area of effect can mitigate this risk somewhat depending on game parameters. Sap actions can however prove very valuable when opposition ships are heavily stacked and get hit as sapping the stacked tile hits every ship on the tile.\\nVision\\nA team\\'s vision is the combined vision of all units on that team. Team vision is essentially a boolean mask / matrix over the 2D map indicating whether that tile\\'s information is visible to the team. In this game, you can think of each unit having an \"eye in the sky\" sattelite that is capturing information about the units surroundings, but this sattelite has reduced accuracy the farther away the tile is from the unit.\\nTo determine which map tiles are visible to a team, we compute a vision power value for each tile on the map. For each unit on a team, we check each tile within the unit\\'s sensor range and add 1 + params.unit_sensor_range - min(dx, dy) to the vision power map at tile (x+dx, y+dy) where (x,y) is the unit\\'s position and (dx, dy) is the offset from the unit\\'s position and abs(dx) <= params.unit_sensor_range and abs(dy) <= params.unit_sensor_range.\\nNebula tiles have a vision reduction value of params.nebula_tile_vision_reduction. This number is reduced from every tile\\'s vision power if that tile is a nebula tile.\\nWhen a unit is near a nebula tile, it can\\'t see details about some nebula tiles, but it can see tiles beyond nebula tiles.\\nWhen a unit is inside a nebula tile, if the nebula vision reduction is powerful enough, the unit cannot even see itself or any other nebula tiles.\\nUnit vision can overlap and increase the vision power linearly, which can help handle the situations like above when you cannot see anything.\\nCollisions / Energy Void Fields\\nIn close quarters, units can impact each other in two ways, via direct collisions or by being adjacent to each other and sapping energy via their energy void fields.\\nIn the event of two or more units from opposing teams occupy the same tile at the end of a turn, the team with the highest aggregate energy among its units on that tile survive, while the units of the opposing teams are removed from the game. If it is a tie, all units are removed from the game.\\nFurthermore, each unit generates an \"energy void\" field around itself that affects all cardinally (up, right, down left) adjacent opposition units. To determine how exactly each unit is affected by these energy void fields, we compute a 2D map for each team indicating the energy void strength at each tile. A unit contributes to tiles adjacent to itself a energy void strength equal to the total amount of energy the unit has at the start of the turn multiplied by params.unit_energy_void_factor rounded down. After a energy void map is computed for each team, a unit\\'s energy is reduced by the energy void strength of the tile it is on divided by the total number of units on that tile. Note that units removed due to collisions do not contribute to the energy void field.\\nThe energy void fields generally encourage stacking units to better spread out energy sapped by energy void fields of opposition units.\\nWin Conditions\\nTo win the game, the team must have won the most matches out of the 5 match sequence.\\nTo win a match, the team must have gained more relic points than the other team at the end of the match. If the relic points scores are tied, then the match winner is decided by who has more total unit energy. If that is also tied then the winner is chosen at random.\\nMatch Resolution Order\\nAt each time step of a match, we run the following steps in order:\\n1. Move all units that have enough energy to move\\n2. Execute the sap actions of all units that have enough energy to do so\\n3. Resolve collisions and apply energy void fields\\n4. Update the energy of all units based on their position (energy fields and nebula tiles)\\n5. Spawn units for all teams. Remove units that have less than 0 energy.\\n6. Determine the team vision / sensor masks for all teams and mask out observations accordingly\\n7. Environment objects like asteroids/nebula tiles/energy tiles move around in space\\n8. Compute new team points\\nNote that each match runs for params.max_steps_in_match steps and you take that many actions that affect the game. However, you will actually receive params.max_steps_in_match + 1 frames of observations since the very first frame will either be empty or the previous match\\'s final observation (actions on these observations will not do anything).\\nGame Parameters\\nThe full set of game parameters can be found here in the codebase.\\nRandomized Game Parameters / Map Generation\\nThere are a number of randomized game paramteres which can modify and even disable/enable certain game mechanics. None of these game parameters are changed between matches in a game. The majority of these parameters are also not given to the teams themselves and must be discovered through exploration.\\nenv_params_ranges = dict(\\n    map_type=[1],\\n    unit_move_cost=list(range(1, 6)), # list(range(x, y)) = [x, x+1, x+2, ... , y-1]\\n    unit_sensor_range=list(range(2, 5)),\\n    nebula_tile_vision_reduction=list(range(0,4)),\\n    nebula_tile_energy_reduction=[0, 0, 10, 25],\\n    unit_sap_cost=list(range(30, 51)),\\n    unit_sap_range=list(range(3, 8)),\\n    unit_sap_dropoff_factor=[0.25, 0.5, 1],\\n    unit_energy_void_factor=[0.0625, 0.125, 0.25, 0.375],\\n    # map randomizations\\n    nebula_tile_drift_speed=[-0.05, -0.025, 0.025, 0.05],\\n    energy_tile_drift_speed=[0.01, 0.02, 0.03, 0.04, 0.05],\\n    energy_tile_drift_magnitude=list(range(3, 6))\\n)\\nThese parameter ranges (and other parameters) are subject to change in the beta phase of this competition as we gather feedback and data.\\nThere are 6 actions that can be taken by a unit in this game: 0 = center, 1 = up, 2 = right, 3 = down, 4 = left, 5 = sap.\\nSo your answer should be in this format:\\nUnit 0: action(from 0 to 5)\\nUnit 1: action(from 0 to 5)\\nUnit 2: action(from 0 to 5)\\nUnit 3: action(from 0 to 5)\\nUnit 4: action(from 0 to 5)\\nUnit 5: action(from 0 to 5)\\nUnit 6: action(from 0 to 5)\\nUnit 7: action(from 0 to 5)\\nUnit 8: action(from 0 to 5)\\nUnit 9: action(from 0 to 5)\\nUnit 10: action(from 0 to 5)\\nUnit 11: action(from 0 to 5)\\nUnit 12: action(from 0 to 5)\\nUnit 13: action(from 0 to 5)\\nUnit 14: action(from 0 to 5)\\nUnit 15: action(from 0 to 5)\\nHowever, if you choose to sap(5), you should provide the direction of the sap, which is a pair of integers (dx, dy) where dx and dy are the relative coordinates of the target tile from the unit\\'s current position. The magnitudes of dx and dy must be less than or equal to the unit\\'s sap range. For example, if unit 3 is at (5, 5) and you want to sap the tile at (7, 7), your answer for unit 3 should be 5, 2, 2.\\nAlso, you can only take actions for the units that are available to you in the current timestep. If you take an action for a unit that is not available to you, the game engine will ignore that action.\\nAdditionally, you can only take one action per unit per timestep. If you take multiple actions for a single unit in a timestep, the game engine will ignore all but the first action.\\nSo, below is an example of a valid answer:\\nUnit 0: 1 # move up\\nUnit 1: 2 # move right\\nUnit 2: 5, 2, 2 # sap at (2, 2) relative to unit 2\\'s current position\\nUnit 3: 0 # center\\nUnit 4: 5, 1, 1 # sap at (1, 1) relative to unit 4\\'s current position\\nUnit 5: 5, -1, -2 # sap at (-1, -2) relative to unit 5\\'s current position\\nUnit 6: 5, -2, 2 # sap at (-2, 2) relative to unit 6\\'s current position\\nUnit 7: 5, 0, 0 # sap at (0, 0) relative to unit 7\\'s current position\\nUnit 8: 4 # move left\\nUnit 9: 0 # center\\nUnit 10: 3 # move down\\nUnit 11: 2 # move right\\nUnit 12: 1 # move up\\nUnit 13: 0 # center\\nUnit 14: 5, -4, 5 # sap at (-4, 5) relative to unit 14\\'s current position\\nUnit 15: 5, 3, -3 # sap at (3, -3) relative to unit 15\\'s current position\\n',\n",
       "   'role': 'system'},\n",
       "  {'content': '\\n!!!GAME STATE INFORMATION!!!\\nENVIRONMENT CONFIGURATION:\\nMaximum possible number of units for each team: 16.\\nNumber of matches per game: 5.\\nNumber of steps per match: 100.\\nMap height: 24.\\nMap width: 24.\\nNumber of teams: 2.\\nUnit move energy cost: 4.\\nUnit sap energy cost: 45.\\nUnit sap range: 3.\\nUnit sensor range: 2.\\nOBSERVATION:\\nUnit position: -1, -1 means the unit is not spawned yet or not visible.\\nUnit Positions:\\nMy unit 0 position: -1, -1.\\nMy unit 1 position: -1, -1.\\nMy unit 2 position: -1, -1.\\nMy unit 3 position: -1, -1.\\nMy unit 4 position: -1, -1.\\nMy unit 5 position: -1, -1.\\nMy unit 6 position: -1, -1.\\nMy unit 7 position: -1, -1.\\nMy unit 8 position: -1, -1.\\nMy unit 9 position: -1, -1.\\nMy unit 10 position: -1, -1.\\nMy unit 11 position: -1, -1.\\nMy unit 12 position: -1, -1.\\nMy unit 13 position: -1, -1.\\nMy unit 14 position: -1, -1.\\nMy unit 15 position: -1, -1.\\nEnemy unit 0 position: -1, -1.\\nEnemy unit 1 position: -1, -1.\\nEnemy unit 2 position: -1, -1.\\nEnemy unit 3 position: -1, -1.\\nEnemy unit 4 position: -1, -1.\\nEnemy unit 5 position: -1, -1.\\nEnemy unit 6 position: -1, -1.\\nEnemy unit 7 position: -1, -1.\\nEnemy unit 8 position: -1, -1.\\nEnemy unit 9 position: -1, -1.\\nEnemy unit 10 position: -1, -1.\\nEnemy unit 11 position: -1, -1.\\nEnemy unit 12 position: -1, -1.\\nEnemy unit 13 position: -1, -1.\\nEnemy unit 14 position: -1, -1.\\nEnemy unit 15 position: -1, -1.\\nUnit Energys:\\nMy unit 0 energy: -1.\\nMy unit 1 energy: -1.\\nMy unit 2 energy: -1.\\nMy unit 3 energy: -1.\\nMy unit 4 energy: -1.\\nMy unit 5 energy: -1.\\nMy unit 6 energy: -1.\\nMy unit 7 energy: -1.\\nMy unit 8 energy: -1.\\nMy unit 9 energy: -1.\\nMy unit 10 energy: -1.\\nMy unit 11 energy: -1.\\nMy unit 12 energy: -1.\\nMy unit 13 energy: -1.\\nMy unit 14 energy: -1.\\nMy unit 15 energy: -1.\\nEnemy unit 0 energy: -1.\\nEnemy unit 1 energy: -1.\\nEnemy unit 2 energy: -1.\\nEnemy unit 3 energy: -1.\\nEnemy unit 4 energy: -1.\\nEnemy unit 5 energy: -1.\\nEnemy unit 6 energy: -1.\\nEnemy unit 7 energy: -1.\\nEnemy unit 8 energy: -1.\\nEnemy unit 9 energy: -1.\\nEnemy unit 10 energy: -1.\\nEnemy unit 11 energy: -1.\\nEnemy unit 12 energy: -1.\\nEnemy unit 13 energy: -1.\\nEnemy unit 14 energy: -1.\\nEnemy unit 15 energy: -1.\\nUnit Visibility:\\nMy unit 0 visibility: False.\\nMy unit 1 visibility: False.\\nMy unit 2 visibility: False.\\nMy unit 3 visibility: False.\\nMy unit 4 visibility: False.\\nMy unit 5 visibility: False.\\nMy unit 6 visibility: False.\\nMy unit 7 visibility: False.\\nMy unit 8 visibility: False.\\nMy unit 9 visibility: False.\\nMy unit 10 visibility: False.\\nMy unit 11 visibility: False.\\nMy unit 12 visibility: False.\\nMy unit 13 visibility: False.\\nMy unit 14 visibility: False.\\nMy unit 15 visibility: False.\\nEnemy unit 0 visibility: False.\\nEnemy unit 1 visibility: False.\\nEnemy unit 2 visibility: False.\\nEnemy unit 3 visibility: False.\\nEnemy unit 4 visibility: False.\\nEnemy unit 5 visibility: False.\\nEnemy unit 6 visibility: False.\\nEnemy unit 7 visibility: False.\\nEnemy unit 8 visibility: False.\\nEnemy unit 9 visibility: False.\\nEnemy unit 10 visibility: False.\\nEnemy unit 11 visibility: False.\\nEnemy unit 12 visibility: False.\\nEnemy unit 13 visibility: False.\\nEnemy unit 14 visibility: False.\\nEnemy unit 15 visibility: False.\\nSensor Mask:\\nSensor mask row 0: False False False False False False False False False False False False False False False False False False False False False False False False.\\nSensor mask row 1: False False False False False False False False False False False False False False False False False False False False False False False False.\\nSensor mask row 2: False False False False False False False False False False False False False False False False False False False False False False False False.\\nSensor mask row 3: False False False False False False False False False False False False False False False False False False False False False False False False.\\nSensor mask row 4: False False False False False False False False False False False False False False False False False False False False False False False False.\\nSensor mask row 5: False False False False False False False False False False False False False False False False False False False False False False False False.\\nSensor mask row 6: False False False False False False False False False False False False False False False False False False False False False False False False.\\nSensor mask row 7: False False False False False False False False False False False False False False False False False False False False False False False False.\\nSensor mask row 8: False False False False False False False False False False False False False False False False False False False False False False False False.\\nSensor mask row 9: False False False False False False False False False False False False False False False False False False False False False False False False.\\nSensor mask row 10: False False False False False False False False False False False False False False False False False False False False False False False False.\\nSensor mask row 11: False False False False False False False False False False False False False False False False False False False False False False False False.\\nSensor mask row 12: False False False False False False False False False False False False False False False False False False False False False False False False.\\nSensor mask row 13: False False False False False False False False False False False False False False False False False False False False False False False False.\\nSensor mask row 14: False False False False False False False False False False False False False False False False False False False False False False False False.\\nSensor mask row 15: False False False False False False False False False False False False False False False False False False False False False False False False.\\nSensor mask row 16: False False False False False False False False False False False False False False False False False False False False False False False False.\\nSensor mask row 17: False False False False False False False False False False False False False False False False False False False False False False False False.\\nSensor mask row 18: False False False False False False False False False False False False False False False False False False False False False False False False.\\nSensor mask row 19: False False False False False False False False False False False False False False False False False False False False False False False False.\\nSensor mask row 20: False False False False False False False False False False False False False False False False False False False False False False False False.\\nSensor mask row 21: False False False False False False False False False False False False False False False False False False False False False False False False.\\nSensor mask row 22: False False False False False False False False False False False False False False False False False False False False False False False False.\\nSensor mask row 23: False False False False False False False False False False False False False False False False False False False False False False False False.\\nMap Energys:\\nMap energy row 0: -1 -1 -1 -1 -1 -1 -1 -1 -1 -1 -1 -1 -1 -1 -1 -1 -1 -1 -1 -1 -1 -1 -1 -1.\\nMap energy row 1: -1 -1 -1 -1 -1 -1 -1 -1 -1 -1 -1 -1 -1 -1 -1 -1 -1 -1 -1 -1 -1 -1 -1 -1.\\nMap energy row 2: -1 -1 -1 -1 -1 -1 -1 -1 -1 -1 -1 -1 -1 -1 -1 -1 -1 -1 -1 -1 -1 -1 -1 -1.\\nMap energy row 3: -1 -1 -1 -1 -1 -1 -1 -1 -1 -1 -1 -1 -1 -1 -1 -1 -1 -1 -1 -1 -1 -1 -1 -1.\\nMap energy row 4: -1 -1 -1 -1 -1 -1 -1 -1 -1 -1 -1 -1 -1 -1 -1 -1 -1 -1 -1 -1 -1 -1 -1 -1.\\nMap energy row 5: -1 -1 -1 -1 -1 -1 -1 -1 -1 -1 -1 -1 -1 -1 -1 -1 -1 -1 -1 -1 -1 -1 -1 -1.\\nMap energy row 6: -1 -1 -1 -1 -1 -1 -1 -1 -1 -1 -1 -1 -1 -1 -1 -1 -1 -1 -1 -1 -1 -1 -1 -1.\\nMap energy row 7: -1 -1 -1 -1 -1 -1 -1 -1 -1 -1 -1 -1 -1 -1 -1 -1 -1 -1 -1 -1 -1 -1 -1 -1.\\nMap energy row 8: -1 -1 -1 -1 -1 -1 -1 -1 -1 -1 -1 -1 -1 -1 -1 -1 -1 -1 -1 -1 -1 -1 -1 -1.\\nMap energy row 9: -1 -1 -1 -1 -1 -1 -1 -1 -1 -1 -1 -1 -1 -1 -1 -1 -1 -1 -1 -1 -1 -1 -1 -1.\\nMap energy row 10: -1 -1 -1 -1 -1 -1 -1 -1 -1 -1 -1 -1 -1 -1 -1 -1 -1 -1 -1 -1 -1 -1 -1 -1.\\nMap energy row 11: -1 -1 -1 -1 -1 -1 -1 -1 -1 -1 -1 -1 -1 -1 -1 -1 -1 -1 -1 -1 -1 -1 -1 -1.\\nMap energy row 12: -1 -1 -1 -1 -1 -1 -1 -1 -1 -1 -1 -1 -1 -1 -1 -1 -1 -1 -1 -1 -1 -1 -1 -1.\\nMap energy row 13: -1 -1 -1 -1 -1 -1 -1 -1 -1 -1 -1 -1 -1 -1 -1 -1 -1 -1 -1 -1 -1 -1 -1 -1.\\nMap energy row 14: -1 -1 -1 -1 -1 -1 -1 -1 -1 -1 -1 -1 -1 -1 -1 -1 -1 -1 -1 -1 -1 -1 -1 -1.\\nMap energy row 15: -1 -1 -1 -1 -1 -1 -1 -1 -1 -1 -1 -1 -1 -1 -1 -1 -1 -1 -1 -1 -1 -1 -1 -1.\\nMap energy row 16: -1 -1 -1 -1 -1 -1 -1 -1 -1 -1 -1 -1 -1 -1 -1 -1 -1 -1 -1 -1 -1 -1 -1 -1.\\nMap energy row 17: -1 -1 -1 -1 -1 -1 -1 -1 -1 -1 -1 -1 -1 -1 -1 -1 -1 -1 -1 -1 -1 -1 -1 -1.\\nMap energy row 18: -1 -1 -1 -1 -1 -1 -1 -1 -1 -1 -1 -1 -1 -1 -1 -1 -1 -1 -1 -1 -1 -1 -1 -1.\\nMap energy row 19: -1 -1 -1 -1 -1 -1 -1 -1 -1 -1 -1 -1 -1 -1 -1 -1 -1 -1 -1 -1 -1 -1 -1 -1.\\nMap energy row 20: -1 -1 -1 -1 -1 -1 -1 -1 -1 -1 -1 -1 -1 -1 -1 -1 -1 -1 -1 -1 -1 -1 -1 -1.\\nMap energy row 21: -1 -1 -1 -1 -1 -1 -1 -1 -1 -1 -1 -1 -1 -1 -1 -1 -1 -1 -1 -1 -1 -1 -1 -1.\\nMap energy row 22: -1 -1 -1 -1 -1 -1 -1 -1 -1 -1 -1 -1 -1 -1 -1 -1 -1 -1 -1 -1 -1 -1 -1 -1.\\nMap energy row 23: -1 -1 -1 -1 -1 -1 -1 -1 -1 -1 -1 -1 -1 -1 -1 -1 -1 -1 -1 -1 -1 -1 -1 -1.\\nMap Tile Types:\\nMap tile type row 0: -1 -1 -1 -1 -1 -1 -1 -1 -1 -1 -1 -1 -1 -1 -1 -1 -1 -1 -1 -1 -1 -1 -1 -1.\\nMap tile type row 1: -1 -1 -1 -1 -1 -1 -1 -1 -1 -1 -1 -1 -1 -1 -1 -1 -1 -1 -1 -1 -1 -1 -1 -1.\\nMap tile type row 2: -1 -1 -1 -1 -1 -1 -1 -1 -1 -1 -1 -1 -1 -1 -1 -1 -1 -1 -1 -1 -1 -1 -1 -1.\\nMap tile type row 3: -1 -1 -1 -1 -1 -1 -1 -1 -1 -1 -1 -1 -1 -1 -1 -1 -1 -1 -1 -1 -1 -1 -1 -1.\\nMap tile type row 4: -1 -1 -1 -1 -1 -1 -1 -1 -1 -1 -1 -1 -1 -1 -1 -1 -1 -1 -1 -1 -1 -1 -1 -1.\\nMap tile type row 5: -1 -1 -1 -1 -1 -1 -1 -1 -1 -1 -1 -1 -1 -1 -1 -1 -1 -1 -1 -1 -1 -1 -1 -1.\\nMap tile type row 6: -1 -1 -1 -1 -1 -1 -1 -1 -1 -1 -1 -1 -1 -1 -1 -1 -1 -1 -1 -1 -1 -1 -1 -1.\\nMap tile type row 7: -1 -1 -1 -1 -1 -1 -1 -1 -1 -1 -1 -1 -1 -1 -1 -1 -1 -1 -1 -1 -1 -1 -1 -1.\\nMap tile type row 8: -1 -1 -1 -1 -1 -1 -1 -1 -1 -1 -1 -1 -1 -1 -1 -1 -1 -1 -1 -1 -1 -1 -1 -1.\\nMap tile type row 9: -1 -1 -1 -1 -1 -1 -1 -1 -1 -1 -1 -1 -1 -1 -1 -1 -1 -1 -1 -1 -1 -1 -1 -1.\\nMap tile type row 10: -1 -1 -1 -1 -1 -1 -1 -1 -1 -1 -1 -1 -1 -1 -1 -1 -1 -1 -1 -1 -1 -1 -1 -1.\\nMap tile type row 11: -1 -1 -1 -1 -1 -1 -1 -1 -1 -1 -1 -1 -1 -1 -1 -1 -1 -1 -1 -1 -1 -1 -1 -1.\\nMap tile type row 12: -1 -1 -1 -1 -1 -1 -1 -1 -1 -1 -1 -1 -1 -1 -1 -1 -1 -1 -1 -1 -1 -1 -1 -1.\\nMap tile type row 13: -1 -1 -1 -1 -1 -1 -1 -1 -1 -1 -1 -1 -1 -1 -1 -1 -1 -1 -1 -1 -1 -1 -1 -1.\\nMap tile type row 14: -1 -1 -1 -1 -1 -1 -1 -1 -1 -1 -1 -1 -1 -1 -1 -1 -1 -1 -1 -1 -1 -1 -1 -1.\\nMap tile type row 15: -1 -1 -1 -1 -1 -1 -1 -1 -1 -1 -1 -1 -1 -1 -1 -1 -1 -1 -1 -1 -1 -1 -1 -1.\\nMap tile type row 16: -1 -1 -1 -1 -1 -1 -1 -1 -1 -1 -1 -1 -1 -1 -1 -1 -1 -1 -1 -1 -1 -1 -1 -1.\\nMap tile type row 17: -1 -1 -1 -1 -1 -1 -1 -1 -1 -1 -1 -1 -1 -1 -1 -1 -1 -1 -1 -1 -1 -1 -1 -1.\\nMap tile type row 18: -1 -1 -1 -1 -1 -1 -1 -1 -1 -1 -1 -1 -1 -1 -1 -1 -1 -1 -1 -1 -1 -1 -1 -1.\\nMap tile type row 19: -1 -1 -1 -1 -1 -1 -1 -1 -1 -1 -1 -1 -1 -1 -1 -1 -1 -1 -1 -1 -1 -1 -1 -1.\\nMap tile type row 20: -1 -1 -1 -1 -1 -1 -1 -1 -1 -1 -1 -1 -1 -1 -1 -1 -1 -1 -1 -1 -1 -1 -1 -1.\\nMap tile type row 21: -1 -1 -1 -1 -1 -1 -1 -1 -1 -1 -1 -1 -1 -1 -1 -1 -1 -1 -1 -1 -1 -1 -1 -1.\\nMap tile type row 22: -1 -1 -1 -1 -1 -1 -1 -1 -1 -1 -1 -1 -1 -1 -1 -1 -1 -1 -1 -1 -1 -1 -1 -1.\\nMap tile type row 23: -1 -1 -1 -1 -1 -1 -1 -1 -1 -1 -1 -1 -1 -1 -1 -1 -1 -1 -1 -1 -1 -1 -1 -1.\\nRelic Node positions:\\nRelic node position: -1, -1 means the relic node is not yet discoverd.\\nRelic node 0 position: -1, -1.\\nRelic node 1 position: -1, -1.\\nRelic node 2 position: -1, -1.\\nRelic node 3 position: -1, -1.\\nRelic node 4 position: -1, -1.\\nRelic node 5 position: -1, -1.\\nRelic Node Visibility:\\nRelic node 0 visibility: False.\\nRelic node 1 visibility: False.\\nRelic node 2 visibility: False.\\nRelic node 3 visibility: False.\\nRelic node 4 visibility: False.\\nRelic node 5 visibility: False.\\nMy current point for this match is: 0.\\nEnemy current point for this match is: 0.\\nI have won 0 matches.\\nEnemy has won 0 matches.\\nThis is step 0 of the game.\\nThis is step 0 of the match.\\nEnemy spawn location: not yet discovered.',\n",
       "   'role': 'user'}]}"
      ]
     },
     "execution_count": 26,
     "metadata": {},
     "output_type": "execute_result"
    }
   ],
   "source": [
    "temp_dataset[0]"
   ]
  },
  {
   "cell_type": "code",
   "execution_count": null,
   "id": "c27b664b",
   "metadata": {},
   "outputs": [],
   "source": [
    "output_dir=\"outputs/DeepSeek-R1-Distill-Qwen-1.5B-PPO\"\n",
    "run_name=\"DeepSeek-R1-Distill-Qwen-1.5B-PPO-20250211_02\"\n",
    "\n",
    "training_args = PPOConfig(\n",
    "    output_dir=output_dir,\n",
    "    run_name=run_name,\n",
    "    batch_size=1,\n",
    "    learning_rate=5e-6,\n",
    "    adam_beta1=0.9,\n",
    "    adam_beta2=0.99,\n",
    "    weight_decay=0.1,\n",
    "    warmup_ratio=0.1,\n",
    "    lr_scheduler_type=\"cosine\",\n",
    "    logging_steps=1,\n",
    "    bf16=True,\n",
    "    gradient_accumulation_steps=8,\n",
    "    num_sample_generations=0,\n",
    "    max_grad_norm=0.1,\n",
    "    num_train_epochs=1,\n",
    "    save_steps=100,\n",
    "    log_on_each_node=False,\n",
    "    report_to=\"none\",\n",
    "    num_ppo_epochs=1,\n",
    "    cliprange=0.2,\n",
    "    vf_coef=1.0,\n",
    "    kl_coef=0.01,\n",
    "    prediction_loss_only=True,\n",
    "    gradient_checkpointing=True,\n",
    "    #reward_model_path=\"deepseek-ai/DeepSeek-R1-Distill-Qwen-1.5B\",\n",
    "    optim=\"adamw_torch_fused\",\n",
    "    #use_cpu=True,\n",
    "    max_steps=1,\n",
    "    #eval_steps=1,\n",
    "    #eval_accumulation_steps=8,\n",
    "    #accelerator_config={\"num_processes\": 8},\n",
    "    per_device_train_batch_size=1,\n",
    "    #per_device_eval_batch_size=1,\n",
    "    torch_empty_cache_steps=1,\n",
    "    #torch_compile=True,\n",
    "    #torch_compile_mode=\"default\",\n",
    ")"
   ]
  },
  {
   "cell_type": "code",
   "execution_count": 28,
   "id": "6df658c5",
   "metadata": {},
   "outputs": [],
   "source": [
    "os.environ[\"TOKENIZERS_PARALLELISM\"] = \"false\""
   ]
  },
  {
   "cell_type": "code",
   "execution_count": 29,
   "id": "1ca0885c",
   "metadata": {},
   "outputs": [
    {
     "data": {
      "text/plain": [
       "OrderedDict([('', 0)])"
      ]
     },
     "execution_count": 29,
     "metadata": {},
     "output_type": "execute_result"
    }
   ],
   "source": [
    "device_map = infer_auto_device_map(\n",
    "    agent0.model,\n",
    "    max_memory={0: \"13GiB\", 'cpu': \"64GiB\"},  # Adjust based on your GPU memory\n",
    "    no_split_module_classes=[\"DeepSeekBlock\"]  # Adjust based on model architecture\n",
    ")\n",
    "device_map"
   ]
  },
  {
   "cell_type": "code",
   "execution_count": 30,
   "id": "90dc3bd5",
   "metadata": {},
   "outputs": [],
   "source": [
    "agent0.model.config.use_cache = False"
   ]
  },
  {
   "cell_type": "code",
   "execution_count": 31,
   "id": "94173408",
   "metadata": {},
   "outputs": [],
   "source": [
    "def tokenize_fn(examples):\n",
    "    return tokenizer(\n",
    "        examples[\"question\"],  # Ensure these keys exist in your dataset\n",
    "        #examples[\"answer\"],\n",
    "        padding=\"max_length\",  # Ensure uniform length\n",
    "        truncation=True,  # Prevent excessive token length issues\n",
    "        max_length=512,  # Adjust based on your model's requirements\n",
    "        return_tensors=\"pt\"\n",
    "    )#.to('cuda')"
   ]
  },
  {
   "cell_type": "code",
   "execution_count": 32,
   "id": "615e8524",
   "metadata": {},
   "outputs": [],
   "source": [
    "tokenized_dataset = train_data.map(tokenize_fn, batched=True)"
   ]
  },
  {
   "cell_type": "code",
   "execution_count": 33,
   "id": "637b38c4",
   "metadata": {},
   "outputs": [],
   "source": [
    "tokenized_dataset = tokenized_dataset.remove_columns(['question', 'answer'])"
   ]
  },
  {
   "cell_type": "code",
   "execution_count": 34,
   "id": "b0d51568",
   "metadata": {},
   "outputs": [
    {
     "data": {
      "text/plain": [
       "Dataset({\n",
       "    features: ['input_ids', 'attention_mask'],\n",
       "    num_rows: 7473\n",
       "})"
      ]
     },
     "execution_count": 34,
     "metadata": {},
     "output_type": "execute_result"
    }
   ],
   "source": [
    "tokenized_dataset"
   ]
  },
  {
   "cell_type": "code",
   "execution_count": 35,
   "id": "28a8e369",
   "metadata": {},
   "outputs": [],
   "source": [
    "unknown_input = None"
   ]
  },
  {
   "cell_type": "code",
   "execution_count": 36,
   "id": "41da6f47",
   "metadata": {},
   "outputs": [],
   "source": [
    "def score_fn(something):\n",
    "    #print(something)\n",
    "    global unknown_input\n",
    "    #unknown_input = copy.deepcopy(something)  # Save for debugging\n",
    "    unknown_input = something  # Save for debugging\n",
    "\n",
    "    #print(\"Original shape:\", something.shape)  # Debugging\n",
    "\n",
    "    # Reduce hidden dimensions → shape: (batch_size, 1)\n",
    "    something = something.mean(dim=2)#.unsqueeze(-1)\n",
    "\n",
    "    #print(\"Reduced shape:\", something.shape)  # Debugging\n",
    "\n",
    "    if torch.isnan(something).any() or torch.isinf(something).any():\n",
    "        raise ValueError(\"score_fn produced NaN or Inf values!\")\n",
    "    \n",
    "    #return torch.zeros(something.shape[0]).to('cuda', dtype=torch.bfloat16)\n",
    "\n",
    "    return something#.to('cuda', dtype=torch.bfloat16)  # Ensure it's on GPU"
   ]
  },
  {
   "cell_type": "code",
   "execution_count": 37,
   "id": "e0a84eb8",
   "metadata": {},
   "outputs": [],
   "source": [
    "agent0.model.score = score_fn"
   ]
  },
  {
   "cell_type": "code",
   "execution_count": 38,
   "id": "c312d85f",
   "metadata": {},
   "outputs": [
    {
     "data": {
      "text/plain": [
       "[[{'content': '\\nRespond in the following format:\\n<reasoning>\\n...\\n</reasoning>\\n<answer>\\n...\\n</answer>\\n',\n",
       "   'role': 'system'},\n",
       "  {'content': '\\n!!!GAME RULES!!!\\nEnvironment\\nTwo teams compete against each other on a 2D map in a best of 5 match sequence (called a game) with each match lasting 100 time steps. Both teams have a pool of units they can control to gain points around the map while also trying to prevent the other team from doing the same.\\nA core objective of this game is a balanced strategy of exploration and exploitation. It is recommended to explore more in the first match or two before leveraging gained knowledge about the map and opponent behavior to win the latter matches.\\nMap\\nThe map is a randomly generated 2D grid of size 24x24. There are several core features that make up the map: Unknown Tiles, Empty Tiles, Asteroid Tiles, Nebula Tiles, Energy Tiles, Relic Nodes, and Relic Fragments. Notably, in a game, the map is never regenerated completely between matches. Whatever is the state of the map at the end of one match is what is used for the next match.\\nUnknown Tiles\\nThese are tiles that are not visible. They can be any type of tile but are not visible to you until a unit is within sensor range of that tile.\\nEmpty Tiles\\nThese are empty tiles in space without anything special about them. Units and tiles can be placed/move onto these tiles.\\nAsteroid Tiles\\nAsteroid tiles are impassable tiles that block anything from moving/spawning onto them. These tiles might move around over time during the map in a symmetric fashion. Sometimes asteroid tiles might move on top of existing units. In the game the unit is not removed as a result of this and can still take actions and move around provided there is an non asteroid tile adjacent to it.\\nNebula Tiles\\nNebula tiles are passable tiles with a number of features. These tiles might move around over time during the map in a symmetric fashion.\\nVision Reduction: Nebula tiles can reduce/block vision of units. Because of vision reduction it is even possible for a unit to be unable to see itself while still being able to move! See Vision section below for more details on how team vision is determined. All nebula tiles have the same vision reduction value called params.nebula_tile_vision_reduction which is randomized from 0 to 3.\\nEnergy Reduction: Nebula tiles can reduce the energy of units that end their turn on them. All nebula tiles have the same energy reduction value called params.nebula_tile_energy_reduction.\\nIn Map Tile Types, empty tiles are represented by 0, asteroid tiles by 1, nebula tiles by 2, and unknown tiles by -1.\\nEnergy Tiles\\nEnergy tiles are mysterious objects that emit energy fields which can be harvested by units. These tiles might move around over time during the map in a symmetric fashion. In code, what actually occurs in each game is energy tiles are randomly generated on the map symmetrically and a random function is generated for each tile. Each energy tile\\'s function is a function of distance. The energy value of a tile on a map is determined to be the sum of the energy tile functions applied to the distance between tile and each tile.\\nRelic Nodes\\nRelic nodes are objects in space that enable ships to go near it to gain team points. These relic nodes however are ancient and thus fragmented. As a result, only certain tiles near the relic nodes when a friendly ship is on it will gain points. The tiles that yield points are always hidden and can only be discovered by trial and error by moving around the relic nodes. Relic node positions themselves can be observed if withins sensor range. The tiles around relic nodes can overlap with tiles of other relic nodes but will not yield extra points if that occurs and is treated as one tile.\\nIn code, a random 5x5 configuration / mask centered on the relic node is generated indicating which tiles yield points and which don\\'t. Multiple ships can stack on one tile but will only yield at most one point per tile. Note that ship stacking can be risky due to the sapping action.\\nUnits\\nUnits in the game are ships that can move one tile in 5 directions (center, up, right, down, left) and perform a ranged energy sapping action. Units can overlap with other friendly units if they move onto the same tile. Units have a energy property which determines whether they can perform actions and start with 100 energy and can have a max of 400 energy. Energy is recharged via the energy field of the map. They always spawn on one of the two corners of the map depending on which team they are on.\\nNote that nebula tiles and energy fields can modify the energy of a unit when it is on that tile. However they can never reduce the energy of a unit below 0, only opposing units can do that which will then remove the unit from the game to be respawned at a later timestep. Unit IDs range from 0 to params.max_units - 1 for each team, and are recycled when units are spawned in if a previous one was removed.\\nMove Actions\\nAll move actions except moving center cost params.unit_move_cost energy to perform. Moving center is always free (a zero action). Attempting to move off the edge of the map results in no movement occuring but energy is still consumed. Units cannot move onto tiles with an impassible feature like an asteroid tile.\\nSap Actions\\nThe sap action lets a unit target a specific tile on the map within a range called params.unit_sap_range and reduces the energy of each opposition unit on the target tile by params.unit_sap_cost while also costing unit_sap_cost energy to use. Moreover, any opposition units on the 8 adjacent tiles to the target tile are also sapped and their energy is reduced by params.unit_sap_cost * params.unit_sap_dropoff_factor.\\nSap actions are submitted to the game engine / environment as a delta x and delta y value relative to the unit\\'s current position. The delta x and delta y value magnitudes must both be <= params.unit_sap_range, so the sap range is a square around the unit.\\nGenerally sap actions are risky since a single miss means your ships lose energy while the opponent does not. The area of effect can mitigate this risk somewhat depending on game parameters. Sap actions can however prove very valuable when opposition ships are heavily stacked and get hit as sapping the stacked tile hits every ship on the tile.\\nVision\\nA team\\'s vision is the combined vision of all units on that team. Team vision is essentially a boolean mask / matrix over the 2D map indicating whether that tile\\'s information is visible to the team. In this game, you can think of each unit having an \"eye in the sky\" sattelite that is capturing information about the units surroundings, but this sattelite has reduced accuracy the farther away the tile is from the unit.\\nTo determine which map tiles are visible to a team, we compute a vision power value for each tile on the map. For each unit on a team, we check each tile within the unit\\'s sensor range and add 1 + params.unit_sensor_range - min(dx, dy) to the vision power map at tile (x+dx, y+dy) where (x,y) is the unit\\'s position and (dx, dy) is the offset from the unit\\'s position and abs(dx) <= params.unit_sensor_range and abs(dy) <= params.unit_sensor_range.\\nNebula tiles have a vision reduction value of params.nebula_tile_vision_reduction. This number is reduced from every tile\\'s vision power if that tile is a nebula tile.\\nWhen a unit is near a nebula tile, it can\\'t see details about some nebula tiles, but it can see tiles beyond nebula tiles.\\nWhen a unit is inside a nebula tile, if the nebula vision reduction is powerful enough, the unit cannot even see itself or any other nebula tiles.\\nUnit vision can overlap and increase the vision power linearly, which can help handle the situations like above when you cannot see anything.\\nCollisions / Energy Void Fields\\nIn close quarters, units can impact each other in two ways, via direct collisions or by being adjacent to each other and sapping energy via their energy void fields.\\nIn the event of two or more units from opposing teams occupy the same tile at the end of a turn, the team with the highest aggregate energy among its units on that tile survive, while the units of the opposing teams are removed from the game. If it is a tie, all units are removed from the game.\\nFurthermore, each unit generates an \"energy void\" field around itself that affects all cardinally (up, right, down left) adjacent opposition units. To determine how exactly each unit is affected by these energy void fields, we compute a 2D map for each team indicating the energy void strength at each tile. A unit contributes to tiles adjacent to itself a energy void strength equal to the total amount of energy the unit has at the start of the turn multiplied by params.unit_energy_void_factor rounded down. After a energy void map is computed for each team, a unit\\'s energy is reduced by the energy void strength of the tile it is on divided by the total number of units on that tile. Note that units removed due to collisions do not contribute to the energy void field.\\nThe energy void fields generally encourage stacking units to better spread out energy sapped by energy void fields of opposition units.\\nWin Conditions\\nTo win the game, the team must have won the most matches out of the 5 match sequence.\\nTo win a match, the team must have gained more relic points than the other team at the end of the match. If the relic points scores are tied, then the match winner is decided by who has more total unit energy. If that is also tied then the winner is chosen at random.\\nMatch Resolution Order\\nAt each time step of a match, we run the following steps in order:\\n1. Move all units that have enough energy to move\\n2. Execute the sap actions of all units that have enough energy to do so\\n3. Resolve collisions and apply energy void fields\\n4. Update the energy of all units based on their position (energy fields and nebula tiles)\\n5. Spawn units for all teams. Remove units that have less than 0 energy.\\n6. Determine the team vision / sensor masks for all teams and mask out observations accordingly\\n7. Environment objects like asteroids/nebula tiles/energy tiles move around in space\\n8. Compute new team points\\nNote that each match runs for params.max_steps_in_match steps and you take that many actions that affect the game. However, you will actually receive params.max_steps_in_match + 1 frames of observations since the very first frame will either be empty or the previous match\\'s final observation (actions on these observations will not do anything).\\nGame Parameters\\nThe full set of game parameters can be found here in the codebase.\\nRandomized Game Parameters / Map Generation\\nThere are a number of randomized game paramteres which can modify and even disable/enable certain game mechanics. None of these game parameters are changed between matches in a game. The majority of these parameters are also not given to the teams themselves and must be discovered through exploration.\\nenv_params_ranges = dict(\\n    map_type=[1],\\n    unit_move_cost=list(range(1, 6)), # list(range(x, y)) = [x, x+1, x+2, ... , y-1]\\n    unit_sensor_range=list(range(2, 5)),\\n    nebula_tile_vision_reduction=list(range(0,4)),\\n    nebula_tile_energy_reduction=[0, 0, 10, 25],\\n    unit_sap_cost=list(range(30, 51)),\\n    unit_sap_range=list(range(3, 8)),\\n    unit_sap_dropoff_factor=[0.25, 0.5, 1],\\n    unit_energy_void_factor=[0.0625, 0.125, 0.25, 0.375],\\n    # map randomizations\\n    nebula_tile_drift_speed=[-0.05, -0.025, 0.025, 0.05],\\n    energy_tile_drift_speed=[0.01, 0.02, 0.03, 0.04, 0.05],\\n    energy_tile_drift_magnitude=list(range(3, 6))\\n)\\nThese parameter ranges (and other parameters) are subject to change in the beta phase of this competition as we gather feedback and data.\\nThere are 6 actions that can be taken by a unit in this game: 0 = center, 1 = up, 2 = right, 3 = down, 4 = left, 5 = sap.\\nSo your answer should be in this format:\\nUnit 0: action(from 0 to 5)\\nUnit 1: action(from 0 to 5)\\nUnit 2: action(from 0 to 5)\\nUnit 3: action(from 0 to 5)\\nUnit 4: action(from 0 to 5)\\nUnit 5: action(from 0 to 5)\\nUnit 6: action(from 0 to 5)\\nUnit 7: action(from 0 to 5)\\nUnit 8: action(from 0 to 5)\\nUnit 9: action(from 0 to 5)\\nUnit 10: action(from 0 to 5)\\nUnit 11: action(from 0 to 5)\\nUnit 12: action(from 0 to 5)\\nUnit 13: action(from 0 to 5)\\nUnit 14: action(from 0 to 5)\\nUnit 15: action(from 0 to 5)\\nHowever, if you choose to sap(5), you should provide the direction of the sap, which is a pair of integers (dx, dy) where dx and dy are the relative coordinates of the target tile from the unit\\'s current position. The magnitudes of dx and dy must be less than or equal to the unit\\'s sap range. For example, if unit 3 is at (5, 5) and you want to sap the tile at (7, 7), your answer for unit 3 should be 5, 2, 2.\\nAlso, you can only take actions for the units that are available to you in the current timestep. If you take an action for a unit that is not available to you, the game engine will ignore that action.\\nAdditionally, you can only take one action per unit per timestep. If you take multiple actions for a single unit in a timestep, the game engine will ignore all but the first action.\\nSo, below is an example of a valid answer:\\nUnit 0: 1 # move up\\nUnit 1: 2 # move right\\nUnit 2: 5, 2, 2 # sap at (2, 2) relative to unit 2\\'s current position\\nUnit 3: 0 # center\\nUnit 4: 5, 1, 1 # sap at (1, 1) relative to unit 4\\'s current position\\nUnit 5: 5, -1, -2 # sap at (-1, -2) relative to unit 5\\'s current position\\nUnit 6: 5, -2, 2 # sap at (-2, 2) relative to unit 6\\'s current position\\nUnit 7: 5, 0, 0 # sap at (0, 0) relative to unit 7\\'s current position\\nUnit 8: 4 # move left\\nUnit 9: 0 # center\\nUnit 10: 3 # move down\\nUnit 11: 2 # move right\\nUnit 12: 1 # move up\\nUnit 13: 0 # center\\nUnit 14: 5, -4, 5 # sap at (-4, 5) relative to unit 14\\'s current position\\nUnit 15: 5, 3, -3 # sap at (3, -3) relative to unit 15\\'s current position\\n',\n",
       "   'role': 'system'},\n",
       "  {'content': '\\n!!!GAME STATE INFORMATION!!!\\nENVIRONMENT CONFIGURATION:\\nMaximum possible number of units for each team: 16.\\nNumber of matches per game: 5.\\nNumber of steps per match: 100.\\nMap height: 24.\\nMap width: 24.\\nNumber of teams: 2.\\nUnit move energy cost: 4.\\nUnit sap energy cost: 45.\\nUnit sap range: 3.\\nUnit sensor range: 2.\\nOBSERVATION:\\nUnit position: -1, -1 means the unit is not spawned yet or not visible.\\nUnit Positions:\\nMy unit 0 position: -1, -1.\\nMy unit 1 position: -1, -1.\\nMy unit 2 position: -1, -1.\\nMy unit 3 position: -1, -1.\\nMy unit 4 position: -1, -1.\\nMy unit 5 position: -1, -1.\\nMy unit 6 position: -1, -1.\\nMy unit 7 position: -1, -1.\\nMy unit 8 position: -1, -1.\\nMy unit 9 position: -1, -1.\\nMy unit 10 position: -1, -1.\\nMy unit 11 position: -1, -1.\\nMy unit 12 position: -1, -1.\\nMy unit 13 position: -1, -1.\\nMy unit 14 position: -1, -1.\\nMy unit 15 position: -1, -1.\\nEnemy unit 0 position: -1, -1.\\nEnemy unit 1 position: -1, -1.\\nEnemy unit 2 position: -1, -1.\\nEnemy unit 3 position: -1, -1.\\nEnemy unit 4 position: -1, -1.\\nEnemy unit 5 position: -1, -1.\\nEnemy unit 6 position: -1, -1.\\nEnemy unit 7 position: -1, -1.\\nEnemy unit 8 position: -1, -1.\\nEnemy unit 9 position: -1, -1.\\nEnemy unit 10 position: -1, -1.\\nEnemy unit 11 position: -1, -1.\\nEnemy unit 12 position: -1, -1.\\nEnemy unit 13 position: -1, -1.\\nEnemy unit 14 position: -1, -1.\\nEnemy unit 15 position: -1, -1.\\nUnit Energys:\\nMy unit 0 energy: -1.\\nMy unit 1 energy: -1.\\nMy unit 2 energy: -1.\\nMy unit 3 energy: -1.\\nMy unit 4 energy: -1.\\nMy unit 5 energy: -1.\\nMy unit 6 energy: -1.\\nMy unit 7 energy: -1.\\nMy unit 8 energy: -1.\\nMy unit 9 energy: -1.\\nMy unit 10 energy: -1.\\nMy unit 11 energy: -1.\\nMy unit 12 energy: -1.\\nMy unit 13 energy: -1.\\nMy unit 14 energy: -1.\\nMy unit 15 energy: -1.\\nEnemy unit 0 energy: -1.\\nEnemy unit 1 energy: -1.\\nEnemy unit 2 energy: -1.\\nEnemy unit 3 energy: -1.\\nEnemy unit 4 energy: -1.\\nEnemy unit 5 energy: -1.\\nEnemy unit 6 energy: -1.\\nEnemy unit 7 energy: -1.\\nEnemy unit 8 energy: -1.\\nEnemy unit 9 energy: -1.\\nEnemy unit 10 energy: -1.\\nEnemy unit 11 energy: -1.\\nEnemy unit 12 energy: -1.\\nEnemy unit 13 energy: -1.\\nEnemy unit 14 energy: -1.\\nEnemy unit 15 energy: -1.\\nUnit Visibility:\\nMy unit 0 visibility: False.\\nMy unit 1 visibility: False.\\nMy unit 2 visibility: False.\\nMy unit 3 visibility: False.\\nMy unit 4 visibility: False.\\nMy unit 5 visibility: False.\\nMy unit 6 visibility: False.\\nMy unit 7 visibility: False.\\nMy unit 8 visibility: False.\\nMy unit 9 visibility: False.\\nMy unit 10 visibility: False.\\nMy unit 11 visibility: False.\\nMy unit 12 visibility: False.\\nMy unit 13 visibility: False.\\nMy unit 14 visibility: False.\\nMy unit 15 visibility: False.\\nEnemy unit 0 visibility: False.\\nEnemy unit 1 visibility: False.\\nEnemy unit 2 visibility: False.\\nEnemy unit 3 visibility: False.\\nEnemy unit 4 visibility: False.\\nEnemy unit 5 visibility: False.\\nEnemy unit 6 visibility: False.\\nEnemy unit 7 visibility: False.\\nEnemy unit 8 visibility: False.\\nEnemy unit 9 visibility: False.\\nEnemy unit 10 visibility: False.\\nEnemy unit 11 visibility: False.\\nEnemy unit 12 visibility: False.\\nEnemy unit 13 visibility: False.\\nEnemy unit 14 visibility: False.\\nEnemy unit 15 visibility: False.\\nSensor Mask:\\nSensor mask row 0: False False False False False False False False False False False False False False False False False False False False False False False False.\\nSensor mask row 1: False False False False False False False False False False False False False False False False False False False False False False False False.\\nSensor mask row 2: False False False False False False False False False False False False False False False False False False False False False False False False.\\nSensor mask row 3: False False False False False False False False False False False False False False False False False False False False False False False False.\\nSensor mask row 4: False False False False False False False False False False False False False False False False False False False False False False False False.\\nSensor mask row 5: False False False False False False False False False False False False False False False False False False False False False False False False.\\nSensor mask row 6: False False False False False False False False False False False False False False False False False False False False False False False False.\\nSensor mask row 7: False False False False False False False False False False False False False False False False False False False False False False False False.\\nSensor mask row 8: False False False False False False False False False False False False False False False False False False False False False False False False.\\nSensor mask row 9: False False False False False False False False False False False False False False False False False False False False False False False False.\\nSensor mask row 10: False False False False False False False False False False False False False False False False False False False False False False False False.\\nSensor mask row 11: False False False False False False False False False False False False False False False False False False False False False False False False.\\nSensor mask row 12: False False False False False False False False False False False False False False False False False False False False False False False False.\\nSensor mask row 13: False False False False False False False False False False False False False False False False False False False False False False False False.\\nSensor mask row 14: False False False False False False False False False False False False False False False False False False False False False False False False.\\nSensor mask row 15: False False False False False False False False False False False False False False False False False False False False False False False False.\\nSensor mask row 16: False False False False False False False False False False False False False False False False False False False False False False False False.\\nSensor mask row 17: False False False False False False False False False False False False False False False False False False False False False False False False.\\nSensor mask row 18: False False False False False False False False False False False False False False False False False False False False False False False False.\\nSensor mask row 19: False False False False False False False False False False False False False False False False False False False False False False False False.\\nSensor mask row 20: False False False False False False False False False False False False False False False False False False False False False False False False.\\nSensor mask row 21: False False False False False False False False False False False False False False False False False False False False False False False False.\\nSensor mask row 22: False False False False False False False False False False False False False False False False False False False False False False False False.\\nSensor mask row 23: False False False False False False False False False False False False False False False False False False False False False False False False.\\nMap Energys:\\nMap energy row 0: -1 -1 -1 -1 -1 -1 -1 -1 -1 -1 -1 -1 -1 -1 -1 -1 -1 -1 -1 -1 -1 -1 -1 -1.\\nMap energy row 1: -1 -1 -1 -1 -1 -1 -1 -1 -1 -1 -1 -1 -1 -1 -1 -1 -1 -1 -1 -1 -1 -1 -1 -1.\\nMap energy row 2: -1 -1 -1 -1 -1 -1 -1 -1 -1 -1 -1 -1 -1 -1 -1 -1 -1 -1 -1 -1 -1 -1 -1 -1.\\nMap energy row 3: -1 -1 -1 -1 -1 -1 -1 -1 -1 -1 -1 -1 -1 -1 -1 -1 -1 -1 -1 -1 -1 -1 -1 -1.\\nMap energy row 4: -1 -1 -1 -1 -1 -1 -1 -1 -1 -1 -1 -1 -1 -1 -1 -1 -1 -1 -1 -1 -1 -1 -1 -1.\\nMap energy row 5: -1 -1 -1 -1 -1 -1 -1 -1 -1 -1 -1 -1 -1 -1 -1 -1 -1 -1 -1 -1 -1 -1 -1 -1.\\nMap energy row 6: -1 -1 -1 -1 -1 -1 -1 -1 -1 -1 -1 -1 -1 -1 -1 -1 -1 -1 -1 -1 -1 -1 -1 -1.\\nMap energy row 7: -1 -1 -1 -1 -1 -1 -1 -1 -1 -1 -1 -1 -1 -1 -1 -1 -1 -1 -1 -1 -1 -1 -1 -1.\\nMap energy row 8: -1 -1 -1 -1 -1 -1 -1 -1 -1 -1 -1 -1 -1 -1 -1 -1 -1 -1 -1 -1 -1 -1 -1 -1.\\nMap energy row 9: -1 -1 -1 -1 -1 -1 -1 -1 -1 -1 -1 -1 -1 -1 -1 -1 -1 -1 -1 -1 -1 -1 -1 -1.\\nMap energy row 10: -1 -1 -1 -1 -1 -1 -1 -1 -1 -1 -1 -1 -1 -1 -1 -1 -1 -1 -1 -1 -1 -1 -1 -1.\\nMap energy row 11: -1 -1 -1 -1 -1 -1 -1 -1 -1 -1 -1 -1 -1 -1 -1 -1 -1 -1 -1 -1 -1 -1 -1 -1.\\nMap energy row 12: -1 -1 -1 -1 -1 -1 -1 -1 -1 -1 -1 -1 -1 -1 -1 -1 -1 -1 -1 -1 -1 -1 -1 -1.\\nMap energy row 13: -1 -1 -1 -1 -1 -1 -1 -1 -1 -1 -1 -1 -1 -1 -1 -1 -1 -1 -1 -1 -1 -1 -1 -1.\\nMap energy row 14: -1 -1 -1 -1 -1 -1 -1 -1 -1 -1 -1 -1 -1 -1 -1 -1 -1 -1 -1 -1 -1 -1 -1 -1.\\nMap energy row 15: -1 -1 -1 -1 -1 -1 -1 -1 -1 -1 -1 -1 -1 -1 -1 -1 -1 -1 -1 -1 -1 -1 -1 -1.\\nMap energy row 16: -1 -1 -1 -1 -1 -1 -1 -1 -1 -1 -1 -1 -1 -1 -1 -1 -1 -1 -1 -1 -1 -1 -1 -1.\\nMap energy row 17: -1 -1 -1 -1 -1 -1 -1 -1 -1 -1 -1 -1 -1 -1 -1 -1 -1 -1 -1 -1 -1 -1 -1 -1.\\nMap energy row 18: -1 -1 -1 -1 -1 -1 -1 -1 -1 -1 -1 -1 -1 -1 -1 -1 -1 -1 -1 -1 -1 -1 -1 -1.\\nMap energy row 19: -1 -1 -1 -1 -1 -1 -1 -1 -1 -1 -1 -1 -1 -1 -1 -1 -1 -1 -1 -1 -1 -1 -1 -1.\\nMap energy row 20: -1 -1 -1 -1 -1 -1 -1 -1 -1 -1 -1 -1 -1 -1 -1 -1 -1 -1 -1 -1 -1 -1 -1 -1.\\nMap energy row 21: -1 -1 -1 -1 -1 -1 -1 -1 -1 -1 -1 -1 -1 -1 -1 -1 -1 -1 -1 -1 -1 -1 -1 -1.\\nMap energy row 22: -1 -1 -1 -1 -1 -1 -1 -1 -1 -1 -1 -1 -1 -1 -1 -1 -1 -1 -1 -1 -1 -1 -1 -1.\\nMap energy row 23: -1 -1 -1 -1 -1 -1 -1 -1 -1 -1 -1 -1 -1 -1 -1 -1 -1 -1 -1 -1 -1 -1 -1 -1.\\nMap Tile Types:\\nMap tile type row 0: -1 -1 -1 -1 -1 -1 -1 -1 -1 -1 -1 -1 -1 -1 -1 -1 -1 -1 -1 -1 -1 -1 -1 -1.\\nMap tile type row 1: -1 -1 -1 -1 -1 -1 -1 -1 -1 -1 -1 -1 -1 -1 -1 -1 -1 -1 -1 -1 -1 -1 -1 -1.\\nMap tile type row 2: -1 -1 -1 -1 -1 -1 -1 -1 -1 -1 -1 -1 -1 -1 -1 -1 -1 -1 -1 -1 -1 -1 -1 -1.\\nMap tile type row 3: -1 -1 -1 -1 -1 -1 -1 -1 -1 -1 -1 -1 -1 -1 -1 -1 -1 -1 -1 -1 -1 -1 -1 -1.\\nMap tile type row 4: -1 -1 -1 -1 -1 -1 -1 -1 -1 -1 -1 -1 -1 -1 -1 -1 -1 -1 -1 -1 -1 -1 -1 -1.\\nMap tile type row 5: -1 -1 -1 -1 -1 -1 -1 -1 -1 -1 -1 -1 -1 -1 -1 -1 -1 -1 -1 -1 -1 -1 -1 -1.\\nMap tile type row 6: -1 -1 -1 -1 -1 -1 -1 -1 -1 -1 -1 -1 -1 -1 -1 -1 -1 -1 -1 -1 -1 -1 -1 -1.\\nMap tile type row 7: -1 -1 -1 -1 -1 -1 -1 -1 -1 -1 -1 -1 -1 -1 -1 -1 -1 -1 -1 -1 -1 -1 -1 -1.\\nMap tile type row 8: -1 -1 -1 -1 -1 -1 -1 -1 -1 -1 -1 -1 -1 -1 -1 -1 -1 -1 -1 -1 -1 -1 -1 -1.\\nMap tile type row 9: -1 -1 -1 -1 -1 -1 -1 -1 -1 -1 -1 -1 -1 -1 -1 -1 -1 -1 -1 -1 -1 -1 -1 -1.\\nMap tile type row 10: -1 -1 -1 -1 -1 -1 -1 -1 -1 -1 -1 -1 -1 -1 -1 -1 -1 -1 -1 -1 -1 -1 -1 -1.\\nMap tile type row 11: -1 -1 -1 -1 -1 -1 -1 -1 -1 -1 -1 -1 -1 -1 -1 -1 -1 -1 -1 -1 -1 -1 -1 -1.\\nMap tile type row 12: -1 -1 -1 -1 -1 -1 -1 -1 -1 -1 -1 -1 -1 -1 -1 -1 -1 -1 -1 -1 -1 -1 -1 -1.\\nMap tile type row 13: -1 -1 -1 -1 -1 -1 -1 -1 -1 -1 -1 -1 -1 -1 -1 -1 -1 -1 -1 -1 -1 -1 -1 -1.\\nMap tile type row 14: -1 -1 -1 -1 -1 -1 -1 -1 -1 -1 -1 -1 -1 -1 -1 -1 -1 -1 -1 -1 -1 -1 -1 -1.\\nMap tile type row 15: -1 -1 -1 -1 -1 -1 -1 -1 -1 -1 -1 -1 -1 -1 -1 -1 -1 -1 -1 -1 -1 -1 -1 -1.\\nMap tile type row 16: -1 -1 -1 -1 -1 -1 -1 -1 -1 -1 -1 -1 -1 -1 -1 -1 -1 -1 -1 -1 -1 -1 -1 -1.\\nMap tile type row 17: -1 -1 -1 -1 -1 -1 -1 -1 -1 -1 -1 -1 -1 -1 -1 -1 -1 -1 -1 -1 -1 -1 -1 -1.\\nMap tile type row 18: -1 -1 -1 -1 -1 -1 -1 -1 -1 -1 -1 -1 -1 -1 -1 -1 -1 -1 -1 -1 -1 -1 -1 -1.\\nMap tile type row 19: -1 -1 -1 -1 -1 -1 -1 -1 -1 -1 -1 -1 -1 -1 -1 -1 -1 -1 -1 -1 -1 -1 -1 -1.\\nMap tile type row 20: -1 -1 -1 -1 -1 -1 -1 -1 -1 -1 -1 -1 -1 -1 -1 -1 -1 -1 -1 -1 -1 -1 -1 -1.\\nMap tile type row 21: -1 -1 -1 -1 -1 -1 -1 -1 -1 -1 -1 -1 -1 -1 -1 -1 -1 -1 -1 -1 -1 -1 -1 -1.\\nMap tile type row 22: -1 -1 -1 -1 -1 -1 -1 -1 -1 -1 -1 -1 -1 -1 -1 -1 -1 -1 -1 -1 -1 -1 -1 -1.\\nMap tile type row 23: -1 -1 -1 -1 -1 -1 -1 -1 -1 -1 -1 -1 -1 -1 -1 -1 -1 -1 -1 -1 -1 -1 -1 -1.\\nRelic Node positions:\\nRelic node position: -1, -1 means the relic node is not yet discoverd.\\nRelic node 0 position: -1, -1.\\nRelic node 1 position: -1, -1.\\nRelic node 2 position: -1, -1.\\nRelic node 3 position: -1, -1.\\nRelic node 4 position: -1, -1.\\nRelic node 5 position: -1, -1.\\nRelic Node Visibility:\\nRelic node 0 visibility: False.\\nRelic node 1 visibility: False.\\nRelic node 2 visibility: False.\\nRelic node 3 visibility: False.\\nRelic node 4 visibility: False.\\nRelic node 5 visibility: False.\\nMy current point for this match is: 0.\\nEnemy current point for this match is: 0.\\nI have won 0 matches.\\nEnemy has won 0 matches.\\nThis is step 0 of the game.\\nThis is step 0 of the match.\\nEnemy spawn location: not yet discovered.',\n",
       "   'role': 'user'}]]"
      ]
     },
     "execution_count": 38,
     "metadata": {},
     "output_type": "execute_result"
    }
   ],
   "source": [
    "temp_dataset['prompt']"
   ]
  },
  {
   "cell_type": "code",
   "execution_count": 39,
   "id": "d94a4875",
   "metadata": {},
   "outputs": [
    {
     "data": {
      "text/plain": [
       "{'content': '\\nRespond in the following format:\\n<reasoning>\\n...\\n</reasoning>\\n<answer>\\n...\\n</answer>\\n',\n",
       " 'role': 'system'}"
      ]
     },
     "execution_count": 39,
     "metadata": {},
     "output_type": "execute_result"
    }
   ],
   "source": [
    "temp_dataset['prompt'][0][0]"
   ]
  },
  {
   "cell_type": "code",
   "execution_count": 40,
   "id": "a08c01bd",
   "metadata": {},
   "outputs": [
    {
     "data": {
      "text/plain": [
       "{'input_ids': tensor([[151643, 151643, 151643,  ...,   3602,  11105,     13]]), 'attention_mask': tensor([[0, 0, 0,  ..., 1, 1, 1]])}"
      ]
     },
     "execution_count": 40,
     "metadata": {},
     "output_type": "execute_result"
    }
   ],
   "source": [
    "temp_tokens = tokenizer(temp_dataset['prompt'][0][1]['content'] + temp_dataset['prompt'][0][2]['content'], return_tensors=\"pt\", padding=\"max_length\", truncation=True, max_length=9000)\n",
    "temp_tokens"
   ]
  },
  {
   "cell_type": "code",
   "execution_count": 41,
   "id": "11882970",
   "metadata": {},
   "outputs": [
    {
     "data": {
      "text/plain": [
       "torch.Size([1, 9000])"
      ]
     },
     "execution_count": 41,
     "metadata": {},
     "output_type": "execute_result"
    }
   ],
   "source": [
    "temp_tokens['input_ids'].shape"
   ]
  },
  {
   "cell_type": "code",
   "execution_count": 42,
   "id": "e90fa0d5",
   "metadata": {},
   "outputs": [
    {
     "data": {
      "text/plain": [
       "53"
      ]
     },
     "execution_count": 42,
     "metadata": {},
     "output_type": "execute_result"
    }
   ],
   "source": [
    "training_args.response_length"
   ]
  },
  {
   "cell_type": "code",
   "execution_count": 43,
   "id": "03a478a3",
   "metadata": {},
   "outputs": [],
   "source": [
    "from trl.trainer.utils import batch_generation"
   ]
  },
  {
   "cell_type": "code",
   "execution_count": 44,
   "id": "e14e258e",
   "metadata": {},
   "outputs": [],
   "source": [
    "from transformers import GenerationConfig"
   ]
  },
  {
   "cell_type": "code",
   "execution_count": 45,
   "id": "d2851ee7",
   "metadata": {},
   "outputs": [
    {
     "data": {
      "text/plain": [
       "0.7"
      ]
     },
     "execution_count": 45,
     "metadata": {},
     "output_type": "execute_result"
    }
   ],
   "source": [
    "training_args.temperature"
   ]
  },
  {
   "cell_type": "code",
   "execution_count": 46,
   "id": "f5e8df2f",
   "metadata": {},
   "outputs": [],
   "source": [
    "generation_config = GenerationConfig(\n",
    "    max_new_tokens=training_args.response_length,\n",
    "    temperature=(training_args.temperature + 1e-7),\n",
    "    top_k=0.0,\n",
    "    top_p=1.0,\n",
    "    do_sample=True,\n",
    ")"
   ]
  },
  {
   "cell_type": "code",
   "execution_count": 60,
   "id": "0e7fd805",
   "metadata": {},
   "outputs": [
    {
     "name": "stderr",
     "output_type": "stream",
     "text": [
      "Setting `pad_token_id` to `eos_token_id`:151643 for open-end generation.\n"
     ]
    }
   ],
   "source": [
    "responses, logitss = batch_generation(agent0.model, temp_tokens['input_ids'].to('cuda'), 1, tokenizer.pad_token_id, generation_config)"
   ]
  },
  {
   "cell_type": "code",
   "execution_count": 63,
   "id": "9e9d12c0",
   "metadata": {},
   "outputs": [
    {
     "data": {
      "text/plain": [
       "tensor([[151643, 151643, 151643,  ...,    438,  11017,    510]],\n",
       "       device='cuda:0')"
      ]
     },
     "execution_count": 63,
     "metadata": {},
     "output_type": "execute_result"
    }
   ],
   "source": [
    "responses"
   ]
  },
  {
   "cell_type": "code",
   "execution_count": 61,
   "id": "3104f4a7",
   "metadata": {},
   "outputs": [
    {
     "data": {
      "text/plain": [
       "torch.Size([1, 9053])"
      ]
     },
     "execution_count": 61,
     "metadata": {},
     "output_type": "execute_result"
    }
   ],
   "source": [
    "responses.shape"
   ]
  },
  {
   "cell_type": "code",
   "execution_count": 62,
   "id": "d6ce3c73",
   "metadata": {},
   "outputs": [
    {
     "data": {
      "text/plain": [
       "torch.Size([1, 53, 151936])"
      ]
     },
     "execution_count": 62,
     "metadata": {},
     "output_type": "execute_result"
    }
   ],
   "source": [
    "logitss.shape"
   ]
  },
  {
   "cell_type": "code",
   "execution_count": 64,
   "id": "77c0e72a",
   "metadata": {},
   "outputs": [
    {
     "data": {
      "text/plain": [
       "tensor([[[ 2.1429e+00, -7.3661e+00, -2.9018e+00,  ..., -3.2812e+00,\n",
       "          -3.2812e+00, -3.2812e+00],\n",
       "         [ 1.2500e+01,  2.9464e+00,  1.2612e+00,  ..., -2.1094e+00,\n",
       "          -2.1094e+00, -2.1094e+00],\n",
       "         [ 1.0982e+01,  1.2946e+00,  1.3170e+00,  ..., -1.1858e-02,\n",
       "          -1.1117e-02, -1.3864e-02],\n",
       "         ...,\n",
       "         [ 9.0179e+00,  1.8192e+00,  4.7433e-02,  ...,  1.2500e+00,\n",
       "           1.2556e+00,  1.2500e+00],\n",
       "         [ 9.5536e+00,  3.1696e+00,  2.7455e+00,  ...,  1.5290e+00,\n",
       "           1.5290e+00,  1.5290e+00],\n",
       "         [ 1.2857e+01,  1.0491e+01,  7.0982e+00,  ...,  2.7567e+00,\n",
       "           2.7567e+00,  2.7567e+00]]], device='cuda:0')"
      ]
     },
     "execution_count": 64,
     "metadata": {},
     "output_type": "execute_result"
    }
   ],
   "source": [
    "logitss"
   ]
  },
  {
   "cell_type": "code",
   "execution_count": 72,
   "id": "55b034a8",
   "metadata": {},
   "outputs": [],
   "source": [
    "output = agent0.model.generate(\n",
    "    input_ids=temp_tokens['input_ids'].to('cuda'),\n",
    "    attention_mask=temp_tokens['attention_mask'].to('cuda'),\n",
    "    generation_config=generation_config,\n",
    "    return_dict_in_generate=True,\n",
    "    output_scores=True,\n",
    "    pad_token_id=tokenizer.pad_token_id\n",
    ")"
   ]
  },
  {
   "cell_type": "code",
   "execution_count": 73,
   "id": "b6a9474d",
   "metadata": {},
   "outputs": [
    {
     "data": {
      "text/plain": [
       "odict_keys(['sequences', 'scores', 'past_key_values'])"
      ]
     },
     "execution_count": 73,
     "metadata": {},
     "output_type": "execute_result"
    }
   ],
   "source": [
    "output.keys()"
   ]
  },
  {
   "cell_type": "code",
   "execution_count": 87,
   "id": "387d30c9",
   "metadata": {},
   "outputs": [
    {
     "data": {
      "text/plain": [
       "53"
      ]
     },
     "execution_count": 87,
     "metadata": {},
     "output_type": "execute_result"
    }
   ],
   "source": [
    "len(output.scores)"
   ]
  },
  {
   "cell_type": "code",
   "execution_count": 91,
   "id": "40c398ef",
   "metadata": {},
   "outputs": [
    {
     "data": {
      "text/plain": [
       "28"
      ]
     },
     "execution_count": 91,
     "metadata": {},
     "output_type": "execute_result"
    }
   ],
   "source": [
    "len(output['past_key_values'])"
   ]
  },
  {
   "cell_type": "code",
   "execution_count": 93,
   "id": "e9934b27",
   "metadata": {},
   "outputs": [
    {
     "data": {
      "text/plain": [
       "2"
      ]
     },
     "execution_count": 93,
     "metadata": {},
     "output_type": "execute_result"
    }
   ],
   "source": [
    "len(output['past_key_values'][0])"
   ]
  },
  {
   "cell_type": "code",
   "execution_count": 94,
   "id": "5aa28440",
   "metadata": {},
   "outputs": [
    {
     "data": {
      "text/plain": [
       "torch.Size([1, 2, 9052, 128])"
      ]
     },
     "execution_count": 94,
     "metadata": {},
     "output_type": "execute_result"
    }
   ],
   "source": [
    "output['past_key_values'][0][0].shape"
   ]
  },
  {
   "cell_type": "code",
   "execution_count": 75,
   "id": "04240951",
   "metadata": {},
   "outputs": [
    {
     "data": {
      "text/plain": [
       "tensor([[[ 2.1429, -7.3661, -2.9018,  ..., -3.2812, -3.2812, -3.2812],\n",
       "         [12.2321,  6.7857,  6.5625,  ..., -0.3139, -0.3125, -0.3167],\n",
       "         [15.0000,  5.0893,  5.0893,  ..., -0.3850, -0.3850, -0.3878],\n",
       "         ...,\n",
       "         [10.1339,  5.4464,  8.7054,  ..., -1.7746, -1.7746, -1.7746],\n",
       "         [ 6.1607, -2.2433,  3.5045,  ..., -0.1828, -0.1814, -0.1842],\n",
       "         [14.6429, 10.8482,  8.8393,  ..., -0.5329, -0.5301, -0.5329]]],\n",
       "       device='cuda:0')"
      ]
     },
     "execution_count": 75,
     "metadata": {},
     "output_type": "execute_result"
    }
   ],
   "source": [
    "logits = torch.stack(output.scores, 1)\n",
    "logits"
   ]
  },
  {
   "cell_type": "code",
   "execution_count": 76,
   "id": "3c8ea0c8",
   "metadata": {},
   "outputs": [
    {
     "data": {
      "text/plain": [
       "torch.Size([1, 53, 151936])"
      ]
     },
     "execution_count": 76,
     "metadata": {},
     "output_type": "execute_result"
    }
   ],
   "source": [
    "logits.shape"
   ]
  },
  {
   "cell_type": "code",
   "execution_count": 77,
   "id": "fcb7c496",
   "metadata": {},
   "outputs": [
    {
     "data": {
      "text/plain": [
       "9000"
      ]
     },
     "execution_count": 77,
     "metadata": {},
     "output_type": "execute_result"
    }
   ],
   "source": [
    "context_length = temp_tokens['input_ids'].shape[1]\n",
    "context_length"
   ]
  },
  {
   "cell_type": "code",
   "execution_count": 82,
   "id": "063620fc",
   "metadata": {},
   "outputs": [
    {
     "data": {
      "text/plain": [
       "torch.Size([1, 9000])"
      ]
     },
     "execution_count": 82,
     "metadata": {},
     "output_type": "execute_result"
    }
   ],
   "source": [
    "temp_tokens['input_ids'].shape"
   ]
  },
  {
   "cell_type": "code",
   "execution_count": 83,
   "id": "379ff6f9",
   "metadata": {},
   "outputs": [
    {
     "data": {
      "text/plain": [
       "torch.Size([1, 9053])"
      ]
     },
     "execution_count": 83,
     "metadata": {},
     "output_type": "execute_result"
    }
   ],
   "source": [
    "output.sequences.shape"
   ]
  },
  {
   "cell_type": "code",
   "execution_count": null,
   "id": "42646987",
   "metadata": {},
   "outputs": [
    {
     "data": {
      "text/plain": [
       "tensor([[151643, 151643, 151643,  ...,    220,     15,     11]],\n",
       "       device='cuda:0')"
      ]
     },
     "metadata": {},
     "output_type": "display_data"
    }
   ],
   "source": [
    "output.sequences"
   ]
  },
  {
   "cell_type": "code",
   "execution_count": 115,
   "id": "3f82d51b",
   "metadata": {},
   "outputs": [
    {
     "data": {
      "text/plain": [
       "torch.Size([1, 2])"
      ]
     },
     "execution_count": 115,
     "metadata": {},
     "output_type": "execute_result"
    }
   ],
   "source": [
    "torch.tensor([[1, 2]]).shape"
   ]
  },
  {
   "cell_type": "code",
   "execution_count": 116,
   "id": "85c9fe57",
   "metadata": {},
   "outputs": [
    {
     "data": {
      "text/plain": [
       "torch.Size([2, 2])"
      ]
     },
     "execution_count": 116,
     "metadata": {},
     "output_type": "execute_result"
    }
   ],
   "source": [
    "torch.cat([torch.tensor([[1, 2]]), torch.tensor([[3, 4]])], 0).shape"
   ]
  },
  {
   "cell_type": "code",
   "execution_count": 78,
   "id": "537efe70",
   "metadata": {},
   "outputs": [
    {
     "data": {
      "text/plain": [
       "tensor([[151643, 151643, 151643,  ...,    220,     15,     11]],\n",
       "       device='cuda:0')"
      ]
     },
     "execution_count": 78,
     "metadata": {},
     "output_type": "execute_result"
    }
   ],
   "source": [
    "query_response = torch.cat((temp_tokens['input_ids'], output.sequences[:, context_length:]), dim=1)\n",
    "query_response"
   ]
  },
  {
   "cell_type": "code",
   "execution_count": 84,
   "id": "5698941c",
   "metadata": {},
   "outputs": [
    {
     "data": {
      "text/plain": [
       "tensor([[151643, 151643, 151643,  ...,   3602,  11105,     13]],\n",
       "       device='cuda:0')"
      ]
     },
     "execution_count": 84,
     "metadata": {},
     "output_type": "execute_result"
    }
   ],
   "source": [
    "temp_tokens['input_ids']"
   ]
  },
  {
   "cell_type": "code",
   "execution_count": 80,
   "id": "6d24bfef",
   "metadata": {},
   "outputs": [
    {
     "data": {
      "text/plain": [
       "torch.Size([1, 9053])"
      ]
     },
     "execution_count": 80,
     "metadata": {},
     "output_type": "execute_result"
    }
   ],
   "source": [
    "query_response.shape"
   ]
  },
  {
   "cell_type": "code",
   "execution_count": 95,
   "id": "b9b6d9f9",
   "metadata": {},
   "outputs": [
    {
     "name": "stdout",
     "output_type": "stream",
     "text": [
      "\u001b[0;31mDocstring:\u001b[0m\n",
      "gather(input, dim, index, *, sparse_grad=False, out=None) -> Tensor\n",
      "\n",
      "Gathers values along an axis specified by `dim`.\n",
      "\n",
      "For a 3-D tensor the output is specified by::\n",
      "\n",
      "    out[i][j][k] = input[index[i][j][k]][j][k]  # if dim == 0\n",
      "    out[i][j][k] = input[i][index[i][j][k]][k]  # if dim == 1\n",
      "    out[i][j][k] = input[i][j][index[i][j][k]]  # if dim == 2\n",
      "\n",
      ":attr:`input` and :attr:`index` must have the same number of dimensions.\n",
      "It is also required that ``index.size(d) <= input.size(d)`` for all\n",
      "dimensions ``d != dim``.  :attr:`out` will have the same shape as :attr:`index`.\n",
      "Note that ``input`` and ``index`` do not broadcast against each other.\n",
      "\n",
      "Args:\n",
      "    input (Tensor): the source tensor\n",
      "    dim (int): the axis along which to index\n",
      "    index (LongTensor): the indices of elements to gather\n",
      "\n",
      "Keyword arguments:\n",
      "    sparse_grad (bool, optional): If ``True``, gradient w.r.t. :attr:`input` will be a sparse tensor.\n",
      "    out (Tensor, optional): the destination tensor\n",
      "\n",
      "Example::\n",
      "\n",
      "    >>> t = torch.tensor([[1, 2], [3, 4]])\n",
      "    >>> torch.gather(t, 1, torch.tensor([[0, 0], [1, 0]]))\n",
      "    tensor([[ 1,  1],\n",
      "            [ 4,  3]])\n",
      "\u001b[0;31mType:\u001b[0m      builtin_function_or_method"
     ]
    }
   ],
   "source": [
    "torch.gather??"
   ]
  },
  {
   "cell_type": "code",
   "execution_count": 100,
   "id": "eafb89c1",
   "metadata": {},
   "outputs": [],
   "source": [
    "import torch.nn as nn\n",
    "import torch.nn.functional as F"
   ]
  },
  {
   "cell_type": "code",
   "execution_count": 102,
   "id": "321cbefd",
   "metadata": {},
   "outputs": [
    {
     "data": {
      "text/plain": [
       "torch.Size([1, 53, 151936])"
      ]
     },
     "execution_count": 102,
     "metadata": {},
     "output_type": "execute_result"
    }
   ],
   "source": [
    "logits.shape"
   ]
  },
  {
   "cell_type": "code",
   "execution_count": 104,
   "id": "4fd24fe8",
   "metadata": {},
   "outputs": [
    {
     "data": {
      "text/plain": [
       "tensor([[[ 2.1429, -7.3661, -2.9018,  ..., -3.2812, -3.2812, -3.2812],\n",
       "         [12.2321,  6.7857,  6.5625,  ..., -0.3139, -0.3125, -0.3167],\n",
       "         [15.0000,  5.0893,  5.0893,  ..., -0.3850, -0.3850, -0.3878],\n",
       "         ...,\n",
       "         [10.1339,  5.4464,  8.7054,  ..., -1.7746, -1.7746, -1.7746],\n",
       "         [ 6.1607, -2.2433,  3.5045,  ..., -0.1828, -0.1814, -0.1842],\n",
       "         [14.6429, 10.8482,  8.8393,  ..., -0.5329, -0.5301, -0.5329]]],\n",
       "       device='cuda:0')"
      ]
     },
     "execution_count": 104,
     "metadata": {},
     "output_type": "execute_result"
    }
   ],
   "source": [
    "logits"
   ]
  },
  {
   "cell_type": "code",
   "execution_count": 103,
   "id": "9c21ccdb",
   "metadata": {},
   "outputs": [
    {
     "data": {
      "text/plain": [
       "torch.Size([1, 53, 151936])"
      ]
     },
     "execution_count": 103,
     "metadata": {},
     "output_type": "execute_result"
    }
   ],
   "source": [
    "all_logprob = F.log_softmax(logits, dim=-1)\n",
    "all_logprob.shape"
   ]
  },
  {
   "cell_type": "code",
   "execution_count": 105,
   "id": "bdf1fa50",
   "metadata": {},
   "outputs": [
    {
     "data": {
      "text/plain": [
       "tensor([[[-18.5611, -28.0700, -23.6057,  ..., -23.9852, -23.9852, -23.9852],\n",
       "         [-18.6579, -24.1043, -24.3275,  ..., -31.2039, -31.2025, -31.2067],\n",
       "         [-13.5349, -23.4456, -23.4456,  ..., -28.9199, -28.9199, -28.9227],\n",
       "         ...,\n",
       "         [-18.7265, -23.4140, -20.1551,  ..., -30.6350, -30.6350, -30.6350],\n",
       "         [-30.8036, -39.2076, -33.4599,  ..., -37.1471, -37.1457, -37.1485],\n",
       "         [-14.5568, -18.3514, -20.3603,  ..., -29.7326, -29.7298, -29.7326]]],\n",
       "       device='cuda:0')"
      ]
     },
     "execution_count": 105,
     "metadata": {},
     "output_type": "execute_result"
    }
   ],
   "source": [
    "all_logprob"
   ]
  },
  {
   "cell_type": "code",
   "execution_count": 106,
   "id": "f4f143bd",
   "metadata": {},
   "outputs": [
    {
     "data": {
      "text/plain": [
       "torch.Size([1, 53])"
      ]
     },
     "execution_count": 106,
     "metadata": {},
     "output_type": "execute_result"
    }
   ],
   "source": [
    "response = output.sequences[:, context_length:]\n",
    "response.shape"
   ]
  },
  {
   "cell_type": "code",
   "execution_count": 107,
   "id": "098d33fa",
   "metadata": {},
   "outputs": [
    {
     "data": {
      "text/plain": [
       "torch.Size([1, 53, 1])"
      ]
     },
     "execution_count": 107,
     "metadata": {},
     "output_type": "execute_result"
    }
   ],
   "source": [
    "response.unsqueeze(-1).shape"
   ]
  },
  {
   "cell_type": "code",
   "execution_count": 110,
   "id": "9f5d0fac",
   "metadata": {},
   "outputs": [
    {
     "data": {
      "text/plain": [
       "tensor([[ 6771,   752,  1744,   911,  1246,   358,   646,  5486,   419,  9338,\n",
       "           785,  1156,  3166,   358,  1265,   653,   374,  1112,   508, 38687,\n",
       "           911,  2856,  7354,   921,    40,  1184,   311,  6923,   264,  4982,\n",
       "           220,    15,    25,  1917,   504,   220,    15,   311,   220,    20,\n",
       "           382,  4416,    11,   279,  3119,   374,   311,  1855,   279,  4982,\n",
       "           220,    15,    11]], device='cuda:0')"
      ]
     },
     "execution_count": 110,
     "metadata": {},
     "output_type": "execute_result"
    }
   ],
   "source": [
    "response"
   ]
  },
  {
   "cell_type": "code",
   "execution_count": 111,
   "id": "13d73e0c",
   "metadata": {},
   "outputs": [
    {
     "data": {
      "text/plain": [
       "torch.Size([1, 53])"
      ]
     },
     "execution_count": 111,
     "metadata": {},
     "output_type": "execute_result"
    }
   ],
   "source": [
    "logprob = torch.gather(all_logprob, 2, response.unsqueeze(-1)).squeeze(-1)\n",
    "logprob.shape"
   ]
  },
  {
   "cell_type": "code",
   "execution_count": 112,
   "id": "ccb635dc",
   "metadata": {},
   "outputs": [
    {
     "data": {
      "text/plain": [
       "tensor([[-3.7396e+00, -5.3286e-01, -2.1063e+00, -4.5614e-01, -9.8554e-01,\n",
       "         -1.6248e+00, -2.8928e-02, -1.4644e+00, -2.4445e-02, -7.5195e+00,\n",
       "         -3.1594e+00, -4.1024e+00, -7.2657e-01, -4.6244e-02, -2.1351e+00,\n",
       "         -6.4726e-02, -7.3311e-04, -2.5978e+00, -1.1434e+00, -2.3476e+00,\n",
       "         -6.9811e-01, -3.5143e+00, -5.8088e-01, -4.8068e-01, -8.3588e-01,\n",
       "         -2.2140e-01, -2.5510e-05, -2.9733e+00, -1.6604e+00, -5.8908e-02,\n",
       "         -1.1395e+00, -2.4506e-04, -9.5008e-02, -5.8234e-03, -9.6880e-02,\n",
       "         -7.6094e-03, -1.1346e-03, -1.0903e-02, -3.4431e-02, -1.2028e+00,\n",
       "         -1.1080e+00, -1.1821e+00, -8.3341e-02, -1.0254e+00, -2.7783e+00,\n",
       "         -2.7686e-03, -1.8164e-01, -1.7457e+00, -1.5626e+00, -1.7487e-01,\n",
       "         -1.1043e-01, -4.4702e-05, -8.0678e-01]], device='cuda:0')"
      ]
     },
     "execution_count": 112,
     "metadata": {},
     "output_type": "execute_result"
    }
   ],
   "source": [
    "logprob"
   ]
  },
  {
   "cell_type": "code",
   "execution_count": 118,
   "id": "552bc961",
   "metadata": {},
   "outputs": [],
   "source": [
    "class FakeRewardModel(nn.Module):\n",
    "    def __init__(self):\n",
    "        super().__init__()\n",
    "\n",
    "    def forward(self, x):\n",
    "        return torch.zeros(x.shape[0], 1)  # Always return zero reward\n",
    "    \n",
    "fake_reward_model = FakeRewardModel()"
   ]
  },
  {
   "cell_type": "code",
   "execution_count": 120,
   "id": "69540193",
   "metadata": {},
   "outputs": [],
   "source": [
    "from Modified_PPO_Trainer.ppo_trainer64 import PPOTrainer"
   ]
  },
  {
   "cell_type": "code",
   "execution_count": 121,
   "id": "688d06ad",
   "metadata": {},
   "outputs": [],
   "source": [
    "trainer = PPOTrainer(\n",
    "    model=agent0.model,\n",
    "    value_model=agent0.model,\n",
    "    processing_class=tokenizer,\n",
    "    args=training_args,\n",
    "    train_dataset=tokenized_dataset,\n",
    "    ref_model=None,\n",
    "    reward_model=fake_reward_model,\n",
    ")"
   ]
  },
  {
   "cell_type": "code",
   "execution_count": 122,
   "id": "b16fb0a2",
   "metadata": {},
   "outputs": [
    {
     "name": "stdout",
     "output_type": "stream",
     "text": [
      "===training policy===\n"
     ]
    },
    {
     "data": {
      "application/vnd.jupyter.widget-view+json": {
       "model_id": "a94ebc32f36944d6a74d992806d44d03",
       "version_major": 2,
       "version_minor": 0
      },
      "text/plain": [
       "  0%|          | 0/935 [00:00<?, ?it/s]"
      ]
     },
     "metadata": {},
     "output_type": "display_data"
    },
    {
     "name": "stderr",
     "output_type": "stream",
     "text": [
      "`use_cache=True` is incompatible with gradient checkpointing. Setting `use_cache=False`...\n"
     ]
    },
    {
     "name": "stdout",
     "output_type": "stream",
     "text": [
      "torch.Size([8, 512])\n"
     ]
    },
    {
     "name": "stderr",
     "output_type": "stream",
     "text": [
      "/home/max1024/Kaggle/Lux/.venv/lib/python3.12/site-packages/torch/utils/checkpoint.py:87: UserWarning: None of the inputs have requires_grad=True. Gradients will be None\n",
      "  warnings.warn(\n"
     ]
    },
    {
     "ename": "AttributeError",
     "evalue": "'FakeRewardModel' object has no attribute 'base_model_prefix'",
     "output_type": "error",
     "traceback": [
      "\u001b[0;31m---------------------------------------------------------------------------\u001b[0m",
      "\u001b[0;31mAttributeError\u001b[0m                            Traceback (most recent call last)",
      "Cell \u001b[0;32mIn[122], line 1\u001b[0m\n\u001b[0;32m----> 1\u001b[0m \u001b[43mtrainer\u001b[49m\u001b[38;5;241;43m.\u001b[39;49m\u001b[43mtrain\u001b[49m\u001b[43m(\u001b[49m\u001b[43m)\u001b[49m\n",
      "File \u001b[0;32m~/Kaggle/Lux/Notebooks/Agent_Development/Modified_PPO_Trainer/ppo_trainer64.py:472\u001b[0m, in \u001b[0;36mPPOTrainer.train\u001b[0;34m(self)\u001b[0m\n\u001b[1;32m    468\u001b[0m full_value, _, _ \u001b[38;5;241m=\u001b[39m get_reward(\n\u001b[1;32m    469\u001b[0m     unwrapped_value_model, query_response, processing_class\u001b[38;5;241m.\u001b[39mpad_token_id, context_length\n\u001b[1;32m    470\u001b[0m )\n\u001b[1;32m    471\u001b[0m value \u001b[38;5;241m=\u001b[39m full_value[:, context_length \u001b[38;5;241m-\u001b[39m \u001b[38;5;241m1\u001b[39m : \u001b[38;5;241m-\u001b[39m\u001b[38;5;241m1\u001b[39m]\u001b[38;5;241m.\u001b[39msqueeze(\u001b[38;5;241m-\u001b[39m\u001b[38;5;241m1\u001b[39m)\n\u001b[0;32m--> 472\u001b[0m _, score, _ \u001b[38;5;241m=\u001b[39m \u001b[43mget_reward\u001b[49m\u001b[43m(\u001b[49m\n\u001b[1;32m    473\u001b[0m \u001b[43m    \u001b[49m\u001b[43mreward_model\u001b[49m\u001b[43m,\u001b[49m\u001b[43m \u001b[49m\u001b[43mpostprocessed_query_response\u001b[49m\u001b[43m,\u001b[49m\u001b[43m \u001b[49m\u001b[43mprocessing_class\u001b[49m\u001b[38;5;241;43m.\u001b[39;49m\u001b[43mpad_token_id\u001b[49m\u001b[43m,\u001b[49m\u001b[43m \u001b[49m\u001b[43mcontext_length\u001b[49m\n\u001b[1;32m    474\u001b[0m \u001b[43m\u001b[49m\u001b[43m)\u001b[49m\n\u001b[1;32m    476\u001b[0m responses\u001b[38;5;241m.\u001b[39mappend(response)\n\u001b[1;32m    477\u001b[0m postprocessed_responses\u001b[38;5;241m.\u001b[39mappend(postprocessed_response)\n",
      "File \u001b[0;32m~/Kaggle/Lux/.venv/lib/python3.12/site-packages/trl/trainer/utils.py:1178\u001b[0m, in \u001b[0;36mget_reward\u001b[0;34m(model, query_responses, pad_token_id, context_length)\u001b[0m\n\u001b[1;32m   1176\u001b[0m attention_mask \u001b[38;5;241m=\u001b[39m query_responses \u001b[38;5;241m!=\u001b[39m pad_token_id\n\u001b[1;32m   1177\u001b[0m position_ids \u001b[38;5;241m=\u001b[39m attention_mask\u001b[38;5;241m.\u001b[39mcumsum(\u001b[38;5;241m1\u001b[39m) \u001b[38;5;241m-\u001b[39m attention_mask\u001b[38;5;241m.\u001b[39mlong()  \u001b[38;5;66;03m# exclusive cumsum\u001b[39;00m\n\u001b[0;32m-> 1178\u001b[0m lm_backbone \u001b[38;5;241m=\u001b[39m \u001b[38;5;28mgetattr\u001b[39m(model, \u001b[43mmodel\u001b[49m\u001b[38;5;241;43m.\u001b[39;49m\u001b[43mbase_model_prefix\u001b[49m)\n\u001b[1;32m   1179\u001b[0m input_ids \u001b[38;5;241m=\u001b[39m torch\u001b[38;5;241m.\u001b[39mmasked_fill(query_responses, \u001b[38;5;241m~\u001b[39mattention_mask, \u001b[38;5;241m0\u001b[39m)\n\u001b[1;32m   1180\u001b[0m output \u001b[38;5;241m=\u001b[39m lm_backbone(\n\u001b[1;32m   1181\u001b[0m     input_ids\u001b[38;5;241m=\u001b[39minput_ids,\n\u001b[1;32m   1182\u001b[0m     attention_mask\u001b[38;5;241m=\u001b[39mattention_mask,\n\u001b[0;32m   (...)\u001b[0m\n\u001b[1;32m   1186\u001b[0m     use_cache\u001b[38;5;241m=\u001b[39m\u001b[38;5;28;01mFalse\u001b[39;00m,  \u001b[38;5;66;03m# otherwise mistral-based RM would error out\u001b[39;00m\n\u001b[1;32m   1187\u001b[0m )\n",
      "File \u001b[0;32m~/Kaggle/Lux/.venv/lib/python3.12/site-packages/torch/nn/modules/module.py:1931\u001b[0m, in \u001b[0;36mModule.__getattr__\u001b[0;34m(self, name)\u001b[0m\n\u001b[1;32m   1929\u001b[0m     \u001b[38;5;28;01mif\u001b[39;00m name \u001b[38;5;129;01min\u001b[39;00m modules:\n\u001b[1;32m   1930\u001b[0m         \u001b[38;5;28;01mreturn\u001b[39;00m modules[name]\n\u001b[0;32m-> 1931\u001b[0m \u001b[38;5;28;01mraise\u001b[39;00m \u001b[38;5;167;01mAttributeError\u001b[39;00m(\n\u001b[1;32m   1932\u001b[0m     \u001b[38;5;124mf\u001b[39m\u001b[38;5;124m\"\u001b[39m\u001b[38;5;124m'\u001b[39m\u001b[38;5;132;01m{\u001b[39;00m\u001b[38;5;28mtype\u001b[39m(\u001b[38;5;28mself\u001b[39m)\u001b[38;5;241m.\u001b[39m\u001b[38;5;18m__name__\u001b[39m\u001b[38;5;132;01m}\u001b[39;00m\u001b[38;5;124m'\u001b[39m\u001b[38;5;124m object has no attribute \u001b[39m\u001b[38;5;124m'\u001b[39m\u001b[38;5;132;01m{\u001b[39;00mname\u001b[38;5;132;01m}\u001b[39;00m\u001b[38;5;124m'\u001b[39m\u001b[38;5;124m\"\u001b[39m\n\u001b[1;32m   1933\u001b[0m )\n",
      "\u001b[0;31mAttributeError\u001b[0m: 'FakeRewardModel' object has no attribute 'base_model_prefix'"
     ]
    }
   ],
   "source": [
    "trainer.train()"
   ]
  },
  {
   "cell_type": "code",
   "execution_count": 123,
   "id": "f8cbfca5",
   "metadata": {},
   "outputs": [
    {
     "data": {
      "text/plain": [
       "'model'"
      ]
     },
     "execution_count": 123,
     "metadata": {},
     "output_type": "execute_result"
    }
   ],
   "source": [
    "agent0.model.base_model_prefix"
   ]
  },
  {
   "cell_type": "code",
   "execution_count": 126,
   "id": "24ac8ef1",
   "metadata": {},
   "outputs": [
    {
     "data": {
      "text/plain": [
       "Qwen2ForCausalLM(\n",
       "  (model): Qwen2Model(\n",
       "    (embed_tokens): Embedding(151936, 1536)\n",
       "    (layers): ModuleList(\n",
       "      (0-27): 28 x Qwen2DecoderLayer(\n",
       "        (self_attn): Qwen2FlashAttention2(\n",
       "          (q_proj): Linear4bit(in_features=1536, out_features=1536, bias=True)\n",
       "          (k_proj): Linear4bit(in_features=1536, out_features=256, bias=True)\n",
       "          (v_proj): Linear4bit(in_features=1536, out_features=256, bias=True)\n",
       "          (o_proj): Linear4bit(in_features=1536, out_features=1536, bias=False)\n",
       "          (rotary_emb): Qwen2RotaryEmbedding()\n",
       "        )\n",
       "        (mlp): Qwen2MLP(\n",
       "          (gate_proj): Linear4bit(in_features=1536, out_features=8960, bias=False)\n",
       "          (up_proj): Linear4bit(in_features=1536, out_features=8960, bias=False)\n",
       "          (down_proj): Linear4bit(in_features=8960, out_features=1536, bias=False)\n",
       "          (act_fn): SiLU()\n",
       "        )\n",
       "        (input_layernorm): Qwen2RMSNorm((1536,), eps=1e-06)\n",
       "        (post_attention_layernorm): Qwen2RMSNorm((1536,), eps=1e-06)\n",
       "      )\n",
       "    )\n",
       "    (norm): Qwen2RMSNorm((1536,), eps=1e-06)\n",
       "    (rotary_emb): Qwen2RotaryEmbedding()\n",
       "  )\n",
       "  (lm_head): Linear(in_features=1536, out_features=151936, bias=False)\n",
       ")"
      ]
     },
     "execution_count": 126,
     "metadata": {},
     "output_type": "execute_result"
    }
   ],
   "source": [
    "agent0.model"
   ]
  },
  {
   "cell_type": "code",
   "execution_count": 125,
   "id": "7d41fca9",
   "metadata": {},
   "outputs": [
    {
     "data": {
      "text/plain": [
       "Qwen2Model(\n",
       "  (embed_tokens): Embedding(151936, 1536)\n",
       "  (layers): ModuleList(\n",
       "    (0-27): 28 x Qwen2DecoderLayer(\n",
       "      (self_attn): Qwen2FlashAttention2(\n",
       "        (q_proj): Linear4bit(in_features=1536, out_features=1536, bias=True)\n",
       "        (k_proj): Linear4bit(in_features=1536, out_features=256, bias=True)\n",
       "        (v_proj): Linear4bit(in_features=1536, out_features=256, bias=True)\n",
       "        (o_proj): Linear4bit(in_features=1536, out_features=1536, bias=False)\n",
       "        (rotary_emb): Qwen2RotaryEmbedding()\n",
       "      )\n",
       "      (mlp): Qwen2MLP(\n",
       "        (gate_proj): Linear4bit(in_features=1536, out_features=8960, bias=False)\n",
       "        (up_proj): Linear4bit(in_features=1536, out_features=8960, bias=False)\n",
       "        (down_proj): Linear4bit(in_features=8960, out_features=1536, bias=False)\n",
       "        (act_fn): SiLU()\n",
       "      )\n",
       "      (input_layernorm): Qwen2RMSNorm((1536,), eps=1e-06)\n",
       "      (post_attention_layernorm): Qwen2RMSNorm((1536,), eps=1e-06)\n",
       "    )\n",
       "  )\n",
       "  (norm): Qwen2RMSNorm((1536,), eps=1e-06)\n",
       "  (rotary_emb): Qwen2RotaryEmbedding()\n",
       ")"
      ]
     },
     "execution_count": 125,
     "metadata": {},
     "output_type": "execute_result"
    }
   ],
   "source": [
    "something = getattr(agent0.model, agent0.model.base_model_prefix)\n",
    "something"
   ]
  },
  {
   "cell_type": "code",
   "execution_count": 127,
   "id": "96c25fca",
   "metadata": {},
   "outputs": [
    {
     "data": {
      "text/plain": [
       "FakeRewardModel()"
      ]
     },
     "execution_count": 127,
     "metadata": {},
     "output_type": "execute_result"
    }
   ],
   "source": [
    "fake_reward_model"
   ]
  },
  {
   "cell_type": "code",
   "execution_count": null,
   "id": "0235dec5",
   "metadata": {},
   "outputs": [],
   "source": []
  },
  {
   "cell_type": "code",
   "execution_count": null,
   "id": "15f1f296",
   "metadata": {},
   "outputs": [],
   "source": [
    "unknown_input.shape"
   ]
  },
  {
   "cell_type": "code",
   "execution_count": null,
   "id": "fbe71fe6",
   "metadata": {},
   "outputs": [],
   "source": [
    "unknown_input"
   ]
  },
  {
   "cell_type": "code",
   "execution_count": null,
   "id": "8bac1416",
   "metadata": {},
   "outputs": [],
   "source": [
    "test_test = unknown_input.mean(dim=2)\n",
    "test_test.shape"
   ]
  },
  {
   "cell_type": "code",
   "execution_count": null,
   "id": "759c7371",
   "metadata": {},
   "outputs": [],
   "source": [
    "from transformers import AutoModelForSequenceClassification\n",
    "\n",
    "reward_model_name = \"gpt2\"\n",
    "reward_model = AutoModelForSequenceClassification.from_pretrained(\n",
    "    reward_model_name,\n",
    "    trust_remote_code=True,\n",
    "    torch_dtype=torch.bfloat16,\n",
    "    device_map=\"auto\",\n",
    "    use_cache=False,\n",
    "    low_cpu_mem_usage=True,\n",
    ")\n",
    "#reward_tokenizer = AutoTokenizer.from_pretrained(reward_model_name)\n",
    "reward_model.gradient_checkpointing_enable()\n",
    "reward_model.enable_input_require_grads()\n",
    "\n",
    "#reward_model = torch.compile(reward_model)"
   ]
  },
  {
   "cell_type": "code",
   "execution_count": null,
   "id": "a8cd5031",
   "metadata": {},
   "outputs": [],
   "source": []
  },
  {
   "cell_type": "code",
   "execution_count": null,
   "id": "718375fb",
   "metadata": {},
   "outputs": [],
   "source": []
  },
  {
   "cell_type": "code",
   "execution_count": null,
   "id": "5b68202a",
   "metadata": {},
   "outputs": [],
   "source": []
  },
  {
   "cell_type": "code",
   "execution_count": null,
   "id": "c2caffa9",
   "metadata": {},
   "outputs": [],
   "source": []
  },
  {
   "cell_type": "code",
   "execution_count": null,
   "id": "ea85bc35",
   "metadata": {},
   "outputs": [],
   "source": []
  },
  {
   "cell_type": "code",
   "execution_count": null,
   "id": "48563b81",
   "metadata": {},
   "outputs": [],
   "source": []
  },
  {
   "cell_type": "code",
   "execution_count": null,
   "id": "a93a8233",
   "metadata": {},
   "outputs": [],
   "source": []
  },
  {
   "cell_type": "code",
   "execution_count": null,
   "id": "ad1e6aa1",
   "metadata": {},
   "outputs": [],
   "source": []
  },
  {
   "cell_type": "code",
   "execution_count": null,
   "id": "db29ea65",
   "metadata": {},
   "outputs": [],
   "source": [
    "#reward_model.score = score_fn"
   ]
  },
  {
   "cell_type": "code",
   "execution_count": null,
   "id": "c3e2f674",
   "metadata": {},
   "outputs": [],
   "source": []
  },
  {
   "cell_type": "code",
   "execution_count": null,
   "id": "78eb5dba",
   "metadata": {},
   "outputs": [],
   "source": []
  }
 ],
 "metadata": {
  "kaggle": {
   "accelerator": "none",
   "dataSources": [
    {
     "databundleVersionId": 10395677,
     "sourceId": 86411,
     "sourceType": "competition"
    }
   ],
   "isGpuEnabled": false,
   "isInternetEnabled": true,
   "language": "python",
   "sourceType": "notebook"
  },
  "kernelspec": {
   "display_name": ".venv",
   "language": "python",
   "name": "python3"
  },
  "language_info": {
   "codemirror_mode": {
    "name": "ipython",
    "version": 3
   },
   "file_extension": ".py",
   "mimetype": "text/x-python",
   "name": "python",
   "nbconvert_exporter": "python",
   "pygments_lexer": "ipython3",
   "version": "3.12.8"
  },
  "papermill": {
   "default_parameters": {},
   "duration": 143.048125,
   "end_time": "2024-12-26T20:02:43.573801",
   "environment_variables": {},
   "exception": null,
   "input_path": "__notebook__.ipynb",
   "output_path": "__notebook__.ipynb",
   "parameters": {},
   "start_time": "2024-12-26T20:00:20.525676",
   "version": "2.6.0"
  }
 },
 "nbformat": 4,
 "nbformat_minor": 5
}
